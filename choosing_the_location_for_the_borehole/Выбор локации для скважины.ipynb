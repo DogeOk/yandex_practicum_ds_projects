{
 "cells": [
  {
   "cell_type": "markdown",
   "metadata": {},
   "source": [
    "# Выбор локации для скважины"
   ]
  },
  {
   "cell_type": "markdown",
   "metadata": {},
   "source": [
    "Допустим, вы работаете в добывающей компании «ГлавРосГосНефть». Нужно решить, где бурить новую скважину.\n",
    "\n",
    "Вам предоставлены пробы нефти в трёх регионах: в каждом 10 000 месторождений, где измерили качество нефти и объём её запасов. Постройте модель машинного обучения, которая поможет определить регион, где добыча принесёт наибольшую прибыль. Проанализируйте возможную прибыль и риски техникой *Bootstrap.*\n",
    "\n",
    "Шаги для выбора локации:\n",
    "\n",
    "- В избранном регионе ищут месторождения, для каждого определяют значения признаков;\n",
    "- Строят модель и оценивают объём запасов;\n",
    "- Выбирают месторождения с самым высокими оценками значений. Количество месторождений зависит от бюджета компании и стоимости разработки одной скважины;\n",
    "- Прибыль равна суммарной прибыли отобранных месторождений."
   ]
  },
  {
   "cell_type": "markdown",
   "metadata": {},
   "source": [
    "## Загрузка и подготовка данных\n",
    "### Импорт библиотек"
   ]
  },
  {
   "cell_type": "code",
   "execution_count": 1,
   "metadata": {},
   "outputs": [],
   "source": [
    "import pandas as pd\n",
    "import numpy as np\n",
    "from sklearn.model_selection import train_test_split\n",
    "from sklearn.linear_model import LinearRegression\n",
    "from sklearn.metrics import mean_squared_error"
   ]
  },
  {
   "cell_type": "markdown",
   "metadata": {},
   "source": [
    "### Загрузка файлов"
   ]
  },
  {
   "cell_type": "code",
   "execution_count": 2,
   "metadata": {},
   "outputs": [],
   "source": [
    "data = []\n",
    "for index in range(3):\n",
    "    try:\n",
    "        data.append(pd.read_csv(f'/datasets/geo_data_{index}.csv'))\n",
    "    except:\n",
    "        data.append(pd.read_csv(f'https://code.s3.yandex.net/datasets/geo_data_{index}.csv'))"
   ]
  },
  {
   "cell_type": "markdown",
   "metadata": {},
   "source": [
    "### Просмотр первых строчек"
   ]
  },
  {
   "cell_type": "code",
   "execution_count": 3,
   "metadata": {
    "scrolled": false
   },
   "outputs": [
    {
     "name": "stdout",
     "output_type": "stream",
     "text": [
      "data_0\n"
     ]
    },
    {
     "data": {
      "text/html": [
       "<div>\n",
       "<style scoped>\n",
       "    .dataframe tbody tr th:only-of-type {\n",
       "        vertical-align: middle;\n",
       "    }\n",
       "\n",
       "    .dataframe tbody tr th {\n",
       "        vertical-align: top;\n",
       "    }\n",
       "\n",
       "    .dataframe thead th {\n",
       "        text-align: right;\n",
       "    }\n",
       "</style>\n",
       "<table border=\"1\" class=\"dataframe\">\n",
       "  <thead>\n",
       "    <tr style=\"text-align: right;\">\n",
       "      <th></th>\n",
       "      <th>id</th>\n",
       "      <th>f0</th>\n",
       "      <th>f1</th>\n",
       "      <th>f2</th>\n",
       "      <th>product</th>\n",
       "    </tr>\n",
       "  </thead>\n",
       "  <tbody>\n",
       "    <tr>\n",
       "      <th>0</th>\n",
       "      <td>txEyH</td>\n",
       "      <td>0.705745</td>\n",
       "      <td>-0.497823</td>\n",
       "      <td>1.221170</td>\n",
       "      <td>105.280062</td>\n",
       "    </tr>\n",
       "    <tr>\n",
       "      <th>1</th>\n",
       "      <td>2acmU</td>\n",
       "      <td>1.334711</td>\n",
       "      <td>-0.340164</td>\n",
       "      <td>4.365080</td>\n",
       "      <td>73.037750</td>\n",
       "    </tr>\n",
       "    <tr>\n",
       "      <th>2</th>\n",
       "      <td>409Wp</td>\n",
       "      <td>1.022732</td>\n",
       "      <td>0.151990</td>\n",
       "      <td>1.419926</td>\n",
       "      <td>85.265647</td>\n",
       "    </tr>\n",
       "    <tr>\n",
       "      <th>3</th>\n",
       "      <td>iJLyR</td>\n",
       "      <td>-0.032172</td>\n",
       "      <td>0.139033</td>\n",
       "      <td>2.978566</td>\n",
       "      <td>168.620776</td>\n",
       "    </tr>\n",
       "    <tr>\n",
       "      <th>4</th>\n",
       "      <td>Xdl7t</td>\n",
       "      <td>1.988431</td>\n",
       "      <td>0.155413</td>\n",
       "      <td>4.751769</td>\n",
       "      <td>154.036647</td>\n",
       "    </tr>\n",
       "  </tbody>\n",
       "</table>\n",
       "</div>"
      ],
      "text/plain": [
       "      id        f0        f1        f2     product\n",
       "0  txEyH  0.705745 -0.497823  1.221170  105.280062\n",
       "1  2acmU  1.334711 -0.340164  4.365080   73.037750\n",
       "2  409Wp  1.022732  0.151990  1.419926   85.265647\n",
       "3  iJLyR -0.032172  0.139033  2.978566  168.620776\n",
       "4  Xdl7t  1.988431  0.155413  4.751769  154.036647"
      ]
     },
     "metadata": {},
     "output_type": "display_data"
    },
    {
     "name": "stdout",
     "output_type": "stream",
     "text": [
      "data_1\n"
     ]
    },
    {
     "data": {
      "text/html": [
       "<div>\n",
       "<style scoped>\n",
       "    .dataframe tbody tr th:only-of-type {\n",
       "        vertical-align: middle;\n",
       "    }\n",
       "\n",
       "    .dataframe tbody tr th {\n",
       "        vertical-align: top;\n",
       "    }\n",
       "\n",
       "    .dataframe thead th {\n",
       "        text-align: right;\n",
       "    }\n",
       "</style>\n",
       "<table border=\"1\" class=\"dataframe\">\n",
       "  <thead>\n",
       "    <tr style=\"text-align: right;\">\n",
       "      <th></th>\n",
       "      <th>id</th>\n",
       "      <th>f0</th>\n",
       "      <th>f1</th>\n",
       "      <th>f2</th>\n",
       "      <th>product</th>\n",
       "    </tr>\n",
       "  </thead>\n",
       "  <tbody>\n",
       "    <tr>\n",
       "      <th>0</th>\n",
       "      <td>kBEdx</td>\n",
       "      <td>-15.001348</td>\n",
       "      <td>-8.276000</td>\n",
       "      <td>-0.005876</td>\n",
       "      <td>3.179103</td>\n",
       "    </tr>\n",
       "    <tr>\n",
       "      <th>1</th>\n",
       "      <td>62mP7</td>\n",
       "      <td>14.272088</td>\n",
       "      <td>-3.475083</td>\n",
       "      <td>0.999183</td>\n",
       "      <td>26.953261</td>\n",
       "    </tr>\n",
       "    <tr>\n",
       "      <th>2</th>\n",
       "      <td>vyE1P</td>\n",
       "      <td>6.263187</td>\n",
       "      <td>-5.948386</td>\n",
       "      <td>5.001160</td>\n",
       "      <td>134.766305</td>\n",
       "    </tr>\n",
       "    <tr>\n",
       "      <th>3</th>\n",
       "      <td>KcrkZ</td>\n",
       "      <td>-13.081196</td>\n",
       "      <td>-11.506057</td>\n",
       "      <td>4.999415</td>\n",
       "      <td>137.945408</td>\n",
       "    </tr>\n",
       "    <tr>\n",
       "      <th>4</th>\n",
       "      <td>AHL4O</td>\n",
       "      <td>12.702195</td>\n",
       "      <td>-8.147433</td>\n",
       "      <td>5.004363</td>\n",
       "      <td>134.766305</td>\n",
       "    </tr>\n",
       "  </tbody>\n",
       "</table>\n",
       "</div>"
      ],
      "text/plain": [
       "      id         f0         f1        f2     product\n",
       "0  kBEdx -15.001348  -8.276000 -0.005876    3.179103\n",
       "1  62mP7  14.272088  -3.475083  0.999183   26.953261\n",
       "2  vyE1P   6.263187  -5.948386  5.001160  134.766305\n",
       "3  KcrkZ -13.081196 -11.506057  4.999415  137.945408\n",
       "4  AHL4O  12.702195  -8.147433  5.004363  134.766305"
      ]
     },
     "metadata": {},
     "output_type": "display_data"
    },
    {
     "name": "stdout",
     "output_type": "stream",
     "text": [
      "data_2\n"
     ]
    },
    {
     "data": {
      "text/html": [
       "<div>\n",
       "<style scoped>\n",
       "    .dataframe tbody tr th:only-of-type {\n",
       "        vertical-align: middle;\n",
       "    }\n",
       "\n",
       "    .dataframe tbody tr th {\n",
       "        vertical-align: top;\n",
       "    }\n",
       "\n",
       "    .dataframe thead th {\n",
       "        text-align: right;\n",
       "    }\n",
       "</style>\n",
       "<table border=\"1\" class=\"dataframe\">\n",
       "  <thead>\n",
       "    <tr style=\"text-align: right;\">\n",
       "      <th></th>\n",
       "      <th>id</th>\n",
       "      <th>f0</th>\n",
       "      <th>f1</th>\n",
       "      <th>f2</th>\n",
       "      <th>product</th>\n",
       "    </tr>\n",
       "  </thead>\n",
       "  <tbody>\n",
       "    <tr>\n",
       "      <th>0</th>\n",
       "      <td>fwXo0</td>\n",
       "      <td>-1.146987</td>\n",
       "      <td>0.963328</td>\n",
       "      <td>-0.828965</td>\n",
       "      <td>27.758673</td>\n",
       "    </tr>\n",
       "    <tr>\n",
       "      <th>1</th>\n",
       "      <td>WJtFt</td>\n",
       "      <td>0.262778</td>\n",
       "      <td>0.269839</td>\n",
       "      <td>-2.530187</td>\n",
       "      <td>56.069697</td>\n",
       "    </tr>\n",
       "    <tr>\n",
       "      <th>2</th>\n",
       "      <td>ovLUW</td>\n",
       "      <td>0.194587</td>\n",
       "      <td>0.289035</td>\n",
       "      <td>-5.586433</td>\n",
       "      <td>62.871910</td>\n",
       "    </tr>\n",
       "    <tr>\n",
       "      <th>3</th>\n",
       "      <td>q6cA6</td>\n",
       "      <td>2.236060</td>\n",
       "      <td>-0.553760</td>\n",
       "      <td>0.930038</td>\n",
       "      <td>114.572842</td>\n",
       "    </tr>\n",
       "    <tr>\n",
       "      <th>4</th>\n",
       "      <td>WPMUX</td>\n",
       "      <td>-0.515993</td>\n",
       "      <td>1.716266</td>\n",
       "      <td>5.899011</td>\n",
       "      <td>149.600746</td>\n",
       "    </tr>\n",
       "  </tbody>\n",
       "</table>\n",
       "</div>"
      ],
      "text/plain": [
       "      id        f0        f1        f2     product\n",
       "0  fwXo0 -1.146987  0.963328 -0.828965   27.758673\n",
       "1  WJtFt  0.262778  0.269839 -2.530187   56.069697\n",
       "2  ovLUW  0.194587  0.289035 -5.586433   62.871910\n",
       "3  q6cA6  2.236060 -0.553760  0.930038  114.572842\n",
       "4  WPMUX -0.515993  1.716266  5.899011  149.600746"
      ]
     },
     "metadata": {},
     "output_type": "display_data"
    }
   ],
   "source": [
    "for index in range(3):\n",
    "    print(f\"data_{index}\")\n",
    "    display(data[index].head())"
   ]
  },
  {
   "cell_type": "markdown",
   "metadata": {},
   "source": [
    "### Просмотр основной информации"
   ]
  },
  {
   "cell_type": "code",
   "execution_count": 4,
   "metadata": {},
   "outputs": [
    {
     "name": "stdout",
     "output_type": "stream",
     "text": [
      "\n",
      "data_0\n"
     ]
    },
    {
     "data": {
      "text/html": [
       "<div>\n",
       "<style scoped>\n",
       "    .dataframe tbody tr th:only-of-type {\n",
       "        vertical-align: middle;\n",
       "    }\n",
       "\n",
       "    .dataframe tbody tr th {\n",
       "        vertical-align: top;\n",
       "    }\n",
       "\n",
       "    .dataframe thead th {\n",
       "        text-align: right;\n",
       "    }\n",
       "</style>\n",
       "<table border=\"1\" class=\"dataframe\">\n",
       "  <thead>\n",
       "    <tr style=\"text-align: right;\">\n",
       "      <th></th>\n",
       "      <th>f0</th>\n",
       "      <th>f1</th>\n",
       "      <th>f2</th>\n",
       "      <th>product</th>\n",
       "    </tr>\n",
       "  </thead>\n",
       "  <tbody>\n",
       "    <tr>\n",
       "      <th>count</th>\n",
       "      <td>100000.000000</td>\n",
       "      <td>100000.000000</td>\n",
       "      <td>100000.000000</td>\n",
       "      <td>100000.000000</td>\n",
       "    </tr>\n",
       "    <tr>\n",
       "      <th>mean</th>\n",
       "      <td>0.500419</td>\n",
       "      <td>0.250143</td>\n",
       "      <td>2.502647</td>\n",
       "      <td>92.500000</td>\n",
       "    </tr>\n",
       "    <tr>\n",
       "      <th>std</th>\n",
       "      <td>0.871832</td>\n",
       "      <td>0.504433</td>\n",
       "      <td>3.248248</td>\n",
       "      <td>44.288691</td>\n",
       "    </tr>\n",
       "    <tr>\n",
       "      <th>min</th>\n",
       "      <td>-1.408605</td>\n",
       "      <td>-0.848218</td>\n",
       "      <td>-12.088328</td>\n",
       "      <td>0.000000</td>\n",
       "    </tr>\n",
       "    <tr>\n",
       "      <th>25%</th>\n",
       "      <td>-0.072580</td>\n",
       "      <td>-0.200881</td>\n",
       "      <td>0.287748</td>\n",
       "      <td>56.497507</td>\n",
       "    </tr>\n",
       "    <tr>\n",
       "      <th>50%</th>\n",
       "      <td>0.502360</td>\n",
       "      <td>0.250252</td>\n",
       "      <td>2.515969</td>\n",
       "      <td>91.849972</td>\n",
       "    </tr>\n",
       "    <tr>\n",
       "      <th>75%</th>\n",
       "      <td>1.073581</td>\n",
       "      <td>0.700646</td>\n",
       "      <td>4.715088</td>\n",
       "      <td>128.564089</td>\n",
       "    </tr>\n",
       "    <tr>\n",
       "      <th>max</th>\n",
       "      <td>2.362331</td>\n",
       "      <td>1.343769</td>\n",
       "      <td>16.003790</td>\n",
       "      <td>185.364347</td>\n",
       "    </tr>\n",
       "  </tbody>\n",
       "</table>\n",
       "</div>"
      ],
      "text/plain": [
       "                  f0             f1             f2        product\n",
       "count  100000.000000  100000.000000  100000.000000  100000.000000\n",
       "mean        0.500419       0.250143       2.502647      92.500000\n",
       "std         0.871832       0.504433       3.248248      44.288691\n",
       "min        -1.408605      -0.848218     -12.088328       0.000000\n",
       "25%        -0.072580      -0.200881       0.287748      56.497507\n",
       "50%         0.502360       0.250252       2.515969      91.849972\n",
       "75%         1.073581       0.700646       4.715088     128.564089\n",
       "max         2.362331       1.343769      16.003790     185.364347"
      ]
     },
     "metadata": {},
     "output_type": "display_data"
    },
    {
     "name": "stdout",
     "output_type": "stream",
     "text": [
      "<class 'pandas.core.frame.DataFrame'>\n",
      "RangeIndex: 100000 entries, 0 to 99999\n",
      "Data columns (total 5 columns):\n",
      " #   Column   Non-Null Count   Dtype  \n",
      "---  ------   --------------   -----  \n",
      " 0   id       100000 non-null  object \n",
      " 1   f0       100000 non-null  float64\n",
      " 2   f1       100000 non-null  float64\n",
      " 3   f2       100000 non-null  float64\n",
      " 4   product  100000 non-null  float64\n",
      "dtypes: float64(4), object(1)\n",
      "memory usage: 3.8+ MB\n",
      "\n",
      "data_1\n"
     ]
    },
    {
     "data": {
      "text/html": [
       "<div>\n",
       "<style scoped>\n",
       "    .dataframe tbody tr th:only-of-type {\n",
       "        vertical-align: middle;\n",
       "    }\n",
       "\n",
       "    .dataframe tbody tr th {\n",
       "        vertical-align: top;\n",
       "    }\n",
       "\n",
       "    .dataframe thead th {\n",
       "        text-align: right;\n",
       "    }\n",
       "</style>\n",
       "<table border=\"1\" class=\"dataframe\">\n",
       "  <thead>\n",
       "    <tr style=\"text-align: right;\">\n",
       "      <th></th>\n",
       "      <th>f0</th>\n",
       "      <th>f1</th>\n",
       "      <th>f2</th>\n",
       "      <th>product</th>\n",
       "    </tr>\n",
       "  </thead>\n",
       "  <tbody>\n",
       "    <tr>\n",
       "      <th>count</th>\n",
       "      <td>100000.000000</td>\n",
       "      <td>100000.000000</td>\n",
       "      <td>100000.000000</td>\n",
       "      <td>100000.000000</td>\n",
       "    </tr>\n",
       "    <tr>\n",
       "      <th>mean</th>\n",
       "      <td>1.141296</td>\n",
       "      <td>-4.796579</td>\n",
       "      <td>2.494541</td>\n",
       "      <td>68.825000</td>\n",
       "    </tr>\n",
       "    <tr>\n",
       "      <th>std</th>\n",
       "      <td>8.965932</td>\n",
       "      <td>5.119872</td>\n",
       "      <td>1.703572</td>\n",
       "      <td>45.944423</td>\n",
       "    </tr>\n",
       "    <tr>\n",
       "      <th>min</th>\n",
       "      <td>-31.609576</td>\n",
       "      <td>-26.358598</td>\n",
       "      <td>-0.018144</td>\n",
       "      <td>0.000000</td>\n",
       "    </tr>\n",
       "    <tr>\n",
       "      <th>25%</th>\n",
       "      <td>-6.298551</td>\n",
       "      <td>-8.267985</td>\n",
       "      <td>1.000021</td>\n",
       "      <td>26.953261</td>\n",
       "    </tr>\n",
       "    <tr>\n",
       "      <th>50%</th>\n",
       "      <td>1.153055</td>\n",
       "      <td>-4.813172</td>\n",
       "      <td>2.011479</td>\n",
       "      <td>57.085625</td>\n",
       "    </tr>\n",
       "    <tr>\n",
       "      <th>75%</th>\n",
       "      <td>8.621015</td>\n",
       "      <td>-1.332816</td>\n",
       "      <td>3.999904</td>\n",
       "      <td>107.813044</td>\n",
       "    </tr>\n",
       "    <tr>\n",
       "      <th>max</th>\n",
       "      <td>29.421755</td>\n",
       "      <td>18.734063</td>\n",
       "      <td>5.019721</td>\n",
       "      <td>137.945408</td>\n",
       "    </tr>\n",
       "  </tbody>\n",
       "</table>\n",
       "</div>"
      ],
      "text/plain": [
       "                  f0             f1             f2        product\n",
       "count  100000.000000  100000.000000  100000.000000  100000.000000\n",
       "mean        1.141296      -4.796579       2.494541      68.825000\n",
       "std         8.965932       5.119872       1.703572      45.944423\n",
       "min       -31.609576     -26.358598      -0.018144       0.000000\n",
       "25%        -6.298551      -8.267985       1.000021      26.953261\n",
       "50%         1.153055      -4.813172       2.011479      57.085625\n",
       "75%         8.621015      -1.332816       3.999904     107.813044\n",
       "max        29.421755      18.734063       5.019721     137.945408"
      ]
     },
     "metadata": {},
     "output_type": "display_data"
    },
    {
     "name": "stdout",
     "output_type": "stream",
     "text": [
      "<class 'pandas.core.frame.DataFrame'>\n",
      "RangeIndex: 100000 entries, 0 to 99999\n",
      "Data columns (total 5 columns):\n",
      " #   Column   Non-Null Count   Dtype  \n",
      "---  ------   --------------   -----  \n",
      " 0   id       100000 non-null  object \n",
      " 1   f0       100000 non-null  float64\n",
      " 2   f1       100000 non-null  float64\n",
      " 3   f2       100000 non-null  float64\n",
      " 4   product  100000 non-null  float64\n",
      "dtypes: float64(4), object(1)\n",
      "memory usage: 3.8+ MB\n",
      "\n",
      "data_2\n"
     ]
    },
    {
     "data": {
      "text/html": [
       "<div>\n",
       "<style scoped>\n",
       "    .dataframe tbody tr th:only-of-type {\n",
       "        vertical-align: middle;\n",
       "    }\n",
       "\n",
       "    .dataframe tbody tr th {\n",
       "        vertical-align: top;\n",
       "    }\n",
       "\n",
       "    .dataframe thead th {\n",
       "        text-align: right;\n",
       "    }\n",
       "</style>\n",
       "<table border=\"1\" class=\"dataframe\">\n",
       "  <thead>\n",
       "    <tr style=\"text-align: right;\">\n",
       "      <th></th>\n",
       "      <th>f0</th>\n",
       "      <th>f1</th>\n",
       "      <th>f2</th>\n",
       "      <th>product</th>\n",
       "    </tr>\n",
       "  </thead>\n",
       "  <tbody>\n",
       "    <tr>\n",
       "      <th>count</th>\n",
       "      <td>100000.000000</td>\n",
       "      <td>100000.000000</td>\n",
       "      <td>100000.000000</td>\n",
       "      <td>100000.000000</td>\n",
       "    </tr>\n",
       "    <tr>\n",
       "      <th>mean</th>\n",
       "      <td>0.002023</td>\n",
       "      <td>-0.002081</td>\n",
       "      <td>2.495128</td>\n",
       "      <td>95.000000</td>\n",
       "    </tr>\n",
       "    <tr>\n",
       "      <th>std</th>\n",
       "      <td>1.732045</td>\n",
       "      <td>1.730417</td>\n",
       "      <td>3.473445</td>\n",
       "      <td>44.749921</td>\n",
       "    </tr>\n",
       "    <tr>\n",
       "      <th>min</th>\n",
       "      <td>-8.760004</td>\n",
       "      <td>-7.084020</td>\n",
       "      <td>-11.970335</td>\n",
       "      <td>0.000000</td>\n",
       "    </tr>\n",
       "    <tr>\n",
       "      <th>25%</th>\n",
       "      <td>-1.162288</td>\n",
       "      <td>-1.174820</td>\n",
       "      <td>0.130359</td>\n",
       "      <td>59.450441</td>\n",
       "    </tr>\n",
       "    <tr>\n",
       "      <th>50%</th>\n",
       "      <td>0.009424</td>\n",
       "      <td>-0.009482</td>\n",
       "      <td>2.484236</td>\n",
       "      <td>94.925613</td>\n",
       "    </tr>\n",
       "    <tr>\n",
       "      <th>75%</th>\n",
       "      <td>1.158535</td>\n",
       "      <td>1.163678</td>\n",
       "      <td>4.858794</td>\n",
       "      <td>130.595027</td>\n",
       "    </tr>\n",
       "    <tr>\n",
       "      <th>max</th>\n",
       "      <td>7.238262</td>\n",
       "      <td>7.844801</td>\n",
       "      <td>16.739402</td>\n",
       "      <td>190.029838</td>\n",
       "    </tr>\n",
       "  </tbody>\n",
       "</table>\n",
       "</div>"
      ],
      "text/plain": [
       "                  f0             f1             f2        product\n",
       "count  100000.000000  100000.000000  100000.000000  100000.000000\n",
       "mean        0.002023      -0.002081       2.495128      95.000000\n",
       "std         1.732045       1.730417       3.473445      44.749921\n",
       "min        -8.760004      -7.084020     -11.970335       0.000000\n",
       "25%        -1.162288      -1.174820       0.130359      59.450441\n",
       "50%         0.009424      -0.009482       2.484236      94.925613\n",
       "75%         1.158535       1.163678       4.858794     130.595027\n",
       "max         7.238262       7.844801      16.739402     190.029838"
      ]
     },
     "metadata": {},
     "output_type": "display_data"
    },
    {
     "name": "stdout",
     "output_type": "stream",
     "text": [
      "<class 'pandas.core.frame.DataFrame'>\n",
      "RangeIndex: 100000 entries, 0 to 99999\n",
      "Data columns (total 5 columns):\n",
      " #   Column   Non-Null Count   Dtype  \n",
      "---  ------   --------------   -----  \n",
      " 0   id       100000 non-null  object \n",
      " 1   f0       100000 non-null  float64\n",
      " 2   f1       100000 non-null  float64\n",
      " 3   f2       100000 non-null  float64\n",
      " 4   product  100000 non-null  float64\n",
      "dtypes: float64(4), object(1)\n",
      "memory usage: 3.8+ MB\n"
     ]
    }
   ],
   "source": [
    "for index in range(3):\n",
    "    print(f\"\\ndata_{index}\")\n",
    "    display(data[index].describe())\n",
    "    data[index].info()"
   ]
  },
  {
   "cell_type": "markdown",
   "metadata": {},
   "source": [
    "**Вывод раздела.** Данные трёх разных регионов находятся в трёх разный файлах, поэтому данные помещены в `list` для упрощения дальнейшей работы с ними."
   ]
  },
  {
   "cell_type": "markdown",
   "metadata": {},
   "source": [
    "## Обучение и проверка модели\n",
    "Для дальнейшего анализа и обучения в столбеце `id` нет необходимости, а память надо экономить. Избавляюсь от `id` "
   ]
  },
  {
   "cell_type": "code",
   "execution_count": 5,
   "metadata": {},
   "outputs": [],
   "source": [
    "for index in range(3):\n",
    "    data[index] = data[index].drop(columns=['id'])"
   ]
  },
  {
   "cell_type": "markdown",
   "metadata": {},
   "source": [
    "Создаю листы `features` и `target` для хранения признаков и целевого признака"
   ]
  },
  {
   "cell_type": "code",
   "execution_count": 6,
   "metadata": {},
   "outputs": [],
   "source": [
    "features = []\n",
    "target = []\n",
    "for d in data:\n",
    "    features.append(d.drop(columns=['product']))\n",
    "    target.append(d['product'])"
   ]
  },
  {
   "cell_type": "markdown",
   "metadata": {},
   "source": [
    "Заранее подготавливаю листы для того, чтобы разбить признаки на тренировачные и валидационные"
   ]
  },
  {
   "cell_type": "code",
   "execution_count": 7,
   "metadata": {},
   "outputs": [],
   "source": [
    "features_train = [None] * 3\n",
    "features_valid = [None] * 3\n",
    "target_train = [None] * 3\n",
    "target_valid = [None] * 3"
   ]
  },
  {
   "cell_type": "markdown",
   "metadata": {},
   "source": [
    "Разбиваю признаки на тренировачные и валидационныев соотношении 3:1"
   ]
  },
  {
   "cell_type": "code",
   "execution_count": 8,
   "metadata": {},
   "outputs": [],
   "source": [
    "for index in range(3):\n",
    "    features_train[index], features_valid[index], target_train[index], target_valid[index] = train_test_split(\n",
    "        features[index], target[index], test_size=0.25, random_state=1\n",
    "    )"
   ]
  },
  {
   "cell_type": "markdown",
   "metadata": {},
   "source": [
    "Обучаю модель на тренировачных данных и делаю предсказания на валидационных данных. Предсказанные значения сохраняю в отдельном листе"
   ]
  },
  {
   "cell_type": "code",
   "execution_count": 9,
   "metadata": {},
   "outputs": [
    {
     "name": "stdout",
     "output_type": "stream",
     "text": [
      "data_0:\n",
      "\tpredict_mean: 92.49262459838863\n",
      "\tRMSE: 37.74258669996437\n",
      "data_1:\n",
      "\tpredict_mean: 69.12040524285558\n",
      "\tRMSE: 0.8943375629130574\n",
      "data_2:\n",
      "\tpredict_mean: 94.9568304858529\n",
      "\tRMSE: 39.86671127773423\n"
     ]
    }
   ],
   "source": [
    "# Лист для пресказанных данных\n",
    "predicted_valid = []\n",
    "# Линейная регрессия для всех регионов\n",
    "model = LinearRegression()\n",
    "for index in range(3):\n",
    "    model.fit(features_train[index], target_train[index])\n",
    "    # Добавляю результаты в список. Они нужны в будущем\n",
    "    predicted_valid.append(model.predict(features_valid[index]))\n",
    "    # Вывод результатов\n",
    "    print(f\"data_{index}:\")\n",
    "    print(f\"\\tpredict_mean: {predicted_valid[index].mean()}\")\n",
    "    print(f\"\\tRMSE: {mean_squared_error(target_valid[index], predicted_valid[index]) ** 0.5}\")"
   ]
  },
  {
   "cell_type": "markdown",
   "metadata": {},
   "source": [
    "**Вывод раздела.** В данном разделе были выделены признаки от целевых признаков. Данные разделены в соотношении 3:1. Обучена модель и все её предсказания сохранены."
   ]
  },
  {
   "cell_type": "markdown",
   "metadata": {},
   "source": [
    "## Подготовка к расчёту прибыли\n",
    "Нахожу бюджет для выработки одной скажины и объём сырья для выхода в плюс"
   ]
  },
  {
   "cell_type": "code",
   "execution_count": 10,
   "metadata": {},
   "outputs": [
    {
     "name": "stdout",
     "output_type": "stream",
     "text": [
      "Разработка одной скважины: 50000000.0\n",
      "Объём сырья (тыс. баррель) для выхода а плюс: 111.11111111111111\n"
     ]
    }
   ],
   "source": [
    "# Все значения в рублях\n",
    "# Общий бюджет\n",
    "TOTAL_EXPENSES = 10_000_000_000\n",
    "# Стоимость тыс. баррелей сырья\n",
    "ONE_THOUSAND_BARREL_COST = 450_000\n",
    "# Колличество исследуемых мест\n",
    "RESEARCH_PLACES = 500\n",
    "# Колличество необходимых мест для добычи\n",
    "NEED_PLACES = 200\n",
    "\n",
    "ONE_PLACE_CREATE_COST = TOTAL_EXPENSES / NEED_PLACES\n",
    "print(f\"Разработка одной скважины: {ONE_PLACE_CREATE_COST}\")\n",
    "VOLUME_FOR_PROFIT = ONE_PLACE_CREATE_COST / ONE_THOUSAND_BARREL_COST\n",
    "print(f\"Объём сырья (тыс. баррель) для выхода а плюс: {VOLUME_FOR_PROFIT}\")"
   ]
  },
  {
   "cell_type": "markdown",
   "metadata": {},
   "source": [
    "Нахожу средние значения объёма добытого сырья в каждом регионе"
   ]
  },
  {
   "cell_type": "code",
   "execution_count": 11,
   "metadata": {},
   "outputs": [
    {
     "name": "stdout",
     "output_type": "stream",
     "text": [
      "data_0 mean: 92.50000000000001\n",
      "data_1 mean: 68.82500000000002\n",
      "data_2 mean: 95.00000000000004\n"
     ]
    }
   ],
   "source": [
    "for index in range(3):\n",
    "    print(f\"data_{index} mean: {data[index]['product'].mean()}\")"
   ]
  },
  {
   "cell_type": "markdown",
   "metadata": {},
   "source": [
    "Среднего запаса сырья в каждом регионе меньше чем необходимо для получения прибыли\n",
    "\n",
    "Пишу функцию рассчёта выручки"
   ]
  },
  {
   "cell_type": "code",
   "execution_count": 12,
   "metadata": {},
   "outputs": [],
   "source": [
    "# Функция рассчёта прибыли\n",
    "def profit(target, predict, count):\n",
    "    # Сортируются значения предсказаний от большего к меньшему\n",
    "    predict_sorted = predict.sort_values(ascending=False)\n",
    "    # Собираются достоверные значения \n",
    "    selected = target[predict_sorted.index][:count]\n",
    "    # Собранные значения суммируются и умножаются на стоимость 1 тыс. баррель сырья. Из них вычитается общий бюджет\n",
    "    return ONE_THOUSAND_BARREL_COST * selected.sum() - TOTAL_EXPENSES"
   ]
  },
  {
   "cell_type": "markdown",
   "metadata": {},
   "source": [
    "**Вывод раздела.** В данном разделе был подсчитан объём сырья для получения прибыли. Найдены средние значения добытого сырья в каждом регионе, а также составлена функция для рассчёта прибыли."
   ]
  },
  {
   "cell_type": "markdown",
   "metadata": {},
   "source": [
    "## Расчёт прибыли и рисков \n",
    "Сбрасываю индексы `target_valid`, так как они разбросаны"
   ]
  },
  {
   "cell_type": "code",
   "execution_count": 13,
   "metadata": {},
   "outputs": [],
   "source": [
    "for index in range(3):\n",
    "    target_valid[index] = target_valid[index].reset_index(drop=True)"
   ]
  },
  {
   "cell_type": "markdown",
   "metadata": {},
   "source": [
    "Вычисляю доверительный интервал в 95%, среднюю прибыль и риск убытков для каждого региона"
   ]
  },
  {
   "cell_type": "code",
   "execution_count": 14,
   "metadata": {},
   "outputs": [
    {
     "name": "stdout",
     "output_type": "stream",
     "text": [
      "data_0\n",
      "\tСредняя прибыль: 464377670.35698986\n",
      "\tДоверительный интервал (2.5%, 97.5%): (-98453877.16982545, 1007469099.0475638)\n",
      "\tРиск убытков: 5.2%\n",
      "data_1\n",
      "\tСредняя прибыль: 541636803.387977\n",
      "\tДоверительный интервал (2.5%, 97.5%): (125207614.25419222, 960960337.357717)\n",
      "\tРиск убытков: 0.4%\n",
      "data_2\n",
      "\tСредняя прибыль: 420170371.349994\n",
      "\tДоверительный интервал (2.5%, 97.5%): (-109597815.00023474, 991155649.4251106)\n",
      "\tРиск убытков: 6.7%\n"
     ]
    }
   ],
   "source": [
    "# Убираю случайность при повторном запуске программы\n",
    "state = np.random.RandomState(1)\n",
    "\n",
    "for index in range(3):\n",
    "    # Подготавливаю лист со значениями\n",
    "    values = []\n",
    "    # Примению Bootstrap с 1000 выборок, чтобы найти распределение прибыли для каждого региона\n",
    "    for i in range(1000):\n",
    "        # Беру необходимую часть данных для одной выборки\n",
    "        target_subsample = target_valid[index].sample(\n",
    "            frac=RESEARCH_PLACES / target_valid[index].shape[0],\n",
    "            replace=True,\n",
    "            random_state=state\n",
    "        )\n",
    "        # predicted valid после предзказания значений получил тип данных ndarray. Перевожу в Series\n",
    "        predict_subsample = pd.Series(predicted_valid[index])[target_subsample.index]\n",
    "        # В values добавляю рассчитанную прибыль для лучших скважин\n",
    "        values.append(profit(target_subsample, predict_subsample, NEED_PLACES))\n",
    "\n",
    "    # Рассчитываю доверительный интервал 95%, среднюю прибыль и риск убытков\n",
    "    values = pd.Series(values)\n",
    "    mean = values.mean()\n",
    "    lower = values.quantile(0.025)\n",
    "    higher = values.quantile(0.975)\n",
    "    risk_of_losses_percent = (values < 0).sum() / values.shape[0] * 100\n",
    "    \n",
    "    print(f\"data_{index}\")\n",
    "    print(f\"\\tСредняя прибыль: {mean}\")\n",
    "    print(f\"\\tДоверительный интервал (2.5%, 97.5%): ({lower}, {higher})\")\n",
    "    print(f\"\\tРиск убытков: {risk_of_losses_percent}%\")"
   ]
  },
  {
   "cell_type": "markdown",
   "metadata": {},
   "source": [
    "**Вывод раздела.** В данном разделе был проводились рассчёты прибили и рисков для каждого региона с применением подготовленной модели машинного обучения. Для этого была применена техника Bootstrap с 1000 выборок. На основе результатов только второй регион (data_1) соответствует условию о том, что вероятность убытков ниже 2.5% и является регионом с наибольшей средней прибылью. Для бурения скважин лучше всего подходит второй регион.\n",
    "\n",
    "**Вывод.** В данной работе были взяты данные «ГлавРосГосНефть». Целью было решить в каком регоне лучше всего бурить новую скважину. В ходе работы были выполнены следующие задачи:\n",
    "+ изучены представленные данные;\n",
    "+ выделены признаки и целевой признак;\n",
    "+ данные разбиты на тренировачные и валидационные;\n",
    "+ найден бюджет для выработки одной скажины и объём сырья для выхода в плюс;\n",
    "+ написана функция рассчёта прибыли;\n",
    "+ техникой Bootstrap найдены средняя прибыль, доверительный интервал и риски убытков;\n",
    "+ на основе результатов был выбран второй регион для бурения скважин.\n",
    "\n",
    "Главная цель проета была выполнена и «ГлавРосГосНефть» теперь знает, где бурить новую скважину."
   ]
  }
 ],
 "metadata": {
  "ExecuteTimeLog": [
   {
    "duration": 449,
    "start_time": "2023-04-13T15:16:51.390Z"
   },
   {
    "duration": 1514,
    "start_time": "2023-04-13T15:21:23.172Z"
   },
   {
    "duration": 16,
    "start_time": "2023-04-13T15:21:41.037Z"
   },
   {
    "duration": 12,
    "start_time": "2023-04-13T15:21:59.429Z"
   },
   {
    "duration": 10,
    "start_time": "2023-04-13T15:22:10.174Z"
   },
   {
    "duration": 518,
    "start_time": "2023-04-13T15:25:43.582Z"
   },
   {
    "duration": 29,
    "start_time": "2023-04-13T15:25:50.555Z"
   },
   {
    "duration": 10,
    "start_time": "2023-04-13T15:26:18.052Z"
   },
   {
    "duration": 11,
    "start_time": "2023-04-13T15:27:12.959Z"
   },
   {
    "duration": 23,
    "start_time": "2023-04-13T15:27:20.385Z"
   },
   {
    "duration": 23,
    "start_time": "2023-04-13T16:03:30.559Z"
   },
   {
    "duration": 154,
    "start_time": "2023-04-13T16:34:21.077Z"
   },
   {
    "duration": 191,
    "start_time": "2023-04-13T16:34:53.294Z"
   },
   {
    "duration": 21,
    "start_time": "2023-04-13T17:06:18.660Z"
   },
   {
    "duration": 170,
    "start_time": "2023-04-13T17:06:24.961Z"
   },
   {
    "duration": 727,
    "start_time": "2023-04-13T17:16:44.594Z"
   },
   {
    "duration": 14,
    "start_time": "2023-04-13T17:18:17.156Z"
   },
   {
    "duration": 4,
    "start_time": "2023-04-13T17:20:16.621Z"
   },
   {
    "duration": 8,
    "start_time": "2023-04-13T17:20:23.206Z"
   },
   {
    "duration": 39,
    "start_time": "2023-04-13T17:22:59.255Z"
   },
   {
    "duration": 39,
    "start_time": "2023-04-13T17:23:58.203Z"
   },
   {
    "duration": 159,
    "start_time": "2023-04-13T17:27:46.531Z"
   },
   {
    "duration": 35,
    "start_time": "2023-04-13T17:27:58.784Z"
   },
   {
    "duration": 262,
    "start_time": "2023-04-13T17:28:04.912Z"
   },
   {
    "duration": 268,
    "start_time": "2023-04-13T17:32:40.159Z"
   },
   {
    "duration": 5,
    "start_time": "2023-04-13T17:32:47.333Z"
   },
   {
    "duration": 460,
    "start_time": "2023-04-13T17:32:52.171Z"
   },
   {
    "duration": 106,
    "start_time": "2023-04-13T17:34:02.938Z"
   },
   {
    "duration": 489,
    "start_time": "2023-04-13T17:34:20.316Z"
   },
   {
    "duration": 378,
    "start_time": "2023-04-13T17:34:33.167Z"
   },
   {
    "duration": 144,
    "start_time": "2023-04-13T17:34:45.812Z"
   },
   {
    "duration": 563,
    "start_time": "2023-04-13T17:35:40.553Z"
   },
   {
    "duration": 458,
    "start_time": "2023-04-13T17:36:05.356Z"
   },
   {
    "duration": 4,
    "start_time": "2023-04-13T19:23:02.382Z"
   },
   {
    "duration": 3,
    "start_time": "2023-04-13T19:23:54.897Z"
   },
   {
    "duration": 3,
    "start_time": "2023-04-13T19:30:51.904Z"
   },
   {
    "duration": 4,
    "start_time": "2023-04-13T19:34:38.436Z"
   },
   {
    "duration": 4,
    "start_time": "2023-04-13T19:36:04.249Z"
   },
   {
    "duration": 215,
    "start_time": "2023-04-13T23:11:32.202Z"
   },
   {
    "duration": 26,
    "start_time": "2023-04-13T23:15:15.423Z"
   },
   {
    "duration": 4,
    "start_time": "2023-04-13T23:15:18.839Z"
   },
   {
    "duration": 27,
    "start_time": "2023-04-13T23:15:19.274Z"
   },
   {
    "duration": 141,
    "start_time": "2023-04-13T23:15:25.075Z"
   },
   {
    "duration": 8,
    "start_time": "2023-04-13T23:29:33.525Z"
   },
   {
    "duration": 10,
    "start_time": "2023-04-13T23:29:48.671Z"
   },
   {
    "duration": 6,
    "start_time": "2023-04-13T23:32:10.687Z"
   },
   {
    "duration": 4,
    "start_time": "2023-04-13T23:32:21.683Z"
   },
   {
    "duration": 4,
    "start_time": "2023-04-13T23:32:36.103Z"
   },
   {
    "duration": 4,
    "start_time": "2023-04-13T23:32:40.955Z"
   },
   {
    "duration": 4,
    "start_time": "2023-04-13T23:32:45.173Z"
   },
   {
    "duration": 3,
    "start_time": "2023-04-13T23:35:26.295Z"
   },
   {
    "duration": 100,
    "start_time": "2023-04-13T23:37:44.412Z"
   },
   {
    "duration": 175,
    "start_time": "2023-04-13T23:38:59.240Z"
   },
   {
    "duration": 142,
    "start_time": "2023-04-13T23:39:33.676Z"
   },
   {
    "duration": 3,
    "start_time": "2023-04-13T23:41:20.137Z"
   },
   {
    "duration": 3,
    "start_time": "2023-04-13T23:43:45.487Z"
   },
   {
    "duration": 14,
    "start_time": "2023-04-13T23:44:00.249Z"
   },
   {
    "duration": 3,
    "start_time": "2023-04-13T23:45:46.623Z"
   },
   {
    "duration": 14,
    "start_time": "2023-04-13T23:45:47.556Z"
   },
   {
    "duration": 4,
    "start_time": "2023-04-13T23:46:49.252Z"
   },
   {
    "duration": 26,
    "start_time": "2023-04-13T23:47:01.276Z"
   },
   {
    "duration": 26,
    "start_time": "2023-04-13T23:47:13.501Z"
   },
   {
    "duration": 25,
    "start_time": "2023-04-13T23:47:53.520Z"
   },
   {
    "duration": 3,
    "start_time": "2023-04-13T23:48:38.451Z"
   },
   {
    "duration": 24,
    "start_time": "2023-04-13T23:48:40.586Z"
   },
   {
    "duration": 3,
    "start_time": "2023-04-13T23:49:36.557Z"
   },
   {
    "duration": 20,
    "start_time": "2023-04-13T23:49:39.592Z"
   },
   {
    "duration": 3,
    "start_time": "2023-04-13T23:50:21.321Z"
   },
   {
    "duration": 27,
    "start_time": "2023-04-13T23:50:22.800Z"
   },
   {
    "duration": 4,
    "start_time": "2023-04-13T23:51:12.551Z"
   },
   {
    "duration": 4326,
    "start_time": "2023-04-13T23:51:14.505Z"
   },
   {
    "duration": 1196,
    "start_time": "2023-04-14T14:41:58.015Z"
   },
   {
    "duration": 1419,
    "start_time": "2023-04-14T14:41:59.213Z"
   },
   {
    "duration": 38,
    "start_time": "2023-04-14T14:42:00.633Z"
   },
   {
    "duration": 177,
    "start_time": "2023-04-14T14:42:00.673Z"
   },
   {
    "duration": 35,
    "start_time": "2023-04-14T14:42:00.853Z"
   },
   {
    "duration": 54,
    "start_time": "2023-04-14T14:42:00.889Z"
   },
   {
    "duration": 27,
    "start_time": "2023-04-14T14:42:00.945Z"
   },
   {
    "duration": 60,
    "start_time": "2023-04-14T14:42:00.974Z"
   },
   {
    "duration": 241,
    "start_time": "2023-04-14T14:42:01.036Z"
   },
   {
    "duration": 0,
    "start_time": "2023-04-14T14:42:01.280Z"
   },
   {
    "duration": 0,
    "start_time": "2023-04-14T14:42:01.285Z"
   },
   {
    "duration": 0,
    "start_time": "2023-04-14T14:42:01.286Z"
   },
   {
    "duration": 0,
    "start_time": "2023-04-14T14:42:01.287Z"
   },
   {
    "duration": 0,
    "start_time": "2023-04-14T14:42:01.288Z"
   },
   {
    "duration": 195,
    "start_time": "2023-04-14T14:42:39.410Z"
   },
   {
    "duration": 46,
    "start_time": "2023-04-14T14:42:59.222Z"
   },
   {
    "duration": 188,
    "start_time": "2023-04-14T14:43:04.703Z"
   },
   {
    "duration": 126,
    "start_time": "2023-04-14T14:43:50.608Z"
   },
   {
    "duration": 1160,
    "start_time": "2023-04-14T14:45:17.776Z"
   },
   {
    "duration": 425,
    "start_time": "2023-04-14T14:45:18.938Z"
   },
   {
    "duration": 39,
    "start_time": "2023-04-14T14:45:19.364Z"
   },
   {
    "duration": 162,
    "start_time": "2023-04-14T14:45:19.404Z"
   },
   {
    "duration": 34,
    "start_time": "2023-04-14T14:45:19.568Z"
   },
   {
    "duration": 19,
    "start_time": "2023-04-14T14:45:19.604Z"
   },
   {
    "duration": 3,
    "start_time": "2023-04-14T14:45:19.625Z"
   },
   {
    "duration": 34,
    "start_time": "2023-04-14T14:45:19.629Z"
   },
   {
    "duration": 135,
    "start_time": "2023-04-14T14:45:19.665Z"
   },
   {
    "duration": 4,
    "start_time": "2023-04-14T14:45:19.802Z"
   },
   {
    "duration": 80,
    "start_time": "2023-04-14T14:45:19.808Z"
   },
   {
    "duration": 8,
    "start_time": "2023-04-14T14:45:19.890Z"
   },
   {
    "duration": 6,
    "start_time": "2023-04-14T14:45:19.900Z"
   },
   {
    "duration": 4835,
    "start_time": "2023-04-14T14:45:19.909Z"
   },
   {
    "duration": 5055,
    "start_time": "2023-04-14T14:45:58.080Z"
   },
   {
    "duration": 4777,
    "start_time": "2023-04-14T14:46:14.960Z"
   },
   {
    "duration": 135,
    "start_time": "2023-04-14T14:50:13.123Z"
   },
   {
    "duration": 4,
    "start_time": "2023-04-14T15:04:57.109Z"
   },
   {
    "duration": 5,
    "start_time": "2023-04-14T17:42:09.560Z"
   },
   {
    "duration": 4687,
    "start_time": "2023-04-14T17:43:16.373Z"
   },
   {
    "duration": 4726,
    "start_time": "2023-04-14T17:43:35.376Z"
   },
   {
    "duration": 6,
    "start_time": "2023-04-14T17:54:50.696Z"
   },
   {
    "duration": 4,
    "start_time": "2023-04-14T17:55:02.818Z"
   },
   {
    "duration": 5,
    "start_time": "2023-04-14T17:55:47.965Z"
   },
   {
    "duration": 4,
    "start_time": "2023-04-14T17:55:54.764Z"
   },
   {
    "duration": 1716,
    "start_time": "2023-04-14T18:03:02.126Z"
   },
   {
    "duration": 6,
    "start_time": "2023-04-14T18:03:17.485Z"
   },
   {
    "duration": 4853,
    "start_time": "2023-04-14T18:03:23.206Z"
   },
   {
    "duration": 4898,
    "start_time": "2023-04-14T18:04:05.276Z"
   },
   {
    "duration": 5052,
    "start_time": "2023-04-14T18:04:20.417Z"
   },
   {
    "duration": 4972,
    "start_time": "2023-04-14T18:04:31.813Z"
   },
   {
    "duration": 4809,
    "start_time": "2023-04-14T18:08:30.622Z"
   },
   {
    "duration": 6,
    "start_time": "2023-04-14T19:47:10.005Z"
   },
   {
    "duration": 5,
    "start_time": "2023-04-14T19:47:27.243Z"
   },
   {
    "duration": 4272,
    "start_time": "2023-04-14T19:57:08.351Z"
   },
   {
    "duration": 1172,
    "start_time": "2023-04-14T20:21:42.447Z"
   },
   {
    "duration": 434,
    "start_time": "2023-04-14T20:21:43.622Z"
   },
   {
    "duration": 43,
    "start_time": "2023-04-14T20:21:44.058Z"
   },
   {
    "duration": 224,
    "start_time": "2023-04-14T20:21:44.103Z"
   },
   {
    "duration": 18,
    "start_time": "2023-04-14T20:21:44.330Z"
   },
   {
    "duration": 11,
    "start_time": "2023-04-14T20:21:44.350Z"
   },
   {
    "duration": 21,
    "start_time": "2023-04-14T20:21:44.363Z"
   },
   {
    "duration": 37,
    "start_time": "2023-04-14T20:21:44.386Z"
   },
   {
    "duration": 366,
    "start_time": "2023-04-14T20:21:44.425Z"
   },
   {
    "duration": 91,
    "start_time": "2023-04-14T20:21:44.793Z"
   },
   {
    "duration": 8,
    "start_time": "2023-04-14T20:21:44.886Z"
   },
   {
    "duration": 4,
    "start_time": "2023-04-14T20:21:44.897Z"
   },
   {
    "duration": 7,
    "start_time": "2023-04-14T20:21:44.903Z"
   },
   {
    "duration": 4445,
    "start_time": "2023-04-14T20:21:44.914Z"
   },
   {
    "duration": 1105,
    "start_time": "2023-04-14T23:03:21.837Z"
   },
   {
    "duration": 868,
    "start_time": "2023-04-14T23:03:22.944Z"
   },
   {
    "duration": 26,
    "start_time": "2023-04-14T23:03:23.814Z"
   },
   {
    "duration": 170,
    "start_time": "2023-04-14T23:03:23.842Z"
   },
   {
    "duration": 18,
    "start_time": "2023-04-14T23:03:24.015Z"
   },
   {
    "duration": 26,
    "start_time": "2023-04-14T23:03:24.035Z"
   },
   {
    "duration": 5,
    "start_time": "2023-04-14T23:03:24.062Z"
   },
   {
    "duration": 40,
    "start_time": "2023-04-14T23:03:24.068Z"
   },
   {
    "duration": 148,
    "start_time": "2023-04-14T23:03:24.110Z"
   },
   {
    "duration": 95,
    "start_time": "2023-04-14T23:03:24.260Z"
   },
   {
    "duration": 17,
    "start_time": "2023-04-14T23:03:24.358Z"
   },
   {
    "duration": 8,
    "start_time": "2023-04-14T23:03:24.457Z"
   },
   {
    "duration": 11,
    "start_time": "2023-04-14T23:03:24.466Z"
   },
   {
    "duration": 107,
    "start_time": "2023-04-14T23:03:24.480Z"
   },
   {
    "duration": 4383,
    "start_time": "2023-04-14T23:04:12.295Z"
   },
   {
    "duration": 47,
    "start_time": "2023-04-14T23:09:38.853Z"
   },
   {
    "duration": 1113,
    "start_time": "2023-04-14T23:24:33.034Z"
   },
   {
    "duration": 373,
    "start_time": "2023-04-14T23:24:34.149Z"
   },
   {
    "duration": 33,
    "start_time": "2023-04-14T23:24:34.524Z"
   },
   {
    "duration": 158,
    "start_time": "2023-04-14T23:24:34.559Z"
   },
   {
    "duration": 18,
    "start_time": "2023-04-14T23:24:34.718Z"
   },
   {
    "duration": 12,
    "start_time": "2023-04-14T23:24:34.756Z"
   },
   {
    "duration": 3,
    "start_time": "2023-04-14T23:24:34.770Z"
   },
   {
    "duration": 38,
    "start_time": "2023-04-14T23:24:34.775Z"
   },
   {
    "duration": 246,
    "start_time": "2023-04-14T23:24:34.815Z"
   },
   {
    "duration": 94,
    "start_time": "2023-04-14T23:24:35.064Z"
   },
   {
    "duration": 100,
    "start_time": "2023-04-14T23:24:35.160Z"
   },
   {
    "duration": 4,
    "start_time": "2023-04-14T23:24:35.262Z"
   },
   {
    "duration": 5,
    "start_time": "2023-04-14T23:24:35.267Z"
   },
   {
    "duration": 4631,
    "start_time": "2023-04-14T23:24:35.274Z"
   }
  ],
  "kernelspec": {
   "display_name": "Python 3 (ipykernel)",
   "language": "python",
   "name": "python3"
  },
  "language_info": {
   "codemirror_mode": {
    "name": "ipython",
    "version": 3
   },
   "file_extension": ".py",
   "mimetype": "text/x-python",
   "name": "python",
   "nbconvert_exporter": "python",
   "pygments_lexer": "ipython3",
   "version": "3.10.9"
  },
  "toc": {
   "base_numbering": 1,
   "nav_menu": {},
   "number_sections": true,
   "sideBar": true,
   "skip_h1_title": true,
   "title_cell": "Table of Contents",
   "title_sidebar": "Contents",
   "toc_cell": false,
   "toc_position": {},
   "toc_section_display": true,
   "toc_window_display": false
  }
 },
 "nbformat": 4,
 "nbformat_minor": 2
}
