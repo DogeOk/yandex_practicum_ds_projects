{
 "cells": [
  {
   "cell_type": "markdown",
   "metadata": {},
   "source": [
    "# Исследование объявлений о продаже квартир\n",
    "\n",
    "В вашем распоряжении данные сервиса Яндекс.Недвижимость — архив объявлений о продаже квартир в Санкт-Петербурге и соседних населённых пунктов за несколько лет. Нужно научиться определять рыночную стоимость объектов недвижимости. Ваша задача — установить параметры. Это позволит построить автоматизированную систему: она отследит аномалии и мошенническую деятельность. \n",
    "\n",
    "По каждой квартире на продажу доступны два вида данных. Первые вписаны пользователем, вторые — получены автоматически на основе картографических данных. Например, расстояние до центра, аэропорта, ближайшего парка и водоёма. "
   ]
  },
  {
   "cell_type": "markdown",
   "metadata": {},
   "source": [
    "### Откройте файл с данными и изучите общую информацию. "
   ]
  },
  {
   "cell_type": "markdown",
   "metadata": {},
   "source": [
    "#### Открытие файла"
   ]
  },
  {
   "cell_type": "code",
   "execution_count": 1,
   "metadata": {},
   "outputs": [],
   "source": [
    "import pandas as pd"
   ]
  },
  {
   "cell_type": "code",
   "execution_count": 2,
   "metadata": {},
   "outputs": [],
   "source": [
    "try:\n",
    "    data = pd.read_csv('/datasets/real_estate_data.csv', sep='\\t')\n",
    "except:\n",
    "    data = pd.read_csv('https://code.s3.yandex.net/datasets/real_estate_data.csv', sep='\\t')"
   ]
  },
  {
   "cell_type": "markdown",
   "metadata": {},
   "source": [
    "#### Общая информация о датафрейме"
   ]
  },
  {
   "cell_type": "code",
   "execution_count": 3,
   "metadata": {},
   "outputs": [
    {
     "data": {
      "text/html": [
       "<div>\n",
       "<style scoped>\n",
       "    .dataframe tbody tr th:only-of-type {\n",
       "        vertical-align: middle;\n",
       "    }\n",
       "\n",
       "    .dataframe tbody tr th {\n",
       "        vertical-align: top;\n",
       "    }\n",
       "\n",
       "    .dataframe thead th {\n",
       "        text-align: right;\n",
       "    }\n",
       "</style>\n",
       "<table border=\"1\" class=\"dataframe\">\n",
       "  <thead>\n",
       "    <tr style=\"text-align: right;\">\n",
       "      <th></th>\n",
       "      <th>total_images</th>\n",
       "      <th>last_price</th>\n",
       "      <th>total_area</th>\n",
       "      <th>first_day_exposition</th>\n",
       "      <th>rooms</th>\n",
       "      <th>ceiling_height</th>\n",
       "      <th>floors_total</th>\n",
       "      <th>living_area</th>\n",
       "      <th>floor</th>\n",
       "      <th>is_apartment</th>\n",
       "      <th>studio</th>\n",
       "      <th>open_plan</th>\n",
       "      <th>kitchen_area</th>\n",
       "      <th>balcony</th>\n",
       "      <th>locality_name</th>\n",
       "      <th>airports_nearest</th>\n",
       "      <th>cityCenters_nearest</th>\n",
       "      <th>parks_around3000</th>\n",
       "      <th>parks_nearest</th>\n",
       "      <th>ponds_around3000</th>\n",
       "      <th>ponds_nearest</th>\n",
       "      <th>days_exposition</th>\n",
       "    </tr>\n",
       "  </thead>\n",
       "  <tbody>\n",
       "    <tr>\n",
       "      <th>23694</th>\n",
       "      <td>9</td>\n",
       "      <td>9700000.0</td>\n",
       "      <td>133.81</td>\n",
       "      <td>2017-03-21T00:00:00</td>\n",
       "      <td>3</td>\n",
       "      <td>3.7</td>\n",
       "      <td>5.0</td>\n",
       "      <td>73.3</td>\n",
       "      <td>3</td>\n",
       "      <td>NaN</td>\n",
       "      <td>False</td>\n",
       "      <td>False</td>\n",
       "      <td>13.83</td>\n",
       "      <td>NaN</td>\n",
       "      <td>Санкт-Петербург</td>\n",
       "      <td>24665.0</td>\n",
       "      <td>4232.0</td>\n",
       "      <td>1.0</td>\n",
       "      <td>796.0</td>\n",
       "      <td>3.0</td>\n",
       "      <td>381.0</td>\n",
       "      <td>NaN</td>\n",
       "    </tr>\n",
       "    <tr>\n",
       "      <th>23695</th>\n",
       "      <td>14</td>\n",
       "      <td>3100000.0</td>\n",
       "      <td>59.00</td>\n",
       "      <td>2018-01-15T00:00:00</td>\n",
       "      <td>3</td>\n",
       "      <td>NaN</td>\n",
       "      <td>5.0</td>\n",
       "      <td>38.0</td>\n",
       "      <td>4</td>\n",
       "      <td>NaN</td>\n",
       "      <td>False</td>\n",
       "      <td>False</td>\n",
       "      <td>8.50</td>\n",
       "      <td>NaN</td>\n",
       "      <td>Тосно</td>\n",
       "      <td>NaN</td>\n",
       "      <td>NaN</td>\n",
       "      <td>NaN</td>\n",
       "      <td>NaN</td>\n",
       "      <td>NaN</td>\n",
       "      <td>NaN</td>\n",
       "      <td>45.0</td>\n",
       "    </tr>\n",
       "    <tr>\n",
       "      <th>23696</th>\n",
       "      <td>18</td>\n",
       "      <td>2500000.0</td>\n",
       "      <td>56.70</td>\n",
       "      <td>2018-02-11T00:00:00</td>\n",
       "      <td>2</td>\n",
       "      <td>NaN</td>\n",
       "      <td>3.0</td>\n",
       "      <td>29.7</td>\n",
       "      <td>1</td>\n",
       "      <td>NaN</td>\n",
       "      <td>False</td>\n",
       "      <td>False</td>\n",
       "      <td>NaN</td>\n",
       "      <td>NaN</td>\n",
       "      <td>село Рождествено</td>\n",
       "      <td>NaN</td>\n",
       "      <td>NaN</td>\n",
       "      <td>NaN</td>\n",
       "      <td>NaN</td>\n",
       "      <td>NaN</td>\n",
       "      <td>NaN</td>\n",
       "      <td>NaN</td>\n",
       "    </tr>\n",
       "    <tr>\n",
       "      <th>23697</th>\n",
       "      <td>13</td>\n",
       "      <td>11475000.0</td>\n",
       "      <td>76.75</td>\n",
       "      <td>2017-03-28T00:00:00</td>\n",
       "      <td>2</td>\n",
       "      <td>3.0</td>\n",
       "      <td>17.0</td>\n",
       "      <td>NaN</td>\n",
       "      <td>12</td>\n",
       "      <td>NaN</td>\n",
       "      <td>False</td>\n",
       "      <td>False</td>\n",
       "      <td>23.30</td>\n",
       "      <td>2.0</td>\n",
       "      <td>Санкт-Петербург</td>\n",
       "      <td>39140.0</td>\n",
       "      <td>10364.0</td>\n",
       "      <td>2.0</td>\n",
       "      <td>173.0</td>\n",
       "      <td>3.0</td>\n",
       "      <td>196.0</td>\n",
       "      <td>602.0</td>\n",
       "    </tr>\n",
       "    <tr>\n",
       "      <th>23698</th>\n",
       "      <td>4</td>\n",
       "      <td>1350000.0</td>\n",
       "      <td>32.30</td>\n",
       "      <td>2017-07-21T00:00:00</td>\n",
       "      <td>1</td>\n",
       "      <td>2.5</td>\n",
       "      <td>5.0</td>\n",
       "      <td>12.3</td>\n",
       "      <td>1</td>\n",
       "      <td>NaN</td>\n",
       "      <td>False</td>\n",
       "      <td>False</td>\n",
       "      <td>9.00</td>\n",
       "      <td>NaN</td>\n",
       "      <td>поселок Новый Учхоз</td>\n",
       "      <td>NaN</td>\n",
       "      <td>NaN</td>\n",
       "      <td>NaN</td>\n",
       "      <td>NaN</td>\n",
       "      <td>NaN</td>\n",
       "      <td>NaN</td>\n",
       "      <td>NaN</td>\n",
       "    </tr>\n",
       "  </tbody>\n",
       "</table>\n",
       "</div>"
      ],
      "text/plain": [
       "       total_images  last_price  total_area first_day_exposition  rooms  \\\n",
       "23694             9   9700000.0      133.81  2017-03-21T00:00:00      3   \n",
       "23695            14   3100000.0       59.00  2018-01-15T00:00:00      3   \n",
       "23696            18   2500000.0       56.70  2018-02-11T00:00:00      2   \n",
       "23697            13  11475000.0       76.75  2017-03-28T00:00:00      2   \n",
       "23698             4   1350000.0       32.30  2017-07-21T00:00:00      1   \n",
       "\n",
       "       ceiling_height  floors_total  living_area  floor is_apartment  studio  \\\n",
       "23694             3.7           5.0         73.3      3          NaN   False   \n",
       "23695             NaN           5.0         38.0      4          NaN   False   \n",
       "23696             NaN           3.0         29.7      1          NaN   False   \n",
       "23697             3.0          17.0          NaN     12          NaN   False   \n",
       "23698             2.5           5.0         12.3      1          NaN   False   \n",
       "\n",
       "       open_plan  kitchen_area  balcony        locality_name  \\\n",
       "23694      False         13.83      NaN      Санкт-Петербург   \n",
       "23695      False          8.50      NaN                Тосно   \n",
       "23696      False           NaN      NaN     село Рождествено   \n",
       "23697      False         23.30      2.0      Санкт-Петербург   \n",
       "23698      False          9.00      NaN  поселок Новый Учхоз   \n",
       "\n",
       "       airports_nearest  cityCenters_nearest  parks_around3000  parks_nearest  \\\n",
       "23694           24665.0               4232.0               1.0          796.0   \n",
       "23695               NaN                  NaN               NaN            NaN   \n",
       "23696               NaN                  NaN               NaN            NaN   \n",
       "23697           39140.0              10364.0               2.0          173.0   \n",
       "23698               NaN                  NaN               NaN            NaN   \n",
       "\n",
       "       ponds_around3000  ponds_nearest  days_exposition  \n",
       "23694               3.0          381.0              NaN  \n",
       "23695               NaN            NaN             45.0  \n",
       "23696               NaN            NaN              NaN  \n",
       "23697               3.0          196.0            602.0  \n",
       "23698               NaN            NaN              NaN  "
      ]
     },
     "metadata": {},
     "output_type": "display_data"
    },
    {
     "name": "stdout",
     "output_type": "stream",
     "text": [
      "<class 'pandas.core.frame.DataFrame'>\n",
      "RangeIndex: 23699 entries, 0 to 23698\n",
      "Data columns (total 22 columns):\n",
      " #   Column                Non-Null Count  Dtype  \n",
      "---  ------                --------------  -----  \n",
      " 0   total_images          23699 non-null  int64  \n",
      " 1   last_price            23699 non-null  float64\n",
      " 2   total_area            23699 non-null  float64\n",
      " 3   first_day_exposition  23699 non-null  object \n",
      " 4   rooms                 23699 non-null  int64  \n",
      " 5   ceiling_height        14504 non-null  float64\n",
      " 6   floors_total          23613 non-null  float64\n",
      " 7   living_area           21796 non-null  float64\n",
      " 8   floor                 23699 non-null  int64  \n",
      " 9   is_apartment          2775 non-null   object \n",
      " 10  studio                23699 non-null  bool   \n",
      " 11  open_plan             23699 non-null  bool   \n",
      " 12  kitchen_area          21421 non-null  float64\n",
      " 13  balcony               12180 non-null  float64\n",
      " 14  locality_name         23650 non-null  object \n",
      " 15  airports_nearest      18157 non-null  float64\n",
      " 16  cityCenters_nearest   18180 non-null  float64\n",
      " 17  parks_around3000      18181 non-null  float64\n",
      " 18  parks_nearest         8079 non-null   float64\n",
      " 19  ponds_around3000      18181 non-null  float64\n",
      " 20  ponds_nearest         9110 non-null   float64\n",
      " 21  days_exposition       20518 non-null  float64\n",
      "dtypes: bool(2), float64(14), int64(3), object(3)\n",
      "memory usage: 3.7+ MB\n"
     ]
    }
   ],
   "source": [
    "pd.set_option('max_columns', None)\n",
    "display(data.tail())\n",
    "data.info()"
   ]
  },
  {
   "cell_type": "markdown",
   "metadata": {},
   "source": [
    "#### Гистограмма для числовых значений таблицы"
   ]
  },
  {
   "cell_type": "code",
   "execution_count": 4,
   "metadata": {},
   "outputs": [
    {
     "data": {
      "image/png": "[encoded data removed]",
      "text/plain": [
       "<Figure size 1080x1440 with 20 Axes>"
      ]
     },
     "metadata": {
      "needs_background": "light"
     },
     "output_type": "display_data"
    }
   ],
   "source": [
    "def show_graph(graph):\n",
    "    return None\n",
    "\n",
    "show_graph(data.hist(figsize=(15, 20)))"
   ]
  },
  {
   "cell_type": "markdown",
   "metadata": {},
   "source": [
    "**Вывод раздела.** Открыт файл при помощи библиотеки pandas. В файле наблюдается большое количество пропусков и типов данных, которые не очень подходят к столбцам. На графиках видно большой разброс данных. Файл имеет 23699 строк и 22 столбца."
   ]
  },
  {
   "cell_type": "markdown",
   "metadata": {},
   "source": [
    "### Предобработка данных"
   ]
  },
  {
   "cell_type": "markdown",
   "metadata": {},
   "source": [
    "#### Обработка пропусков\n",
    "\n",
    "Количество пропущенных значений в столбцах таблицы"
   ]
  },
  {
   "cell_type": "code",
   "execution_count": 5,
   "metadata": {
    "scrolled": false
   },
   "outputs": [
    {
     "data": {
      "text/plain": [
       "total_images                0\n",
       "last_price                  0\n",
       "total_area                  0\n",
       "first_day_exposition        0\n",
       "rooms                       0\n",
       "ceiling_height           9195\n",
       "floors_total               86\n",
       "living_area              1903\n",
       "floor                       0\n",
       "is_apartment            20924\n",
       "studio                      0\n",
       "open_plan                   0\n",
       "kitchen_area             2278\n",
       "balcony                 11519\n",
       "locality_name              49\n",
       "airports_nearest         5542\n",
       "cityCenters_nearest      5519\n",
       "parks_around3000         5518\n",
       "parks_nearest           15620\n",
       "ponds_around3000         5518\n",
       "ponds_nearest           14589\n",
       "days_exposition          3181\n",
       "dtype: int64"
      ]
     },
     "execution_count": 5,
     "metadata": {},
     "output_type": "execute_result"
    }
   ],
   "source": [
    "data.isna().sum()"
   ]
  },
  {
   "cell_type": "markdown",
   "metadata": {},
   "source": [
    "Причины пропусков могут быть разными. В большинстве случаев, скорее всего, продавец просто не указал данные (высота потолков, количество этажей в доме, населённый пункт). В некоторых случаях пропущены значения, которые равнялись нулю или False (количество балконов, парков, водоёмов). В остальных случаях данные скорее всего отсутствовали и их было невозможно получить (расстояние до объектов). К примеру, если получить уникальные значения количества водоёмов в тех местах, где были пропуски в расстоянии до водоёмов, то можно увидеть, что данных либо нет, либо в этих местах нет водоёмов на растоянии 3000 метров."
   ]
  },
  {
   "cell_type": "code",
   "execution_count": 6,
   "metadata": {},
   "outputs": [
    {
     "data": {
      "text/plain": [
       "array([ 0., nan])"
      ]
     },
     "execution_count": 6,
     "metadata": {},
     "output_type": "execute_result"
    }
   ],
   "source": [
    "data.loc[data['ponds_nearest'].isna(), 'ponds_around3000'].unique()"
   ]
  },
  {
   "cell_type": "markdown",
   "metadata": {},
   "source": [
    "То же самое с парками."
   ]
  },
  {
   "cell_type": "code",
   "execution_count": 7,
   "metadata": {},
   "outputs": [
    {
     "data": {
      "text/plain": [
       "array([ 0., nan])"
      ]
     },
     "execution_count": 7,
     "metadata": {},
     "output_type": "execute_result"
    }
   ],
   "source": [
    "data.loc[data['parks_nearest'].isna(), 'parks_around3000'].unique()"
   ]
  },
  {
   "cell_type": "markdown",
   "metadata": {},
   "source": [
    "Заполнение пропусков значениями"
   ]
  },
  {
   "cell_type": "code",
   "execution_count": 8,
   "metadata": {},
   "outputs": [],
   "source": [
    "#Апартаменты. При отсутствии данных дом не будет являться апартаментами\n",
    "data['is_apartment'] = data['is_apartment'].fillna(False)\n",
    "#Балконы. При отсутствии данных балкона нет\n",
    "data['balcony'] = data['balcony'].fillna(0)\n",
    "#Водоёмы. При отсутствии данных водоёмов рядом нет\n",
    "data['ponds_around3000'] = data['ponds_around3000'].fillna(0)\n",
    "#Парки. При отсутствии данных парков рядом нет\n",
    "data['parks_around3000'] = data['parks_around3000'].fillna(0)\n",
    "#Высота потолков. Пропуски заполняются медианным значением\n",
    "data['ceiling_height'] = data['ceiling_height'].fillna(data['ceiling_height'].median())"
   ]
  },
  {
   "cell_type": "markdown",
   "metadata": {},
   "source": [
    "Удаление строк без населённого пункта"
   ]
  },
  {
   "cell_type": "code",
   "execution_count": 9,
   "metadata": {},
   "outputs": [],
   "source": [
    "data = data[~(data['locality_name'].isna())]"
   ]
  },
  {
   "cell_type": "markdown",
   "metadata": {},
   "source": [
    "#### Изменение типов данных\n",
    "\n",
    "Вывод столбцов и их типов данных"
   ]
  },
  {
   "cell_type": "code",
   "execution_count": 10,
   "metadata": {},
   "outputs": [
    {
     "name": "stdout",
     "output_type": "stream",
     "text": [
      "<class 'pandas.core.frame.DataFrame'>\n",
      "Int64Index: 23650 entries, 0 to 23698\n",
      "Data columns (total 22 columns):\n",
      " #   Column                Non-Null Count  Dtype  \n",
      "---  ------                --------------  -----  \n",
      " 0   total_images          23650 non-null  int64  \n",
      " 1   last_price            23650 non-null  float64\n",
      " 2   total_area            23650 non-null  float64\n",
      " 3   first_day_exposition  23650 non-null  object \n",
      " 4   rooms                 23650 non-null  int64  \n",
      " 5   ceiling_height        23650 non-null  float64\n",
      " 6   floors_total          23565 non-null  float64\n",
      " 7   living_area           21752 non-null  float64\n",
      " 8   floor                 23650 non-null  int64  \n",
      " 9   is_apartment          23650 non-null  bool   \n",
      " 10  studio                23650 non-null  bool   \n",
      " 11  open_plan             23650 non-null  bool   \n",
      " 12  kitchen_area          21381 non-null  float64\n",
      " 13  balcony               23650 non-null  float64\n",
      " 14  locality_name         23650 non-null  object \n",
      " 15  airports_nearest      18116 non-null  float64\n",
      " 16  cityCenters_nearest   18139 non-null  float64\n",
      " 17  parks_around3000      23650 non-null  float64\n",
      " 18  parks_nearest         8064 non-null   float64\n",
      " 19  ponds_around3000      23650 non-null  float64\n",
      " 20  ponds_nearest         9085 non-null   float64\n",
      " 21  days_exposition       20470 non-null  float64\n",
      "dtypes: bool(3), float64(14), int64(3), object(2)\n",
      "memory usage: 3.7+ MB\n"
     ]
    }
   ],
   "source": [
    "data.info()"
   ]
  },
  {
   "cell_type": "markdown",
   "metadata": {},
   "source": [
    "Значения столбца `first_day_exposition` необходимо проеобразовать в datetime.\n",
    "\n",
    "Многие столбцы имеют тип данных float64, хотя не содержат в себе дробных значений. Их необходимо преобразовать в integer."
   ]
  },
  {
   "cell_type": "code",
   "execution_count": 11,
   "metadata": {},
   "outputs": [],
   "source": [
    "data['first_day_exposition'] = pd.to_datetime(data['first_day_exposition'], format='%Y-%m-%dT%H:%M:%S')\n",
    "data['last_price'] = pd.to_numeric(data['last_price'], downcast='integer')\n",
    "data['floors_total'] = pd.to_numeric(data['floors_total'], downcast='integer')\n",
    "data['balcony'] = pd.to_numeric(data['balcony'], downcast='integer')\n",
    "data['airports_nearest'] = pd.to_numeric(data['airports_nearest'], downcast='integer')\n",
    "data['cityCenters_nearest'] = pd.to_numeric(data['cityCenters_nearest'], downcast='integer')\n",
    "data['parks_around3000'] = pd.to_numeric(data['parks_around3000'], downcast='integer')\n",
    "data['parks_nearest'] = pd.to_numeric(data['parks_nearest'], downcast='integer')\n",
    "data['ponds_around3000'] = pd.to_numeric(data['ponds_around3000'], downcast='integer')\n",
    "data['ponds_nearest'] = pd.to_numeric(data['ponds_nearest'], downcast='integer')\n",
    "data['days_exposition'] = pd.to_numeric(data['days_exposition'], downcast='integer')"
   ]
  },
  {
   "cell_type": "markdown",
   "metadata": {},
   "source": [
    "Результат изменений"
   ]
  },
  {
   "cell_type": "code",
   "execution_count": 12,
   "metadata": {},
   "outputs": [
    {
     "name": "stdout",
     "output_type": "stream",
     "text": [
      "<class 'pandas.core.frame.DataFrame'>\n",
      "Int64Index: 23650 entries, 0 to 23698\n",
      "Data columns (total 22 columns):\n",
      " #   Column                Non-Null Count  Dtype         \n",
      "---  ------                --------------  -----         \n",
      " 0   total_images          23650 non-null  int64         \n",
      " 1   last_price            23650 non-null  int32         \n",
      " 2   total_area            23650 non-null  float64       \n",
      " 3   first_day_exposition  23650 non-null  datetime64[ns]\n",
      " 4   rooms                 23650 non-null  int64         \n",
      " 5   ceiling_height        23650 non-null  float64       \n",
      " 6   floors_total          23565 non-null  float64       \n",
      " 7   living_area           21752 non-null  float64       \n",
      " 8   floor                 23650 non-null  int64         \n",
      " 9   is_apartment          23650 non-null  bool          \n",
      " 10  studio                23650 non-null  bool          \n",
      " 11  open_plan             23650 non-null  bool          \n",
      " 12  kitchen_area          21381 non-null  float64       \n",
      " 13  balcony               23650 non-null  int8          \n",
      " 14  locality_name         23650 non-null  object        \n",
      " 15  airports_nearest      18116 non-null  float64       \n",
      " 16  cityCenters_nearest   18139 non-null  float64       \n",
      " 17  parks_around3000      23650 non-null  int8          \n",
      " 18  parks_nearest         8064 non-null   float64       \n",
      " 19  ponds_around3000      23650 non-null  int8          \n",
      " 20  ponds_nearest         9085 non-null   float64       \n",
      " 21  days_exposition       20470 non-null  float64       \n",
      "dtypes: bool(3), datetime64[ns](1), float64(10), int32(1), int64(3), int8(3), object(1)\n",
      "memory usage: 3.1+ MB\n"
     ]
    }
   ],
   "source": [
    "data.info()"
   ]
  },
  {
   "cell_type": "markdown",
   "metadata": {},
   "source": [
    "#### Устранение дубликатов\n",
    "\n",
    "Количество явных дубликатов"
   ]
  },
  {
   "cell_type": "code",
   "execution_count": 13,
   "metadata": {},
   "outputs": [
    {
     "data": {
      "text/plain": [
       "0"
      ]
     },
     "execution_count": 13,
     "metadata": {},
     "output_type": "execute_result"
    }
   ],
   "source": [
    "data.duplicated().sum()"
   ]
  },
  {
   "cell_type": "markdown",
   "metadata": {},
   "source": [
    "Неявные дубликаты могут встретится только в столбце `locality_name`, так как это единственный столбец с текстовыми данными. Ниже представлен отсортированный массив с уникальными значениями в данном столбце."
   ]
  },
  {
   "cell_type": "code",
   "execution_count": 14,
   "metadata": {
    "scrolled": true
   },
   "outputs": [
    {
     "data": {
      "text/plain": [
       "['Бокситогорск',\n",
       " 'Волосово',\n",
       " 'Волхов',\n",
       " 'Всеволожск',\n",
       " 'Выборг',\n",
       " 'Высоцк',\n",
       " 'Гатчина',\n",
       " 'Зеленогорск',\n",
       " 'Ивангород',\n",
       " 'Каменногорск',\n",
       " 'Кингисепп',\n",
       " 'Кириши',\n",
       " 'Кировск',\n",
       " 'Колпино',\n",
       " 'Коммунар',\n",
       " 'Красное Село',\n",
       " 'Кронштадт',\n",
       " 'Кудрово',\n",
       " 'Лодейное Поле',\n",
       " 'Ломоносов',\n",
       " 'Луга',\n",
       " 'Любань',\n",
       " 'Мурино',\n",
       " 'Никольское',\n",
       " 'Новая Ладога',\n",
       " 'Отрадное',\n",
       " 'Павловск',\n",
       " 'Петергоф',\n",
       " 'Пикалёво',\n",
       " 'Подпорожье',\n",
       " 'Приморск',\n",
       " 'Приозерск',\n",
       " 'Пушкин',\n",
       " 'Санкт-Петербург',\n",
       " 'Светогорск',\n",
       " 'Сертолово',\n",
       " 'Сестрорецк',\n",
       " 'Сланцы',\n",
       " 'Сосновый Бор',\n",
       " 'Сясьстрой',\n",
       " 'Тихвин',\n",
       " 'Тосно',\n",
       " 'Шлиссельбург',\n",
       " 'городской поселок Большая Ижора',\n",
       " 'городской поселок Янино-1',\n",
       " 'городской посёлок Будогощь',\n",
       " 'городской посёлок Виллози',\n",
       " 'городской посёлок Лесогорский',\n",
       " 'городской посёлок Мга',\n",
       " 'городской посёлок Назия',\n",
       " 'городской посёлок Новоселье',\n",
       " 'городской посёлок Павлово',\n",
       " 'городской посёлок Рощино',\n",
       " 'городской посёлок Свирьстрой',\n",
       " 'городской посёлок Советский',\n",
       " 'городской посёлок Фёдоровское',\n",
       " 'городской посёлок Янино-1',\n",
       " 'деревня Агалатово',\n",
       " 'деревня Аро',\n",
       " 'деревня Батово',\n",
       " 'деревня Бегуницы',\n",
       " 'деревня Белогорка',\n",
       " 'деревня Большая Вруда',\n",
       " 'деревня Большая Пустомержа',\n",
       " 'деревня Большие Колпаны',\n",
       " 'деревня Большое Рейзино',\n",
       " 'деревня Большой Сабск',\n",
       " 'деревня Бор',\n",
       " 'деревня Борисова Грива',\n",
       " 'деревня Ваганово',\n",
       " 'деревня Вартемяги',\n",
       " 'деревня Вахнова Кара',\n",
       " 'деревня Выскатка',\n",
       " 'деревня Гарболово',\n",
       " 'деревня Глинка',\n",
       " 'деревня Горбунки',\n",
       " 'деревня Гостилицы',\n",
       " 'деревня Заклинье',\n",
       " 'деревня Заневка',\n",
       " 'деревня Зимитицы',\n",
       " 'деревня Извара',\n",
       " 'деревня Иссад',\n",
       " 'деревня Калитино',\n",
       " 'деревня Кальтино',\n",
       " 'деревня Камышовка',\n",
       " 'деревня Каськово',\n",
       " 'деревня Келози',\n",
       " 'деревня Кипень',\n",
       " 'деревня Кисельня',\n",
       " 'деревня Колтуши',\n",
       " 'деревня Коркино',\n",
       " 'деревня Котлы',\n",
       " 'деревня Кривко',\n",
       " 'деревня Кудрово',\n",
       " 'деревня Кузьмолово',\n",
       " 'деревня Курковицы',\n",
       " 'деревня Куровицы',\n",
       " 'деревня Куттузи',\n",
       " 'деревня Лаврики',\n",
       " 'деревня Лаголово',\n",
       " 'деревня Лампово',\n",
       " 'деревня Лесколово',\n",
       " 'деревня Лопухинка',\n",
       " 'деревня Лупполово',\n",
       " 'деревня Малая Романовка',\n",
       " 'деревня Малое Верево',\n",
       " 'деревня Малое Карлино',\n",
       " 'деревня Малые Колпаны',\n",
       " 'деревня Мануйлово',\n",
       " 'деревня Меньково',\n",
       " 'деревня Мины',\n",
       " 'деревня Мистолово',\n",
       " 'деревня Ненимяки',\n",
       " 'деревня Нижние Осельки',\n",
       " 'деревня Нижняя',\n",
       " 'деревня Низино',\n",
       " 'деревня Новое Девяткино',\n",
       " 'деревня Новолисино',\n",
       " 'деревня Нурма',\n",
       " 'деревня Оржицы',\n",
       " 'деревня Парицы',\n",
       " 'деревня Пельгора',\n",
       " 'деревня Пеники',\n",
       " 'деревня Пижма',\n",
       " 'деревня Пикколово',\n",
       " 'деревня Пудомяги',\n",
       " 'деревня Пустынка',\n",
       " 'деревня Пчева',\n",
       " 'деревня Рабитицы',\n",
       " 'деревня Разбегаево',\n",
       " 'деревня Раздолье',\n",
       " 'деревня Разметелево',\n",
       " 'деревня Рапполово',\n",
       " 'деревня Реброво',\n",
       " 'деревня Русско',\n",
       " 'деревня Сижно',\n",
       " 'деревня Снегирёвка',\n",
       " 'деревня Старая',\n",
       " 'деревня Старая Пустошь',\n",
       " 'деревня Старое Хинколово',\n",
       " 'деревня Старополье',\n",
       " 'деревня Старосиверская',\n",
       " 'деревня Старые Бегуницы',\n",
       " 'деревня Суоранда',\n",
       " 'деревня Сяськелево',\n",
       " 'деревня Тарасово',\n",
       " 'деревня Терпилицы',\n",
       " 'деревня Тихковицы',\n",
       " 'деревня Тойворово',\n",
       " 'деревня Торосово',\n",
       " 'деревня Торошковичи',\n",
       " 'деревня Трубников Бор',\n",
       " 'деревня Фалилеево',\n",
       " 'деревня Фёдоровское',\n",
       " 'деревня Хапо-Ое',\n",
       " 'деревня Хязельки',\n",
       " 'деревня Чудской Бор',\n",
       " 'деревня Шпаньково',\n",
       " 'деревня Щеглово',\n",
       " 'деревня Юкки',\n",
       " 'деревня Ялгино',\n",
       " 'деревня Яльгелево',\n",
       " 'деревня Ям-Тесово',\n",
       " 'коттеджный поселок Кивеннапа Север',\n",
       " 'коттеджный поселок Счастье',\n",
       " 'коттеджный посёлок Лесное',\n",
       " 'поселок Аннино',\n",
       " 'поселок Барышево',\n",
       " 'поселок Бугры',\n",
       " 'поселок Возрождение',\n",
       " 'поселок Войсковицы',\n",
       " 'поселок Володарское',\n",
       " 'поселок Гаврилово',\n",
       " 'поселок Гарболово',\n",
       " 'поселок Гладкое',\n",
       " 'поселок Глажево',\n",
       " 'поселок Глебычево',\n",
       " 'поселок Гончарово',\n",
       " 'поселок Громово',\n",
       " 'поселок Дружноселье',\n",
       " 'поселок Елизаветино',\n",
       " 'поселок Жилгородок',\n",
       " 'поселок Жилпосёлок',\n",
       " 'поселок Житково',\n",
       " 'поселок Заводской',\n",
       " 'поселок Запорожское',\n",
       " 'поселок Зимитицы',\n",
       " 'поселок Ильичёво',\n",
       " 'поселок Калитино',\n",
       " 'поселок Каложицы',\n",
       " 'поселок Кингисеппский',\n",
       " 'поселок Кирпичное',\n",
       " 'поселок Кобралово',\n",
       " 'поселок Кобринское',\n",
       " 'поселок Коммунары',\n",
       " 'поселок Коробицыно',\n",
       " 'поселок Котельский',\n",
       " 'поселок Красная Долина',\n",
       " 'поселок Красносельское',\n",
       " 'поселок Лесное',\n",
       " 'поселок Лисий Нос',\n",
       " 'поселок Лукаши',\n",
       " 'поселок Любань',\n",
       " 'поселок Мельниково',\n",
       " 'поселок Мичуринское',\n",
       " 'поселок Молодцово',\n",
       " 'поселок Мурино',\n",
       " 'поселок Новый Свет',\n",
       " 'поселок Новый Учхоз',\n",
       " 'поселок Оредеж',\n",
       " 'поселок Пансионат Зелёный Бор',\n",
       " 'поселок Первомайское',\n",
       " 'поселок Перово',\n",
       " 'поселок Петровское',\n",
       " 'поселок Победа',\n",
       " 'поселок Поляны',\n",
       " 'поселок Почап',\n",
       " 'поселок Починок',\n",
       " 'поселок Пушное',\n",
       " 'поселок Пчевжа',\n",
       " 'поселок Рабитицы',\n",
       " 'поселок Романовка',\n",
       " 'поселок Ромашки',\n",
       " 'поселок Рябово',\n",
       " 'поселок Севастьяново',\n",
       " 'поселок Селезнёво',\n",
       " 'поселок Сельцо',\n",
       " 'поселок Семиозерье',\n",
       " 'поселок Семрино',\n",
       " 'поселок Серебрянский',\n",
       " 'поселок Совхозный',\n",
       " 'поселок Старая Малукса',\n",
       " 'поселок Стеклянный',\n",
       " 'поселок Сумино',\n",
       " 'поселок Суходолье',\n",
       " 'поселок Тельмана',\n",
       " 'поселок Терволово',\n",
       " 'поселок Торковичи',\n",
       " 'поселок Тёсово-4',\n",
       " 'поселок Углово',\n",
       " 'поселок Усть-Луга',\n",
       " 'поселок Ушаки',\n",
       " 'поселок Цвелодубово',\n",
       " 'поселок Цвылёво',\n",
       " 'поселок городского типа Большая Ижора',\n",
       " 'поселок городского типа Вырица',\n",
       " 'поселок городского типа Дружная Горка',\n",
       " 'поселок городского типа Дубровка',\n",
       " 'поселок городского типа Ефимовский',\n",
       " 'поселок городского типа Кондратьево',\n",
       " 'поселок городского типа Красный Бор',\n",
       " 'поселок городского типа Кузьмоловский',\n",
       " 'поселок городского типа Лебяжье',\n",
       " 'поселок городского типа Лесогорский',\n",
       " 'поселок городского типа Назия',\n",
       " 'поселок городского типа Никольский',\n",
       " 'поселок городского типа Приладожский',\n",
       " 'поселок городского типа Рахья',\n",
       " 'поселок городского типа Рощино',\n",
       " 'поселок городского типа Рябово',\n",
       " 'поселок городского типа Синявино',\n",
       " 'поселок городского типа Советский',\n",
       " 'поселок городского типа Токсово',\n",
       " 'поселок городского типа Форносово',\n",
       " 'поселок городского типа имени Свердлова',\n",
       " 'поселок станции Вещево',\n",
       " 'поселок станции Корнево',\n",
       " 'поселок станции Лужайка',\n",
       " 'поселок станции Приветнинское',\n",
       " 'посёлок Александровская',\n",
       " 'посёлок Алексеевка',\n",
       " 'посёлок Аннино',\n",
       " 'посёлок Белоостров',\n",
       " 'посёлок Бугры',\n",
       " 'посёлок Возрождение',\n",
       " 'посёлок Войскорово',\n",
       " 'посёлок Высокоключевой',\n",
       " 'посёлок Гаврилово',\n",
       " 'посёлок Дзержинского',\n",
       " 'посёлок Жилгородок',\n",
       " 'посёлок Ильичёво',\n",
       " 'посёлок Кикерино',\n",
       " 'посёлок Кобралово',\n",
       " 'посёлок Коробицыно',\n",
       " 'посёлок Левашово',\n",
       " 'посёлок Ленинское',\n",
       " 'посёлок Лисий Нос',\n",
       " 'посёлок Мельниково',\n",
       " 'посёлок Металлострой',\n",
       " 'посёлок Мичуринское',\n",
       " 'посёлок Молодёжное',\n",
       " 'посёлок Мурино',\n",
       " 'посёлок Мыза-Ивановка',\n",
       " 'посёлок Новогорелово',\n",
       " 'посёлок Новый Свет',\n",
       " 'посёлок Пансионат Зелёный Бор',\n",
       " 'посёлок Парголово',\n",
       " 'посёлок Перово',\n",
       " 'посёлок Песочный',\n",
       " 'посёлок Петро-Славянка',\n",
       " 'посёлок Петровское',\n",
       " 'посёлок Платформа 69-й километр',\n",
       " 'посёлок Плодовое',\n",
       " 'посёлок Плоское',\n",
       " 'посёлок Победа',\n",
       " 'посёлок Поляны',\n",
       " 'посёлок Понтонный',\n",
       " 'посёлок Пригородный',\n",
       " 'посёлок Пудость',\n",
       " 'посёлок Репино',\n",
       " 'посёлок Ропша',\n",
       " 'посёлок Сапёрное',\n",
       " 'посёлок Сапёрный',\n",
       " 'посёлок Сосново',\n",
       " 'посёлок Старая Малукса',\n",
       " 'посёлок Стеклянный',\n",
       " 'посёлок Стрельна',\n",
       " 'посёлок Суйда',\n",
       " 'посёлок Сумино',\n",
       " 'посёлок Тельмана',\n",
       " 'посёлок Терволово',\n",
       " 'посёлок Торфяное',\n",
       " 'посёлок Усть-Ижора',\n",
       " 'посёлок Усть-Луга',\n",
       " 'посёлок Форт Красная Горка',\n",
       " 'посёлок Шугозеро',\n",
       " 'посёлок Шушары',\n",
       " 'посёлок Щеглово',\n",
       " 'посёлок городского типа Важины',\n",
       " 'посёлок городского типа Вознесенье',\n",
       " 'посёлок городского типа Вырица',\n",
       " 'посёлок городского типа Красный Бор',\n",
       " 'посёлок городского типа Кузнечное',\n",
       " 'посёлок городского типа Кузьмоловский',\n",
       " 'посёлок городского типа Лебяжье',\n",
       " 'посёлок городского типа Мга',\n",
       " 'посёлок городского типа Павлово',\n",
       " 'посёлок городского типа Рощино',\n",
       " 'посёлок городского типа Рябово',\n",
       " 'посёлок городского типа Сиверский',\n",
       " 'посёлок городского типа Тайцы',\n",
       " 'посёлок городского типа Токсово',\n",
       " 'посёлок городского типа Ульяновка',\n",
       " 'посёлок городского типа Форносово',\n",
       " 'посёлок городского типа имени Морозова',\n",
       " 'посёлок городского типа имени Свердлова',\n",
       " 'посёлок при железнодорожной станции Вещево',\n",
       " 'посёлок при железнодорожной станции Приветнинское',\n",
       " 'посёлок станции Громово',\n",
       " 'посёлок станции Свирь',\n",
       " 'садоводческое некоммерческое товарищество Лесная Поляна',\n",
       " 'садовое товарищество Новая Ропша',\n",
       " 'садовое товарищество Приладожский',\n",
       " 'садовое товарищество Рахья',\n",
       " 'садовое товарищество Садко',\n",
       " 'село Копорье',\n",
       " 'село Никольское',\n",
       " 'село Павлово',\n",
       " 'село Паша',\n",
       " 'село Путилово',\n",
       " 'село Рождествено',\n",
       " 'село Русско-Высоцкое',\n",
       " 'село Старая Ладога',\n",
       " 'село Шум']"
      ]
     },
     "execution_count": 14,
     "metadata": {},
     "output_type": "execute_result"
    }
   ],
   "source": [
    "sorted(data['locality_name'].unique())"
   ]
  },
  {
   "cell_type": "markdown",
   "metadata": {},
   "source": [
    "Можно заметить, что из одних источников слово `посёлок` пишут через букву `е`, а в других через букву `ё`. Исправляю это."
   ]
  },
  {
   "cell_type": "code",
   "execution_count": 15,
   "metadata": {},
   "outputs": [],
   "source": [
    "data['locality_name'] = data['locality_name'].apply(lambda locality: locality.replace('поселок', 'посёлок'))"
   ]
  },
  {
   "cell_type": "markdown",
   "metadata": {},
   "source": [
    "Так как массив данных слишком большой, стараюсь автоматизировать поиск похожих значений."
   ]
  },
  {
   "cell_type": "code",
   "execution_count": 16,
   "metadata": {},
   "outputs": [
    {
     "name": "stdout",
     "output_type": "stream",
     "text": [
      "Коммунар ['Коммунар', 'посёлок Коммунары']\n",
      "Кингисепп ['Кингисепп', 'посёлок Кингисеппский']\n",
      "деревня Старая ['деревня Старая', 'деревня Старая Пустошь']\n",
      "Мурино ['посёлок Мурино', 'Мурино']\n",
      "Никольское ['Никольское', 'село Никольское']\n",
      "Кудрово ['деревня Кудрово', 'Кудрово']\n",
      "Луга ['Луга', 'посёлок Усть-Луга']\n",
      "Любань ['Любань', 'посёлок Любань']\n",
      "деревня Бор ['деревня Бор', 'деревня Борисова Грива']\n",
      "посёлок Лесное ['посёлок Лесное', 'коттеджный посёлок Лесное']\n",
      "Высоцк ['село Русско-Высоцкое', 'Высоцк']\n"
     ]
    }
   ],
   "source": [
    "for locality_name in data['locality_name'].unique():\n",
    "    check = []\n",
    "    for locality_name_check in data['locality_name'].unique():\n",
    "        if locality_name in locality_name_check:\n",
    "            check.append(locality_name_check)\n",
    "    if len(check) > 1:\n",
    "        print(locality_name, check)"
   ]
  },
  {
   "cell_type": "markdown",
   "metadata": {},
   "source": [
    "Из этих населённых пунктов нас интересуют: Кингисепп и посёлок Кингисеппский, Мурино и посёлок Мурино, Любань и посёлок Любань. Все эти населённые пункты находятся на небольшом расстоянии друг от друга или являются одним и тем же населённым пунктом. Изменяю названия населённых пунктов."
   ]
  },
  {
   "cell_type": "code",
   "execution_count": 17,
   "metadata": {},
   "outputs": [],
   "source": [
    "def replace_locality_names(locality_name):\n",
    "    if locality_name == 'посёлок Кингисеппский':\n",
    "        return 'Кингисепп'\n",
    "    if locality_name == 'посёлок Мурино':\n",
    "        return 'Мурино'\n",
    "    if locality_name == 'посёлок Любань':\n",
    "        return 'Любань'\n",
    "    return locality_name\n",
    "data['locality_name'] = data['locality_name'].apply(replace_locality_names)"
   ]
  },
  {
   "cell_type": "markdown",
   "metadata": {},
   "source": [
    "Под конец можно снова проверить количество явных дубликатов"
   ]
  },
  {
   "cell_type": "code",
   "execution_count": 18,
   "metadata": {},
   "outputs": [
    {
     "data": {
      "text/plain": [
       "0"
      ]
     },
     "execution_count": 18,
     "metadata": {},
     "output_type": "execute_result"
    }
   ],
   "source": [
    "data.duplicated().sum()"
   ]
  },
  {
   "cell_type": "markdown",
   "metadata": {},
   "source": [
    "#### Устранение выбивающихся значений\n",
    "\n",
    "Для устранения выбивающихся значений стоит рассмотреть гистограммы столбцов."
   ]
  },
  {
   "cell_type": "code",
   "execution_count": 19,
   "metadata": {
    "scrolled": false
   },
   "outputs": [
    {
     "data": {
      "image/png": "[encoded data removed]",
      "text/plain": [
       "<Figure size 1080x1440 with 20 Axes>"
      ]
     },
     "metadata": {
      "needs_background": "light"
     },
     "output_type": "display_data"
    }
   ],
   "source": [
    "show_graph(data.hist(bins=40, figsize=(15,20)))"
   ]
  },
  {
   "cell_type": "markdown",
   "metadata": {},
   "source": [
    "Некоторые графики имеют заметные провалы. Устраняю их."
   ]
  },
  {
   "cell_type": "code",
   "execution_count": 20,
   "metadata": {},
   "outputs": [
    {
     "name": "stdout",
     "output_type": "stream",
     "text": [
      "Потеряно данных 3 %\n"
     ]
    }
   ],
   "source": [
    "old_shape = data.shape[0]\n",
    "data = data[(data['last_price'] < 30000000) | (data['last_price'].isna())]\n",
    "data = data[(data['total_area'] < 200) | (data['total_area'].isna())]\n",
    "data = data[data['rooms'] != 0]\n",
    "data = data[(data['rooms'] < 6) | (data['total_area'].isna())]\n",
    "data['ceiling_height'] = data['ceiling_height'].apply(lambda height: height / 10 if height >= 20 else height)\n",
    "data = data[(data['ceiling_height'] >= 2) & (data['ceiling_height'] <= 4)]\n",
    "data = data[(data['floors_total'] < 30) | (data['floors_total'].isna())]\n",
    "data = data[(data['living_area'] < 120) | (data['living_area'].isna())]\n",
    "data = data[(data['floor'] < 30) | (data['floor'].isna())]\n",
    "data = data[(data['kitchen_area'] < 50) | (data['kitchen_area'].isna())]\n",
    "print('Потеряно данных', round((1 - data.shape[0] / old_shape) * 100), '%')"
   ]
  },
  {
   "cell_type": "markdown",
   "metadata": {},
   "source": [
    "**Вывод раздела.** Устранены пропуски там, где это было возможно. Изменены типы данных для удобства и экономии памяти. Устранены неявные дубликаты в названиях населённых пунктах. Удалены выбивающиеся значения."
   ]
  },
  {
   "cell_type": "markdown",
   "metadata": {},
   "source": [
    "### Посчитайте и добавьте в таблицу новые столбцы"
   ]
  },
  {
   "cell_type": "code",
   "execution_count": 21,
   "metadata": {},
   "outputs": [],
   "source": [
    "#Добавляю новые столбцы\n",
    "#Цена одного квадратного метра\n",
    "data['square_metre_price'] = data['last_price'] / data['total_area']\n",
    "#День недели публикации объявления (0 — понедельник, 1 — вторник и так далее)\n",
    "data['exposition_week_day'] = data['first_day_exposition'].dt.weekday\n",
    "#Месяц публикации объявления\n",
    "data['exposition_month'] = data['first_day_exposition'].dt.month\n",
    "#Год публикации объявления\n",
    "data['exposition_year'] = data['first_day_exposition'].dt.year\n",
    "#Тип этажа квартиры (значения — «первый», «последний», «другой»)\n",
    "def get_floor_type(row):\n",
    "    if row['floor'] == 1:\n",
    "        return 'first'\n",
    "    if row['floor'] == row['floors_total']:\n",
    "        return 'last'\n",
    "    return 'other'\n",
    "data['floor_type'] = data.apply(get_floor_type, axis=1)\n",
    "#Расстояние до центра города в километрах\n",
    "data['city_centers_nearest_km'] = (data['cityCenters_nearest'] / 1000).round()"
   ]
  },
  {
   "cell_type": "markdown",
   "metadata": {},
   "source": [
    "**Вывод раздела.** Добавлены новые стобцы:\n",
    "+ цена одного квадратного метра;\n",
    "+ день недели публикации объявления (0 — понедельник, 1 — вторник и так далее);\n",
    "+ месяц публикации объявления;\n",
    "+ год публикации объявления;\n",
    "+ тип этажа квартиры (значения — «первый», «последний», «другой»);\n",
    "+ расстояние до центра города в километрах (переведите из м в км и округлите до целых значений).\n",
    "\n",
    "Данные изменения пригодятся в дальнейшей работе."
   ]
  },
  {
   "cell_type": "markdown",
   "metadata": {},
   "source": [
    "### Проведите исследовательский анализ данных\n",
    "#### Исследование параметров\n",
    "Общая площадь"
   ]
  },
  {
   "cell_type": "code",
   "execution_count": 22,
   "metadata": {},
   "outputs": [
    {
     "data": {
      "text/plain": [
       "count    22845.000000\n",
       "mean        57.151019\n",
       "std         24.159910\n",
       "min         12.000000\n",
       "25%         40.000000\n",
       "50%         51.400000\n",
       "75%         68.000000\n",
       "max        199.200000\n",
       "Name: total_area, dtype: float64"
      ]
     },
     "metadata": {},
     "output_type": "display_data"
    },
    {
     "data": {
      "image/png": "[encoded data removed]",
      "text/plain": [
       "<Figure size 1080x360 with 1 Axes>"
      ]
     },
     "metadata": {
      "needs_background": "light"
     },
     "output_type": "display_data"
    }
   ],
   "source": [
    "display(data['total_area'].describe())\n",
    "show_graph(data['total_area'].hist(bins=8, figsize=(15, 5), range=(0, 200)))"
   ]
  },
  {
   "cell_type": "markdown",
   "metadata": {},
   "source": [
    "Значительное количество объектов (более 50%) имеют площадь от 25 до 50 квадратных метров. Значительный спад происходит после 100 квадратных метров.\n",
    "\n",
    "Жилая площадь"
   ]
  },
  {
   "cell_type": "code",
   "execution_count": 23,
   "metadata": {},
   "outputs": [
    {
     "data": {
      "text/plain": [
       "count    21017.000000\n",
       "mean        32.606256\n",
       "std         15.886356\n",
       "min          2.000000\n",
       "25%         18.550000\n",
       "50%         30.000000\n",
       "75%         41.900000\n",
       "max        119.900000\n",
       "Name: living_area, dtype: float64"
      ]
     },
     "metadata": {},
     "output_type": "display_data"
    },
    {
     "data": {
      "image/png": "[encoded data removed]",
      "text/plain": [
       "<Figure size 1080x360 with 1 Axes>"
      ]
     },
     "metadata": {
      "needs_background": "light"
     },
     "output_type": "display_data"
    }
   ],
   "source": [
    "display(data['living_area'].describe())\n",
    "show_graph(data['living_area'].plot.hist(\n",
    "    bins=12,\n",
    "    figsize=(15, 5),\n",
    "    range=(0, 120),\n",
    "    xticks=[tick for tick in range(0, 121, 10)],\n",
    "    grid=True\n",
    "))"
   ]
  },
  {
   "cell_type": "markdown",
   "metadata": {},
   "source": [
    "Половина объектов имеют жилую площадь до 30 квадратных метров. Значительный спад происходит после 50 квадратных метров.\n",
    "\n",
    "Площадь кухни"
   ]
  },
  {
   "cell_type": "code",
   "execution_count": 24,
   "metadata": {},
   "outputs": [
    {
     "data": {
      "text/plain": [
       "count    20831.000000\n",
       "mean        10.183150\n",
       "std          4.792859\n",
       "min          1.300000\n",
       "25%          7.000000\n",
       "50%          9.000000\n",
       "75%         11.695000\n",
       "max         49.400000\n",
       "Name: kitchen_area, dtype: float64"
      ]
     },
     "metadata": {},
     "output_type": "display_data"
    },
    {
     "data": {
      "image/png": "[encoded data removed]",
      "text/plain": [
       "<Figure size 1080x360 with 1 Axes>"
      ]
     },
     "metadata": {
      "needs_background": "light"
     },
     "output_type": "display_data"
    }
   ],
   "source": [
    "display(data['kitchen_area'].describe())\n",
    "show_graph(data['kitchen_area'].plot.hist(\n",
    "    bins=10,\n",
    "    figsize=(15, 5),\n",
    "    range=(0, 50),\n",
    "    xticks=[tick for tick in range(0, 51, 5)],\n",
    "    grid=True\n",
    "))"
   ]
  },
  {
   "cell_type": "markdown",
   "metadata": {},
   "source": [
    "Значительное количество объектов (более 50%) имеют площадь кухни от 5 до 10 квадратных метров. Значительный спад происходит после 15 квадратных метров.\n",
    "\n",
    "Цена объекта"
   ]
  },
  {
   "cell_type": "code",
   "execution_count": 25,
   "metadata": {},
   "outputs": [
    {
     "data": {
      "text/plain": [
       "count    2.284500e+04\n",
       "mean     5.627021e+06\n",
       "std      3.795367e+06\n",
       "min      1.219000e+04\n",
       "25%      3.400000e+06\n",
       "50%      4.600000e+06\n",
       "75%      6.550000e+06\n",
       "max      2.999900e+07\n",
       "Name: last_price, dtype: float64"
      ]
     },
     "metadata": {},
     "output_type": "display_data"
    },
    {
     "data": {
      "image/png": "[encoded data removed]",
      "text/plain": [
       "<Figure size 1080x360 with 1 Axes>"
      ]
     },
     "metadata": {
      "needs_background": "light"
     },
     "output_type": "display_data"
    }
   ],
   "source": [
    "display(data['last_price'].describe())\n",
    "show_graph(data['last_price'].plot.hist(\n",
    "    bins=12,\n",
    "    figsize=(15, 5),\n",
    "    range=(0, 30000000),\n",
    "    xticks=[tick for tick in range(0, 30000001, 2500000)],\n",
    "    grid=True\n",
    "))"
   ]
  },
  {
   "cell_type": "markdown",
   "metadata": {},
   "source": [
    "Значительное количество объектов (более 50%) имеют стоимость от 2.5 до 5 миллионов. Значительный спад происходит после 7.5 миллионов.\n",
    "\n",
    "Количество комнат"
   ]
  },
  {
   "cell_type": "code",
   "execution_count": 26,
   "metadata": {},
   "outputs": [
    {
     "data": {
      "text/plain": [
       "count    22845.000000\n",
       "mean         2.021186\n",
       "std          0.935818\n",
       "min          1.000000\n",
       "25%          1.000000\n",
       "50%          2.000000\n",
       "75%          3.000000\n",
       "max          5.000000\n",
       "Name: rooms, dtype: float64"
      ]
     },
     "metadata": {},
     "output_type": "display_data"
    },
    {
     "data": {
      "image/png": "[encoded data removed]",
      "text/plain": [
       "<Figure size 1080x360 with 1 Axes>"
      ]
     },
     "metadata": {
      "needs_background": "light"
     },
     "output_type": "display_data"
    }
   ],
   "source": [
    "display(data['rooms'].describe())\n",
    "show_graph(data['rooms'].plot.hist(\n",
    "    bins=5,\n",
    "    figsize=(15, 5),\n",
    "    range=(1, 6),\n",
    "    xticks=[tick for tick in range(0, 6, 1)],\n",
    "    grid=True\n",
    "))"
   ]
  },
  {
   "cell_type": "markdown",
   "metadata": {},
   "source": [
    "Почти все объекты имеют до трёх комнат (более 75%). Менее 2-ух тысяч объектов (менее 10%) имеют больше 4-ёх комнат.\n",
    "\n",
    "Высота потолков"
   ]
  },
  {
   "cell_type": "code",
   "execution_count": 27,
   "metadata": {},
   "outputs": [
    {
     "data": {
      "text/plain": [
       "count    22845.000000\n",
       "mean         2.685620\n",
       "std          0.193342\n",
       "min          2.000000\n",
       "25%          2.600000\n",
       "50%          2.650000\n",
       "75%          2.700000\n",
       "max          4.000000\n",
       "Name: ceiling_height, dtype: float64"
      ]
     },
     "metadata": {},
     "output_type": "display_data"
    },
    {
     "data": {
      "image/png": "[encoded data removed]",
      "text/plain": [
       "<Figure size 1080x360 with 1 Axes>"
      ]
     },
     "metadata": {
      "needs_background": "light"
     },
     "output_type": "display_data"
    }
   ],
   "source": [
    "display(data['ceiling_height'].describe())\n",
    "show_graph(data['ceiling_height'].plot.hist(\n",
    "    bins=30,\n",
    "    figsize=(15, 5),\n",
    "    range=(2, 5),\n",
    "    xticks=[tick / 100 + 2 for tick in range(0, 301, 20)],\n",
    "    grid=True\n",
    "))"
   ]
  },
  {
   "cell_type": "markdown",
   "metadata": {},
   "source": [
    "В основном высота потолков составляет от 2.6 до 2.7 метра.\n",
    "\n",
    "Этаж"
   ]
  },
  {
   "cell_type": "code",
   "execution_count": 28,
   "metadata": {},
   "outputs": [
    {
     "data": {
      "text/plain": [
       "count    22845.000000\n",
       "mean         5.880718\n",
       "std          4.861296\n",
       "min          1.000000\n",
       "25%          2.000000\n",
       "50%          4.000000\n",
       "75%          8.000000\n",
       "max         27.000000\n",
       "Name: floor, dtype: float64"
      ]
     },
     "metadata": {},
     "output_type": "display_data"
    },
    {
     "data": {
      "image/png": "[encoded data removed]",
      "text/plain": [
       "<Figure size 1080x360 with 1 Axes>"
      ]
     },
     "metadata": {
      "needs_background": "light"
     },
     "output_type": "display_data"
    }
   ],
   "source": [
    "display(data['floor'].describe())\n",
    "show_graph(data['floor'].plot.hist(\n",
    "    bins=30,\n",
    "    figsize=(15, 5),\n",
    "    range=(0, 30),\n",
    "    xticks=[tick for tick in range(0, 31, 1)],\n",
    "    grid=True\n",
    "))"
   ]
  },
  {
   "cell_type": "markdown",
   "metadata": {},
   "source": [
    "Более 50% объектов находятся ниже 5-го этажа, более 75% ниже 8-го этажа.\n",
    "\n",
    "Тип этажа"
   ]
  },
  {
   "cell_type": "code",
   "execution_count": 29,
   "metadata": {},
   "outputs": [
    {
     "data": {
      "text/plain": [
       "floor_type\n",
       "first     2854\n",
       "last      3183\n",
       "other    16808\n",
       "Name: floor_type, dtype: int64"
      ]
     },
     "metadata": {},
     "output_type": "display_data"
    },
    {
     "data": {
      "image/png": "[encoded data removed]",
      "text/plain": [
       "<Figure size 432x288 with 1 Axes>"
      ]
     },
     "metadata": {
      "needs_background": "light"
     },
     "output_type": "display_data"
    }
   ],
   "source": [
    "display(data.groupby('floor_type')['floor_type'].count())\n",
    "show_graph(data.groupby('floor_type')['floor_type'].count().plot.bar(grid=True))"
   ]
  },
  {
   "cell_type": "markdown",
   "metadata": {},
   "source": [
    "В основном объекты находятся между первым и последним этажом.\n",
    "\n",
    "Количество этажей в доме"
   ]
  },
  {
   "cell_type": "code",
   "execution_count": 30,
   "metadata": {},
   "outputs": [
    {
     "data": {
      "text/plain": [
       "count    22765.000000\n",
       "mean        10.676697\n",
       "std          6.531160\n",
       "min          1.000000\n",
       "25%          5.000000\n",
       "50%          9.000000\n",
       "75%         16.000000\n",
       "max         29.000000\n",
       "Name: floors_total, dtype: float64"
      ]
     },
     "metadata": {},
     "output_type": "display_data"
    },
    {
     "data": {
      "image/png": "[encoded data removed]",
      "text/plain": [
       "<Figure size 1080x360 with 1 Axes>"
      ]
     },
     "metadata": {
      "needs_background": "light"
     },
     "output_type": "display_data"
    }
   ],
   "source": [
    "display(data['floors_total'].describe())\n",
    "show_graph(data['floors_total'].plot.hist(\n",
    "    bins=30,\n",
    "    figsize=(15, 5),\n",
    "    range=(0, 30),\n",
    "    xticks=[tick for tick in range(0, 31, 1)],\n",
    "    grid=True\n",
    "))"
   ]
  },
  {
   "cell_type": "markdown",
   "metadata": {},
   "source": [
    "В основном в домах 5 или 9 этажей.\n",
    "\n",
    "Расстояние до центра города"
   ]
  },
  {
   "cell_type": "code",
   "execution_count": 31,
   "metadata": {},
   "outputs": [
    {
     "data": {
      "text/plain": [
       "count    17435.000000\n",
       "mean     14439.168856\n",
       "std       8585.034906\n",
       "min        208.000000\n",
       "25%       9719.000000\n",
       "50%      13239.000000\n",
       "75%      16407.500000\n",
       "max      65968.000000\n",
       "Name: cityCenters_nearest, dtype: float64"
      ]
     },
     "metadata": {},
     "output_type": "display_data"
    },
    {
     "data": {
      "image/png": "[encoded data removed]",
      "text/plain": [
       "<Figure size 1080x360 with 1 Axes>"
      ]
     },
     "metadata": {
      "needs_background": "light"
     },
     "output_type": "display_data"
    }
   ],
   "source": [
    "display(data['cityCenters_nearest'].describe())\n",
    "show_graph(data['cityCenters_nearest'].plot.hist(\n",
    "    bins=60,\n",
    "    figsize=(15, 5),\n",
    "    range=(0, 60000),\n",
    "    xticks=[tick for tick in range(0, 60001, 3000)],\n",
    "    grid=True\n",
    "))"
   ]
  },
  {
   "cell_type": "markdown",
   "metadata": {},
   "source": [
    "В основном объекты находятся на расстоянии от центра примерно в 13 км. После 18 км наблюдается спад.\n",
    "\n",
    "Расстояние до ближайшего парка."
   ]
  },
  {
   "cell_type": "code",
   "execution_count": 32,
   "metadata": {},
   "outputs": [
    {
     "data": {
      "text/plain": [
       "count    7638.000000\n",
       "mean      494.329798\n",
       "std       344.752489\n",
       "min         1.000000\n",
       "25%       289.000000\n",
       "50%       456.000000\n",
       "75%       615.000000\n",
       "max      3190.000000\n",
       "Name: parks_nearest, dtype: float64"
      ]
     },
     "metadata": {},
     "output_type": "display_data"
    },
    {
     "data": {
      "image/png": "[encoded data removed]",
      "text/plain": [
       "<Figure size 1080x360 with 1 Axes>"
      ]
     },
     "metadata": {
      "needs_background": "light"
     },
     "output_type": "display_data"
    }
   ],
   "source": [
    "display(data['parks_nearest'].describe())\n",
    "show_graph(data['parks_nearest'].plot.hist(\n",
    "    bins=30,\n",
    "    figsize=(15, 5),\n",
    "    range=(0, 3000),\n",
    "    xticks=[tick for tick in range(0, 3001, 200)],\n",
    "    grid=True\n",
    "))"
   ]
  },
  {
   "cell_type": "markdown",
   "metadata": {},
   "source": [
    "В основном парки располагаются недалеко от объектов. Почти в 75% случаев расстояние составляет не более 600 метров. У более половины объектов нет парков поблизости.\n",
    "\n",
    "Расстояние до ближайшего водоёма"
   ]
  },
  {
   "cell_type": "code",
   "execution_count": 33,
   "metadata": {},
   "outputs": [
    {
     "data": {
      "text/plain": [
       "count    8588.000000\n",
       "mean      524.229739\n",
       "std       277.234630\n",
       "min        13.000000\n",
       "25%       303.000000\n",
       "50%       507.000000\n",
       "75%       734.000000\n",
       "max      1344.000000\n",
       "Name: ponds_nearest, dtype: float64"
      ]
     },
     "metadata": {},
     "output_type": "display_data"
    },
    {
     "data": {
      "image/png": "[encoded data removed]",
      "text/plain": [
       "<Figure size 1080x360 with 1 Axes>"
      ]
     },
     "metadata": {
      "needs_background": "light"
     },
     "output_type": "display_data"
    }
   ],
   "source": [
    "display(data['ponds_nearest'].describe())\n",
    "show_graph(data['ponds_nearest'].plot.hist(\n",
    "    bins=30,\n",
    "    figsize=(15, 5),\n",
    "    range=(0, 3000),\n",
    "    xticks=[tick for tick in range(0, 3001, 200)],\n",
    "    grid=True\n",
    "))"
   ]
  },
  {
   "cell_type": "markdown",
   "metadata": {},
   "source": [
    "В основном водоёмы располагаются недалеко от объектов. Почти в 75% случаев расстояние составляет не более 700 метров. У более половины объектов нет водоёмов поблизости.\n",
    "\n",
    "День недели публикации объявления."
   ]
  },
  {
   "cell_type": "code",
   "execution_count": 34,
   "metadata": {
    "scrolled": false
   },
   "outputs": [
    {
     "data": {
      "text/plain": [
       "count    22845.000000\n",
       "mean         2.565288\n",
       "std          1.791899\n",
       "min          0.000000\n",
       "25%          1.000000\n",
       "50%          3.000000\n",
       "75%          4.000000\n",
       "max          6.000000\n",
       "Name: exposition_week_day, dtype: float64"
      ]
     },
     "metadata": {},
     "output_type": "display_data"
    },
    {
     "data": {
      "image/png": "[encoded data removed]",
      "text/plain": [
       "<Figure size 1080x360 with 1 Axes>"
      ]
     },
     "metadata": {
      "needs_background": "light"
     },
     "output_type": "display_data"
    }
   ],
   "source": [
    "display(data['exposition_week_day'].describe())\n",
    "show_graph(data['exposition_week_day'].plot.hist(\n",
    "    bins=7,\n",
    "    figsize=(15, 5),\n",
    "    range=(0, 7),\n",
    "    xticks=[tick for tick in range(0, 8, 1)],\n",
    "    grid=True\n",
    "))"
   ]
  },
  {
   "cell_type": "markdown",
   "metadata": {},
   "source": [
    "В выходные количество публикаций становиться в 2 раза меньше, чем в будние дни.\n",
    "\n",
    "Месяц публикации объявления"
   ]
  },
  {
   "cell_type": "code",
   "execution_count": 35,
   "metadata": {},
   "outputs": [
    {
     "data": {
      "text/plain": [
       "count    22845.000000\n",
       "mean         6.396411\n",
       "std          3.489698\n",
       "min          1.000000\n",
       "25%          3.000000\n",
       "50%          6.000000\n",
       "75%         10.000000\n",
       "max         12.000000\n",
       "Name: exposition_month, dtype: float64"
      ]
     },
     "metadata": {},
     "output_type": "display_data"
    },
    {
     "data": {
      "image/png": "[encoded data removed]",
      "text/plain": [
       "<Figure size 1080x360 with 1 Axes>"
      ]
     },
     "metadata": {
      "needs_background": "light"
     },
     "output_type": "display_data"
    }
   ],
   "source": [
    "display(data['exposition_month'].describe())\n",
    "show_graph(data['exposition_month'].plot.hist(\n",
    "    bins=12,\n",
    "    figsize=(15, 5),\n",
    "    range=(1, 13),\n",
    "    xticks=[tick for tick in range(0, 14, 1)],\n",
    "    grid=True\n",
    "))"
   ]
  },
  {
   "cell_type": "markdown",
   "metadata": {},
   "source": [
    "Данные по месяцам распределены более-менее равномерно.\n",
    "\n",
    "**Вывод** Большинство параметров имеют нормальное распределение данных. Почти у каждого параметра есть свой подъём, точка максимума и спад."
   ]
  },
  {
   "cell_type": "markdown",
   "metadata": {},
   "source": [
    "#### Скорость продажи квартир"
   ]
  },
  {
   "cell_type": "code",
   "execution_count": 36,
   "metadata": {},
   "outputs": [
    {
     "data": {
      "text/plain": [
       "count    19830.000000\n",
       "mean       178.979324\n",
       "std        217.478618\n",
       "min          1.000000\n",
       "25%         45.000000\n",
       "50%         95.000000\n",
       "75%        228.000000\n",
       "max       1580.000000\n",
       "Name: days_exposition, dtype: float64"
      ]
     },
     "execution_count": 36,
     "metadata": {},
     "output_type": "execute_result"
    },
    {
     "data": {
      "image/png": "[encoded data removed]",
      "text/plain": [
       "<Figure size 432x288 with 1 Axes>"
      ]
     },
     "metadata": {
      "needs_background": "light"
     },
     "output_type": "display_data"
    }
   ],
   "source": [
    "show_graph(data['days_exposition'].hist(bins=16, range=(0, 1600)))\n",
    "data['days_exposition'].describe()"
   ]
  },
  {
   "cell_type": "code",
   "execution_count": 37,
   "metadata": {},
   "outputs": [
    {
     "data": {
      "image/png": "[encoded data removed]",
      "text/plain": [
       "<Figure size 432x288 with 1 Axes>"
      ]
     },
     "metadata": {
      "needs_background": "light"
     },
     "output_type": "display_data"
    }
   ],
   "source": [
    "show_graph(data['days_exposition'].hist(bins=20, range=(0, 100)))"
   ]
  },
  {
   "cell_type": "markdown",
   "metadata": {},
   "source": [
    "**Вывод.** По этим данным видно, что более 50% объектов продают в первые 100 дней. Больше всего продаж приходиться с 45 по 50 и с 60 по 65 дни, поэтому быстрыми будут считаться продажи до 45-го дня (первые 25%). Соответственно последние 25% будут долгими продажами (228 дней и больше). Самая долгая продажа длиласть 1580 дней."
   ]
  },
  {
   "cell_type": "markdown",
   "metadata": {},
   "source": [
    "#### Факторы стоимости объекта\n",
    "Зависимость цены от площади"
   ]
  },
  {
   "cell_type": "code",
   "execution_count": 38,
   "metadata": {
    "scrolled": false
   },
   "outputs": [
    {
     "name": "stdout",
     "output_type": "stream",
     "text": [
      "Корреляция 0.9131553646122633\n"
     ]
    },
    {
     "data": {
      "image/png": "[encoded data removed]",
      "text/plain": [
       "<Figure size 1080x360 with 1 Axes>"
      ]
     },
     "metadata": {
      "needs_background": "light"
     },
     "output_type": "display_data"
    }
   ],
   "source": [
    "total_area_last_price = data.pivot_table(\n",
    "    index='total_area',\n",
    "    values='last_price',\n",
    "    aggfunc='mean'\n",
    ")\n",
    "show_graph(total_area_last_price.plot(grid=True, figsize=(15,5)))\n",
    "print('Корреляция', total_area_last_price['last_price'].corr(pd.Series(total_area_last_price.index)))"
   ]
  },
  {
   "cell_type": "markdown",
   "metadata": {},
   "source": [
    "Смотря на график и результат корреляции можно сказать, что зависимость между данными есть.\n",
    "\n",
    "Зависимость цены от площади кухни"
   ]
  },
  {
   "cell_type": "code",
   "execution_count": 39,
   "metadata": {},
   "outputs": [
    {
     "name": "stdout",
     "output_type": "stream",
     "text": [
      "Корреляция 0.8812014275700851\n"
     ]
    },
    {
     "data": {
      "image/png": "[encoded data removed]",
      "text/plain": [
       "<Figure size 1080x360 with 1 Axes>"
      ]
     },
     "metadata": {
      "needs_background": "light"
     },
     "output_type": "display_data"
    }
   ],
   "source": [
    "kitchen_area_last_price = data.pivot_table(\n",
    "    index='kitchen_area',\n",
    "    values='last_price',\n",
    "    aggfunc='mean'\n",
    ")\n",
    "show_graph(kitchen_area_last_price.plot(grid=True, figsize=(15,5)))\n",
    "print('Корреляция', kitchen_area_last_price['last_price'].corr(pd.Series(kitchen_area_last_price.index)))"
   ]
  },
  {
   "cell_type": "markdown",
   "metadata": {},
   "source": [
    "Здесь связь уже не такая очевидная, да и корреляция ниже, однако всё же можно сказать, что зависить цены от площади кухни всё же есть.\n",
    "\n",
    "Зависимость цены от жилой площади"
   ]
  },
  {
   "cell_type": "code",
   "execution_count": 40,
   "metadata": {},
   "outputs": [
    {
     "name": "stdout",
     "output_type": "stream",
     "text": [
      "Корреляция 0.7843010240516758\n"
     ]
    },
    {
     "data": {
      "image/png": "[encoded data removed]",
      "text/plain": [
       "<Figure size 1080x360 with 1 Axes>"
      ]
     },
     "metadata": {
      "needs_background": "light"
     },
     "output_type": "display_data"
    }
   ],
   "source": [
    "living_area_last_price = data.pivot_table(\n",
    "    index='living_area',\n",
    "    values='last_price',\n",
    "    aggfunc='mean'\n",
    ")\n",
    "show_graph(living_area_last_price.plot(grid=True, figsize=(15,5)))\n",
    "print('Корреляция', living_area_last_price['last_price'].corr(pd.Series(living_area_last_price.index)))"
   ]
  },
  {
   "cell_type": "markdown",
   "metadata": {},
   "source": [
    "Зависимость от площади жилья ещё ниже. Скорее всего на неё сильно влияет разброс данных после 200 квадратных метров. Можно сказать, что зависимость есть.\n",
    "\n",
    "Зависимость цены от количества комнат"
   ]
  },
  {
   "cell_type": "code",
   "execution_count": 41,
   "metadata": {},
   "outputs": [
    {
     "name": "stdout",
     "output_type": "stream",
     "text": [
      "Корреляция 0.9920225618526005\n"
     ]
    },
    {
     "data": {
      "image/png": "[encoded data removed]",
      "text/plain": [
       "<Figure size 1080x360 with 1 Axes>"
      ]
     },
     "metadata": {
      "needs_background": "light"
     },
     "output_type": "display_data"
    }
   ],
   "source": [
    "rooms_last_price = data.pivot_table(\n",
    "    index='rooms',\n",
    "    values='last_price',\n",
    "    aggfunc='mean'\n",
    ")\n",
    "show_graph(rooms_last_price.plot(grid=True, figsize=(15,5)))\n",
    "print('Корреляция', rooms_last_price['last_price'].corr(pd.Series(rooms_last_price.index)))"
   ]
  },
  {
   "cell_type": "markdown",
   "metadata": {},
   "source": [
    "Здесь точно можно сказать, что количество комнат не влияет на стоимость жилья.\n",
    "\n",
    "Зависимость цены от этажа"
   ]
  },
  {
   "cell_type": "code",
   "execution_count": 42,
   "metadata": {},
   "outputs": [
    {
     "data": {
      "image/png": "[encoded data removed]",
      "text/plain": [
       "<Figure size 432x288 with 1 Axes>"
      ]
     },
     "metadata": {
      "needs_background": "light"
     },
     "output_type": "display_data"
    }
   ],
   "source": [
    "floor_type_last_price = data.pivot_table(\n",
    "    index='floor_type',\n",
    "    values='last_price',\n",
    "    aggfunc='mean'\n",
    ").sort_values(by='last_price')\n",
    "show_graph(floor_type_last_price.plot(kind='bar'))"
   ]
  },
  {
   "cell_type": "markdown",
   "metadata": {},
   "source": [
    "Объекты на первом этаже стоят примерно на 2 миллиона дешевле объектов на других этажах. Объекты на последнем этаже самые дорогие.\n",
    "\n",
    "Зависимость цены от даты размещения"
   ]
  },
  {
   "cell_type": "code",
   "execution_count": 43,
   "metadata": {},
   "outputs": [
    {
     "data": {
      "image/png": "[encoded data removed]",
      "text/plain": [
       "<Figure size 1080x360 with 1 Axes>"
      ]
     },
     "metadata": {
      "needs_background": "light"
     },
     "output_type": "display_data"
    }
   ],
   "source": [
    "exposition_week_day_last_price = data.pivot_table(\n",
    "    index='exposition_week_day',\n",
    "    values='last_price',\n",
    "    aggfunc='mean'\n",
    ")\n",
    "show_graph(exposition_week_day_last_price.plot(kind='bar', grid=True, figsize=(15,5), title='Зависимость от дня недели'))"
   ]
  },
  {
   "cell_type": "code",
   "execution_count": null,
   "metadata": {},
   "outputs": [],
   "source": [
    "exposition_month_last_price = data.pivot_table(\n",
    "    index='exposition_month',\n",
    "    values='last_price',\n",
    "    aggfunc='mean'\n",
    ")\n",
    "show_graph(exposition_month_last_price.plot(kind='bar', grid=True, figsize=(15,5), title='Зависимость от месяца'))"
   ]
  },
  {
   "cell_type": "code",
   "execution_count": 45,
   "metadata": {},
   "outputs": [
    {
     "data": {
      "image/png": "[encoded data removed]",
      "text/plain": [
       "<Figure size 1080x360 with 1 Axes>"
      ]
     },
     "metadata": {
      "needs_background": "light"
     },
     "output_type": "display_data"
    }
   ],
   "source": [
    "exposition_year_last_price = data.pivot_table(\n",
    "    index='exposition_year',\n",
    "    values='last_price',\n",
    "    aggfunc='mean'\n",
    ")\n",
    "show_graph(exposition_year_last_price.plot(grid=True, figsize=(15,5), title='Зависимость от года'))\n",
    "exposition_year_last_price"
   ]
  },
  {
   "cell_type": "markdown",
   "metadata": {},
   "source": [
    "Анализируя эти графики, можно сказать, что цена объекта никак не зависит от дня недели или месяца, в который он был размещён, но цена зависит от года размещения. График показывает сильный спад до 2018 года и небольшой подъём в 2019 году.\n",
    "\n",
    "**Вывод.** Зависимость цены от общей площади, жилой площади и пощади кухни подтверждена. Так или иначе эти факторы влияют на окончательную стоимость объекта. Ниже приводятся значения корреляции.\n",
    "+ Общая площадь = 0.91\n",
    "+ Площадь кухни = 0.88\n",
    "+ Жилая площадь = 0.78\n",
    "\n",
    "Цена не зависит от количества комнат, однако на цену влияет этаж объекта. На первом этаже стоимость объектов в среднем составляет около 4.5 миллионов, что ниже чем у объектов на других этажах. Объекты на других этажах продаются примерно за 6 миллионов, а объекты на последних этажах - за 5.5 миллионов.\n",
    "День недели и месяц выставления объекта на продажу не влияют на цену. Год же оказывает значительное влияние: с 2014 по 2018 годы средняя стоимость объектов упала с 9.5 миллионов до 5.5 и поднялась только в 2019 году до почти 6 миллионов."
   ]
  },
  {
   "cell_type": "markdown",
   "metadata": {},
   "source": [
    "#### Средняя цена квадратного метра в населённых пунктах"
   ]
  },
  {
   "cell_type": "code",
   "execution_count": 46,
   "metadata": {},
   "outputs": [
    {
     "data": {
      "text/plain": [
       "<AxesSubplot:xlabel='locality_name'>"
      ]
     },
     "execution_count": 46,
     "metadata": {},
     "output_type": "execute_result"
    },
    {
     "data": {
      "image/png": "[encoded data removed]",
      "text/plain": [
       "<Figure size 432x288 with 1 Axes>"
      ]
     },
     "metadata": {
      "needs_background": "light"
     },
     "output_type": "display_data"
    }
   ],
   "source": [
    "(data.pivot_table(\n",
    "    index='locality_name',\n",
    "    values='square_metre_price',\n",
    "    aggfunc=['mean', 'count']\n",
    ").droplevel(1, axis=1)\n",
    " .sort_values(by='count', ascending=False)\n",
    " .head(10)['mean']\n",
    " .sort_values(ascending=False)\n",
    " .plot(kind='bar', grid=True)\n",
    ")"
   ]
  },
  {
   "cell_type": "markdown",
   "metadata": {},
   "source": [
    "**Вывод.** Дороже всего квадратный метр стоит в Санкт-Петербурге. Его средняя стоимость около 110 тысяч. Самый дешёвый квадратный метр в Выборге. Средняя стоимость там составляет примерно 58 тысяч."
   ]
  },
  {
   "cell_type": "markdown",
   "metadata": {},
   "source": [
    "#### Средняя цена километра в Санкт-Петербурге"
   ]
  },
  {
   "cell_type": "code",
   "execution_count": 47,
   "metadata": {},
   "outputs": [
    {
     "data": {
      "text/html": [
       "<div>\n",
       "<style scoped>\n",
       "    .dataframe tbody tr th:only-of-type {\n",
       "        vertical-align: middle;\n",
       "    }\n",
       "\n",
       "    .dataframe tbody tr th {\n",
       "        vertical-align: top;\n",
       "    }\n",
       "\n",
       "    .dataframe thead th {\n",
       "        text-align: right;\n",
       "    }\n",
       "</style>\n",
       "<table border=\"1\" class=\"dataframe\">\n",
       "  <thead>\n",
       "    <tr style=\"text-align: right;\">\n",
       "      <th></th>\n",
       "      <th>mean</th>\n",
       "      <th>count</th>\n",
       "    </tr>\n",
       "    <tr>\n",
       "      <th>city_centers_nearest_km</th>\n",
       "      <th></th>\n",
       "      <th></th>\n",
       "    </tr>\n",
       "  </thead>\n",
       "  <tbody>\n",
       "    <tr>\n",
       "      <th>0.0</th>\n",
       "      <td>112706.249699</td>\n",
       "      <td>12</td>\n",
       "    </tr>\n",
       "    <tr>\n",
       "      <th>1.0</th>\n",
       "      <td>144878.394013</td>\n",
       "      <td>161</td>\n",
       "    </tr>\n",
       "    <tr>\n",
       "      <th>2.0</th>\n",
       "      <td>129360.789661</td>\n",
       "      <td>250</td>\n",
       "    </tr>\n",
       "    <tr>\n",
       "      <th>3.0</th>\n",
       "      <td>117312.569205</td>\n",
       "      <td>313</td>\n",
       "    </tr>\n",
       "    <tr>\n",
       "      <th>4.0</th>\n",
       "      <td>125744.120383</td>\n",
       "      <td>619</td>\n",
       "    </tr>\n",
       "    <tr>\n",
       "      <th>5.0</th>\n",
       "      <td>132593.082354</td>\n",
       "      <td>816</td>\n",
       "    </tr>\n",
       "    <tr>\n",
       "      <th>6.0</th>\n",
       "      <td>131276.711836</td>\n",
       "      <td>521</td>\n",
       "    </tr>\n",
       "    <tr>\n",
       "      <th>7.0</th>\n",
       "      <td>131650.817238</td>\n",
       "      <td>362</td>\n",
       "    </tr>\n",
       "    <tr>\n",
       "      <th>8.0</th>\n",
       "      <td>123353.074410</td>\n",
       "      <td>578</td>\n",
       "    </tr>\n",
       "    <tr>\n",
       "      <th>9.0</th>\n",
       "      <td>112146.260032</td>\n",
       "      <td>586</td>\n",
       "    </tr>\n",
       "    <tr>\n",
       "      <th>10.0</th>\n",
       "      <td>112869.984208</td>\n",
       "      <td>706</td>\n",
       "    </tr>\n",
       "    <tr>\n",
       "      <th>11.0</th>\n",
       "      <td>108181.486518</td>\n",
       "      <td>1168</td>\n",
       "    </tr>\n",
       "    <tr>\n",
       "      <th>12.0</th>\n",
       "      <td>107410.487035</td>\n",
       "      <td>1585</td>\n",
       "    </tr>\n",
       "    <tr>\n",
       "      <th>13.0</th>\n",
       "      <td>107915.556515</td>\n",
       "      <td>1433</td>\n",
       "    </tr>\n",
       "    <tr>\n",
       "      <th>14.0</th>\n",
       "      <td>104003.230977</td>\n",
       "      <td>1257</td>\n",
       "    </tr>\n",
       "    <tr>\n",
       "      <th>15.0</th>\n",
       "      <td>104097.499466</td>\n",
       "      <td>1551</td>\n",
       "    </tr>\n",
       "    <tr>\n",
       "      <th>16.0</th>\n",
       "      <td>100379.965860</td>\n",
       "      <td>1252</td>\n",
       "    </tr>\n",
       "    <tr>\n",
       "      <th>17.0</th>\n",
       "      <td>96420.717357</td>\n",
       "      <td>867</td>\n",
       "    </tr>\n",
       "    <tr>\n",
       "      <th>18.0</th>\n",
       "      <td>96317.787039</td>\n",
       "      <td>257</td>\n",
       "    </tr>\n",
       "    <tr>\n",
       "      <th>19.0</th>\n",
       "      <td>98703.653988</td>\n",
       "      <td>155</td>\n",
       "    </tr>\n",
       "    <tr>\n",
       "      <th>20.0</th>\n",
       "      <td>87214.901385</td>\n",
       "      <td>19</td>\n",
       "    </tr>\n",
       "    <tr>\n",
       "      <th>21.0</th>\n",
       "      <td>94540.814651</td>\n",
       "      <td>116</td>\n",
       "    </tr>\n",
       "    <tr>\n",
       "      <th>22.0</th>\n",
       "      <td>91330.425050</td>\n",
       "      <td>202</td>\n",
       "    </tr>\n",
       "    <tr>\n",
       "      <th>23.0</th>\n",
       "      <td>92158.357763</td>\n",
       "      <td>81</td>\n",
       "    </tr>\n",
       "    <tr>\n",
       "      <th>24.0</th>\n",
       "      <td>84962.459210</td>\n",
       "      <td>25</td>\n",
       "    </tr>\n",
       "    <tr>\n",
       "      <th>25.0</th>\n",
       "      <td>91531.371618</td>\n",
       "      <td>26</td>\n",
       "    </tr>\n",
       "    <tr>\n",
       "      <th>26.0</th>\n",
       "      <td>89285.876593</td>\n",
       "      <td>53</td>\n",
       "    </tr>\n",
       "    <tr>\n",
       "      <th>27.0</th>\n",
       "      <td>132115.709459</td>\n",
       "      <td>2</td>\n",
       "    </tr>\n",
       "    <tr>\n",
       "      <th>28.0</th>\n",
       "      <td>81161.915320</td>\n",
       "      <td>7</td>\n",
       "    </tr>\n",
       "    <tr>\n",
       "      <th>29.0</th>\n",
       "      <td>72953.365445</td>\n",
       "      <td>6</td>\n",
       "    </tr>\n",
       "  </tbody>\n",
       "</table>\n",
       "</div>"
      ],
      "text/plain": [
       "                                  mean  count\n",
       "city_centers_nearest_km                      \n",
       "0.0                      112706.249699     12\n",
       "1.0                      144878.394013    161\n",
       "2.0                      129360.789661    250\n",
       "3.0                      117312.569205    313\n",
       "4.0                      125744.120383    619\n",
       "5.0                      132593.082354    816\n",
       "6.0                      131276.711836    521\n",
       "7.0                      131650.817238    362\n",
       "8.0                      123353.074410    578\n",
       "9.0                      112146.260032    586\n",
       "10.0                     112869.984208    706\n",
       "11.0                     108181.486518   1168\n",
       "12.0                     107410.487035   1585\n",
       "13.0                     107915.556515   1433\n",
       "14.0                     104003.230977   1257\n",
       "15.0                     104097.499466   1551\n",
       "16.0                     100379.965860   1252\n",
       "17.0                      96420.717357    867\n",
       "18.0                      96317.787039    257\n",
       "19.0                      98703.653988    155\n",
       "20.0                      87214.901385     19\n",
       "21.0                      94540.814651    116\n",
       "22.0                      91330.425050    202\n",
       "23.0                      92158.357763     81\n",
       "24.0                      84962.459210     25\n",
       "25.0                      91531.371618     26\n",
       "26.0                      89285.876593     53\n",
       "27.0                     132115.709459      2\n",
       "28.0                      81161.915320      7\n",
       "29.0                      72953.365445      6"
      ]
     },
     "execution_count": 47,
     "metadata": {},
     "output_type": "execute_result"
    },
    {
     "data": {
      "image/png": "[encoded data removed]",
      "text/plain": [
       "<Figure size 1080x360 with 1 Axes>"
      ]
     },
     "metadata": {
      "needs_background": "light"
     },
     "output_type": "display_data"
    }
   ],
   "source": [
    "spb_square_metre_price_data = data[data['locality_name'] == 'Санкт-Петербург'].pivot_table(\n",
    "    index='city_centers_nearest_km',\n",
    "    values='square_metre_price',\n",
    "    aggfunc=['mean', 'count']\n",
    ").droplevel(1, axis=1)\n",
    "show_graph(\n",
    "    spb_square_metre_price_data.loc[1:23, :].plot(\n",
    "        y='mean',\n",
    "        figsize=(15, 5),\n",
    "        grid=True,\n",
    "        xticks=[tick for tick in range(24)],\n",
    "    )\n",
    ")\n",
    "spb_square_metre_price_data"
   ]
  },
  {
   "cell_type": "markdown",
   "metadata": {},
   "source": [
    "График немного урезан из-за маленькой выборки в областях начала и конча."
   ]
  },
  {
   "cell_type": "markdown",
   "metadata": {},
   "source": [
    "**Вывод.** На первых 3 километрах наблюдается сильный спад от 140 тысяч до 120 тысяч за квадратный метр. Далее до 5-го километра можно наблюдать небольшой подъём цен примерно до 130 тысяч и держится на этом уровне до 7-го километра. После седьмого километра снова идёт плавное падение средней цены. Данные последних шести километров нет смысла рассматривать из-за маленькой выборки."
   ]
  },
  {
   "cell_type": "markdown",
   "metadata": {},
   "source": [
    "**Вывод раздела.** Изучены параметры объектов. Проведён анализ скорости продажи объектов. Рассмотрены факторы, влияющие на стоимость объекта. Найдена средняя цена стоимости квадратного метра в 10 городах, а также средняя цена расстояния от центра в Санкт-Петербурге."
   ]
  },
  {
   "cell_type": "markdown",
   "metadata": {},
   "source": [
    "### Общий вывод"
   ]
  },
  {
   "cell_type": "markdown",
   "metadata": {},
   "source": [
    "В данной работе продились исследования данных сервиса Яндекс Недвижимость, в которых содержится объявления за несколько лет о продаже квартир в Санкт-Петербурге и соседних населённых пунктах.\n",
    "\n",
    "В ходе выполнения проекта были выполнены задачи:\n",
    "+ Открыт файл с данными и изучена общаю информация;\n",
    "+ Выполнена предобработка данных (заполнение пустых значений, изменение типов данных, устранение дубликатов и выбросов);\n",
    "+ Добавлены новые столбцы в таблицу (цена одного квадратного метра,день недели публикации объявления, месяц публикации объявления, год публикации объявления, тип этажа квартиры, расстояние до центра города в километрах);\n",
    "+ Проведён исследовательский анализ данных (изучены параметры объектов, скорость продажи объектов, факторы влияния на полную стоимость объекта, посчитана средняя цена квадратного метра в населённых пунктах и средняя цена квадратного метра каждого километра от центра Санкт-Петербурга).\n",
    "\n",
    "По итогам данной работы я делаю следующие выводы.\n",
    "+ Данные в данной работе в имеют нормальное распределение.\n",
    "+ Большинство объектов продают в первые 100 дней. Быстрая продажа осуществляется за менее чем 45 дней, а долгая продажа - за 228 дня и более.\n",
    "+ Цена объекта напрямую зависит от общей площади, жилой площади, площади кухни, этажа, на котором находиться объект, и года публикации объявления. Количество комнат, день недели и месяц публикации объявления не оказывают на цену влияния.\n",
    "+ Самый дорогой квадратный метр в Санкт-Петербурге (110 тысяч), а самый дешёвый - в Выборге (58 тысяч).\n",
    "+ При удалении от центра стоимость за квадратный метр объекта постепенно уменьшается.\n",
    "\n",
    "При учёте всех этих факторов можно повысить эффективность при продаже недвижимости."
   ]
  }
 ],
 "metadata": {
  "ExecuteTimeLog": [
   {
    "duration": 654,
    "start_time": "2023-02-11T12:51:28.210Z"
   },
   {
    "duration": 176,
    "start_time": "2023-02-11T12:51:49.434Z"
   },
   {
    "duration": 340,
    "start_time": "2023-02-11T12:52:33.814Z"
   },
   {
    "duration": 82,
    "start_time": "2023-02-11T12:53:10.933Z"
   },
   {
    "duration": 40,
    "start_time": "2023-02-11T16:32:02.967Z"
   },
   {
    "duration": 28,
    "start_time": "2023-02-11T16:33:06.399Z"
   },
   {
    "duration": 2549,
    "start_time": "2023-02-11T16:36:49.688Z"
   },
   {
    "duration": 1924,
    "start_time": "2023-02-11T16:38:13.890Z"
   },
   {
    "duration": 18,
    "start_time": "2023-02-11T16:39:51.444Z"
   },
   {
    "duration": 6,
    "start_time": "2023-02-11T16:45:58.797Z"
   },
   {
    "duration": 29,
    "start_time": "2023-02-11T16:46:46.707Z"
   },
   {
    "duration": 6,
    "start_time": "2023-02-11T16:49:02.962Z"
   },
   {
    "duration": 24,
    "start_time": "2023-02-11T16:50:03.347Z"
   },
   {
    "duration": 89,
    "start_time": "2023-02-11T16:50:14.882Z"
   },
   {
    "duration": 11,
    "start_time": "2023-02-11T16:50:55.374Z"
   },
   {
    "duration": 8,
    "start_time": "2023-02-11T16:52:47.320Z"
   },
   {
    "duration": 7,
    "start_time": "2023-02-11T16:53:08.137Z"
   },
   {
    "duration": 8,
    "start_time": "2023-02-11T16:53:20.804Z"
   },
   {
    "duration": 7,
    "start_time": "2023-02-11T16:54:19.061Z"
   },
   {
    "duration": 10,
    "start_time": "2023-02-11T16:54:29.635Z"
   },
   {
    "duration": 12,
    "start_time": "2023-02-11T16:54:56.198Z"
   },
   {
    "duration": 4,
    "start_time": "2023-02-11T16:55:22.038Z"
   },
   {
    "duration": 9,
    "start_time": "2023-02-11T16:55:37.136Z"
   },
   {
    "duration": 9,
    "start_time": "2023-02-11T16:55:42.469Z"
   },
   {
    "duration": 4,
    "start_time": "2023-02-11T16:57:03.931Z"
   },
   {
    "duration": 22,
    "start_time": "2023-02-11T16:57:22.043Z"
   },
   {
    "duration": 46,
    "start_time": "2023-02-11T17:00:02.215Z"
   },
   {
    "duration": 837,
    "start_time": "2023-02-11T17:01:04.676Z"
   },
   {
    "duration": 12,
    "start_time": "2023-02-11T17:02:17.725Z"
   },
   {
    "duration": 1217,
    "start_time": "2023-02-11T17:05:18.025Z"
   },
   {
    "duration": 6,
    "start_time": "2023-02-11T17:05:35.729Z"
   },
   {
    "duration": 8,
    "start_time": "2023-02-11T17:05:42.561Z"
   },
   {
    "duration": 505,
    "start_time": "2023-02-11T17:06:03.689Z"
   },
   {
    "duration": 17,
    "start_time": "2023-02-11T17:06:04.196Z"
   },
   {
    "duration": 2399,
    "start_time": "2023-02-11T17:06:04.218Z"
   },
   {
    "duration": 9,
    "start_time": "2023-02-11T17:06:06.618Z"
   },
   {
    "duration": 8,
    "start_time": "2023-02-11T17:06:06.629Z"
   },
   {
    "duration": 26,
    "start_time": "2023-02-11T17:06:06.638Z"
   },
   {
    "duration": 4,
    "start_time": "2023-02-11T17:06:42.793Z"
   },
   {
    "duration": 11,
    "start_time": "2023-02-11T17:07:19.066Z"
   },
   {
    "duration": 6,
    "start_time": "2023-02-11T17:07:26.915Z"
   },
   {
    "duration": 11,
    "start_time": "2023-02-11T17:07:30.298Z"
   },
   {
    "duration": 117,
    "start_time": "2023-02-11T17:09:21.496Z"
   },
   {
    "duration": 531,
    "start_time": "2023-02-11T17:10:01.028Z"
   },
   {
    "duration": 14,
    "start_time": "2023-02-11T17:10:01.564Z"
   },
   {
    "duration": 2153,
    "start_time": "2023-02-11T17:10:01.579Z"
   },
   {
    "duration": 9,
    "start_time": "2023-02-11T17:10:03.734Z"
   },
   {
    "duration": 23,
    "start_time": "2023-02-11T17:10:03.746Z"
   },
   {
    "duration": 9,
    "start_time": "2023-02-11T17:10:03.770Z"
   },
   {
    "duration": 15,
    "start_time": "2023-02-11T17:10:12.548Z"
   },
   {
    "duration": 74,
    "start_time": "2023-02-11T17:18:07.219Z"
   },
   {
    "duration": 5,
    "start_time": "2023-02-11T17:19:12.223Z"
   },
   {
    "duration": 593,
    "start_time": "2023-02-11T17:20:39.148Z"
   },
   {
    "duration": 20,
    "start_time": "2023-02-11T17:20:39.744Z"
   },
   {
    "duration": 2223,
    "start_time": "2023-02-11T17:20:39.770Z"
   },
   {
    "duration": 12,
    "start_time": "2023-02-11T17:20:41.994Z"
   },
   {
    "duration": 10,
    "start_time": "2023-02-11T17:20:42.008Z"
   },
   {
    "duration": 11,
    "start_time": "2023-02-11T17:20:42.019Z"
   },
   {
    "duration": 11,
    "start_time": "2023-02-11T17:20:56.497Z"
   },
   {
    "duration": 647,
    "start_time": "2023-02-11T22:33:15.153Z"
   },
   {
    "duration": 16,
    "start_time": "2023-02-11T22:33:15.803Z"
   },
   {
    "duration": 2868,
    "start_time": "2023-02-11T22:33:15.822Z"
   },
   {
    "duration": 12,
    "start_time": "2023-02-11T22:33:18.694Z"
   },
   {
    "duration": 16,
    "start_time": "2023-02-11T22:33:18.708Z"
   },
   {
    "duration": 36,
    "start_time": "2023-02-11T22:33:18.726Z"
   },
   {
    "duration": 96,
    "start_time": "2023-02-11T22:33:18.765Z"
   },
   {
    "duration": 13,
    "start_time": "2023-02-11T22:37:22.945Z"
   },
   {
    "duration": 12,
    "start_time": "2023-02-11T22:40:17.951Z"
   },
   {
    "duration": 104,
    "start_time": "2023-02-11T22:40:51.356Z"
   },
   {
    "duration": 10,
    "start_time": "2023-02-11T22:41:30.795Z"
   },
   {
    "duration": 8,
    "start_time": "2023-02-11T22:41:36.003Z"
   },
   {
    "duration": 9,
    "start_time": "2023-02-11T22:41:40.498Z"
   },
   {
    "duration": 9,
    "start_time": "2023-02-11T22:41:45.467Z"
   },
   {
    "duration": 8,
    "start_time": "2023-02-11T22:42:45.116Z"
   },
   {
    "duration": 5,
    "start_time": "2023-02-11T22:43:04.457Z"
   },
   {
    "duration": 729,
    "start_time": "2023-02-14T00:12:08.450Z"
   },
   {
    "duration": 15,
    "start_time": "2023-02-14T00:12:09.181Z"
   },
   {
    "duration": 2402,
    "start_time": "2023-02-14T00:12:09.197Z"
   },
   {
    "duration": 10,
    "start_time": "2023-02-14T00:12:11.602Z"
   },
   {
    "duration": 43,
    "start_time": "2023-02-14T00:12:11.614Z"
   },
   {
    "duration": 24,
    "start_time": "2023-02-14T00:12:11.659Z"
   },
   {
    "duration": 31,
    "start_time": "2023-02-14T00:12:11.685Z"
   },
   {
    "duration": 36,
    "start_time": "2023-02-14T00:12:11.718Z"
   },
   {
    "duration": 29,
    "start_time": "2023-02-14T00:15:39.389Z"
   },
   {
    "duration": 11,
    "start_time": "2023-02-14T00:17:24.400Z"
   },
   {
    "duration": 567,
    "start_time": "2023-02-14T00:17:42.431Z"
   },
   {
    "duration": 16,
    "start_time": "2023-02-14T00:17:43.000Z"
   },
   {
    "duration": 2317,
    "start_time": "2023-02-14T00:17:43.018Z"
   },
   {
    "duration": 11,
    "start_time": "2023-02-14T00:17:45.337Z"
   },
   {
    "duration": 29,
    "start_time": "2023-02-14T00:17:45.350Z"
   },
   {
    "duration": 23,
    "start_time": "2023-02-14T00:17:45.381Z"
   },
   {
    "duration": 24,
    "start_time": "2023-02-14T00:17:45.406Z"
   },
   {
    "duration": 30,
    "start_time": "2023-02-14T00:17:45.431Z"
   },
   {
    "duration": 49,
    "start_time": "2023-02-14T00:17:45.463Z"
   },
   {
    "duration": 9,
    "start_time": "2023-02-14T00:18:35.037Z"
   },
   {
    "duration": 530,
    "start_time": "2023-02-14T00:19:10.213Z"
   },
   {
    "duration": 17,
    "start_time": "2023-02-14T00:19:10.746Z"
   },
   {
    "duration": 2202,
    "start_time": "2023-02-14T00:19:10.765Z"
   },
   {
    "duration": 9,
    "start_time": "2023-02-14T00:19:12.970Z"
   },
   {
    "duration": 19,
    "start_time": "2023-02-14T00:19:12.980Z"
   },
   {
    "duration": 2,
    "start_time": "2023-02-14T00:19:13.001Z"
   },
   {
    "duration": 9,
    "start_time": "2023-02-14T00:19:13.005Z"
   },
   {
    "duration": 16,
    "start_time": "2023-02-14T00:19:13.016Z"
   },
   {
    "duration": 24,
    "start_time": "2023-02-14T00:19:13.036Z"
   },
   {
    "duration": 95,
    "start_time": "2023-02-14T00:24:33.886Z"
   },
   {
    "duration": 32,
    "start_time": "2023-02-14T00:24:40.915Z"
   },
   {
    "duration": 13,
    "start_time": "2023-02-14T00:25:36.077Z"
   },
   {
    "duration": 16,
    "start_time": "2023-02-14T00:28:47.948Z"
   },
   {
    "duration": 9,
    "start_time": "2023-02-14T00:28:54.833Z"
   },
   {
    "duration": 532,
    "start_time": "2023-02-14T00:29:16.858Z"
   },
   {
    "duration": 16,
    "start_time": "2023-02-14T00:29:17.392Z"
   },
   {
    "duration": 2289,
    "start_time": "2023-02-14T00:29:17.410Z"
   },
   {
    "duration": 9,
    "start_time": "2023-02-14T00:29:19.701Z"
   },
   {
    "duration": 24,
    "start_time": "2023-02-14T00:29:19.712Z"
   },
   {
    "duration": 2,
    "start_time": "2023-02-14T00:29:19.738Z"
   },
   {
    "duration": 6,
    "start_time": "2023-02-14T00:29:19.741Z"
   },
   {
    "duration": 32,
    "start_time": "2023-02-14T00:29:19.748Z"
   },
   {
    "duration": 12,
    "start_time": "2023-02-14T00:29:19.782Z"
   },
   {
    "duration": 9,
    "start_time": "2023-02-14T00:31:38.778Z"
   },
   {
    "duration": 525,
    "start_time": "2023-02-14T00:31:52.844Z"
   },
   {
    "duration": 16,
    "start_time": "2023-02-14T00:31:53.371Z"
   },
   {
    "duration": 2231,
    "start_time": "2023-02-14T00:31:53.388Z"
   },
   {
    "duration": 10,
    "start_time": "2023-02-14T00:31:55.621Z"
   },
   {
    "duration": 20,
    "start_time": "2023-02-14T00:31:55.633Z"
   },
   {
    "duration": 3,
    "start_time": "2023-02-14T00:31:55.654Z"
   },
   {
    "duration": 9,
    "start_time": "2023-02-14T00:31:55.658Z"
   },
   {
    "duration": 34,
    "start_time": "2023-02-14T00:31:55.669Z"
   },
   {
    "duration": 13,
    "start_time": "2023-02-14T00:31:55.704Z"
   },
   {
    "duration": 9,
    "start_time": "2023-02-14T00:32:35.611Z"
   },
   {
    "duration": 5,
    "start_time": "2023-02-14T00:42:38.435Z"
   },
   {
    "duration": 8,
    "start_time": "2023-02-14T00:43:16.759Z"
   },
   {
    "duration": 8,
    "start_time": "2023-02-14T00:43:53.980Z"
   },
   {
    "duration": 6,
    "start_time": "2023-02-14T00:44:22.836Z"
   },
   {
    "duration": 7,
    "start_time": "2023-02-14T00:44:47.397Z"
   },
   {
    "duration": 7,
    "start_time": "2023-02-14T00:45:06.465Z"
   },
   {
    "duration": 8,
    "start_time": "2023-02-14T00:45:30.684Z"
   },
   {
    "duration": 16,
    "start_time": "2023-02-14T00:45:33.255Z"
   },
   {
    "duration": 7,
    "start_time": "2023-02-14T00:45:35.402Z"
   },
   {
    "duration": 8,
    "start_time": "2023-02-14T00:45:45.628Z"
   },
   {
    "duration": 6,
    "start_time": "2023-02-14T00:51:01.183Z"
   },
   {
    "duration": 8,
    "start_time": "2023-02-14T00:51:22.501Z"
   },
   {
    "duration": 9,
    "start_time": "2023-02-14T00:52:04.164Z"
   },
   {
    "duration": 76,
    "start_time": "2023-02-14T00:52:27.472Z"
   },
   {
    "duration": 10,
    "start_time": "2023-02-14T00:52:48.352Z"
   },
   {
    "duration": 27,
    "start_time": "2023-02-14T00:53:26.860Z"
   },
   {
    "duration": 9,
    "start_time": "2023-02-14T00:53:42.413Z"
   },
   {
    "duration": 10,
    "start_time": "2023-02-14T00:53:47.055Z"
   },
   {
    "duration": 8,
    "start_time": "2023-02-14T00:53:58.178Z"
   },
   {
    "duration": 8,
    "start_time": "2023-02-14T00:54:03.398Z"
   },
   {
    "duration": 7,
    "start_time": "2023-02-14T00:54:08.992Z"
   },
   {
    "duration": 7,
    "start_time": "2023-02-14T00:54:14.747Z"
   },
   {
    "duration": 7,
    "start_time": "2023-02-14T00:54:20.741Z"
   },
   {
    "duration": 62,
    "start_time": "2023-02-14T00:55:19.456Z"
   },
   {
    "duration": 20,
    "start_time": "2023-02-14T00:57:19.428Z"
   },
   {
    "duration": 8,
    "start_time": "2023-02-14T00:57:22.916Z"
   },
   {
    "duration": 514,
    "start_time": "2023-02-14T00:59:01.367Z"
   },
   {
    "duration": 15,
    "start_time": "2023-02-14T00:59:01.883Z"
   },
   {
    "duration": 2272,
    "start_time": "2023-02-14T00:59:01.899Z"
   },
   {
    "duration": 10,
    "start_time": "2023-02-14T00:59:04.173Z"
   },
   {
    "duration": 25,
    "start_time": "2023-02-14T00:59:04.186Z"
   },
   {
    "duration": 31,
    "start_time": "2023-02-14T00:59:04.212Z"
   },
   {
    "duration": 13,
    "start_time": "2023-02-14T00:59:04.245Z"
   },
   {
    "duration": 8,
    "start_time": "2023-02-14T00:59:14.078Z"
   },
   {
    "duration": 24,
    "start_time": "2023-02-14T01:00:08.504Z"
   },
   {
    "duration": 15,
    "start_time": "2023-02-14T01:00:32.139Z"
   },
   {
    "duration": 12,
    "start_time": "2023-02-14T01:00:51.642Z"
   },
   {
    "duration": 7,
    "start_time": "2023-02-14T01:01:02.722Z"
   },
   {
    "duration": 585,
    "start_time": "2023-02-14T01:01:37.802Z"
   },
   {
    "duration": 18,
    "start_time": "2023-02-14T01:01:38.390Z"
   },
   {
    "duration": 2301,
    "start_time": "2023-02-14T01:01:38.410Z"
   },
   {
    "duration": 10,
    "start_time": "2023-02-14T01:01:40.714Z"
   },
   {
    "duration": 42,
    "start_time": "2023-02-14T01:01:40.725Z"
   },
   {
    "duration": 42,
    "start_time": "2023-02-14T01:01:40.768Z"
   },
   {
    "duration": 24,
    "start_time": "2023-02-14T01:01:40.812Z"
   },
   {
    "duration": 8,
    "start_time": "2023-02-14T01:02:02.651Z"
   },
   {
    "duration": 26,
    "start_time": "2023-02-14T01:03:38.402Z"
   },
   {
    "duration": 11,
    "start_time": "2023-02-14T01:03:45.307Z"
   },
   {
    "duration": 9,
    "start_time": "2023-02-14T01:05:19.956Z"
   },
   {
    "duration": 8,
    "start_time": "2023-02-14T01:05:50.538Z"
   },
   {
    "duration": 9,
    "start_time": "2023-02-14T01:06:26.344Z"
   },
   {
    "duration": 74,
    "start_time": "2023-02-14T01:06:34.726Z"
   },
   {
    "duration": 68,
    "start_time": "2023-02-14T01:06:54.796Z"
   },
   {
    "duration": 5,
    "start_time": "2023-02-14T01:07:36.419Z"
   },
   {
    "duration": 6,
    "start_time": "2023-02-14T01:07:58.989Z"
   },
   {
    "duration": 39,
    "start_time": "2023-02-14T01:09:01.472Z"
   },
   {
    "duration": 7,
    "start_time": "2023-02-14T01:10:24.395Z"
   },
   {
    "duration": 5,
    "start_time": "2023-02-14T01:11:58.442Z"
   },
   {
    "duration": 551,
    "start_time": "2023-02-14T01:12:20.712Z"
   },
   {
    "duration": 21,
    "start_time": "2023-02-14T01:12:21.266Z"
   },
   {
    "duration": 2291,
    "start_time": "2023-02-14T01:12:21.288Z"
   },
   {
    "duration": 11,
    "start_time": "2023-02-14T01:12:23.582Z"
   },
   {
    "duration": 33,
    "start_time": "2023-02-14T01:12:23.596Z"
   },
   {
    "duration": 6,
    "start_time": "2023-02-14T01:12:23.631Z"
   },
   {
    "duration": 48,
    "start_time": "2023-02-14T01:12:23.638Z"
   },
   {
    "duration": 14,
    "start_time": "2023-02-14T01:12:23.688Z"
   },
   {
    "duration": 7,
    "start_time": "2023-02-14T01:16:15.930Z"
   },
   {
    "duration": 7,
    "start_time": "2023-02-14T01:16:25.114Z"
   },
   {
    "duration": 6,
    "start_time": "2023-02-14T01:19:15.812Z"
   },
   {
    "duration": 8,
    "start_time": "2023-02-14T01:19:28.643Z"
   },
   {
    "duration": 9,
    "start_time": "2023-02-14T01:21:19.738Z"
   },
   {
    "duration": 74,
    "start_time": "2023-02-14T01:21:53.989Z"
   },
   {
    "duration": 40,
    "start_time": "2023-02-14T01:22:04.996Z"
   },
   {
    "duration": 39,
    "start_time": "2023-02-14T01:23:08.334Z"
   },
   {
    "duration": 544,
    "start_time": "2023-02-14T01:24:47.889Z"
   },
   {
    "duration": 14,
    "start_time": "2023-02-14T01:24:48.435Z"
   },
   {
    "duration": 2264,
    "start_time": "2023-02-14T01:24:48.451Z"
   },
   {
    "duration": 11,
    "start_time": "2023-02-14T01:24:50.717Z"
   },
   {
    "duration": 28,
    "start_time": "2023-02-14T01:24:50.730Z"
   },
   {
    "duration": 32,
    "start_time": "2023-02-14T01:24:50.760Z"
   },
   {
    "duration": 13,
    "start_time": "2023-02-14T01:24:50.794Z"
   },
   {
    "duration": 9,
    "start_time": "2023-02-14T01:24:54.558Z"
   },
   {
    "duration": 512,
    "start_time": "2023-02-14T01:25:50.862Z"
   },
   {
    "duration": 16,
    "start_time": "2023-02-14T01:25:51.376Z"
   },
   {
    "duration": 2225,
    "start_time": "2023-02-14T01:25:51.394Z"
   },
   {
    "duration": 10,
    "start_time": "2023-02-14T01:25:53.621Z"
   },
   {
    "duration": 24,
    "start_time": "2023-02-14T01:25:53.633Z"
   },
   {
    "duration": 31,
    "start_time": "2023-02-14T01:25:53.659Z"
   },
   {
    "duration": 13,
    "start_time": "2023-02-14T01:25:53.692Z"
   },
   {
    "duration": 8,
    "start_time": "2023-02-14T01:26:35.487Z"
   },
   {
    "duration": 23,
    "start_time": "2023-02-14T01:37:10.569Z"
   },
   {
    "duration": 7,
    "start_time": "2023-02-14T01:37:36.958Z"
   },
   {
    "duration": 24,
    "start_time": "2023-02-14T01:39:30.711Z"
   },
   {
    "duration": 69,
    "start_time": "2023-02-14T01:42:24.857Z"
   },
   {
    "duration": 9,
    "start_time": "2023-02-14T01:42:55.509Z"
   },
   {
    "duration": 4,
    "start_time": "2023-02-14T01:43:22.449Z"
   },
   {
    "duration": 10,
    "start_time": "2023-02-14T01:46:10.362Z"
   },
   {
    "duration": 8,
    "start_time": "2023-02-14T01:46:19.661Z"
   },
   {
    "duration": 7,
    "start_time": "2023-02-14T01:46:24.051Z"
   },
   {
    "duration": 7,
    "start_time": "2023-02-14T01:46:30.616Z"
   },
   {
    "duration": 6,
    "start_time": "2023-02-14T01:46:35.230Z"
   },
   {
    "duration": 14,
    "start_time": "2023-02-14T02:29:10.666Z"
   },
   {
    "duration": 7,
    "start_time": "2023-02-14T02:30:02.290Z"
   },
   {
    "duration": 12,
    "start_time": "2023-02-14T02:31:04.247Z"
   },
   {
    "duration": 8,
    "start_time": "2023-02-14T02:32:25.008Z"
   },
   {
    "duration": 7,
    "start_time": "2023-02-14T02:32:53.059Z"
   },
   {
    "duration": 15,
    "start_time": "2023-02-14T02:33:18.544Z"
   },
   {
    "duration": 10,
    "start_time": "2023-02-14T02:34:39.009Z"
   },
   {
    "duration": 30,
    "start_time": "2023-02-14T02:36:03.490Z"
   },
   {
    "duration": 24,
    "start_time": "2023-02-14T02:38:21.123Z"
   },
   {
    "duration": 33,
    "start_time": "2023-02-14T02:39:08.493Z"
   },
   {
    "duration": 26,
    "start_time": "2023-02-14T02:39:48.916Z"
   },
   {
    "duration": 28,
    "start_time": "2023-02-14T02:40:44.902Z"
   },
   {
    "duration": 27,
    "start_time": "2023-02-14T02:43:05.285Z"
   },
   {
    "duration": 27,
    "start_time": "2023-02-14T02:43:48.145Z"
   },
   {
    "duration": 25,
    "start_time": "2023-02-14T02:45:07.437Z"
   },
   {
    "duration": 24,
    "start_time": "2023-02-14T02:45:30.059Z"
   },
   {
    "duration": 28,
    "start_time": "2023-02-14T02:48:29.127Z"
   },
   {
    "duration": 25,
    "start_time": "2023-02-14T02:49:02.216Z"
   },
   {
    "duration": 27,
    "start_time": "2023-02-14T02:49:24.726Z"
   },
   {
    "duration": 1186,
    "start_time": "2023-02-14T02:50:58.586Z"
   },
   {
    "duration": 28,
    "start_time": "2023-02-14T02:51:26.751Z"
   },
   {
    "duration": 8,
    "start_time": "2023-02-14T02:58:32.756Z"
   },
   {
    "duration": 7,
    "start_time": "2023-02-14T02:59:02.379Z"
   },
   {
    "duration": 1128,
    "start_time": "2023-02-14T02:59:24.483Z"
   },
   {
    "duration": 8,
    "start_time": "2023-02-14T02:59:32.416Z"
   },
   {
    "duration": 8,
    "start_time": "2023-02-14T02:59:46.203Z"
   },
   {
    "duration": 51,
    "start_time": "2023-02-14T03:00:50.020Z"
   },
   {
    "duration": 8,
    "start_time": "2023-02-14T03:01:29.126Z"
   },
   {
    "duration": 45,
    "start_time": "2023-02-14T03:04:21.225Z"
   },
   {
    "duration": 8,
    "start_time": "2023-02-14T03:04:56.299Z"
   },
   {
    "duration": 8,
    "start_time": "2023-02-14T03:05:15.629Z"
   },
   {
    "duration": 46,
    "start_time": "2023-02-14T03:05:37.100Z"
   },
   {
    "duration": 16,
    "start_time": "2023-02-14T03:06:55.296Z"
   },
   {
    "duration": 7,
    "start_time": "2023-02-14T03:07:33.680Z"
   },
   {
    "duration": 7,
    "start_time": "2023-02-14T03:07:43.329Z"
   },
   {
    "duration": 50,
    "start_time": "2023-02-14T03:08:45.178Z"
   },
   {
    "duration": 5,
    "start_time": "2023-02-14T03:09:12.411Z"
   },
   {
    "duration": 8,
    "start_time": "2023-02-14T03:09:30.755Z"
   },
   {
    "duration": 7,
    "start_time": "2023-02-14T03:09:50.253Z"
   },
   {
    "duration": 47,
    "start_time": "2023-02-14T03:10:07.520Z"
   },
   {
    "duration": 7,
    "start_time": "2023-02-14T03:10:17.173Z"
   },
   {
    "duration": 6,
    "start_time": "2023-02-14T03:10:21.588Z"
   },
   {
    "duration": 81,
    "start_time": "2023-02-14T03:11:18.963Z"
   },
   {
    "duration": 40,
    "start_time": "2023-02-14T03:11:35.165Z"
   },
   {
    "duration": 48,
    "start_time": "2023-02-14T03:11:39.544Z"
   },
   {
    "duration": 8,
    "start_time": "2023-02-14T03:11:48.947Z"
   },
   {
    "duration": 50,
    "start_time": "2023-02-14T03:13:03.112Z"
   },
   {
    "duration": 10,
    "start_time": "2023-02-14T03:13:06.944Z"
   },
   {
    "duration": 10,
    "start_time": "2023-02-14T03:16:07.119Z"
   },
   {
    "duration": 55,
    "start_time": "2023-02-14T03:17:12.435Z"
   },
   {
    "duration": 8,
    "start_time": "2023-02-14T03:17:17.951Z"
   },
   {
    "duration": 56,
    "start_time": "2023-02-14T03:18:06.677Z"
   },
   {
    "duration": 8,
    "start_time": "2023-02-14T03:18:10.291Z"
   },
   {
    "duration": 4,
    "start_time": "2023-02-14T03:18:42.159Z"
   },
   {
    "duration": 51,
    "start_time": "2023-02-14T04:07:08.549Z"
   },
   {
    "duration": 19,
    "start_time": "2023-02-14T04:07:41.750Z"
   },
   {
    "duration": 538,
    "start_time": "2023-02-14T04:09:03.957Z"
   },
   {
    "duration": 19,
    "start_time": "2023-02-14T04:09:04.498Z"
   },
   {
    "duration": 2256,
    "start_time": "2023-02-14T04:09:04.519Z"
   },
   {
    "duration": 10,
    "start_time": "2023-02-14T04:09:06.777Z"
   },
   {
    "duration": 30,
    "start_time": "2023-02-14T04:09:06.789Z"
   },
   {
    "duration": 52,
    "start_time": "2023-02-14T04:09:06.821Z"
   },
   {
    "duration": 30,
    "start_time": "2023-02-14T04:09:06.875Z"
   },
   {
    "duration": 12,
    "start_time": "2023-02-14T04:09:06.907Z"
   },
   {
    "duration": 3,
    "start_time": "2023-02-14T04:09:06.936Z"
   },
   {
    "duration": 8,
    "start_time": "2023-02-14T04:09:15.247Z"
   },
   {
    "duration": 3,
    "start_time": "2023-02-14T04:09:26.581Z"
   },
   {
    "duration": 651,
    "start_time": "2023-02-14T17:54:05.082Z"
   },
   {
    "duration": 19,
    "start_time": "2023-02-14T17:54:05.736Z"
   },
   {
    "duration": 2732,
    "start_time": "2023-02-14T17:54:05.757Z"
   },
   {
    "duration": 25,
    "start_time": "2023-02-14T17:54:08.491Z"
   },
   {
    "duration": 36,
    "start_time": "2023-02-14T17:54:08.519Z"
   },
   {
    "duration": 60,
    "start_time": "2023-02-14T17:54:08.556Z"
   },
   {
    "duration": 30,
    "start_time": "2023-02-14T17:54:08.618Z"
   },
   {
    "duration": 15,
    "start_time": "2023-02-14T17:54:08.649Z"
   },
   {
    "duration": 4,
    "start_time": "2023-02-14T17:54:08.665Z"
   },
   {
    "duration": 31,
    "start_time": "2023-02-14T17:55:40.152Z"
   },
   {
    "duration": 52,
    "start_time": "2023-02-14T17:55:59.273Z"
   },
   {
    "duration": 92,
    "start_time": "2023-02-14T17:58:12.766Z"
   },
   {
    "duration": 49,
    "start_time": "2023-02-14T17:58:22.297Z"
   },
   {
    "duration": 173,
    "start_time": "2023-02-14T17:58:45.048Z"
   },
   {
    "duration": 19,
    "start_time": "2023-02-14T17:59:06.018Z"
   },
   {
    "duration": 54,
    "start_time": "2023-02-14T18:02:24.980Z"
   },
   {
    "duration": 18,
    "start_time": "2023-02-14T18:02:35.692Z"
   },
   {
    "duration": 24,
    "start_time": "2023-02-14T18:03:55.642Z"
   },
   {
    "duration": 20,
    "start_time": "2023-02-14T18:07:14.638Z"
   },
   {
    "duration": 14,
    "start_time": "2023-02-14T18:13:03.576Z"
   },
   {
    "duration": 24,
    "start_time": "2023-02-14T18:16:49.894Z"
   },
   {
    "duration": 16,
    "start_time": "2023-02-14T18:18:21.930Z"
   },
   {
    "duration": 8,
    "start_time": "2023-02-14T21:03:37.187Z"
   },
   {
    "duration": 9,
    "start_time": "2023-02-14T21:04:02.259Z"
   },
   {
    "duration": 4,
    "start_time": "2023-02-14T21:04:15.413Z"
   },
   {
    "duration": 11,
    "start_time": "2023-02-14T21:04:21.584Z"
   },
   {
    "duration": 6,
    "start_time": "2023-02-14T21:04:33.215Z"
   },
   {
    "duration": 10,
    "start_time": "2023-02-14T21:07:54.706Z"
   },
   {
    "duration": 8,
    "start_time": "2023-02-14T21:10:04.986Z"
   },
   {
    "duration": 6,
    "start_time": "2023-02-14T21:10:48.620Z"
   },
   {
    "duration": 9,
    "start_time": "2023-02-14T21:10:57.601Z"
   },
   {
    "duration": 27,
    "start_time": "2023-02-14T21:11:54.838Z"
   },
   {
    "duration": 646,
    "start_time": "2023-02-15T00:54:49.101Z"
   },
   {
    "duration": 15,
    "start_time": "2023-02-15T00:54:49.748Z"
   },
   {
    "duration": 2423,
    "start_time": "2023-02-15T00:54:49.765Z"
   },
   {
    "duration": 10,
    "start_time": "2023-02-15T00:54:52.190Z"
   },
   {
    "duration": 30,
    "start_time": "2023-02-15T00:54:52.202Z"
   },
   {
    "duration": 61,
    "start_time": "2023-02-15T00:54:52.233Z"
   },
   {
    "duration": 24,
    "start_time": "2023-02-15T00:54:52.295Z"
   },
   {
    "duration": 24,
    "start_time": "2023-02-15T00:54:52.320Z"
   },
   {
    "duration": 12,
    "start_time": "2023-02-15T00:54:52.346Z"
   },
   {
    "duration": 15,
    "start_time": "2023-02-15T00:54:52.360Z"
   },
   {
    "duration": 5,
    "start_time": "2023-02-15T00:54:52.376Z"
   },
   {
    "duration": 66,
    "start_time": "2023-02-15T00:54:52.382Z"
   },
   {
    "duration": 44,
    "start_time": "2023-02-15T00:57:58.841Z"
   },
   {
    "duration": 56,
    "start_time": "2023-02-15T01:01:05.328Z"
   },
   {
    "duration": 42,
    "start_time": "2023-02-15T01:08:04.454Z"
   },
   {
    "duration": 58,
    "start_time": "2023-02-15T01:08:21.205Z"
   },
   {
    "duration": 60,
    "start_time": "2023-02-15T01:11:25.601Z"
   },
   {
    "duration": 53,
    "start_time": "2023-02-15T01:12:29.107Z"
   },
   {
    "duration": 53,
    "start_time": "2023-02-15T01:13:55.930Z"
   },
   {
    "duration": 56,
    "start_time": "2023-02-15T01:16:15.181Z"
   },
   {
    "duration": 1748,
    "start_time": "2023-02-15T01:30:54.987Z"
   },
   {
    "duration": 2478,
    "start_time": "2023-02-15T01:31:21.343Z"
   },
   {
    "duration": 65,
    "start_time": "2023-02-15T01:34:21.079Z"
   },
   {
    "duration": 64,
    "start_time": "2023-02-15T01:36:01.293Z"
   },
   {
    "duration": 40,
    "start_time": "2023-02-15T01:37:45.163Z"
   },
   {
    "duration": 8,
    "start_time": "2023-02-15T01:38:06.567Z"
   },
   {
    "duration": 6,
    "start_time": "2023-02-15T01:38:39.756Z"
   },
   {
    "duration": 7,
    "start_time": "2023-02-15T01:38:59.859Z"
   },
   {
    "duration": 9,
    "start_time": "2023-02-15T01:39:15.384Z"
   },
   {
    "duration": 55,
    "start_time": "2023-02-15T01:41:52.482Z"
   },
   {
    "duration": 10,
    "start_time": "2023-02-15T01:41:58.950Z"
   },
   {
    "duration": 543,
    "start_time": "2023-02-15T01:42:34.445Z"
   },
   {
    "duration": 38,
    "start_time": "2023-02-15T01:42:34.990Z"
   },
   {
    "duration": 2316,
    "start_time": "2023-02-15T01:42:35.032Z"
   },
   {
    "duration": 13,
    "start_time": "2023-02-15T01:42:37.351Z"
   },
   {
    "duration": 32,
    "start_time": "2023-02-15T01:42:37.367Z"
   },
   {
    "duration": 68,
    "start_time": "2023-02-15T01:42:37.400Z"
   },
   {
    "duration": 21,
    "start_time": "2023-02-15T01:42:37.470Z"
   },
   {
    "duration": 50,
    "start_time": "2023-02-15T01:42:37.493Z"
   },
   {
    "duration": 29,
    "start_time": "2023-02-15T01:42:37.545Z"
   },
   {
    "duration": 15,
    "start_time": "2023-02-15T01:42:37.575Z"
   },
   {
    "duration": 5,
    "start_time": "2023-02-15T01:42:37.592Z"
   },
   {
    "duration": 71,
    "start_time": "2023-02-15T01:42:37.599Z"
   },
   {
    "duration": 78,
    "start_time": "2023-02-15T01:42:37.672Z"
   },
   {
    "duration": 4,
    "start_time": "2023-02-15T01:42:37.753Z"
   },
   {
    "duration": 7,
    "start_time": "2023-02-15T01:42:48.965Z"
   },
   {
    "duration": 6,
    "start_time": "2023-02-15T01:45:43.048Z"
   },
   {
    "duration": 5,
    "start_time": "2023-02-15T01:45:53.001Z"
   },
   {
    "duration": 30,
    "start_time": "2023-02-15T01:46:05.297Z"
   },
   {
    "duration": 561,
    "start_time": "2023-02-15T01:46:24.278Z"
   },
   {
    "duration": 24,
    "start_time": "2023-02-15T01:46:24.842Z"
   },
   {
    "duration": 2317,
    "start_time": "2023-02-15T01:46:24.868Z"
   },
   {
    "duration": 10,
    "start_time": "2023-02-15T01:46:27.186Z"
   },
   {
    "duration": 35,
    "start_time": "2023-02-15T01:46:27.198Z"
   },
   {
    "duration": 70,
    "start_time": "2023-02-15T01:46:27.234Z"
   },
   {
    "duration": 19,
    "start_time": "2023-02-15T01:46:27.306Z"
   },
   {
    "duration": 34,
    "start_time": "2023-02-15T01:46:27.327Z"
   },
   {
    "duration": 15,
    "start_time": "2023-02-15T01:46:27.362Z"
   },
   {
    "duration": 16,
    "start_time": "2023-02-15T01:46:27.379Z"
   },
   {
    "duration": 22,
    "start_time": "2023-02-15T01:46:27.397Z"
   },
   {
    "duration": 27,
    "start_time": "2023-02-15T01:46:27.420Z"
   },
   {
    "duration": 83,
    "start_time": "2023-02-15T01:46:27.448Z"
   },
   {
    "duration": 13,
    "start_time": "2023-02-15T01:46:27.534Z"
   },
   {
    "duration": 51,
    "start_time": "2023-02-15T01:46:27.549Z"
   },
   {
    "duration": 8,
    "start_time": "2023-02-15T01:46:51.390Z"
   },
   {
    "duration": 7,
    "start_time": "2023-02-15T01:47:23.897Z"
   },
   {
    "duration": 10,
    "start_time": "2023-02-15T01:47:53.283Z"
   },
   {
    "duration": 72,
    "start_time": "2023-02-15T01:54:20.574Z"
   },
   {
    "duration": 14,
    "start_time": "2023-02-15T01:54:40.544Z"
   },
   {
    "duration": 15,
    "start_time": "2023-02-15T01:54:46.536Z"
   },
   {
    "duration": 9,
    "start_time": "2023-02-15T01:56:14.839Z"
   },
   {
    "duration": 16,
    "start_time": "2023-02-15T01:56:30.741Z"
   },
   {
    "duration": 9,
    "start_time": "2023-02-15T01:57:59.352Z"
   },
   {
    "duration": 7,
    "start_time": "2023-02-15T02:21:48.562Z"
   },
   {
    "duration": 74,
    "start_time": "2023-02-15T02:26:05.854Z"
   },
   {
    "duration": 22,
    "start_time": "2023-02-15T02:32:45.032Z"
   },
   {
    "duration": 10,
    "start_time": "2023-02-15T02:33:38.835Z"
   },
   {
    "duration": 14,
    "start_time": "2023-02-15T02:33:59.535Z"
   },
   {
    "duration": 116,
    "start_time": "2023-02-15T02:34:08.682Z"
   },
   {
    "duration": 11,
    "start_time": "2023-02-15T02:34:14.740Z"
   },
   {
    "duration": 37,
    "start_time": "2023-02-15T02:34:43.833Z"
   },
   {
    "duration": 34,
    "start_time": "2023-02-15T02:35:39.191Z"
   },
   {
    "duration": 36,
    "start_time": "2023-02-15T02:38:06.229Z"
   },
   {
    "duration": 50,
    "start_time": "2023-02-15T02:40:11.938Z"
   },
   {
    "duration": 552,
    "start_time": "2023-02-15T02:40:58.709Z"
   },
   {
    "duration": 16,
    "start_time": "2023-02-15T02:40:59.263Z"
   },
   {
    "duration": 2355,
    "start_time": "2023-02-15T02:40:59.280Z"
   },
   {
    "duration": 11,
    "start_time": "2023-02-15T02:41:01.639Z"
   },
   {
    "duration": 38,
    "start_time": "2023-02-15T02:41:01.652Z"
   },
   {
    "duration": 70,
    "start_time": "2023-02-15T02:41:01.691Z"
   },
   {
    "duration": 13,
    "start_time": "2023-02-15T02:41:01.762Z"
   },
   {
    "duration": 46,
    "start_time": "2023-02-15T02:41:01.777Z"
   },
   {
    "duration": 37,
    "start_time": "2023-02-15T02:41:01.824Z"
   },
   {
    "duration": 17,
    "start_time": "2023-02-15T02:41:01.865Z"
   },
   {
    "duration": 6,
    "start_time": "2023-02-15T02:41:01.884Z"
   },
   {
    "duration": 32,
    "start_time": "2023-02-15T02:41:01.891Z"
   },
   {
    "duration": 67,
    "start_time": "2023-02-15T02:41:01.924Z"
   },
   {
    "duration": 104,
    "start_time": "2023-02-15T02:41:01.992Z"
   },
   {
    "duration": 55,
    "start_time": "2023-02-15T02:41:02.097Z"
   },
   {
    "duration": 63,
    "start_time": "2023-02-15T02:45:17.273Z"
   },
   {
    "duration": 49,
    "start_time": "2023-02-15T02:45:36.001Z"
   },
   {
    "duration": 42,
    "start_time": "2023-02-15T02:47:13.252Z"
   },
   {
    "duration": 21,
    "start_time": "2023-02-15T02:47:46.584Z"
   },
   {
    "duration": 56,
    "start_time": "2023-02-15T02:47:53.066Z"
   },
   {
    "duration": 780,
    "start_time": "2023-02-15T02:52:14.208Z"
   },
   {
    "duration": 116,
    "start_time": "2023-02-15T02:52:40.536Z"
   },
   {
    "duration": 318,
    "start_time": "2023-02-15T02:54:09.059Z"
   },
   {
    "duration": 302,
    "start_time": "2023-02-15T02:54:37.151Z"
   },
   {
    "duration": 406,
    "start_time": "2023-02-15T02:54:52.947Z"
   },
   {
    "duration": 625,
    "start_time": "2023-02-15T02:55:53.998Z"
   },
   {
    "duration": 25,
    "start_time": "2023-02-15T02:55:54.627Z"
   },
   {
    "duration": 2591,
    "start_time": "2023-02-15T02:55:54.657Z"
   },
   {
    "duration": 14,
    "start_time": "2023-02-15T02:55:57.252Z"
   },
   {
    "duration": 34,
    "start_time": "2023-02-15T02:55:57.268Z"
   },
   {
    "duration": 75,
    "start_time": "2023-02-15T02:55:57.304Z"
   },
   {
    "duration": 13,
    "start_time": "2023-02-15T02:55:57.380Z"
   },
   {
    "duration": 29,
    "start_time": "2023-02-15T02:55:57.394Z"
   },
   {
    "duration": 43,
    "start_time": "2023-02-15T02:55:57.424Z"
   },
   {
    "duration": 23,
    "start_time": "2023-02-15T02:55:57.471Z"
   },
   {
    "duration": 8,
    "start_time": "2023-02-15T02:55:57.495Z"
   },
   {
    "duration": 46,
    "start_time": "2023-02-15T02:55:57.505Z"
   },
   {
    "duration": 84,
    "start_time": "2023-02-15T02:55:57.552Z"
   },
   {
    "duration": 80,
    "start_time": "2023-02-15T02:55:57.638Z"
   },
   {
    "duration": 289,
    "start_time": "2023-02-15T02:55:57.719Z"
   },
   {
    "duration": 631,
    "start_time": "2023-02-15T23:23:29.564Z"
   },
   {
    "duration": 21,
    "start_time": "2023-02-15T23:23:33.330Z"
   },
   {
    "duration": 2790,
    "start_time": "2023-02-15T23:23:36.210Z"
   },
   {
    "duration": 12,
    "start_time": "2023-02-15T23:23:44.156Z"
   },
   {
    "duration": 7,
    "start_time": "2023-02-15T23:39:07.547Z"
   },
   {
    "duration": 7,
    "start_time": "2023-02-15T23:45:45.718Z"
   },
   {
    "duration": 10,
    "start_time": "2023-02-15T23:45:55.933Z"
   },
   {
    "duration": 7,
    "start_time": "2023-02-15T23:47:14.410Z"
   },
   {
    "duration": 6,
    "start_time": "2023-02-15T23:48:12.200Z"
   },
   {
    "duration": 500,
    "start_time": "2023-02-15T23:51:11.499Z"
   },
   {
    "duration": 15,
    "start_time": "2023-02-15T23:51:12.001Z"
   },
   {
    "duration": 2315,
    "start_time": "2023-02-15T23:51:12.018Z"
   },
   {
    "duration": 11,
    "start_time": "2023-02-15T23:51:14.334Z"
   },
   {
    "duration": 6,
    "start_time": "2023-02-15T23:51:14.347Z"
   },
   {
    "duration": 7,
    "start_time": "2023-02-15T23:51:14.354Z"
   },
   {
    "duration": 13,
    "start_time": "2023-02-15T23:51:14.363Z"
   },
   {
    "duration": 15,
    "start_time": "2023-02-15T23:51:14.378Z"
   },
   {
    "duration": 56,
    "start_time": "2023-02-15T23:51:14.395Z"
   },
   {
    "duration": 14,
    "start_time": "2023-02-15T23:51:14.453Z"
   },
   {
    "duration": 24,
    "start_time": "2023-02-15T23:51:14.469Z"
   },
   {
    "duration": 91,
    "start_time": "2023-02-15T23:51:14.495Z"
   },
   {
    "duration": 0,
    "start_time": "2023-02-15T23:51:14.587Z"
   },
   {
    "duration": 0,
    "start_time": "2023-02-15T23:51:14.589Z"
   },
   {
    "duration": 0,
    "start_time": "2023-02-15T23:51:14.590Z"
   },
   {
    "duration": 0,
    "start_time": "2023-02-15T23:51:14.591Z"
   },
   {
    "duration": 9,
    "start_time": "2023-02-15T23:51:39.109Z"
   },
   {
    "duration": 10,
    "start_time": "2023-02-15T23:52:24.945Z"
   },
   {
    "duration": 7,
    "start_time": "2023-02-15T23:54:27.500Z"
   },
   {
    "duration": 9,
    "start_time": "2023-02-15T23:54:50.473Z"
   },
   {
    "duration": 9,
    "start_time": "2023-02-15T23:55:03.513Z"
   },
   {
    "duration": 10,
    "start_time": "2023-02-15T23:55:22.966Z"
   },
   {
    "duration": 28,
    "start_time": "2023-02-15T23:56:37.448Z"
   },
   {
    "duration": 8,
    "start_time": "2023-02-15T23:56:42.923Z"
   },
   {
    "duration": 517,
    "start_time": "2023-02-15T23:59:43.281Z"
   },
   {
    "duration": 16,
    "start_time": "2023-02-15T23:59:43.800Z"
   },
   {
    "duration": 2291,
    "start_time": "2023-02-15T23:59:43.818Z"
   },
   {
    "duration": 13,
    "start_time": "2023-02-15T23:59:46.110Z"
   },
   {
    "duration": 7,
    "start_time": "2023-02-15T23:59:46.125Z"
   },
   {
    "duration": 9,
    "start_time": "2023-02-15T23:59:46.133Z"
   },
   {
    "duration": 11,
    "start_time": "2023-02-15T23:59:46.144Z"
   },
   {
    "duration": 17,
    "start_time": "2023-02-15T23:59:46.157Z"
   },
   {
    "duration": 27,
    "start_time": "2023-02-15T23:59:46.175Z"
   },
   {
    "duration": 22,
    "start_time": "2023-02-15T23:59:46.204Z"
   },
   {
    "duration": 21,
    "start_time": "2023-02-15T23:59:46.228Z"
   },
   {
    "duration": 22,
    "start_time": "2023-02-15T23:59:46.251Z"
   },
   {
    "duration": 5,
    "start_time": "2023-02-15T23:59:46.274Z"
   },
   {
    "duration": 26,
    "start_time": "2023-02-15T23:59:46.282Z"
   },
   {
    "duration": 31,
    "start_time": "2023-02-15T23:59:46.310Z"
   },
   {
    "duration": 69,
    "start_time": "2023-02-15T23:59:46.342Z"
   },
   {
    "duration": 97,
    "start_time": "2023-02-15T23:59:46.412Z"
   },
   {
    "duration": 269,
    "start_time": "2023-02-15T23:59:46.511Z"
   },
   {
    "duration": 51,
    "start_time": "2023-02-16T00:05:24.226Z"
   },
   {
    "duration": 40,
    "start_time": "2023-02-16T00:05:32.592Z"
   },
   {
    "duration": 6,
    "start_time": "2023-02-16T00:05:58.449Z"
   },
   {
    "duration": 27,
    "start_time": "2023-02-16T00:06:35.959Z"
   },
   {
    "duration": 9,
    "start_time": "2023-02-16T00:07:06.187Z"
   },
   {
    "duration": 557,
    "start_time": "2023-02-16T00:07:38.161Z"
   },
   {
    "duration": 24,
    "start_time": "2023-02-16T00:07:38.721Z"
   },
   {
    "duration": 2275,
    "start_time": "2023-02-16T00:07:38.746Z"
   },
   {
    "duration": 11,
    "start_time": "2023-02-16T00:07:41.022Z"
   },
   {
    "duration": 6,
    "start_time": "2023-02-16T00:07:41.036Z"
   },
   {
    "duration": 23,
    "start_time": "2023-02-16T00:07:41.043Z"
   },
   {
    "duration": 11,
    "start_time": "2023-02-16T00:07:41.068Z"
   },
   {
    "duration": 10,
    "start_time": "2023-02-16T00:07:41.081Z"
   },
   {
    "duration": 16,
    "start_time": "2023-02-16T00:07:41.093Z"
   },
   {
    "duration": 40,
    "start_time": "2023-02-16T00:07:41.111Z"
   },
   {
    "duration": 15,
    "start_time": "2023-02-16T00:07:41.153Z"
   },
   {
    "duration": 23,
    "start_time": "2023-02-16T00:07:41.170Z"
   },
   {
    "duration": 9,
    "start_time": "2023-02-16T00:07:41.194Z"
   },
   {
    "duration": 61,
    "start_time": "2023-02-16T00:07:41.206Z"
   },
   {
    "duration": 743,
    "start_time": "2023-02-16T00:07:41.268Z"
   },
   {
    "duration": 88,
    "start_time": "2023-02-16T00:07:42.013Z"
   },
   {
    "duration": 93,
    "start_time": "2023-02-16T00:07:42.103Z"
   },
   {
    "duration": 272,
    "start_time": "2023-02-16T00:07:42.197Z"
   },
   {
    "duration": 42,
    "start_time": "2023-02-16T00:12:53.201Z"
   },
   {
    "duration": 84,
    "start_time": "2023-02-16T00:14:45.695Z"
   },
   {
    "duration": 528,
    "start_time": "2023-02-16T00:14:53.502Z"
   },
   {
    "duration": 22,
    "start_time": "2023-02-16T00:14:54.032Z"
   },
   {
    "duration": 2285,
    "start_time": "2023-02-16T00:14:54.056Z"
   },
   {
    "duration": 10,
    "start_time": "2023-02-16T00:14:56.343Z"
   },
   {
    "duration": 6,
    "start_time": "2023-02-16T00:14:56.356Z"
   },
   {
    "duration": 6,
    "start_time": "2023-02-16T00:14:56.363Z"
   },
   {
    "duration": 12,
    "start_time": "2023-02-16T00:14:56.370Z"
   },
   {
    "duration": 9,
    "start_time": "2023-02-16T00:14:56.384Z"
   },
   {
    "duration": 51,
    "start_time": "2023-02-16T00:14:56.394Z"
   },
   {
    "duration": 23,
    "start_time": "2023-02-16T00:14:56.447Z"
   },
   {
    "duration": 15,
    "start_time": "2023-02-16T00:14:56.472Z"
   },
   {
    "duration": 22,
    "start_time": "2023-02-16T00:14:56.489Z"
   },
   {
    "duration": 10,
    "start_time": "2023-02-16T00:14:56.541Z"
   },
   {
    "duration": 26,
    "start_time": "2023-02-16T00:14:56.555Z"
   },
   {
    "duration": 622,
    "start_time": "2023-02-16T00:14:56.583Z"
   },
   {
    "duration": 79,
    "start_time": "2023-02-16T00:14:57.207Z"
   },
   {
    "duration": 99,
    "start_time": "2023-02-16T00:14:57.288Z"
   },
   {
    "duration": 339,
    "start_time": "2023-02-16T00:14:57.389Z"
   },
   {
    "duration": 566,
    "start_time": "2023-02-16T00:15:42.033Z"
   },
   {
    "duration": 588,
    "start_time": "2023-02-16T00:16:18.267Z"
   },
   {
    "duration": 569,
    "start_time": "2023-02-16T00:17:36.196Z"
   },
   {
    "duration": 580,
    "start_time": "2023-02-16T00:19:31.237Z"
   },
   {
    "duration": 9,
    "start_time": "2023-02-16T00:20:59.871Z"
   },
   {
    "duration": 1549,
    "start_time": "2023-02-16T00:40:32.431Z"
   },
   {
    "duration": 589,
    "start_time": "2023-02-16T00:41:21.286Z"
   },
   {
    "duration": 9,
    "start_time": "2023-02-16T00:47:13.832Z"
   },
   {
    "duration": 77,
    "start_time": "2023-02-16T00:47:23.643Z"
   },
   {
    "duration": 531,
    "start_time": "2023-02-16T00:48:00.155Z"
   },
   {
    "duration": 16,
    "start_time": "2023-02-16T00:48:00.689Z"
   },
   {
    "duration": 2290,
    "start_time": "2023-02-16T00:48:00.707Z"
   },
   {
    "duration": 11,
    "start_time": "2023-02-16T00:48:02.999Z"
   },
   {
    "duration": 18,
    "start_time": "2023-02-16T00:48:03.012Z"
   },
   {
    "duration": 14,
    "start_time": "2023-02-16T00:48:03.032Z"
   },
   {
    "duration": 32,
    "start_time": "2023-02-16T00:48:03.047Z"
   },
   {
    "duration": 15,
    "start_time": "2023-02-16T00:48:03.081Z"
   },
   {
    "duration": 28,
    "start_time": "2023-02-16T00:48:03.098Z"
   },
   {
    "duration": 56,
    "start_time": "2023-02-16T00:48:03.128Z"
   },
   {
    "duration": 15,
    "start_time": "2023-02-16T00:48:03.186Z"
   },
   {
    "duration": 31,
    "start_time": "2023-02-16T00:48:03.203Z"
   },
   {
    "duration": 10,
    "start_time": "2023-02-16T00:48:03.236Z"
   },
   {
    "duration": 21,
    "start_time": "2023-02-16T00:48:03.248Z"
   },
   {
    "duration": 611,
    "start_time": "2023-02-16T00:48:03.271Z"
   },
   {
    "duration": 15,
    "start_time": "2023-02-16T00:48:03.884Z"
   },
   {
    "duration": 82,
    "start_time": "2023-02-16T00:48:03.902Z"
   },
   {
    "duration": 94,
    "start_time": "2023-02-16T00:48:03.985Z"
   },
   {
    "duration": 345,
    "start_time": "2023-02-16T00:48:04.081Z"
   },
   {
    "duration": 566,
    "start_time": "2023-02-16T00:48:22.762Z"
   },
   {
    "duration": 27,
    "start_time": "2023-02-16T00:50:19.200Z"
   },
   {
    "duration": 4,
    "start_time": "2023-02-16T00:50:56.564Z"
   },
   {
    "duration": 117,
    "start_time": "2023-02-16T01:11:47.708Z"
   },
   {
    "duration": 112,
    "start_time": "2023-02-16T01:12:50.446Z"
   },
   {
    "duration": 140,
    "start_time": "2023-02-16T01:27:14.453Z"
   },
   {
    "duration": 421,
    "start_time": "2023-02-16T01:27:46.779Z"
   },
   {
    "duration": 139,
    "start_time": "2023-02-16T01:28:20.502Z"
   },
   {
    "duration": 155,
    "start_time": "2023-02-16T01:28:38.881Z"
   },
   {
    "duration": 160,
    "start_time": "2023-02-16T01:31:05.561Z"
   },
   {
    "duration": 180,
    "start_time": "2023-02-16T01:33:38.701Z"
   },
   {
    "duration": 163,
    "start_time": "2023-02-16T01:35:11.609Z"
   },
   {
    "duration": 145,
    "start_time": "2023-02-16T01:43:58.519Z"
   },
   {
    "duration": 147,
    "start_time": "2023-02-16T01:44:15.599Z"
   },
   {
    "duration": 155,
    "start_time": "2023-02-16T01:45:42.706Z"
   },
   {
    "duration": 213,
    "start_time": "2023-02-16T01:46:21.431Z"
   },
   {
    "duration": 333,
    "start_time": "2023-02-16T01:48:17.095Z"
   },
   {
    "duration": 214,
    "start_time": "2023-02-16T01:48:34.896Z"
   },
   {
    "duration": 194,
    "start_time": "2023-02-16T01:48:40.667Z"
   },
   {
    "duration": 177,
    "start_time": "2023-02-16T01:48:47.284Z"
   },
   {
    "duration": 146,
    "start_time": "2023-02-16T01:48:59.085Z"
   },
   {
    "duration": 0,
    "start_time": "2023-02-16T01:51:57.360Z"
   },
   {
    "duration": 153,
    "start_time": "2023-02-16T01:52:00.094Z"
   },
   {
    "duration": 132,
    "start_time": "2023-02-16T01:55:18.362Z"
   },
   {
    "duration": 113,
    "start_time": "2023-02-16T01:55:36.567Z"
   },
   {
    "duration": 126,
    "start_time": "2023-02-16T01:55:54.414Z"
   },
   {
    "duration": 114,
    "start_time": "2023-02-16T01:56:10.390Z"
   },
   {
    "duration": 128,
    "start_time": "2023-02-16T01:56:20.542Z"
   },
   {
    "duration": 173,
    "start_time": "2023-02-16T02:01:05.183Z"
   },
   {
    "duration": 172,
    "start_time": "2023-02-16T02:01:29.156Z"
   },
   {
    "duration": 147,
    "start_time": "2023-02-16T02:01:41.821Z"
   },
   {
    "duration": 179,
    "start_time": "2023-02-16T02:08:15.018Z"
   },
   {
    "duration": 169,
    "start_time": "2023-02-16T02:08:38.878Z"
   },
   {
    "duration": 166,
    "start_time": "2023-02-16T02:09:03.232Z"
   },
   {
    "duration": 158,
    "start_time": "2023-02-16T02:09:18.597Z"
   },
   {
    "duration": 144,
    "start_time": "2023-02-16T02:09:55.710Z"
   },
   {
    "duration": 150,
    "start_time": "2023-02-16T02:11:05.214Z"
   },
   {
    "duration": 150,
    "start_time": "2023-02-16T02:12:06.354Z"
   },
   {
    "duration": 137,
    "start_time": "2023-02-16T02:13:57.416Z"
   },
   {
    "duration": 238,
    "start_time": "2023-02-16T02:14:33.302Z"
   },
   {
    "duration": 140,
    "start_time": "2023-02-16T02:14:54.677Z"
   },
   {
    "duration": 174,
    "start_time": "2023-02-16T02:17:14.067Z"
   },
   {
    "duration": 229,
    "start_time": "2023-02-16T02:17:41.586Z"
   },
   {
    "duration": 140,
    "start_time": "2023-02-16T02:18:03.675Z"
   },
   {
    "duration": 47,
    "start_time": "2023-02-16T02:24:31.745Z"
   },
   {
    "duration": 137,
    "start_time": "2023-02-16T02:24:45.169Z"
   },
   {
    "duration": 120,
    "start_time": "2023-02-16T02:25:04.746Z"
   },
   {
    "duration": 146,
    "start_time": "2023-02-16T02:25:10.960Z"
   },
   {
    "duration": 178,
    "start_time": "2023-02-16T02:25:36.204Z"
   },
   {
    "duration": 169,
    "start_time": "2023-02-16T02:27:26.808Z"
   },
   {
    "duration": 148,
    "start_time": "2023-02-16T02:27:50.377Z"
   },
   {
    "duration": 151,
    "start_time": "2023-02-16T02:28:22.356Z"
   },
   {
    "duration": 192,
    "start_time": "2023-02-16T02:29:30.985Z"
   },
   {
    "duration": 268,
    "start_time": "2023-02-16T02:29:51.859Z"
   },
   {
    "duration": 203,
    "start_time": "2023-02-16T02:30:03.172Z"
   },
   {
    "duration": 171,
    "start_time": "2023-02-16T02:30:18.696Z"
   },
   {
    "duration": 148,
    "start_time": "2023-02-16T02:31:00.282Z"
   },
   {
    "duration": 889,
    "start_time": "2023-02-16T03:03:02.694Z"
   },
   {
    "duration": 10,
    "start_time": "2023-02-16T03:10:59.531Z"
   },
   {
    "duration": 12,
    "start_time": "2023-02-16T03:11:25.882Z"
   },
   {
    "duration": 10,
    "start_time": "2023-02-16T03:11:34.844Z"
   },
   {
    "duration": 9,
    "start_time": "2023-02-16T03:12:28.215Z"
   },
   {
    "duration": 10,
    "start_time": "2023-02-16T03:13:20.380Z"
   },
   {
    "duration": 10,
    "start_time": "2023-02-16T03:16:33.459Z"
   },
   {
    "duration": 9,
    "start_time": "2023-02-16T03:16:45.063Z"
   },
   {
    "duration": 13,
    "start_time": "2023-02-16T03:21:40.923Z"
   },
   {
    "duration": 11,
    "start_time": "2023-02-16T03:21:49.742Z"
   },
   {
    "duration": 14,
    "start_time": "2023-02-16T03:22:00.223Z"
   },
   {
    "duration": 21,
    "start_time": "2023-02-16T03:23:24.211Z"
   },
   {
    "duration": 54,
    "start_time": "2023-02-16T03:24:17.960Z"
   },
   {
    "duration": 28,
    "start_time": "2023-02-16T03:24:27.555Z"
   },
   {
    "duration": 26,
    "start_time": "2023-02-16T03:24:51.820Z"
   },
   {
    "duration": 25,
    "start_time": "2023-02-16T03:26:23.088Z"
   },
   {
    "duration": 10,
    "start_time": "2023-02-16T03:27:18.115Z"
   },
   {
    "duration": 26,
    "start_time": "2023-02-16T03:28:02.495Z"
   },
   {
    "duration": 27,
    "start_time": "2023-02-16T03:28:45.839Z"
   },
   {
    "duration": 23,
    "start_time": "2023-02-16T03:30:32.696Z"
   },
   {
    "duration": 22,
    "start_time": "2023-02-16T03:31:38.433Z"
   },
   {
    "duration": 23,
    "start_time": "2023-02-16T03:32:10.853Z"
   },
   {
    "duration": 21,
    "start_time": "2023-02-16T03:32:40.620Z"
   },
   {
    "duration": 714,
    "start_time": "2023-02-16T04:14:54.397Z"
   },
   {
    "duration": 9,
    "start_time": "2023-02-16T04:15:17.134Z"
   },
   {
    "duration": 54,
    "start_time": "2023-02-16T04:15:28.808Z"
   },
   {
    "duration": 580,
    "start_time": "2023-02-16T04:15:47.409Z"
   },
   {
    "duration": 18,
    "start_time": "2023-02-16T04:15:47.992Z"
   },
   {
    "duration": 2317,
    "start_time": "2023-02-16T04:15:48.012Z"
   },
   {
    "duration": 10,
    "start_time": "2023-02-16T04:15:50.330Z"
   },
   {
    "duration": 6,
    "start_time": "2023-02-16T04:15:50.342Z"
   },
   {
    "duration": 9,
    "start_time": "2023-02-16T04:15:50.350Z"
   },
   {
    "duration": 10,
    "start_time": "2023-02-16T04:15:50.361Z"
   },
   {
    "duration": 9,
    "start_time": "2023-02-16T04:15:50.373Z"
   },
   {
    "duration": 18,
    "start_time": "2023-02-16T04:15:50.384Z"
   },
   {
    "duration": 46,
    "start_time": "2023-02-16T04:15:50.403Z"
   },
   {
    "duration": 14,
    "start_time": "2023-02-16T04:15:50.451Z"
   },
   {
    "duration": 23,
    "start_time": "2023-02-16T04:15:50.467Z"
   },
   {
    "duration": 9,
    "start_time": "2023-02-16T04:15:50.492Z"
   },
   {
    "duration": 44,
    "start_time": "2023-02-16T04:15:50.504Z"
   },
   {
    "duration": 627,
    "start_time": "2023-02-16T04:15:50.550Z"
   },
   {
    "duration": 9,
    "start_time": "2023-02-16T04:15:51.179Z"
   },
   {
    "duration": 53,
    "start_time": "2023-02-16T04:15:51.190Z"
   },
   {
    "duration": 88,
    "start_time": "2023-02-16T04:15:51.245Z"
   },
   {
    "duration": 89,
    "start_time": "2023-02-16T04:15:51.335Z"
   },
   {
    "duration": 390,
    "start_time": "2023-02-16T04:15:51.426Z"
   },
   {
    "duration": 134,
    "start_time": "2023-02-16T04:15:51.818Z"
   },
   {
    "duration": 164,
    "start_time": "2023-02-16T04:15:51.954Z"
   },
   {
    "duration": 151,
    "start_time": "2023-02-16T04:15:52.119Z"
   },
   {
    "duration": 24,
    "start_time": "2023-02-16T04:15:52.272Z"
   },
   {
    "duration": 145,
    "start_time": "2023-02-16T04:15:52.298Z"
   },
   {
    "duration": 80,
    "start_time": "2023-02-16T04:16:40.005Z"
   },
   {
    "duration": 12,
    "start_time": "2023-02-16T04:16:53.019Z"
   },
   {
    "duration": 19,
    "start_time": "2023-02-16T04:20:32.519Z"
   },
   {
    "duration": 151,
    "start_time": "2023-02-16T04:21:08.152Z"
   },
   {
    "duration": 173,
    "start_time": "2023-02-16T04:21:57.147Z"
   },
   {
    "duration": 185,
    "start_time": "2023-02-16T04:22:06.949Z"
   },
   {
    "duration": 180,
    "start_time": "2023-02-16T04:22:11.509Z"
   },
   {
    "duration": 181,
    "start_time": "2023-02-16T04:22:39.370Z"
   },
   {
    "duration": 20,
    "start_time": "2023-02-16T04:24:13.915Z"
   },
   {
    "duration": 3519,
    "start_time": "2023-02-16T04:27:07.448Z"
   },
   {
    "duration": 183,
    "start_time": "2023-02-16T04:27:22.417Z"
   },
   {
    "duration": 174,
    "start_time": "2023-02-16T04:29:05.387Z"
   },
   {
    "duration": 189,
    "start_time": "2023-02-16T04:29:25.325Z"
   },
   {
    "duration": 203,
    "start_time": "2023-02-16T04:29:40.939Z"
   },
   {
    "duration": 185,
    "start_time": "2023-02-16T04:29:45.523Z"
   },
   {
    "duration": 190,
    "start_time": "2023-02-16T04:29:57.542Z"
   },
   {
    "duration": 178,
    "start_time": "2023-02-16T04:31:28.255Z"
   },
   {
    "duration": 180,
    "start_time": "2023-02-16T04:32:32.819Z"
   },
   {
    "duration": 273,
    "start_time": "2023-02-16T04:32:43.392Z"
   },
   {
    "duration": 3798,
    "start_time": "2023-02-16T04:40:15.103Z"
   },
   {
    "duration": 922,
    "start_time": "2023-02-16T04:40:57.139Z"
   },
   {
    "duration": 171,
    "start_time": "2023-02-16T04:41:12.615Z"
   },
   {
    "duration": 191,
    "start_time": "2023-02-16T04:41:20.215Z"
   },
   {
    "duration": 254,
    "start_time": "2023-02-16T04:42:17.735Z"
   },
   {
    "duration": 231,
    "start_time": "2023-02-16T04:45:01.900Z"
   },
   {
    "duration": 192,
    "start_time": "2023-02-16T04:45:29.932Z"
   },
   {
    "duration": 561,
    "start_time": "2023-02-16T04:49:39.510Z"
   },
   {
    "duration": 15,
    "start_time": "2023-02-16T04:49:40.073Z"
   },
   {
    "duration": 2211,
    "start_time": "2023-02-16T04:49:40.090Z"
   },
   {
    "duration": 11,
    "start_time": "2023-02-16T04:49:42.303Z"
   },
   {
    "duration": 7,
    "start_time": "2023-02-16T04:49:42.315Z"
   },
   {
    "duration": 17,
    "start_time": "2023-02-16T04:49:42.323Z"
   },
   {
    "duration": 11,
    "start_time": "2023-02-16T04:49:42.341Z"
   },
   {
    "duration": 9,
    "start_time": "2023-02-16T04:49:42.353Z"
   },
   {
    "duration": 14,
    "start_time": "2023-02-16T04:49:42.363Z"
   },
   {
    "duration": 22,
    "start_time": "2023-02-16T04:49:42.380Z"
   },
   {
    "duration": 42,
    "start_time": "2023-02-16T04:49:42.404Z"
   },
   {
    "duration": 22,
    "start_time": "2023-02-16T04:49:42.447Z"
   },
   {
    "duration": 8,
    "start_time": "2023-02-16T04:49:42.471Z"
   },
   {
    "duration": 8,
    "start_time": "2023-02-16T04:49:42.480Z"
   },
   {
    "duration": 596,
    "start_time": "2023-02-16T04:49:42.489Z"
   },
   {
    "duration": 8,
    "start_time": "2023-02-16T04:49:43.087Z"
   },
   {
    "duration": 23,
    "start_time": "2023-02-16T04:49:43.097Z"
   },
   {
    "duration": 87,
    "start_time": "2023-02-16T04:49:43.122Z"
   },
   {
    "duration": 104,
    "start_time": "2023-02-16T04:49:43.211Z"
   },
   {
    "duration": 365,
    "start_time": "2023-02-16T04:49:43.317Z"
   },
   {
    "duration": 124,
    "start_time": "2023-02-16T04:49:43.684Z"
   },
   {
    "duration": 172,
    "start_time": "2023-02-16T04:49:43.810Z"
   },
   {
    "duration": 147,
    "start_time": "2023-02-16T04:49:43.983Z"
   },
   {
    "duration": 29,
    "start_time": "2023-02-16T04:49:44.132Z"
   },
   {
    "duration": 295,
    "start_time": "2023-02-16T04:49:44.163Z"
   },
   {
    "duration": 27,
    "start_time": "2023-02-16T04:50:48.663Z"
   },
   {
    "duration": 21,
    "start_time": "2023-02-16T04:51:37.379Z"
   },
   {
    "duration": 172,
    "start_time": "2023-02-16T04:52:28.325Z"
   },
   {
    "duration": 262,
    "start_time": "2023-02-16T04:56:44.582Z"
   },
   {
    "duration": 178,
    "start_time": "2023-02-16T04:57:30.962Z"
   },
   {
    "duration": 182,
    "start_time": "2023-02-16T04:57:54.904Z"
   },
   {
    "duration": 202,
    "start_time": "2023-02-16T04:58:13.397Z"
   },
   {
    "duration": 178,
    "start_time": "2023-02-16T04:58:40.285Z"
   },
   {
    "duration": 167,
    "start_time": "2023-02-16T04:58:54.201Z"
   },
   {
    "duration": 173,
    "start_time": "2023-02-16T04:59:01.869Z"
   },
   {
    "duration": 219,
    "start_time": "2023-02-16T05:03:06.064Z"
   },
   {
    "duration": 187,
    "start_time": "2023-02-16T05:03:21.445Z"
   },
   {
    "duration": 27,
    "start_time": "2023-02-16T05:03:57.089Z"
   },
   {
    "duration": 381,
    "start_time": "2023-02-16T05:04:27.532Z"
   },
   {
    "duration": 47,
    "start_time": "2023-02-16T05:07:09.397Z"
   },
   {
    "duration": 301,
    "start_time": "2023-02-16T05:07:20.182Z"
   },
   {
    "duration": 178,
    "start_time": "2023-02-16T05:10:04.970Z"
   },
   {
    "duration": 561,
    "start_time": "2023-02-16T05:10:15.645Z"
   },
   {
    "duration": 15,
    "start_time": "2023-02-16T05:10:16.208Z"
   },
   {
    "duration": 2284,
    "start_time": "2023-02-16T05:10:16.225Z"
   },
   {
    "duration": 10,
    "start_time": "2023-02-16T05:10:18.511Z"
   },
   {
    "duration": 6,
    "start_time": "2023-02-16T05:10:18.522Z"
   },
   {
    "duration": 15,
    "start_time": "2023-02-16T05:10:18.530Z"
   },
   {
    "duration": 22,
    "start_time": "2023-02-16T05:10:18.547Z"
   },
   {
    "duration": 39,
    "start_time": "2023-02-16T05:10:18.571Z"
   },
   {
    "duration": 16,
    "start_time": "2023-02-16T05:10:18.612Z"
   },
   {
    "duration": 24,
    "start_time": "2023-02-16T05:10:18.630Z"
   },
   {
    "duration": 13,
    "start_time": "2023-02-16T05:10:18.656Z"
   },
   {
    "duration": 23,
    "start_time": "2023-02-16T05:10:18.672Z"
   },
   {
    "duration": 11,
    "start_time": "2023-02-16T05:10:18.697Z"
   },
   {
    "duration": 37,
    "start_time": "2023-02-16T05:10:18.710Z"
   },
   {
    "duration": 650,
    "start_time": "2023-02-16T05:10:18.749Z"
   },
   {
    "duration": 9,
    "start_time": "2023-02-16T05:10:19.401Z"
   },
   {
    "duration": 33,
    "start_time": "2023-02-16T05:10:19.412Z"
   },
   {
    "duration": 68,
    "start_time": "2023-02-16T05:10:19.447Z"
   },
   {
    "duration": 101,
    "start_time": "2023-02-16T05:10:19.517Z"
   },
   {
    "duration": 358,
    "start_time": "2023-02-16T05:10:19.620Z"
   },
   {
    "duration": 125,
    "start_time": "2023-02-16T05:10:19.980Z"
   },
   {
    "duration": 169,
    "start_time": "2023-02-16T05:10:20.107Z"
   },
   {
    "duration": 146,
    "start_time": "2023-02-16T05:10:20.278Z"
   },
   {
    "duration": 33,
    "start_time": "2023-02-16T05:10:20.426Z"
   },
   {
    "duration": 297,
    "start_time": "2023-02-16T05:10:20.461Z"
   },
   {
    "duration": 180,
    "start_time": "2023-02-16T05:11:12.306Z"
   },
   {
    "duration": 195,
    "start_time": "2023-02-16T05:11:24.785Z"
   },
   {
    "duration": 48,
    "start_time": "2023-02-16T05:12:32.199Z"
   },
   {
    "duration": 92,
    "start_time": "2023-02-16T05:12:37.826Z"
   },
   {
    "duration": 366,
    "start_time": "2023-02-16T05:12:43.856Z"
   },
   {
    "duration": 27,
    "start_time": "2023-02-16T05:16:36.800Z"
   },
   {
    "duration": 293,
    "start_time": "2023-02-16T05:17:56.520Z"
   },
   {
    "duration": 49,
    "start_time": "2023-02-16T05:18:14.085Z"
   },
   {
    "duration": 309,
    "start_time": "2023-02-16T05:18:19.268Z"
   },
   {
    "duration": 19,
    "start_time": "2023-02-16T05:25:03.760Z"
   },
   {
    "duration": 159,
    "start_time": "2023-02-16T05:25:37.002Z"
   },
   {
    "duration": 164,
    "start_time": "2023-02-16T05:27:23.225Z"
   },
   {
    "duration": 166,
    "start_time": "2023-02-16T05:32:34.145Z"
   },
   {
    "duration": 193,
    "start_time": "2023-02-16T05:33:37.950Z"
   },
   {
    "duration": 179,
    "start_time": "2023-02-16T05:34:29.849Z"
   },
   {
    "duration": 256,
    "start_time": "2023-02-16T05:35:09.144Z"
   },
   {
    "duration": 172,
    "start_time": "2023-02-16T05:37:31.538Z"
   },
   {
    "duration": 178,
    "start_time": "2023-02-16T05:37:46.908Z"
   },
   {
    "duration": 177,
    "start_time": "2023-02-16T05:38:42.618Z"
   },
   {
    "duration": 189,
    "start_time": "2023-02-16T05:43:08.518Z"
   },
   {
    "duration": 188,
    "start_time": "2023-02-16T05:48:26.708Z"
   },
   {
    "duration": 177,
    "start_time": "2023-02-16T05:51:10.380Z"
   },
   {
    "duration": 160,
    "start_time": "2023-02-16T05:51:44.052Z"
   },
   {
    "duration": 161,
    "start_time": "2023-02-16T05:52:20.059Z"
   },
   {
    "duration": 128,
    "start_time": "2023-02-16T05:52:30.205Z"
   },
   {
    "duration": 129,
    "start_time": "2023-02-16T05:53:17.211Z"
   },
   {
    "duration": 237,
    "start_time": "2023-02-16T05:53:33.641Z"
   },
   {
    "duration": 175,
    "start_time": "2023-02-16T05:53:41.724Z"
   },
   {
    "duration": 178,
    "start_time": "2023-02-16T05:53:51.069Z"
   },
   {
    "duration": 166,
    "start_time": "2023-02-16T05:53:58.222Z"
   },
   {
    "duration": 568,
    "start_time": "2023-02-16T05:54:26.125Z"
   },
   {
    "duration": 16,
    "start_time": "2023-02-16T05:54:26.695Z"
   },
   {
    "duration": 2396,
    "start_time": "2023-02-16T05:54:26.713Z"
   },
   {
    "duration": 10,
    "start_time": "2023-02-16T05:54:29.111Z"
   },
   {
    "duration": 15,
    "start_time": "2023-02-16T05:54:29.123Z"
   },
   {
    "duration": 6,
    "start_time": "2023-02-16T05:54:29.140Z"
   },
   {
    "duration": 21,
    "start_time": "2023-02-16T05:54:29.147Z"
   },
   {
    "duration": 9,
    "start_time": "2023-02-16T05:54:29.170Z"
   },
   {
    "duration": 20,
    "start_time": "2023-02-16T05:54:29.181Z"
   },
   {
    "duration": 42,
    "start_time": "2023-02-16T05:54:29.203Z"
   },
   {
    "duration": 15,
    "start_time": "2023-02-16T05:54:29.246Z"
   },
   {
    "duration": 23,
    "start_time": "2023-02-16T05:54:29.263Z"
   },
   {
    "duration": 17,
    "start_time": "2023-02-16T05:54:29.288Z"
   },
   {
    "duration": 30,
    "start_time": "2023-02-16T05:54:29.309Z"
   },
   {
    "duration": 678,
    "start_time": "2023-02-16T05:54:29.341Z"
   },
   {
    "duration": 9,
    "start_time": "2023-02-16T05:54:30.021Z"
   },
   {
    "duration": 40,
    "start_time": "2023-02-16T05:54:30.039Z"
   },
   {
    "duration": 75,
    "start_time": "2023-02-16T05:54:30.080Z"
   },
   {
    "duration": 96,
    "start_time": "2023-02-16T05:54:30.156Z"
   },
   {
    "duration": 368,
    "start_time": "2023-02-16T05:54:30.254Z"
   },
   {
    "duration": 125,
    "start_time": "2023-02-16T05:54:30.624Z"
   },
   {
    "duration": 174,
    "start_time": "2023-02-16T05:54:30.750Z"
   },
   {
    "duration": 163,
    "start_time": "2023-02-16T05:54:30.926Z"
   },
   {
    "duration": 321,
    "start_time": "2023-02-16T05:54:31.091Z"
   },
   {
    "duration": 187,
    "start_time": "2023-02-16T05:54:31.414Z"
   },
   {
    "duration": 204,
    "start_time": "2023-02-16T05:54:31.603Z"
   },
   {
    "duration": 184,
    "start_time": "2023-02-16T05:54:31.809Z"
   },
   {
    "duration": 140,
    "start_time": "2023-02-16T05:54:31.994Z"
   },
   {
    "duration": 24,
    "start_time": "2023-02-16T05:54:32.140Z"
   },
   {
    "duration": 325,
    "start_time": "2023-02-16T05:54:32.166Z"
   },
   {
    "duration": 88,
    "start_time": "2023-02-16T05:55:20.282Z"
   },
   {
    "duration": 146,
    "start_time": "2023-02-16T05:55:37.569Z"
   },
   {
    "duration": 27,
    "start_time": "2023-02-16T06:03:04.100Z"
   },
   {
    "duration": 204,
    "start_time": "2023-02-16T06:03:55.065Z"
   },
   {
    "duration": 195,
    "start_time": "2023-02-16T06:04:26.359Z"
   },
   {
    "duration": 186,
    "start_time": "2023-02-16T06:05:25.352Z"
   },
   {
    "duration": 187,
    "start_time": "2023-02-16T06:11:01.258Z"
   },
   {
    "duration": 16,
    "start_time": "2023-02-16T06:12:07.547Z"
   },
   {
    "duration": 80,
    "start_time": "2023-02-16T06:12:57.930Z"
   },
   {
    "duration": 256,
    "start_time": "2023-02-16T06:14:17.629Z"
   },
   {
    "duration": 188,
    "start_time": "2023-02-16T06:17:19.297Z"
   },
   {
    "duration": 222,
    "start_time": "2023-02-16T06:17:49.122Z"
   },
   {
    "duration": 185,
    "start_time": "2023-02-16T06:18:54.656Z"
   },
   {
    "duration": 192,
    "start_time": "2023-02-16T06:19:02.253Z"
   },
   {
    "duration": 193,
    "start_time": "2023-02-16T06:19:57.256Z"
   },
   {
    "duration": 307,
    "start_time": "2023-02-16T07:05:14.635Z"
   },
   {
    "duration": 481,
    "start_time": "2023-02-16T07:05:35.822Z"
   },
   {
    "duration": 20,
    "start_time": "2023-02-16T07:08:16.776Z"
   },
   {
    "duration": 21,
    "start_time": "2023-02-16T07:08:46.238Z"
   },
   {
    "duration": 17,
    "start_time": "2023-02-16T07:08:50.283Z"
   },
   {
    "duration": 17,
    "start_time": "2023-02-16T07:09:09.129Z"
   },
   {
    "duration": 18,
    "start_time": "2023-02-16T07:09:23.506Z"
   },
   {
    "duration": 1398,
    "start_time": "2023-02-16T07:09:46.759Z"
   },
   {
    "duration": 1597,
    "start_time": "2023-02-16T07:11:10.587Z"
   },
   {
    "duration": 1845,
    "start_time": "2023-02-16T07:11:34.487Z"
   },
   {
    "duration": 10,
    "start_time": "2023-02-16T07:15:24.354Z"
   },
   {
    "duration": 10,
    "start_time": "2023-02-16T07:15:39.107Z"
   },
   {
    "duration": 131,
    "start_time": "2023-02-16T07:31:52.890Z"
   },
   {
    "duration": 134,
    "start_time": "2023-02-16T07:32:05.000Z"
   },
   {
    "duration": 356,
    "start_time": "2023-02-16T07:32:26.597Z"
   },
   {
    "duration": 139,
    "start_time": "2023-02-16T07:32:41.262Z"
   },
   {
    "duration": 160,
    "start_time": "2023-02-16T07:33:32.060Z"
   },
   {
    "duration": 183,
    "start_time": "2023-02-16T07:33:59.826Z"
   },
   {
    "duration": 202,
    "start_time": "2023-02-16T07:34:11.356Z"
   },
   {
    "duration": 218,
    "start_time": "2023-02-16T07:35:19.382Z"
   },
   {
    "duration": 211,
    "start_time": "2023-02-16T07:37:27.858Z"
   },
   {
    "duration": 210,
    "start_time": "2023-02-16T07:38:43.785Z"
   },
   {
    "duration": 222,
    "start_time": "2023-02-16T07:38:57.095Z"
   },
   {
    "duration": 176,
    "start_time": "2023-02-16T07:44:17.980Z"
   },
   {
    "duration": 191,
    "start_time": "2023-02-16T07:44:29.458Z"
   },
   {
    "duration": 311,
    "start_time": "2023-02-16T07:45:12.180Z"
   },
   {
    "duration": 210,
    "start_time": "2023-02-16T07:45:48.962Z"
   },
   {
    "duration": 221,
    "start_time": "2023-02-16T07:46:38.011Z"
   },
   {
    "duration": 220,
    "start_time": "2023-02-16T07:47:17.897Z"
   },
   {
    "duration": 148,
    "start_time": "2023-02-16T07:47:40.433Z"
   },
   {
    "duration": 179,
    "start_time": "2023-02-16T07:47:56.125Z"
   },
   {
    "duration": 188,
    "start_time": "2023-02-16T07:48:45.220Z"
   },
   {
    "duration": 289,
    "start_time": "2023-02-16T07:50:05.892Z"
   },
   {
    "duration": 237,
    "start_time": "2023-02-16T07:53:51.831Z"
   },
   {
    "duration": 206,
    "start_time": "2023-02-16T07:54:20.380Z"
   },
   {
    "duration": 306,
    "start_time": "2023-02-16T07:54:26.004Z"
   },
   {
    "duration": 356,
    "start_time": "2023-02-16T07:56:25.307Z"
   },
   {
    "duration": 13950,
    "start_time": "2023-02-16T07:59:51.048Z"
   },
   {
    "duration": 215,
    "start_time": "2023-02-16T08:00:50.862Z"
   },
   {
    "duration": 285,
    "start_time": "2023-02-16T08:01:04.785Z"
   },
   {
    "duration": 193,
    "start_time": "2023-02-16T08:02:16.567Z"
   },
   {
    "duration": 204,
    "start_time": "2023-02-16T08:02:25.816Z"
   },
   {
    "duration": 335,
    "start_time": "2023-02-16T08:02:36.295Z"
   },
   {
    "duration": 205,
    "start_time": "2023-02-16T08:02:50.770Z"
   },
   {
    "duration": 238,
    "start_time": "2023-02-16T08:03:00.354Z"
   },
   {
    "duration": 417,
    "start_time": "2023-02-16T08:03:37.770Z"
   },
   {
    "duration": 259,
    "start_time": "2023-02-16T08:05:26.120Z"
   },
   {
    "duration": 271,
    "start_time": "2023-02-16T08:09:36.638Z"
   },
   {
    "duration": 275,
    "start_time": "2023-02-16T08:09:49.759Z"
   },
   {
    "duration": 270,
    "start_time": "2023-02-16T08:10:57.653Z"
   },
   {
    "duration": 37072,
    "start_time": "2023-02-16T08:15:49.310Z"
   },
   {
    "duration": 282,
    "start_time": "2023-02-16T08:16:39.199Z"
   },
   {
    "duration": 215,
    "start_time": "2023-02-16T08:17:32.854Z"
   },
   {
    "duration": 204,
    "start_time": "2023-02-16T08:18:09.381Z"
   },
   {
    "duration": 233,
    "start_time": "2023-02-16T08:18:18.324Z"
   },
   {
    "duration": 256,
    "start_time": "2023-02-16T08:18:23.471Z"
   },
   {
    "duration": 201,
    "start_time": "2023-02-16T08:18:48.477Z"
   },
   {
    "duration": 259,
    "start_time": "2023-02-16T08:19:01.753Z"
   },
   {
    "duration": 167,
    "start_time": "2023-02-16T08:24:58.117Z"
   },
   {
    "duration": 160,
    "start_time": "2023-02-16T08:25:19.371Z"
   },
   {
    "duration": 231,
    "start_time": "2023-02-16T08:27:08.028Z"
   },
   {
    "duration": 281,
    "start_time": "2023-02-16T08:27:58.997Z"
   },
   {
    "duration": 241,
    "start_time": "2023-02-16T08:28:20.282Z"
   },
   {
    "duration": 348,
    "start_time": "2023-02-16T08:37:04.223Z"
   },
   {
    "duration": 333,
    "start_time": "2023-02-16T08:37:20.940Z"
   },
   {
    "duration": 33,
    "start_time": "2023-02-16T08:40:45.719Z"
   },
   {
    "duration": 128,
    "start_time": "2023-02-16T08:43:01.159Z"
   },
   {
    "duration": 149,
    "start_time": "2023-02-16T08:43:34.491Z"
   },
   {
    "duration": 375,
    "start_time": "2023-02-16T08:46:40.518Z"
   },
   {
    "duration": 986,
    "start_time": "2023-02-16T08:49:57.821Z"
   },
   {
    "duration": 365,
    "start_time": "2023-02-16T08:50:12.730Z"
   },
   {
    "duration": 317,
    "start_time": "2023-02-16T08:50:23.773Z"
   },
   {
    "duration": 273,
    "start_time": "2023-02-16T08:55:47.832Z"
   },
   {
    "duration": 231,
    "start_time": "2023-02-16T08:57:51.193Z"
   },
   {
    "duration": 197,
    "start_time": "2023-02-16T08:59:39.995Z"
   },
   {
    "duration": 202,
    "start_time": "2023-02-16T09:04:34.796Z"
   },
   {
    "duration": 215,
    "start_time": "2023-02-16T09:04:56.071Z"
   },
   {
    "duration": 194,
    "start_time": "2023-02-16T09:05:23.951Z"
   },
   {
    "duration": 237,
    "start_time": "2023-02-16T09:05:35.399Z"
   },
   {
    "duration": 217,
    "start_time": "2023-02-16T09:06:16.984Z"
   },
   {
    "duration": 201,
    "start_time": "2023-02-16T09:06:40.234Z"
   },
   {
    "duration": 573,
    "start_time": "2023-02-16T09:39:02.706Z"
   },
   {
    "duration": 16,
    "start_time": "2023-02-16T09:39:03.281Z"
   },
   {
    "duration": 2426,
    "start_time": "2023-02-16T09:39:03.299Z"
   },
   {
    "duration": 12,
    "start_time": "2023-02-16T09:39:05.728Z"
   },
   {
    "duration": 8,
    "start_time": "2023-02-16T09:39:05.741Z"
   },
   {
    "duration": 6,
    "start_time": "2023-02-16T09:39:05.751Z"
   },
   {
    "duration": 12,
    "start_time": "2023-02-16T09:39:05.759Z"
   },
   {
    "duration": 9,
    "start_time": "2023-02-16T09:39:05.773Z"
   },
   {
    "duration": 16,
    "start_time": "2023-02-16T09:39:05.784Z"
   },
   {
    "duration": 24,
    "start_time": "2023-02-16T09:39:05.839Z"
   },
   {
    "duration": 15,
    "start_time": "2023-02-16T09:39:05.864Z"
   },
   {
    "duration": 26,
    "start_time": "2023-02-16T09:39:05.882Z"
   },
   {
    "duration": 37,
    "start_time": "2023-02-16T09:39:05.910Z"
   },
   {
    "duration": 14,
    "start_time": "2023-02-16T09:39:05.949Z"
   },
   {
    "duration": 638,
    "start_time": "2023-02-16T09:39:05.965Z"
   },
   {
    "duration": 9,
    "start_time": "2023-02-16T09:39:06.605Z"
   },
   {
    "duration": 32,
    "start_time": "2023-02-16T09:39:06.616Z"
   },
   {
    "duration": 72,
    "start_time": "2023-02-16T09:39:06.650Z"
   },
   {
    "duration": 102,
    "start_time": "2023-02-16T09:39:06.724Z"
   },
   {
    "duration": 391,
    "start_time": "2023-02-16T09:39:06.828Z"
   },
   {
    "duration": 176,
    "start_time": "2023-02-16T09:39:07.221Z"
   },
   {
    "duration": 259,
    "start_time": "2023-02-16T09:39:07.400Z"
   },
   {
    "duration": 263,
    "start_time": "2023-02-16T09:39:07.661Z"
   },
   {
    "duration": 360,
    "start_time": "2023-02-16T09:39:07.926Z"
   },
   {
    "duration": 245,
    "start_time": "2023-02-16T09:39:08.288Z"
   },
   {
    "duration": 236,
    "start_time": "2023-02-16T09:39:08.539Z"
   },
   {
    "duration": 292,
    "start_time": "2023-02-16T09:39:08.776Z"
   },
   {
    "duration": 172,
    "start_time": "2023-02-16T09:39:09.072Z"
   },
   {
    "duration": 400,
    "start_time": "2023-02-16T09:39:09.247Z"
   },
   {
    "duration": 310,
    "start_time": "2023-02-16T09:39:09.648Z"
   },
   {
    "duration": 242,
    "start_time": "2023-02-16T09:39:09.959Z"
   },
   {
    "duration": 323,
    "start_time": "2023-02-16T09:39:10.203Z"
   },
   {
    "duration": 181,
    "start_time": "2023-02-16T09:39:10.528Z"
   },
   {
    "duration": 204,
    "start_time": "2023-02-16T09:39:10.712Z"
   },
   {
    "duration": 167,
    "start_time": "2023-02-16T09:39:10.918Z"
   },
   {
    "duration": 148,
    "start_time": "2023-02-16T09:39:11.087Z"
   },
   {
    "duration": 196,
    "start_time": "2023-02-16T09:39:11.239Z"
   },
   {
    "duration": 180,
    "start_time": "2023-02-16T09:39:11.440Z"
   },
   {
    "duration": 204,
    "start_time": "2023-02-16T09:39:11.621Z"
   },
   {
    "duration": 179,
    "start_time": "2023-02-16T09:39:11.839Z"
   },
   {
    "duration": 146,
    "start_time": "2023-02-16T09:39:12.020Z"
   },
   {
    "duration": 216,
    "start_time": "2023-02-16T09:39:12.168Z"
   },
   {
    "duration": 276,
    "start_time": "2023-02-16T09:39:12.386Z"
   },
   {
    "duration": 205,
    "start_time": "2023-02-16T09:39:12.664Z"
   },
   {
    "duration": 33,
    "start_time": "2023-02-16T09:39:12.871Z"
   },
   {
    "duration": 305,
    "start_time": "2023-02-16T09:39:12.906Z"
   },
   {
    "duration": 537,
    "start_time": "2023-02-16T09:40:21.092Z"
   },
   {
    "duration": 22,
    "start_time": "2023-02-16T09:40:21.631Z"
   },
   {
    "duration": 2442,
    "start_time": "2023-02-16T09:40:21.655Z"
   },
   {
    "duration": 12,
    "start_time": "2023-02-16T09:40:24.099Z"
   },
   {
    "duration": 6,
    "start_time": "2023-02-16T09:40:24.113Z"
   },
   {
    "duration": 9,
    "start_time": "2023-02-16T09:40:24.121Z"
   },
   {
    "duration": 12,
    "start_time": "2023-02-16T09:40:24.132Z"
   },
   {
    "duration": 10,
    "start_time": "2023-02-16T09:40:24.146Z"
   },
   {
    "duration": 18,
    "start_time": "2023-02-16T09:40:24.158Z"
   },
   {
    "duration": 38,
    "start_time": "2023-02-16T09:40:24.180Z"
   },
   {
    "duration": 37,
    "start_time": "2023-02-16T09:40:24.220Z"
   },
   {
    "duration": 39,
    "start_time": "2023-02-16T09:40:24.259Z"
   },
   {
    "duration": 12,
    "start_time": "2023-02-16T09:40:24.300Z"
   },
   {
    "duration": 26,
    "start_time": "2023-02-16T09:40:24.314Z"
   },
   {
    "duration": 645,
    "start_time": "2023-02-16T09:40:24.342Z"
   },
   {
    "duration": 8,
    "start_time": "2023-02-16T09:40:24.989Z"
   },
   {
    "duration": 26,
    "start_time": "2023-02-16T09:40:24.999Z"
   },
   {
    "duration": 82,
    "start_time": "2023-02-16T09:40:25.027Z"
   },
   {
    "duration": 116,
    "start_time": "2023-02-16T09:40:25.110Z"
   },
   {
    "duration": 503,
    "start_time": "2023-02-16T09:40:25.227Z"
   },
   {
    "duration": 210,
    "start_time": "2023-02-16T09:40:25.732Z"
   },
   {
    "duration": 340,
    "start_time": "2023-02-16T09:40:25.945Z"
   },
   {
    "duration": 275,
    "start_time": "2023-02-16T09:40:26.287Z"
   },
   {
    "duration": 396,
    "start_time": "2023-02-16T09:40:26.564Z"
   },
   {
    "duration": 371,
    "start_time": "2023-02-16T09:40:26.962Z"
   },
   {
    "duration": 238,
    "start_time": "2023-02-16T09:40:27.340Z"
   },
   {
    "duration": 306,
    "start_time": "2023-02-16T09:40:27.580Z"
   },
   {
    "duration": 150,
    "start_time": "2023-02-16T09:40:27.890Z"
   },
   {
    "duration": 378,
    "start_time": "2023-02-16T09:40:28.042Z"
   },
   {
    "duration": 320,
    "start_time": "2023-02-16T09:40:28.422Z"
   },
   {
    "duration": 240,
    "start_time": "2023-02-16T09:40:28.744Z"
   },
   {
    "duration": 384,
    "start_time": "2023-02-16T09:40:28.986Z"
   },
   {
    "duration": 180,
    "start_time": "2023-02-16T09:40:29.372Z"
   },
   {
    "duration": 199,
    "start_time": "2023-02-16T09:40:29.554Z"
   },
   {
    "duration": 185,
    "start_time": "2023-02-16T09:40:29.755Z"
   },
   {
    "duration": 181,
    "start_time": "2023-02-16T09:40:29.942Z"
   },
   {
    "duration": 180,
    "start_time": "2023-02-16T09:40:30.125Z"
   },
   {
    "duration": 184,
    "start_time": "2023-02-16T09:40:30.307Z"
   },
   {
    "duration": 193,
    "start_time": "2023-02-16T09:40:30.492Z"
   },
   {
    "duration": 181,
    "start_time": "2023-02-16T09:40:30.687Z"
   },
   {
    "duration": 147,
    "start_time": "2023-02-16T09:40:30.869Z"
   },
   {
    "duration": 215,
    "start_time": "2023-02-16T09:40:31.018Z"
   },
   {
    "duration": 276,
    "start_time": "2023-02-16T09:40:31.234Z"
   },
   {
    "duration": 204,
    "start_time": "2023-02-16T09:40:31.512Z"
   },
   {
    "duration": 37,
    "start_time": "2023-02-16T09:40:31.718Z"
   },
   {
    "duration": 322,
    "start_time": "2023-02-16T09:40:31.757Z"
   },
   {
    "duration": 485,
    "start_time": "2023-02-16T10:01:13.806Z"
   },
   {
    "duration": 15,
    "start_time": "2023-02-16T10:01:14.293Z"
   },
   {
    "duration": 2299,
    "start_time": "2023-02-16T10:01:14.310Z"
   },
   {
    "duration": 10,
    "start_time": "2023-02-16T10:01:16.611Z"
   },
   {
    "duration": 21,
    "start_time": "2023-02-16T10:01:16.623Z"
   },
   {
    "duration": 37,
    "start_time": "2023-02-16T10:01:16.646Z"
   },
   {
    "duration": 38,
    "start_time": "2023-02-16T10:01:16.685Z"
   },
   {
    "duration": 10,
    "start_time": "2023-02-16T10:01:16.725Z"
   },
   {
    "duration": 36,
    "start_time": "2023-02-16T10:01:16.737Z"
   },
   {
    "duration": 21,
    "start_time": "2023-02-16T10:01:16.776Z"
   },
   {
    "duration": 19,
    "start_time": "2023-02-16T10:01:16.799Z"
   },
   {
    "duration": 31,
    "start_time": "2023-02-16T10:01:16.819Z"
   },
   {
    "duration": 9,
    "start_time": "2023-02-16T10:01:16.852Z"
   },
   {
    "duration": 22,
    "start_time": "2023-02-16T10:01:16.863Z"
   },
   {
    "duration": 617,
    "start_time": "2023-02-16T10:01:16.887Z"
   },
   {
    "duration": 8,
    "start_time": "2023-02-16T10:01:17.506Z"
   },
   {
    "duration": 42,
    "start_time": "2023-02-16T10:01:17.515Z"
   },
   {
    "duration": 76,
    "start_time": "2023-02-16T10:01:17.559Z"
   },
   {
    "duration": 93,
    "start_time": "2023-02-16T10:01:17.636Z"
   },
   {
    "duration": 355,
    "start_time": "2023-02-16T10:01:17.731Z"
   },
   {
    "duration": 173,
    "start_time": "2023-02-16T10:01:18.088Z"
   },
   {
    "duration": 247,
    "start_time": "2023-02-16T10:01:18.262Z"
   },
   {
    "duration": 247,
    "start_time": "2023-02-16T10:01:18.511Z"
   },
   {
    "duration": 324,
    "start_time": "2023-02-16T10:01:18.760Z"
   },
   {
    "duration": 253,
    "start_time": "2023-02-16T10:01:19.085Z"
   },
   {
    "duration": 229,
    "start_time": "2023-02-16T10:01:19.340Z"
   },
   {
    "duration": 290,
    "start_time": "2023-02-16T10:01:19.571Z"
   },
   {
    "duration": 127,
    "start_time": "2023-02-16T10:01:19.864Z"
   },
   {
    "duration": 359,
    "start_time": "2023-02-16T10:01:19.993Z"
   },
   {
    "duration": 300,
    "start_time": "2023-02-16T10:01:20.354Z"
   },
   {
    "duration": 237,
    "start_time": "2023-02-16T10:01:20.656Z"
   },
   {
    "duration": 294,
    "start_time": "2023-02-16T10:01:20.895Z"
   },
   {
    "duration": 164,
    "start_time": "2023-02-16T10:01:21.191Z"
   },
   {
    "duration": 192,
    "start_time": "2023-02-16T10:01:21.357Z"
   },
   {
    "duration": 165,
    "start_time": "2023-02-16T10:01:21.550Z"
   },
   {
    "duration": 168,
    "start_time": "2023-02-16T10:01:21.717Z"
   },
   {
    "duration": 172,
    "start_time": "2023-02-16T10:01:21.887Z"
   },
   {
    "duration": 175,
    "start_time": "2023-02-16T10:01:22.060Z"
   },
   {
    "duration": 198,
    "start_time": "2023-02-16T10:01:22.237Z"
   },
   {
    "duration": 174,
    "start_time": "2023-02-16T10:01:22.437Z"
   },
   {
    "duration": 145,
    "start_time": "2023-02-16T10:01:22.612Z"
   },
   {
    "duration": 189,
    "start_time": "2023-02-16T10:01:22.758Z"
   },
   {
    "duration": 253,
    "start_time": "2023-02-16T10:01:22.949Z"
   },
   {
    "duration": 200,
    "start_time": "2023-02-16T10:01:23.204Z"
   },
   {
    "duration": 21,
    "start_time": "2023-02-16T10:01:23.406Z"
   },
   {
    "duration": 303,
    "start_time": "2023-02-16T10:01:23.429Z"
   },
   {
    "duration": 509,
    "start_time": "2023-02-16T10:12:08.182Z"
   },
   {
    "duration": 15,
    "start_time": "2023-02-16T10:12:08.693Z"
   },
   {
    "duration": 2214,
    "start_time": "2023-02-16T10:12:08.709Z"
   },
   {
    "duration": 10,
    "start_time": "2023-02-16T10:12:10.925Z"
   },
   {
    "duration": 5,
    "start_time": "2023-02-16T10:12:10.936Z"
   },
   {
    "duration": 5,
    "start_time": "2023-02-16T10:12:10.943Z"
   },
   {
    "duration": 35,
    "start_time": "2023-02-16T10:12:10.950Z"
   },
   {
    "duration": 8,
    "start_time": "2023-02-16T10:12:10.986Z"
   },
   {
    "duration": 13,
    "start_time": "2023-02-16T10:12:10.996Z"
   },
   {
    "duration": 22,
    "start_time": "2023-02-16T10:12:11.011Z"
   },
   {
    "duration": 13,
    "start_time": "2023-02-16T10:12:11.034Z"
   },
   {
    "duration": 49,
    "start_time": "2023-02-16T10:12:11.049Z"
   },
   {
    "duration": 9,
    "start_time": "2023-02-16T10:12:11.099Z"
   },
   {
    "duration": 8,
    "start_time": "2023-02-16T10:12:11.109Z"
   },
   {
    "duration": 619,
    "start_time": "2023-02-16T10:12:11.119Z"
   },
   {
    "duration": 8,
    "start_time": "2023-02-16T10:12:11.739Z"
   },
   {
    "duration": 36,
    "start_time": "2023-02-16T10:12:11.748Z"
   },
   {
    "duration": 87,
    "start_time": "2023-02-16T10:12:11.786Z"
   },
   {
    "duration": 91,
    "start_time": "2023-02-16T10:12:11.875Z"
   },
   {
    "duration": 346,
    "start_time": "2023-02-16T10:12:11.984Z"
   },
   {
    "duration": 175,
    "start_time": "2023-02-16T10:12:12.331Z"
   },
   {
    "duration": 236,
    "start_time": "2023-02-16T10:12:12.508Z"
   },
   {
    "duration": 232,
    "start_time": "2023-02-16T10:12:12.746Z"
   },
   {
    "duration": 318,
    "start_time": "2023-02-16T10:12:12.983Z"
   },
   {
    "duration": 242,
    "start_time": "2023-02-16T10:12:13.303Z"
   },
   {
    "duration": 226,
    "start_time": "2023-02-16T10:12:13.546Z"
   },
   {
    "duration": 286,
    "start_time": "2023-02-16T10:12:13.774Z"
   },
   {
    "duration": 128,
    "start_time": "2023-02-16T10:12:14.065Z"
   },
   {
    "duration": 367,
    "start_time": "2023-02-16T10:12:14.194Z"
   },
   {
    "duration": 305,
    "start_time": "2023-02-16T10:12:14.563Z"
   },
   {
    "duration": 239,
    "start_time": "2023-02-16T10:12:14.870Z"
   },
   {
    "duration": 306,
    "start_time": "2023-02-16T10:12:15.111Z"
   },
   {
    "duration": 175,
    "start_time": "2023-02-16T10:12:15.419Z"
   },
   {
    "duration": 191,
    "start_time": "2023-02-16T10:12:15.596Z"
   },
   {
    "duration": 161,
    "start_time": "2023-02-16T10:12:15.788Z"
   },
   {
    "duration": 151,
    "start_time": "2023-02-16T10:12:15.950Z"
   },
   {
    "duration": 174,
    "start_time": "2023-02-16T10:12:16.102Z"
   },
   {
    "duration": 185,
    "start_time": "2023-02-16T10:12:16.278Z"
   },
   {
    "duration": 190,
    "start_time": "2023-02-16T10:12:16.465Z"
   },
   {
    "duration": 169,
    "start_time": "2023-02-16T10:12:16.656Z"
   },
   {
    "duration": 140,
    "start_time": "2023-02-16T10:12:16.827Z"
   },
   {
    "duration": 197,
    "start_time": "2023-02-16T10:12:16.968Z"
   },
   {
    "duration": 248,
    "start_time": "2023-02-16T10:12:17.167Z"
   },
   {
    "duration": 195,
    "start_time": "2023-02-16T10:12:17.417Z"
   },
   {
    "duration": 23,
    "start_time": "2023-02-16T10:12:17.614Z"
   },
   {
    "duration": 305,
    "start_time": "2023-02-16T10:12:17.638Z"
   },
   {
    "duration": 8,
    "start_time": "2023-02-16T10:40:11.768Z"
   },
   {
    "duration": 91,
    "start_time": "2023-02-16T10:40:34.328Z"
   },
   {
    "duration": 7,
    "start_time": "2023-02-16T10:40:48.544Z"
   },
   {
    "duration": 6,
    "start_time": "2023-02-16T10:40:52.932Z"
   },
   {
    "duration": 46,
    "start_time": "2023-02-16T10:58:18.635Z"
   },
   {
    "duration": 371,
    "start_time": "2023-02-16T11:00:53.765Z"
   },
   {
    "duration": 331,
    "start_time": "2023-02-16T11:00:55.584Z"
   },
   {
    "duration": 54,
    "start_time": "2023-02-16T11:00:58.075Z"
   },
   {
    "duration": 35,
    "start_time": "2023-02-16T11:04:15.894Z"
   },
   {
    "duration": 85,
    "start_time": "2023-02-16T11:12:20.467Z"
   },
   {
    "duration": 391,
    "start_time": "2023-02-16T11:13:16.733Z"
   },
   {
    "duration": 103,
    "start_time": "2023-02-16T11:13:17.126Z"
   },
   {
    "duration": 63,
    "start_time": "2023-02-16T11:13:17.232Z"
   },
   {
    "duration": 2370,
    "start_time": "2023-02-16T11:13:17.298Z"
   },
   {
    "duration": 10,
    "start_time": "2023-02-16T11:13:19.670Z"
   },
   {
    "duration": 10,
    "start_time": "2023-02-16T11:13:19.681Z"
   },
   {
    "duration": 6,
    "start_time": "2023-02-16T11:13:19.692Z"
   },
   {
    "duration": 13,
    "start_time": "2023-02-16T11:13:19.699Z"
   },
   {
    "duration": 9,
    "start_time": "2023-02-16T11:13:19.713Z"
   },
   {
    "duration": 15,
    "start_time": "2023-02-16T11:13:19.723Z"
   },
   {
    "duration": 22,
    "start_time": "2023-02-16T11:13:19.740Z"
   },
   {
    "duration": 47,
    "start_time": "2023-02-16T11:13:19.763Z"
   },
   {
    "duration": 21,
    "start_time": "2023-02-16T11:13:19.812Z"
   },
   {
    "duration": 9,
    "start_time": "2023-02-16T11:13:19.837Z"
   },
   {
    "duration": 8,
    "start_time": "2023-02-16T11:13:19.849Z"
   },
   {
    "duration": 618,
    "start_time": "2023-02-16T11:13:19.858Z"
   },
   {
    "duration": 8,
    "start_time": "2023-02-16T11:13:20.478Z"
   },
   {
    "duration": 34,
    "start_time": "2023-02-16T11:13:20.488Z"
   },
   {
    "duration": 81,
    "start_time": "2023-02-16T11:13:20.524Z"
   },
   {
    "duration": 89,
    "start_time": "2023-02-16T11:13:20.606Z"
   },
   {
    "duration": 346,
    "start_time": "2023-02-16T11:13:20.696Z"
   },
   {
    "duration": 184,
    "start_time": "2023-02-16T11:13:21.044Z"
   },
   {
    "duration": 226,
    "start_time": "2023-02-16T11:13:21.230Z"
   },
   {
    "duration": 302,
    "start_time": "2023-02-16T11:13:21.458Z"
   },
   {
    "duration": 220,
    "start_time": "2023-02-16T11:13:21.762Z"
   },
   {
    "duration": 236,
    "start_time": "2023-02-16T11:13:21.984Z"
   },
   {
    "duration": 209,
    "start_time": "2023-02-16T11:13:22.222Z"
   },
   {
    "duration": 273,
    "start_time": "2023-02-16T11:13:22.433Z"
   },
   {
    "duration": 112,
    "start_time": "2023-02-16T11:13:22.708Z"
   },
   {
    "duration": 325,
    "start_time": "2023-02-16T11:13:22.822Z"
   },
   {
    "duration": 281,
    "start_time": "2023-02-16T11:13:23.149Z"
   },
   {
    "duration": 285,
    "start_time": "2023-02-16T11:13:23.432Z"
   },
   {
    "duration": 213,
    "start_time": "2023-02-16T11:13:23.719Z"
   },
   {
    "duration": 161,
    "start_time": "2023-02-16T11:13:23.934Z"
   },
   {
    "duration": 189,
    "start_time": "2023-02-16T11:13:24.097Z"
   },
   {
    "duration": 158,
    "start_time": "2023-02-16T11:13:24.287Z"
   },
   {
    "duration": 129,
    "start_time": "2023-02-16T11:13:24.447Z"
   },
   {
    "duration": 163,
    "start_time": "2023-02-16T11:13:24.577Z"
   },
   {
    "duration": 156,
    "start_time": "2023-02-16T11:13:24.741Z"
   },
   {
    "duration": 182,
    "start_time": "2023-02-16T11:13:24.903Z"
   },
   {
    "duration": 173,
    "start_time": "2023-02-16T11:13:25.091Z"
   },
   {
    "duration": 141,
    "start_time": "2023-02-16T11:13:25.266Z"
   },
   {
    "duration": 242,
    "start_time": "2023-02-16T11:13:25.409Z"
   },
   {
    "duration": 168,
    "start_time": "2023-02-16T11:13:25.653Z"
   },
   {
    "duration": 182,
    "start_time": "2023-02-16T11:13:25.823Z"
   },
   {
    "duration": 21,
    "start_time": "2023-02-16T11:13:26.007Z"
   },
   {
    "duration": 273,
    "start_time": "2023-02-16T11:13:26.030Z"
   },
   {
    "duration": 1862,
    "start_time": "2023-02-16T11:22:23.752Z"
   },
   {
    "duration": 2533,
    "start_time": "2023-02-16T11:22:49.538Z"
   },
   {
    "duration": 84,
    "start_time": "2023-02-16T11:27:01.559Z"
   },
   {
    "duration": 94,
    "start_time": "2023-02-16T11:27:30.279Z"
   },
   {
    "duration": 2429,
    "start_time": "2023-02-16T11:30:13.928Z"
   },
   {
    "duration": 2335,
    "start_time": "2023-02-16T11:30:25.817Z"
   },
   {
    "duration": 401,
    "start_time": "2023-02-16T11:30:44.116Z"
   },
   {
    "duration": 93,
    "start_time": "2023-02-16T11:30:44.519Z"
   },
   {
    "duration": 42,
    "start_time": "2023-02-16T11:30:44.618Z"
   },
   {
    "duration": 2283,
    "start_time": "2023-02-16T11:30:44.661Z"
   },
   {
    "duration": 11,
    "start_time": "2023-02-16T11:30:46.947Z"
   },
   {
    "duration": 6,
    "start_time": "2023-02-16T11:30:46.960Z"
   },
   {
    "duration": 6,
    "start_time": "2023-02-16T11:30:46.968Z"
   },
   {
    "duration": 11,
    "start_time": "2023-02-16T11:30:46.975Z"
   },
   {
    "duration": 8,
    "start_time": "2023-02-16T11:30:46.988Z"
   },
   {
    "duration": 19,
    "start_time": "2023-02-16T11:30:47.006Z"
   },
   {
    "duration": 27,
    "start_time": "2023-02-16T11:30:47.027Z"
   },
   {
    "duration": 16,
    "start_time": "2023-02-16T11:30:47.056Z"
   },
   {
    "duration": 52,
    "start_time": "2023-02-16T11:30:47.074Z"
   },
   {
    "duration": 13,
    "start_time": "2023-02-16T11:30:47.132Z"
   },
   {
    "duration": 20,
    "start_time": "2023-02-16T11:30:47.147Z"
   },
   {
    "duration": 652,
    "start_time": "2023-02-16T11:30:47.170Z"
   },
   {
    "duration": 9,
    "start_time": "2023-02-16T11:30:47.824Z"
   },
   {
    "duration": 32,
    "start_time": "2023-02-16T11:30:47.834Z"
   },
   {
    "duration": 1826,
    "start_time": "2023-02-16T11:30:47.867Z"
   },
   {
    "duration": 94,
    "start_time": "2023-02-16T11:30:49.695Z"
   },
   {
    "duration": 357,
    "start_time": "2023-02-16T11:30:49.790Z"
   },
   {
    "duration": 183,
    "start_time": "2023-02-16T11:30:50.149Z"
   },
   {
    "duration": 236,
    "start_time": "2023-02-16T11:30:50.333Z"
   },
   {
    "duration": 243,
    "start_time": "2023-02-16T11:30:50.571Z"
   },
   {
    "duration": 239,
    "start_time": "2023-02-16T11:30:50.816Z"
   },
   {
    "duration": 394,
    "start_time": "2023-02-16T11:30:51.056Z"
   },
   {
    "duration": 240,
    "start_time": "2023-02-16T11:30:51.451Z"
   },
   {
    "duration": 293,
    "start_time": "2023-02-16T11:30:51.693Z"
   },
   {
    "duration": 136,
    "start_time": "2023-02-16T11:30:51.988Z"
   },
   {
    "duration": 353,
    "start_time": "2023-02-16T11:30:52.126Z"
   },
   {
    "duration": 292,
    "start_time": "2023-02-16T11:30:52.480Z"
   },
   {
    "duration": 245,
    "start_time": "2023-02-16T11:30:52.773Z"
   },
   {
    "duration": 227,
    "start_time": "2023-02-16T11:30:53.020Z"
   },
   {
    "duration": 238,
    "start_time": "2023-02-16T11:30:53.248Z"
   },
   {
    "duration": 197,
    "start_time": "2023-02-16T11:30:53.487Z"
   },
   {
    "duration": 163,
    "start_time": "2023-02-16T11:30:53.685Z"
   },
   {
    "duration": 139,
    "start_time": "2023-02-16T11:30:53.850Z"
   },
   {
    "duration": 170,
    "start_time": "2023-02-16T11:30:53.991Z"
   },
   {
    "duration": 177,
    "start_time": "2023-02-16T11:30:54.162Z"
   },
   {
    "duration": 194,
    "start_time": "2023-02-16T11:30:54.341Z"
   },
   {
    "duration": 180,
    "start_time": "2023-02-16T11:30:54.538Z"
   },
   {
    "duration": 134,
    "start_time": "2023-02-16T11:30:54.720Z"
   },
   {
    "duration": 200,
    "start_time": "2023-02-16T11:30:54.855Z"
   },
   {
    "duration": 186,
    "start_time": "2023-02-16T11:30:55.057Z"
   },
   {
    "duration": 272,
    "start_time": "2023-02-16T11:30:55.245Z"
   },
   {
    "duration": 21,
    "start_time": "2023-02-16T11:30:55.519Z"
   },
   {
    "duration": 303,
    "start_time": "2023-02-16T11:30:55.541Z"
   },
   {
    "duration": 2592,
    "start_time": "2023-02-16T11:31:23.976Z"
   },
   {
    "duration": 409,
    "start_time": "2023-02-16T11:32:08.220Z"
   },
   {
    "duration": 102,
    "start_time": "2023-02-16T11:32:08.631Z"
   },
   {
    "duration": 46,
    "start_time": "2023-02-16T11:32:08.735Z"
   },
   {
    "duration": 2335,
    "start_time": "2023-02-16T11:32:08.783Z"
   },
   {
    "duration": 10,
    "start_time": "2023-02-16T11:32:11.125Z"
   },
   {
    "duration": 7,
    "start_time": "2023-02-16T11:32:11.137Z"
   },
   {
    "duration": 5,
    "start_time": "2023-02-16T11:32:11.146Z"
   },
   {
    "duration": 13,
    "start_time": "2023-02-16T11:32:11.153Z"
   },
   {
    "duration": 13,
    "start_time": "2023-02-16T11:32:11.167Z"
   },
   {
    "duration": 23,
    "start_time": "2023-02-16T11:32:11.182Z"
   },
   {
    "duration": 24,
    "start_time": "2023-02-16T11:32:11.207Z"
   },
   {
    "duration": 14,
    "start_time": "2023-02-16T11:32:11.232Z"
   },
   {
    "duration": 23,
    "start_time": "2023-02-16T11:32:11.247Z"
   },
   {
    "duration": 34,
    "start_time": "2023-02-16T11:32:11.273Z"
   },
   {
    "duration": 12,
    "start_time": "2023-02-16T11:32:11.311Z"
   },
   {
    "duration": 597,
    "start_time": "2023-02-16T11:32:11.324Z"
   },
   {
    "duration": 9,
    "start_time": "2023-02-16T11:32:11.923Z"
   },
   {
    "duration": 24,
    "start_time": "2023-02-16T11:32:11.933Z"
   },
   {
    "duration": 2289,
    "start_time": "2023-02-16T11:32:11.959Z"
   },
   {
    "duration": 106,
    "start_time": "2023-02-16T11:32:14.250Z"
   },
   {
    "duration": 364,
    "start_time": "2023-02-16T11:32:14.358Z"
   },
   {
    "duration": 172,
    "start_time": "2023-02-16T11:32:14.724Z"
   },
   {
    "duration": 265,
    "start_time": "2023-02-16T11:32:14.903Z"
   },
   {
    "duration": 247,
    "start_time": "2023-02-16T11:32:15.170Z"
   },
   {
    "duration": 325,
    "start_time": "2023-02-16T11:32:15.419Z"
   },
   {
    "duration": 246,
    "start_time": "2023-02-16T11:32:15.746Z"
   },
   {
    "duration": 235,
    "start_time": "2023-02-16T11:32:15.994Z"
   },
   {
    "duration": 297,
    "start_time": "2023-02-16T11:32:16.230Z"
   },
   {
    "duration": 121,
    "start_time": "2023-02-16T11:32:16.528Z"
   },
   {
    "duration": 346,
    "start_time": "2023-02-16T11:32:16.651Z"
   },
   {
    "duration": 295,
    "start_time": "2023-02-16T11:32:17.005Z"
   },
   {
    "duration": 291,
    "start_time": "2023-02-16T11:32:17.306Z"
   },
   {
    "duration": 330,
    "start_time": "2023-02-16T11:32:17.598Z"
   },
   {
    "duration": 169,
    "start_time": "2023-02-16T11:32:17.929Z"
   },
   {
    "duration": 187,
    "start_time": "2023-02-16T11:32:18.099Z"
   },
   {
    "duration": 164,
    "start_time": "2023-02-16T11:32:18.287Z"
   },
   {
    "duration": 141,
    "start_time": "2023-02-16T11:32:18.453Z"
   },
   {
    "duration": 178,
    "start_time": "2023-02-16T11:32:18.596Z"
   },
   {
    "duration": 184,
    "start_time": "2023-02-16T11:32:18.776Z"
   },
   {
    "duration": 204,
    "start_time": "2023-02-16T11:32:18.962Z"
   },
   {
    "duration": 178,
    "start_time": "2023-02-16T11:32:19.170Z"
   },
   {
    "duration": 136,
    "start_time": "2023-02-16T11:32:19.349Z"
   },
   {
    "duration": 209,
    "start_time": "2023-02-16T11:32:19.487Z"
   },
   {
    "duration": 256,
    "start_time": "2023-02-16T11:32:19.698Z"
   },
   {
    "duration": 196,
    "start_time": "2023-02-16T11:32:19.956Z"
   },
   {
    "duration": 22,
    "start_time": "2023-02-16T11:32:20.153Z"
   },
   {
    "duration": 320,
    "start_time": "2023-02-16T11:32:20.176Z"
   },
   {
    "duration": 237,
    "start_time": "2023-02-16T11:36:15.225Z"
   },
   {
    "duration": 173,
    "start_time": "2023-02-16T11:36:29.750Z"
   },
   {
    "duration": 414,
    "start_time": "2023-02-16T11:36:50.426Z"
   },
   {
    "duration": 6,
    "start_time": "2023-02-16T11:39:21.437Z"
   },
   {
    "duration": 380,
    "start_time": "2023-02-16T11:39:26.345Z"
   },
   {
    "duration": 5,
    "start_time": "2023-02-16T11:40:22.251Z"
   },
   {
    "duration": 454,
    "start_time": "2023-02-16T11:40:25.537Z"
   },
   {
    "duration": 8,
    "start_time": "2023-02-16T11:41:40.538Z"
   },
   {
    "duration": 8,
    "start_time": "2023-02-16T11:42:04.236Z"
   },
   {
    "duration": 115,
    "start_time": "2023-02-16T11:44:39.019Z"
   },
   {
    "duration": 3694,
    "start_time": "2023-02-16T11:44:44.816Z"
   },
   {
    "duration": 392,
    "start_time": "2023-02-16T11:45:39.223Z"
   },
   {
    "duration": 98,
    "start_time": "2023-02-16T11:45:39.617Z"
   },
   {
    "duration": 38,
    "start_time": "2023-02-16T11:45:39.720Z"
   },
   {
    "duration": 2268,
    "start_time": "2023-02-16T11:45:39.760Z"
   },
   {
    "duration": 9,
    "start_time": "2023-02-16T11:45:42.030Z"
   },
   {
    "duration": 9,
    "start_time": "2023-02-16T11:45:42.040Z"
   },
   {
    "duration": 9,
    "start_time": "2023-02-16T11:45:42.050Z"
   },
   {
    "duration": 10,
    "start_time": "2023-02-16T11:45:42.061Z"
   },
   {
    "duration": 9,
    "start_time": "2023-02-16T11:45:42.072Z"
   },
   {
    "duration": 14,
    "start_time": "2023-02-16T11:45:42.082Z"
   },
   {
    "duration": 25,
    "start_time": "2023-02-16T11:45:42.098Z"
   },
   {
    "duration": 13,
    "start_time": "2023-02-16T11:45:42.124Z"
   },
   {
    "duration": 21,
    "start_time": "2023-02-16T11:45:42.140Z"
   },
   {
    "duration": 9,
    "start_time": "2023-02-16T11:45:42.163Z"
   },
   {
    "duration": 46,
    "start_time": "2023-02-16T11:45:42.173Z"
   },
   {
    "duration": 576,
    "start_time": "2023-02-16T11:45:42.220Z"
   },
   {
    "duration": 19,
    "start_time": "2023-02-16T11:45:42.798Z"
   },
   {
    "duration": 21,
    "start_time": "2023-02-16T11:45:42.819Z"
   },
   {
    "duration": 2853,
    "start_time": "2023-02-16T11:45:42.842Z"
   },
   {
    "duration": 501,
    "start_time": "2023-02-16T11:45:45.696Z"
   },
   {
    "duration": 10,
    "start_time": "2023-02-16T11:45:46.199Z"
   },
   {
    "duration": 110,
    "start_time": "2023-02-16T11:45:46.210Z"
   },
   {
    "duration": 315,
    "start_time": "2023-02-16T11:45:46.322Z"
   },
   {
    "duration": 184,
    "start_time": "2023-02-16T11:45:46.639Z"
   },
   {
    "duration": 317,
    "start_time": "2023-02-16T11:45:46.825Z"
   },
   {
    "duration": 230,
    "start_time": "2023-02-16T11:45:47.143Z"
   },
   {
    "duration": 228,
    "start_time": "2023-02-16T11:45:47.375Z"
   },
   {
    "duration": 236,
    "start_time": "2023-02-16T11:45:47.610Z"
   },
   {
    "duration": 215,
    "start_time": "2023-02-16T11:45:47.847Z"
   },
   {
    "duration": 355,
    "start_time": "2023-02-16T11:45:48.063Z"
   },
   {
    "duration": 126,
    "start_time": "2023-02-16T11:45:48.420Z"
   },
   {
    "duration": 319,
    "start_time": "2023-02-16T11:45:48.548Z"
   },
   {
    "duration": 303,
    "start_time": "2023-02-16T11:45:48.869Z"
   },
   {
    "duration": 260,
    "start_time": "2023-02-16T11:45:49.173Z"
   },
   {
    "duration": 215,
    "start_time": "2023-02-16T11:45:49.435Z"
   },
   {
    "duration": 170,
    "start_time": "2023-02-16T11:45:49.652Z"
   },
   {
    "duration": 198,
    "start_time": "2023-02-16T11:45:49.824Z"
   },
   {
    "duration": 247,
    "start_time": "2023-02-16T11:45:50.024Z"
   },
   {
    "duration": 149,
    "start_time": "2023-02-16T11:45:50.273Z"
   },
   {
    "duration": 184,
    "start_time": "2023-02-16T11:45:50.426Z"
   },
   {
    "duration": 165,
    "start_time": "2023-02-16T11:45:50.615Z"
   },
   {
    "duration": 184,
    "start_time": "2023-02-16T11:45:50.781Z"
   },
   {
    "duration": 173,
    "start_time": "2023-02-16T11:45:50.967Z"
   },
   {
    "duration": 136,
    "start_time": "2023-02-16T11:45:51.142Z"
   },
   {
    "duration": 184,
    "start_time": "2023-02-16T11:45:51.280Z"
   },
   {
    "duration": 178,
    "start_time": "2023-02-16T11:45:51.465Z"
   },
   {
    "duration": 184,
    "start_time": "2023-02-16T11:45:51.645Z"
   },
   {
    "duration": 20,
    "start_time": "2023-02-16T11:45:51.831Z"
   },
   {
    "duration": 317,
    "start_time": "2023-02-16T11:45:51.852Z"
   },
   {
    "duration": 93,
    "start_time": "2023-02-16T12:03:45.930Z"
   },
   {
    "duration": 2864,
    "start_time": "2023-02-16T12:03:52.713Z"
   },
   {
    "duration": 10,
    "start_time": "2023-02-16T12:04:19.544Z"
   },
   {
    "duration": 406,
    "start_time": "2023-02-16T12:04:40.114Z"
   },
   {
    "duration": 97,
    "start_time": "2023-02-16T12:04:40.522Z"
   },
   {
    "duration": 41,
    "start_time": "2023-02-16T12:04:40.621Z"
   },
   {
    "duration": 2252,
    "start_time": "2023-02-16T12:04:40.664Z"
   },
   {
    "duration": 10,
    "start_time": "2023-02-16T12:04:42.918Z"
   },
   {
    "duration": 5,
    "start_time": "2023-02-16T12:04:42.929Z"
   },
   {
    "duration": 5,
    "start_time": "2023-02-16T12:04:42.936Z"
   },
   {
    "duration": 11,
    "start_time": "2023-02-16T12:04:42.943Z"
   },
   {
    "duration": 17,
    "start_time": "2023-02-16T12:04:42.956Z"
   },
   {
    "duration": 15,
    "start_time": "2023-02-16T12:04:42.975Z"
   },
   {
    "duration": 28,
    "start_time": "2023-02-16T12:04:43.003Z"
   },
   {
    "duration": 13,
    "start_time": "2023-02-16T12:04:43.032Z"
   },
   {
    "duration": 20,
    "start_time": "2023-02-16T12:04:43.047Z"
   },
   {
    "duration": 9,
    "start_time": "2023-02-16T12:04:43.068Z"
   },
   {
    "duration": 41,
    "start_time": "2023-02-16T12:04:43.079Z"
   },
   {
    "duration": 605,
    "start_time": "2023-02-16T12:04:43.122Z"
   },
   {
    "duration": 7,
    "start_time": "2023-02-16T12:04:43.729Z"
   },
   {
    "duration": 25,
    "start_time": "2023-02-16T12:04:43.738Z"
   },
   {
    "duration": 2978,
    "start_time": "2023-02-16T12:04:43.765Z"
   },
   {
    "duration": 18,
    "start_time": "2023-02-16T12:04:46.745Z"
   },
   {
    "duration": 1369,
    "start_time": "2023-02-16T12:04:46.764Z"
   },
   {
    "duration": 0,
    "start_time": "2023-02-16T12:04:48.135Z"
   },
   {
    "duration": 0,
    "start_time": "2023-02-16T12:04:48.137Z"
   },
   {
    "duration": 0,
    "start_time": "2023-02-16T12:04:48.138Z"
   },
   {
    "duration": 0,
    "start_time": "2023-02-16T12:04:48.139Z"
   },
   {
    "duration": 0,
    "start_time": "2023-02-16T12:04:48.140Z"
   },
   {
    "duration": 0,
    "start_time": "2023-02-16T12:04:48.141Z"
   },
   {
    "duration": 0,
    "start_time": "2023-02-16T12:04:48.143Z"
   },
   {
    "duration": 0,
    "start_time": "2023-02-16T12:04:48.144Z"
   },
   {
    "duration": 0,
    "start_time": "2023-02-16T12:04:48.145Z"
   },
   {
    "duration": 0,
    "start_time": "2023-02-16T12:04:48.146Z"
   },
   {
    "duration": 0,
    "start_time": "2023-02-16T12:04:48.147Z"
   },
   {
    "duration": 0,
    "start_time": "2023-02-16T12:04:48.148Z"
   },
   {
    "duration": 0,
    "start_time": "2023-02-16T12:04:48.149Z"
   },
   {
    "duration": 0,
    "start_time": "2023-02-16T12:04:48.150Z"
   },
   {
    "duration": 0,
    "start_time": "2023-02-16T12:04:48.151Z"
   },
   {
    "duration": 0,
    "start_time": "2023-02-16T12:04:48.152Z"
   },
   {
    "duration": 0,
    "start_time": "2023-02-16T12:04:48.153Z"
   },
   {
    "duration": 0,
    "start_time": "2023-02-16T12:04:48.154Z"
   },
   {
    "duration": 0,
    "start_time": "2023-02-16T12:04:48.156Z"
   },
   {
    "duration": 0,
    "start_time": "2023-02-16T12:04:48.157Z"
   },
   {
    "duration": 0,
    "start_time": "2023-02-16T12:04:48.158Z"
   },
   {
    "duration": 0,
    "start_time": "2023-02-16T12:04:48.159Z"
   },
   {
    "duration": 0,
    "start_time": "2023-02-16T12:04:48.160Z"
   },
   {
    "duration": 0,
    "start_time": "2023-02-16T12:04:48.161Z"
   },
   {
    "duration": 0,
    "start_time": "2023-02-16T12:04:48.162Z"
   },
   {
    "duration": 0,
    "start_time": "2023-02-16T12:04:48.163Z"
   },
   {
    "duration": 378,
    "start_time": "2023-02-16T12:05:14.958Z"
   },
   {
    "duration": 102,
    "start_time": "2023-02-16T12:05:15.338Z"
   },
   {
    "duration": 39,
    "start_time": "2023-02-16T12:05:15.442Z"
   },
   {
    "duration": 2377,
    "start_time": "2023-02-16T12:05:15.483Z"
   },
   {
    "duration": 11,
    "start_time": "2023-02-16T12:05:17.862Z"
   },
   {
    "duration": 9,
    "start_time": "2023-02-16T12:05:17.875Z"
   },
   {
    "duration": 8,
    "start_time": "2023-02-16T12:05:17.885Z"
   },
   {
    "duration": 18,
    "start_time": "2023-02-16T12:05:17.894Z"
   },
   {
    "duration": 22,
    "start_time": "2023-02-16T12:05:17.913Z"
   },
   {
    "duration": 15,
    "start_time": "2023-02-16T12:05:17.937Z"
   },
   {
    "duration": 31,
    "start_time": "2023-02-16T12:05:17.954Z"
   },
   {
    "duration": 24,
    "start_time": "2023-02-16T12:05:17.987Z"
   },
   {
    "duration": 22,
    "start_time": "2023-02-16T12:05:18.015Z"
   },
   {
    "duration": 9,
    "start_time": "2023-02-16T12:05:18.039Z"
   },
   {
    "duration": 8,
    "start_time": "2023-02-16T12:05:18.049Z"
   },
   {
    "duration": 680,
    "start_time": "2023-02-16T12:05:18.059Z"
   },
   {
    "duration": 8,
    "start_time": "2023-02-16T12:05:18.741Z"
   },
   {
    "duration": 34,
    "start_time": "2023-02-16T12:05:18.751Z"
   },
   {
    "duration": 3135,
    "start_time": "2023-02-16T12:05:18.787Z"
   },
   {
    "duration": 18,
    "start_time": "2023-02-16T12:05:21.925Z"
   },
   {
    "duration": 1557,
    "start_time": "2023-02-16T12:05:21.945Z"
   },
   {
    "duration": 0,
    "start_time": "2023-02-16T12:05:23.506Z"
   },
   {
    "duration": 0,
    "start_time": "2023-02-16T12:05:23.506Z"
   },
   {
    "duration": 0,
    "start_time": "2023-02-16T12:05:23.507Z"
   },
   {
    "duration": 0,
    "start_time": "2023-02-16T12:05:23.508Z"
   },
   {
    "duration": 0,
    "start_time": "2023-02-16T12:05:23.508Z"
   },
   {
    "duration": 0,
    "start_time": "2023-02-16T12:05:23.509Z"
   },
   {
    "duration": 0,
    "start_time": "2023-02-16T12:05:23.509Z"
   },
   {
    "duration": 0,
    "start_time": "2023-02-16T12:05:23.514Z"
   },
   {
    "duration": 0,
    "start_time": "2023-02-16T12:05:23.518Z"
   },
   {
    "duration": 0,
    "start_time": "2023-02-16T12:05:23.520Z"
   },
   {
    "duration": 0,
    "start_time": "2023-02-16T12:05:23.521Z"
   },
   {
    "duration": 0,
    "start_time": "2023-02-16T12:05:23.522Z"
   },
   {
    "duration": 0,
    "start_time": "2023-02-16T12:05:23.523Z"
   },
   {
    "duration": 0,
    "start_time": "2023-02-16T12:05:23.524Z"
   },
   {
    "duration": 0,
    "start_time": "2023-02-16T12:05:23.525Z"
   },
   {
    "duration": 0,
    "start_time": "2023-02-16T12:05:23.526Z"
   },
   {
    "duration": 0,
    "start_time": "2023-02-16T12:05:23.527Z"
   },
   {
    "duration": 0,
    "start_time": "2023-02-16T12:05:23.528Z"
   },
   {
    "duration": 0,
    "start_time": "2023-02-16T12:05:23.529Z"
   },
   {
    "duration": 0,
    "start_time": "2023-02-16T12:05:23.530Z"
   },
   {
    "duration": 0,
    "start_time": "2023-02-16T12:05:23.531Z"
   },
   {
    "duration": 0,
    "start_time": "2023-02-16T12:05:23.532Z"
   },
   {
    "duration": 0,
    "start_time": "2023-02-16T12:05:23.532Z"
   },
   {
    "duration": 0,
    "start_time": "2023-02-16T12:05:23.533Z"
   },
   {
    "duration": 0,
    "start_time": "2023-02-16T12:05:23.534Z"
   },
   {
    "duration": 0,
    "start_time": "2023-02-16T12:05:23.535Z"
   },
   {
    "duration": 2864,
    "start_time": "2023-02-16T12:06:37.657Z"
   },
   {
    "duration": 13,
    "start_time": "2023-02-16T12:06:53.499Z"
   },
   {
    "duration": 408,
    "start_time": "2023-02-16T12:07:14.772Z"
   },
   {
    "duration": 109,
    "start_time": "2023-02-16T12:07:15.182Z"
   },
   {
    "duration": 49,
    "start_time": "2023-02-16T12:07:15.293Z"
   },
   {
    "duration": 2404,
    "start_time": "2023-02-16T12:07:15.344Z"
   },
   {
    "duration": 10,
    "start_time": "2023-02-16T12:07:17.749Z"
   },
   {
    "duration": 6,
    "start_time": "2023-02-16T12:07:17.760Z"
   },
   {
    "duration": 6,
    "start_time": "2023-02-16T12:07:17.768Z"
   },
   {
    "duration": 15,
    "start_time": "2023-02-16T12:07:17.776Z"
   },
   {
    "duration": 19,
    "start_time": "2023-02-16T12:07:17.792Z"
   },
   {
    "duration": 22,
    "start_time": "2023-02-16T12:07:17.813Z"
   },
   {
    "duration": 22,
    "start_time": "2023-02-16T12:07:17.836Z"
   },
   {
    "duration": 13,
    "start_time": "2023-02-16T12:07:17.860Z"
   },
   {
    "duration": 41,
    "start_time": "2023-02-16T12:07:17.875Z"
   },
   {
    "duration": 10,
    "start_time": "2023-02-16T12:07:17.918Z"
   },
   {
    "duration": 8,
    "start_time": "2023-02-16T12:07:17.930Z"
   },
   {
    "duration": 622,
    "start_time": "2023-02-16T12:07:17.940Z"
   },
   {
    "duration": 7,
    "start_time": "2023-02-16T12:07:18.564Z"
   },
   {
    "duration": 32,
    "start_time": "2023-02-16T12:07:18.573Z"
   },
   {
    "duration": 3005,
    "start_time": "2023-02-16T12:07:18.606Z"
   },
   {
    "duration": 3,
    "start_time": "2023-02-16T12:07:21.619Z"
   },
   {
    "duration": 464,
    "start_time": "2023-02-16T12:07:21.623Z"
   },
   {
    "duration": 171,
    "start_time": "2023-02-16T12:07:22.089Z"
   },
   {
    "duration": 253,
    "start_time": "2023-02-16T12:07:22.262Z"
   },
   {
    "duration": 226,
    "start_time": "2023-02-16T12:07:22.520Z"
   },
   {
    "duration": 232,
    "start_time": "2023-02-16T12:07:22.748Z"
   },
   {
    "duration": 245,
    "start_time": "2023-02-16T12:07:22.982Z"
   },
   {
    "duration": 226,
    "start_time": "2023-02-16T12:07:23.229Z"
   },
   {
    "duration": 296,
    "start_time": "2023-02-16T12:07:23.459Z"
   },
   {
    "duration": 119,
    "start_time": "2023-02-16T12:07:23.757Z"
   },
   {
    "duration": 405,
    "start_time": "2023-02-16T12:07:23.878Z"
   },
   {
    "duration": 299,
    "start_time": "2023-02-16T12:07:24.285Z"
   },
   {
    "duration": 242,
    "start_time": "2023-02-16T12:07:24.585Z"
   },
   {
    "duration": 230,
    "start_time": "2023-02-16T12:07:24.828Z"
   },
   {
    "duration": 165,
    "start_time": "2023-02-16T12:07:25.059Z"
   },
   {
    "duration": 205,
    "start_time": "2023-02-16T12:07:25.226Z"
   },
   {
    "duration": 153,
    "start_time": "2023-02-16T12:07:25.432Z"
   },
   {
    "duration": 146,
    "start_time": "2023-02-16T12:07:25.587Z"
   },
   {
    "duration": 174,
    "start_time": "2023-02-16T12:07:25.735Z"
   },
   {
    "duration": 244,
    "start_time": "2023-02-16T12:07:25.915Z"
   },
   {
    "duration": 187,
    "start_time": "2023-02-16T12:07:26.160Z"
   },
   {
    "duration": 179,
    "start_time": "2023-02-16T12:07:26.349Z"
   },
   {
    "duration": 138,
    "start_time": "2023-02-16T12:07:26.530Z"
   },
   {
    "duration": 252,
    "start_time": "2023-02-16T12:07:26.670Z"
   },
   {
    "duration": 239,
    "start_time": "2023-02-16T12:07:26.924Z"
   },
   {
    "duration": 193,
    "start_time": "2023-02-16T12:07:27.165Z"
   },
   {
    "duration": 22,
    "start_time": "2023-02-16T12:07:27.360Z"
   },
   {
    "duration": 303,
    "start_time": "2023-02-16T12:07:27.383Z"
   },
   {
    "duration": 5,
    "start_time": "2023-02-16T12:08:20.861Z"
   },
   {
    "duration": 10,
    "start_time": "2023-02-16T12:08:27.159Z"
   },
   {
    "duration": 17,
    "start_time": "2023-02-16T12:08:34.098Z"
   },
   {
    "duration": 12,
    "start_time": "2023-02-16T12:08:38.634Z"
   },
   {
    "duration": 401,
    "start_time": "2023-02-16T12:09:06.857Z"
   },
   {
    "duration": 102,
    "start_time": "2023-02-16T12:09:07.260Z"
   },
   {
    "duration": 42,
    "start_time": "2023-02-16T12:09:07.363Z"
   },
   {
    "duration": 2372,
    "start_time": "2023-02-16T12:09:07.416Z"
   },
   {
    "duration": 11,
    "start_time": "2023-02-16T12:09:09.790Z"
   },
   {
    "duration": 10,
    "start_time": "2023-02-16T12:09:09.802Z"
   },
   {
    "duration": 15,
    "start_time": "2023-02-16T12:09:09.813Z"
   },
   {
    "duration": 16,
    "start_time": "2023-02-16T12:09:09.829Z"
   },
   {
    "duration": 10,
    "start_time": "2023-02-16T12:09:09.847Z"
   },
   {
    "duration": 18,
    "start_time": "2023-02-16T12:09:09.860Z"
   },
   {
    "duration": 38,
    "start_time": "2023-02-16T12:09:09.880Z"
   },
   {
    "duration": 14,
    "start_time": "2023-02-16T12:09:09.922Z"
   },
   {
    "duration": 25,
    "start_time": "2023-02-16T12:09:09.937Z"
   },
   {
    "duration": 9,
    "start_time": "2023-02-16T12:09:09.964Z"
   },
   {
    "duration": 29,
    "start_time": "2023-02-16T12:09:09.975Z"
   },
   {
    "duration": 657,
    "start_time": "2023-02-16T12:09:10.007Z"
   },
   {
    "duration": 9,
    "start_time": "2023-02-16T12:09:10.666Z"
   },
   {
    "duration": 45,
    "start_time": "2023-02-16T12:09:10.676Z"
   },
   {
    "duration": 3125,
    "start_time": "2023-02-16T12:09:10.723Z"
   },
   {
    "duration": 12,
    "start_time": "2023-02-16T12:09:13.850Z"
   },
   {
    "duration": 562,
    "start_time": "2023-02-16T12:09:13.863Z"
   },
   {
    "duration": 255,
    "start_time": "2023-02-16T12:09:14.427Z"
   },
   {
    "duration": 253,
    "start_time": "2023-02-16T12:09:14.684Z"
   },
   {
    "duration": 257,
    "start_time": "2023-02-16T12:09:14.939Z"
   },
   {
    "duration": 255,
    "start_time": "2023-02-16T12:09:15.198Z"
   },
   {
    "duration": 242,
    "start_time": "2023-02-16T12:09:15.454Z"
   },
   {
    "duration": 236,
    "start_time": "2023-02-16T12:09:15.705Z"
   },
   {
    "duration": 302,
    "start_time": "2023-02-16T12:09:15.945Z"
   },
   {
    "duration": 129,
    "start_time": "2023-02-16T12:09:16.249Z"
   },
   {
    "duration": 480,
    "start_time": "2023-02-16T12:09:16.380Z"
   },
   {
    "duration": 312,
    "start_time": "2023-02-16T12:09:16.862Z"
   },
   {
    "duration": 244,
    "start_time": "2023-02-16T12:09:17.176Z"
   },
   {
    "duration": 229,
    "start_time": "2023-02-16T12:09:17.421Z"
   },
   {
    "duration": 181,
    "start_time": "2023-02-16T12:09:17.653Z"
   },
   {
    "duration": 200,
    "start_time": "2023-02-16T12:09:17.836Z"
   },
   {
    "duration": 163,
    "start_time": "2023-02-16T12:09:18.038Z"
   },
   {
    "duration": 145,
    "start_time": "2023-02-16T12:09:18.204Z"
   },
   {
    "duration": 191,
    "start_time": "2023-02-16T12:09:18.351Z"
   },
   {
    "duration": 253,
    "start_time": "2023-02-16T12:09:18.544Z"
   },
   {
    "duration": 185,
    "start_time": "2023-02-16T12:09:18.799Z"
   },
   {
    "duration": 206,
    "start_time": "2023-02-16T12:09:18.985Z"
   },
   {
    "duration": 132,
    "start_time": "2023-02-16T12:09:19.193Z"
   },
   {
    "duration": 177,
    "start_time": "2023-02-16T12:09:19.327Z"
   },
   {
    "duration": 183,
    "start_time": "2023-02-16T12:09:19.505Z"
   },
   {
    "duration": 191,
    "start_time": "2023-02-16T12:09:19.690Z"
   },
   {
    "duration": 36,
    "start_time": "2023-02-16T12:09:19.882Z"
   },
   {
    "duration": 302,
    "start_time": "2023-02-16T12:09:19.919Z"
   },
   {
    "duration": 18,
    "start_time": "2023-02-16T12:09:34.596Z"
   },
   {
    "duration": 21,
    "start_time": "2023-02-16T12:09:42.507Z"
   },
   {
    "duration": 23,
    "start_time": "2023-02-16T12:09:53.430Z"
   },
   {
    "duration": 26,
    "start_time": "2023-02-16T12:09:59.045Z"
   },
   {
    "duration": 36,
    "start_time": "2023-02-16T12:10:05.594Z"
   },
   {
    "duration": 37,
    "start_time": "2023-02-16T12:10:10.286Z"
   },
   {
    "duration": 34,
    "start_time": "2023-02-16T12:10:15.516Z"
   },
   {
    "duration": 36,
    "start_time": "2023-02-16T12:10:20.220Z"
   },
   {
    "duration": 3539,
    "start_time": "2023-02-16T12:10:25.151Z"
   },
   {
    "duration": 47,
    "start_time": "2023-02-16T12:14:23.601Z"
   },
   {
    "duration": 3825,
    "start_time": "2023-02-16T12:14:31.826Z"
   },
   {
    "duration": 47,
    "start_time": "2023-02-16T12:18:08.888Z"
   },
   {
    "duration": 3491,
    "start_time": "2023-02-16T12:18:20.364Z"
   },
   {
    "duration": 38,
    "start_time": "2023-02-16T12:19:20.823Z"
   },
   {
    "duration": 419,
    "start_time": "2023-02-16T12:21:05.983Z"
   },
   {
    "duration": 95,
    "start_time": "2023-02-16T12:21:06.404Z"
   },
   {
    "duration": 46,
    "start_time": "2023-02-16T12:21:06.501Z"
   },
   {
    "duration": 2271,
    "start_time": "2023-02-16T12:21:06.549Z"
   },
   {
    "duration": 15,
    "start_time": "2023-02-16T12:21:08.822Z"
   },
   {
    "duration": 7,
    "start_time": "2023-02-16T12:21:08.840Z"
   },
   {
    "duration": 12,
    "start_time": "2023-02-16T12:21:08.848Z"
   },
   {
    "duration": 21,
    "start_time": "2023-02-16T12:21:08.861Z"
   },
   {
    "duration": 25,
    "start_time": "2023-02-16T12:21:08.884Z"
   },
   {
    "duration": 25,
    "start_time": "2023-02-16T12:21:08.914Z"
   },
   {
    "duration": 25,
    "start_time": "2023-02-16T12:21:08.941Z"
   },
   {
    "duration": 13,
    "start_time": "2023-02-16T12:21:08.968Z"
   },
   {
    "duration": 40,
    "start_time": "2023-02-16T12:21:08.983Z"
   },
   {
    "duration": 9,
    "start_time": "2023-02-16T12:21:09.025Z"
   },
   {
    "duration": 9,
    "start_time": "2023-02-16T12:21:09.036Z"
   },
   {
    "duration": 647,
    "start_time": "2023-02-16T12:21:09.047Z"
   },
   {
    "duration": 20,
    "start_time": "2023-02-16T12:21:09.696Z"
   },
   {
    "duration": 22,
    "start_time": "2023-02-16T12:21:09.718Z"
   },
   {
    "duration": 2990,
    "start_time": "2023-02-16T12:21:09.741Z"
   },
   {
    "duration": 32,
    "start_time": "2023-02-16T12:21:12.732Z"
   },
   {
    "duration": 446,
    "start_time": "2023-02-16T12:21:12.765Z"
   },
   {
    "duration": 157,
    "start_time": "2023-02-16T12:21:13.213Z"
   },
   {
    "duration": 225,
    "start_time": "2023-02-16T12:21:13.371Z"
   },
   {
    "duration": 244,
    "start_time": "2023-02-16T12:21:13.598Z"
   },
   {
    "duration": 249,
    "start_time": "2023-02-16T12:21:13.844Z"
   },
   {
    "duration": 247,
    "start_time": "2023-02-16T12:21:14.095Z"
   },
   {
    "duration": 318,
    "start_time": "2023-02-16T12:21:14.344Z"
   },
   {
    "duration": 289,
    "start_time": "2023-02-16T12:21:14.665Z"
   },
   {
    "duration": 131,
    "start_time": "2023-02-16T12:21:14.956Z"
   },
   {
    "duration": 439,
    "start_time": "2023-02-16T12:21:15.089Z"
   },
   {
    "duration": 304,
    "start_time": "2023-02-16T12:21:15.529Z"
   },
   {
    "duration": 247,
    "start_time": "2023-02-16T12:21:15.835Z"
   },
   {
    "duration": 213,
    "start_time": "2023-02-16T12:21:16.084Z"
   },
   {
    "duration": 166,
    "start_time": "2023-02-16T12:21:16.303Z"
   },
   {
    "duration": 252,
    "start_time": "2023-02-16T12:21:16.470Z"
   },
   {
    "duration": 172,
    "start_time": "2023-02-16T12:21:16.725Z"
   },
   {
    "duration": 137,
    "start_time": "2023-02-16T12:21:16.903Z"
   },
   {
    "duration": 206,
    "start_time": "2023-02-16T12:21:17.041Z"
   },
   {
    "duration": 274,
    "start_time": "2023-02-16T12:21:17.249Z"
   },
   {
    "duration": 209,
    "start_time": "2023-02-16T12:21:17.525Z"
   },
   {
    "duration": 194,
    "start_time": "2023-02-16T12:21:17.736Z"
   },
   {
    "duration": 150,
    "start_time": "2023-02-16T12:21:17.932Z"
   },
   {
    "duration": 187,
    "start_time": "2023-02-16T12:21:18.084Z"
   },
   {
    "duration": 177,
    "start_time": "2023-02-16T12:21:18.273Z"
   },
   {
    "duration": 196,
    "start_time": "2023-02-16T12:21:18.452Z"
   },
   {
    "duration": 19,
    "start_time": "2023-02-16T12:21:18.649Z"
   },
   {
    "duration": 286,
    "start_time": "2023-02-16T12:21:18.669Z"
   },
   {
    "duration": 6,
    "start_time": "2023-02-16T12:21:51.218Z"
   },
   {
    "duration": 384,
    "start_time": "2023-02-16T12:23:04.050Z"
   },
   {
    "duration": 97,
    "start_time": "2023-02-16T12:23:04.436Z"
   },
   {
    "duration": 40,
    "start_time": "2023-02-16T12:23:04.535Z"
   },
   {
    "duration": 2323,
    "start_time": "2023-02-16T12:23:04.577Z"
   },
   {
    "duration": 13,
    "start_time": "2023-02-16T12:23:06.903Z"
   },
   {
    "duration": 20,
    "start_time": "2023-02-16T12:23:06.918Z"
   },
   {
    "duration": 10,
    "start_time": "2023-02-16T12:23:06.940Z"
   },
   {
    "duration": 18,
    "start_time": "2023-02-16T12:23:06.952Z"
   },
   {
    "duration": 12,
    "start_time": "2023-02-16T12:23:06.971Z"
   },
   {
    "duration": 22,
    "start_time": "2023-02-16T12:23:06.985Z"
   },
   {
    "duration": 32,
    "start_time": "2023-02-16T12:23:07.008Z"
   },
   {
    "duration": 20,
    "start_time": "2023-02-16T12:23:07.042Z"
   },
   {
    "duration": 20,
    "start_time": "2023-02-16T12:23:07.063Z"
   },
   {
    "duration": 33,
    "start_time": "2023-02-16T12:23:07.086Z"
   },
   {
    "duration": 10,
    "start_time": "2023-02-16T12:23:07.124Z"
   },
   {
    "duration": 596,
    "start_time": "2023-02-16T12:23:07.135Z"
   },
   {
    "duration": 8,
    "start_time": "2023-02-16T12:23:07.733Z"
   },
   {
    "duration": 27,
    "start_time": "2023-02-16T12:23:07.742Z"
   },
   {
    "duration": 2966,
    "start_time": "2023-02-16T12:23:07.771Z"
   },
   {
    "duration": 34,
    "start_time": "2023-02-16T12:23:10.739Z"
   },
   {
    "duration": 487,
    "start_time": "2023-02-16T12:23:10.775Z"
   },
   {
    "duration": 174,
    "start_time": "2023-02-16T12:23:11.263Z"
   },
   {
    "duration": 246,
    "start_time": "2023-02-16T12:23:11.439Z"
   },
   {
    "duration": 251,
    "start_time": "2023-02-16T12:23:11.687Z"
   },
   {
    "duration": 240,
    "start_time": "2023-02-16T12:23:11.940Z"
   },
   {
    "duration": 245,
    "start_time": "2023-02-16T12:23:12.181Z"
   },
   {
    "duration": 216,
    "start_time": "2023-02-16T12:23:12.427Z"
   },
   {
    "duration": 292,
    "start_time": "2023-02-16T12:23:12.644Z"
   },
   {
    "duration": 152,
    "start_time": "2023-02-16T12:23:12.938Z"
   },
   {
    "duration": 410,
    "start_time": "2023-02-16T12:23:13.091Z"
   },
   {
    "duration": 309,
    "start_time": "2023-02-16T12:23:13.502Z"
   },
   {
    "duration": 266,
    "start_time": "2023-02-16T12:23:13.812Z"
   },
   {
    "duration": 237,
    "start_time": "2023-02-16T12:23:14.080Z"
   },
   {
    "duration": 297,
    "start_time": "2023-02-16T12:23:14.319Z"
   },
   {
    "duration": 203,
    "start_time": "2023-02-16T12:23:14.618Z"
   },
   {
    "duration": 158,
    "start_time": "2023-02-16T12:23:14.823Z"
   },
   {
    "duration": 157,
    "start_time": "2023-02-16T12:23:14.983Z"
   },
   {
    "duration": 223,
    "start_time": "2023-02-16T12:23:15.142Z"
   },
   {
    "duration": 265,
    "start_time": "2023-02-16T12:23:15.366Z"
   },
   {
    "duration": 203,
    "start_time": "2023-02-16T12:23:15.633Z"
   },
   {
    "duration": 178,
    "start_time": "2023-02-16T12:23:15.840Z"
   },
   {
    "duration": 137,
    "start_time": "2023-02-16T12:23:16.019Z"
   },
   {
    "duration": 188,
    "start_time": "2023-02-16T12:23:16.157Z"
   },
   {
    "duration": 174,
    "start_time": "2023-02-16T12:23:16.347Z"
   },
   {
    "duration": 200,
    "start_time": "2023-02-16T12:23:16.523Z"
   },
   {
    "duration": 28,
    "start_time": "2023-02-16T12:23:16.724Z"
   },
   {
    "duration": 361,
    "start_time": "2023-02-16T12:23:16.755Z"
   },
   {
    "duration": 414,
    "start_time": "2023-02-16T12:23:36.322Z"
   },
   {
    "duration": 109,
    "start_time": "2023-02-16T12:23:36.739Z"
   },
   {
    "duration": 62,
    "start_time": "2023-02-16T12:23:36.851Z"
   },
   {
    "duration": 2137,
    "start_time": "2023-02-16T12:23:36.915Z"
   },
   {
    "duration": 10,
    "start_time": "2023-02-16T12:23:39.054Z"
   },
   {
    "duration": 6,
    "start_time": "2023-02-16T12:23:39.066Z"
   },
   {
    "duration": 8,
    "start_time": "2023-02-16T12:23:39.073Z"
   },
   {
    "duration": 35,
    "start_time": "2023-02-16T12:23:39.082Z"
   },
   {
    "duration": 10,
    "start_time": "2023-02-16T12:23:39.118Z"
   },
   {
    "duration": 20,
    "start_time": "2023-02-16T12:23:39.129Z"
   },
   {
    "duration": 24,
    "start_time": "2023-02-16T12:23:39.151Z"
   },
   {
    "duration": 30,
    "start_time": "2023-02-16T12:23:39.176Z"
   },
   {
    "duration": 26,
    "start_time": "2023-02-16T12:23:39.207Z"
   },
   {
    "duration": 8,
    "start_time": "2023-02-16T12:23:39.236Z"
   },
   {
    "duration": 8,
    "start_time": "2023-02-16T12:23:39.245Z"
   },
   {
    "duration": 610,
    "start_time": "2023-02-16T12:23:39.254Z"
   },
   {
    "duration": 7,
    "start_time": "2023-02-16T12:23:39.866Z"
   },
   {
    "duration": 43,
    "start_time": "2023-02-16T12:23:39.875Z"
   },
   {
    "duration": 2942,
    "start_time": "2023-02-16T12:23:39.919Z"
   },
   {
    "duration": 52,
    "start_time": "2023-02-16T12:23:42.863Z"
   },
   {
    "duration": 425,
    "start_time": "2023-02-16T12:23:42.918Z"
   },
   {
    "duration": 170,
    "start_time": "2023-02-16T12:23:43.345Z"
   },
   {
    "duration": 233,
    "start_time": "2023-02-16T12:23:43.517Z"
   },
   {
    "duration": 240,
    "start_time": "2023-02-16T12:23:43.752Z"
   },
   {
    "duration": 229,
    "start_time": "2023-02-16T12:23:43.994Z"
   },
   {
    "duration": 222,
    "start_time": "2023-02-16T12:23:44.225Z"
   },
   {
    "duration": 210,
    "start_time": "2023-02-16T12:23:44.449Z"
   },
   {
    "duration": 286,
    "start_time": "2023-02-16T12:23:44.660Z"
   },
   {
    "duration": 133,
    "start_time": "2023-02-16T12:23:44.948Z"
   },
   {
    "duration": 414,
    "start_time": "2023-02-16T12:23:45.084Z"
   },
   {
    "duration": 280,
    "start_time": "2023-02-16T12:23:45.500Z"
   },
   {
    "duration": 228,
    "start_time": "2023-02-16T12:23:45.782Z"
   },
   {
    "duration": 214,
    "start_time": "2023-02-16T12:23:46.012Z"
   },
   {
    "duration": 170,
    "start_time": "2023-02-16T12:23:46.227Z"
   },
   {
    "duration": 188,
    "start_time": "2023-02-16T12:23:46.398Z"
   },
   {
    "duration": 185,
    "start_time": "2023-02-16T12:23:46.587Z"
   },
   {
    "duration": 188,
    "start_time": "2023-02-16T12:23:46.774Z"
   },
   {
    "duration": 200,
    "start_time": "2023-02-16T12:23:46.963Z"
   },
   {
    "duration": 269,
    "start_time": "2023-02-16T12:23:47.165Z"
   },
   {
    "duration": 199,
    "start_time": "2023-02-16T12:23:47.436Z"
   },
   {
    "duration": 188,
    "start_time": "2023-02-16T12:23:47.639Z"
   },
   {
    "duration": 131,
    "start_time": "2023-02-16T12:23:47.829Z"
   },
   {
    "duration": 194,
    "start_time": "2023-02-16T12:23:47.962Z"
   },
   {
    "duration": 173,
    "start_time": "2023-02-16T12:23:48.158Z"
   },
   {
    "duration": 206,
    "start_time": "2023-02-16T12:23:48.333Z"
   },
   {
    "duration": 21,
    "start_time": "2023-02-16T12:23:48.541Z"
   },
   {
    "duration": 298,
    "start_time": "2023-02-16T12:23:48.563Z"
   },
   {
    "duration": 3565,
    "start_time": "2023-02-16T12:24:13.134Z"
   },
   {
    "duration": 2781,
    "start_time": "2023-02-16T12:24:51.077Z"
   },
   {
    "duration": 7,
    "start_time": "2023-02-16T12:26:40.538Z"
   },
   {
    "duration": 7,
    "start_time": "2023-02-16T12:26:50.682Z"
   },
   {
    "duration": 8,
    "start_time": "2023-02-16T12:26:58.520Z"
   },
   {
    "duration": 10,
    "start_time": "2023-02-16T12:27:08.502Z"
   },
   {
    "duration": 3482,
    "start_time": "2023-02-16T12:27:37.459Z"
   },
   {
    "duration": 79,
    "start_time": "2023-02-16T12:31:53.389Z"
   },
   {
    "duration": 400,
    "start_time": "2023-02-16T12:32:26.352Z"
   },
   {
    "duration": 123,
    "start_time": "2023-02-16T12:32:26.756Z"
   },
   {
    "duration": 62,
    "start_time": "2023-02-16T12:32:26.881Z"
   },
   {
    "duration": 2222,
    "start_time": "2023-02-16T12:32:26.946Z"
   },
   {
    "duration": 10,
    "start_time": "2023-02-16T12:32:29.169Z"
   },
   {
    "duration": 48,
    "start_time": "2023-02-16T12:32:29.180Z"
   },
   {
    "duration": 71,
    "start_time": "2023-02-16T12:32:29.230Z"
   },
   {
    "duration": 67,
    "start_time": "2023-02-16T12:32:29.303Z"
   },
   {
    "duration": 57,
    "start_time": "2023-02-16T12:32:29.371Z"
   },
   {
    "duration": 16,
    "start_time": "2023-02-16T12:32:29.431Z"
   },
   {
    "duration": 24,
    "start_time": "2023-02-16T12:32:29.448Z"
   },
   {
    "duration": 15,
    "start_time": "2023-02-16T12:32:29.474Z"
   },
   {
    "duration": 34,
    "start_time": "2023-02-16T12:32:29.491Z"
   },
   {
    "duration": 9,
    "start_time": "2023-02-16T12:32:29.527Z"
   },
   {
    "duration": 8,
    "start_time": "2023-02-16T12:32:29.539Z"
   },
   {
    "duration": 606,
    "start_time": "2023-02-16T12:32:29.549Z"
   },
   {
    "duration": 7,
    "start_time": "2023-02-16T12:32:30.157Z"
   },
   {
    "duration": 56,
    "start_time": "2023-02-16T12:32:30.166Z"
   },
   {
    "duration": 3000,
    "start_time": "2023-02-16T12:32:30.224Z"
   },
   {
    "duration": 32,
    "start_time": "2023-02-16T12:32:33.226Z"
   },
   {
    "duration": 438,
    "start_time": "2023-02-16T12:32:33.260Z"
   },
   {
    "duration": 166,
    "start_time": "2023-02-16T12:32:33.700Z"
   },
   {
    "duration": 253,
    "start_time": "2023-02-16T12:32:33.868Z"
   },
   {
    "duration": 225,
    "start_time": "2023-02-16T12:32:34.123Z"
   },
   {
    "duration": 268,
    "start_time": "2023-02-16T12:32:34.350Z"
   },
   {
    "duration": 248,
    "start_time": "2023-02-16T12:32:34.620Z"
   },
   {
    "duration": 227,
    "start_time": "2023-02-16T12:32:34.870Z"
   },
   {
    "duration": 290,
    "start_time": "2023-02-16T12:32:35.105Z"
   },
   {
    "duration": 138,
    "start_time": "2023-02-16T12:32:35.397Z"
   },
   {
    "duration": 421,
    "start_time": "2023-02-16T12:32:35.536Z"
   },
   {
    "duration": 290,
    "start_time": "2023-02-16T12:32:35.959Z"
   },
   {
    "duration": 223,
    "start_time": "2023-02-16T12:32:36.251Z"
   },
   {
    "duration": 240,
    "start_time": "2023-02-16T12:32:36.475Z"
   },
   {
    "duration": 212,
    "start_time": "2023-02-16T12:32:36.733Z"
   },
   {
    "duration": 217,
    "start_time": "2023-02-16T12:32:36.947Z"
   },
   {
    "duration": 160,
    "start_time": "2023-02-16T12:32:37.166Z"
   },
   {
    "duration": 139,
    "start_time": "2023-02-16T12:32:37.328Z"
   },
   {
    "duration": 208,
    "start_time": "2023-02-16T12:32:37.469Z"
   },
   {
    "duration": 268,
    "start_time": "2023-02-16T12:32:37.680Z"
   },
   {
    "duration": 205,
    "start_time": "2023-02-16T12:32:37.949Z"
   },
   {
    "duration": 177,
    "start_time": "2023-02-16T12:32:38.156Z"
   },
   {
    "duration": 129,
    "start_time": "2023-02-16T12:32:38.335Z"
   },
   {
    "duration": 176,
    "start_time": "2023-02-16T12:32:38.466Z"
   },
   {
    "duration": 171,
    "start_time": "2023-02-16T12:32:38.644Z"
   },
   {
    "duration": 206,
    "start_time": "2023-02-16T12:32:38.817Z"
   },
   {
    "duration": 21,
    "start_time": "2023-02-16T12:32:39.025Z"
   },
   {
    "duration": 303,
    "start_time": "2023-02-16T12:32:39.048Z"
   },
   {
    "duration": 151,
    "start_time": "2023-02-16T12:34:53.417Z"
   },
   {
    "duration": 183,
    "start_time": "2023-02-16T12:36:23.695Z"
   },
   {
    "duration": 187,
    "start_time": "2023-02-16T12:37:30.600Z"
   },
   {
    "duration": 246,
    "start_time": "2023-02-16T12:38:55.997Z"
   },
   {
    "duration": 170,
    "start_time": "2023-02-16T12:40:23.247Z"
   },
   {
    "duration": 172,
    "start_time": "2023-02-16T12:40:39.001Z"
   },
   {
    "duration": 152,
    "start_time": "2023-02-16T12:41:13.253Z"
   },
   {
    "duration": 310,
    "start_time": "2023-02-16T12:43:28.706Z"
   },
   {
    "duration": 195,
    "start_time": "2023-02-16T12:47:47.610Z"
   },
   {
    "duration": 175,
    "start_time": "2023-02-16T12:48:05.737Z"
   },
   {
    "duration": 182,
    "start_time": "2023-02-16T12:48:24.949Z"
   },
   {
    "duration": 271,
    "start_time": "2023-02-16T12:48:46.712Z"
   },
   {
    "duration": 182,
    "start_time": "2023-02-16T12:51:11.605Z"
   },
   {
    "duration": 216,
    "start_time": "2023-02-16T12:53:53.461Z"
   },
   {
    "duration": 84,
    "start_time": "2023-02-16T12:55:17.810Z"
   },
   {
    "duration": 25,
    "start_time": "2023-02-16T12:55:36.797Z"
   },
   {
    "duration": 189,
    "start_time": "2023-02-16T12:56:00.833Z"
   },
   {
    "duration": 238,
    "start_time": "2023-02-16T12:56:57.140Z"
   },
   {
    "duration": 199,
    "start_time": "2023-02-16T12:57:25.985Z"
   },
   {
    "duration": 183,
    "start_time": "2023-02-16T13:04:43.044Z"
   },
   {
    "duration": 214,
    "start_time": "2023-02-16T13:05:01.088Z"
   },
   {
    "duration": 163,
    "start_time": "2023-02-16T13:06:03.851Z"
   },
   {
    "duration": 153,
    "start_time": "2023-02-16T13:08:44.606Z"
   },
   {
    "duration": 282,
    "start_time": "2023-02-16T13:09:01.953Z"
   },
   {
    "duration": 307,
    "start_time": "2023-02-16T13:10:16.868Z"
   },
   {
    "duration": 263,
    "start_time": "2023-02-16T13:10:35.049Z"
   },
   {
    "duration": 36,
    "start_time": "2023-02-16T13:30:39.577Z"
   },
   {
    "duration": 416,
    "start_time": "2023-02-16T13:30:54.810Z"
   },
   {
    "duration": 102,
    "start_time": "2023-02-16T13:30:55.228Z"
   },
   {
    "duration": 47,
    "start_time": "2023-02-16T13:30:55.332Z"
   },
   {
    "duration": 2354,
    "start_time": "2023-02-16T13:30:55.382Z"
   },
   {
    "duration": 10,
    "start_time": "2023-02-16T13:30:57.738Z"
   },
   {
    "duration": 10,
    "start_time": "2023-02-16T13:30:57.749Z"
   },
   {
    "duration": 10,
    "start_time": "2023-02-16T13:30:57.760Z"
   },
   {
    "duration": 16,
    "start_time": "2023-02-16T13:30:57.773Z"
   },
   {
    "duration": 13,
    "start_time": "2023-02-16T13:30:57.790Z"
   },
   {
    "duration": 14,
    "start_time": "2023-02-16T13:30:57.805Z"
   },
   {
    "duration": 21,
    "start_time": "2023-02-16T13:30:57.820Z"
   },
   {
    "duration": 12,
    "start_time": "2023-02-16T13:30:57.843Z"
   },
   {
    "duration": 47,
    "start_time": "2023-02-16T13:30:57.857Z"
   },
   {
    "duration": 10,
    "start_time": "2023-02-16T13:30:57.905Z"
   },
   {
    "duration": 9,
    "start_time": "2023-02-16T13:30:57.917Z"
   },
   {
    "duration": 599,
    "start_time": "2023-02-16T13:30:57.928Z"
   },
   {
    "duration": 8,
    "start_time": "2023-02-16T13:30:58.528Z"
   },
   {
    "duration": 33,
    "start_time": "2023-02-16T13:30:58.538Z"
   },
   {
    "duration": 3072,
    "start_time": "2023-02-16T13:30:58.573Z"
   },
   {
    "duration": 36,
    "start_time": "2023-02-16T13:31:01.647Z"
   },
   {
    "duration": 452,
    "start_time": "2023-02-16T13:31:01.686Z"
   },
   {
    "duration": 159,
    "start_time": "2023-02-16T13:31:02.140Z"
   },
   {
    "duration": 187,
    "start_time": "2023-02-16T13:31:02.301Z"
   },
   {
    "duration": 174,
    "start_time": "2023-02-16T13:31:02.490Z"
   },
   {
    "duration": 187,
    "start_time": "2023-02-16T13:31:02.665Z"
   },
   {
    "duration": 160,
    "start_time": "2023-02-16T13:31:02.854Z"
   },
   {
    "duration": 226,
    "start_time": "2023-02-16T13:31:03.016Z"
   },
   {
    "duration": 281,
    "start_time": "2023-02-16T13:31:03.246Z"
   },
   {
    "duration": 135,
    "start_time": "2023-02-16T13:31:03.530Z"
   },
   {
    "duration": 349,
    "start_time": "2023-02-16T13:31:03.666Z"
   },
   {
    "duration": 284,
    "start_time": "2023-02-16T13:31:04.016Z"
   },
   {
    "duration": 234,
    "start_time": "2023-02-16T13:31:04.303Z"
   },
   {
    "duration": 261,
    "start_time": "2023-02-16T13:31:04.539Z"
   },
   {
    "duration": 170,
    "start_time": "2023-02-16T13:31:04.803Z"
   },
   {
    "duration": 214,
    "start_time": "2023-02-16T13:31:04.975Z"
   },
   {
    "duration": 178,
    "start_time": "2023-02-16T13:31:05.190Z"
   },
   {
    "duration": 149,
    "start_time": "2023-02-16T13:31:05.370Z"
   },
   {
    "duration": 211,
    "start_time": "2023-02-16T13:31:05.521Z"
   },
   {
    "duration": 285,
    "start_time": "2023-02-16T13:31:05.735Z"
   },
   {
    "duration": 213,
    "start_time": "2023-02-16T13:31:06.022Z"
   },
   {
    "duration": 188,
    "start_time": "2023-02-16T13:31:06.237Z"
   },
   {
    "duration": 135,
    "start_time": "2023-02-16T13:31:06.427Z"
   },
   {
    "duration": 211,
    "start_time": "2023-02-16T13:31:06.564Z"
   },
   {
    "duration": 244,
    "start_time": "2023-02-16T13:31:06.778Z"
   },
   {
    "duration": 221,
    "start_time": "2023-02-16T13:31:07.024Z"
   },
   {
    "duration": 212,
    "start_time": "2023-02-16T13:31:07.247Z"
   },
   {
    "duration": 282,
    "start_time": "2023-02-16T13:31:07.461Z"
   },
   {
    "duration": 456,
    "start_time": "2023-02-17T06:08:41.840Z"
   },
   {
    "duration": 101,
    "start_time": "2023-02-17T06:08:42.298Z"
   },
   {
    "duration": 68,
    "start_time": "2023-02-17T06:08:42.401Z"
   },
   {
    "duration": 2751,
    "start_time": "2023-02-17T06:08:42.471Z"
   },
   {
    "duration": 14,
    "start_time": "2023-02-17T06:08:45.226Z"
   },
   {
    "duration": 6,
    "start_time": "2023-02-17T06:08:45.242Z"
   },
   {
    "duration": 26,
    "start_time": "2023-02-17T06:08:45.249Z"
   },
   {
    "duration": 17,
    "start_time": "2023-02-17T06:08:45.277Z"
   },
   {
    "duration": 10,
    "start_time": "2023-02-17T06:08:45.295Z"
   },
   {
    "duration": 20,
    "start_time": "2023-02-17T06:08:45.307Z"
   },
   {
    "duration": 30,
    "start_time": "2023-02-17T06:08:45.329Z"
   },
   {
    "duration": 23,
    "start_time": "2023-02-17T06:08:45.361Z"
   },
   {
    "duration": 31,
    "start_time": "2023-02-17T06:08:45.386Z"
   },
   {
    "duration": 35,
    "start_time": "2023-02-17T06:08:45.421Z"
   },
   {
    "duration": 16,
    "start_time": "2023-02-17T06:08:45.461Z"
   },
   {
    "duration": 879,
    "start_time": "2023-02-17T06:08:45.479Z"
   },
   {
    "duration": 15,
    "start_time": "2023-02-17T06:08:46.360Z"
   },
   {
    "duration": 46,
    "start_time": "2023-02-17T06:08:46.377Z"
   },
   {
    "duration": 3796,
    "start_time": "2023-02-17T06:08:46.425Z"
   },
   {
    "duration": 70,
    "start_time": "2023-02-17T06:08:50.223Z"
   },
   {
    "duration": 523,
    "start_time": "2023-02-17T06:08:50.295Z"
   },
   {
    "duration": 206,
    "start_time": "2023-02-17T06:08:50.821Z"
   },
   {
    "duration": 238,
    "start_time": "2023-02-17T06:08:51.030Z"
   },
   {
    "duration": 200,
    "start_time": "2023-02-17T06:08:51.271Z"
   },
   {
    "duration": 228,
    "start_time": "2023-02-17T06:08:51.474Z"
   },
   {
    "duration": 179,
    "start_time": "2023-02-17T06:08:51.704Z"
   },
   {
    "duration": 296,
    "start_time": "2023-02-17T06:08:51.885Z"
   },
   {
    "duration": 341,
    "start_time": "2023-02-17T06:08:52.184Z"
   },
   {
    "duration": 188,
    "start_time": "2023-02-17T06:08:52.527Z"
   },
   {
    "duration": 389,
    "start_time": "2023-02-17T06:08:52.717Z"
   },
   {
    "duration": 386,
    "start_time": "2023-02-17T06:08:53.108Z"
   },
   {
    "duration": 279,
    "start_time": "2023-02-17T06:08:53.496Z"
   },
   {
    "duration": 309,
    "start_time": "2023-02-17T06:08:53.777Z"
   },
   {
    "duration": 203,
    "start_time": "2023-02-17T06:08:54.088Z"
   },
   {
    "duration": 223,
    "start_time": "2023-02-17T06:08:54.293Z"
   },
   {
    "duration": 198,
    "start_time": "2023-02-17T06:08:54.518Z"
   },
   {
    "duration": 178,
    "start_time": "2023-02-17T06:08:54.718Z"
   },
   {
    "duration": 273,
    "start_time": "2023-02-17T06:08:54.898Z"
   },
   {
    "duration": 308,
    "start_time": "2023-02-17T06:08:55.174Z"
   },
   {
    "duration": 273,
    "start_time": "2023-02-17T06:08:55.484Z"
   },
   {
    "duration": 202,
    "start_time": "2023-02-17T06:08:55.762Z"
   },
   {
    "duration": 165,
    "start_time": "2023-02-17T06:08:55.967Z"
   },
   {
    "duration": 209,
    "start_time": "2023-02-17T06:08:56.134Z"
   },
   {
    "duration": 259,
    "start_time": "2023-02-17T06:08:56.618Z"
   },
   {
    "duration": 201,
    "start_time": "2023-02-17T06:08:56.878Z"
   },
   {
    "duration": 332,
    "start_time": "2023-02-17T06:08:57.081Z"
   },
   {
    "duration": 20,
    "start_time": "2023-02-17T06:12:24.937Z"
   },
   {
    "duration": 105,
    "start_time": "2023-02-17T06:12:28.922Z"
   }
  ],
  "kernelspec": {
   "display_name": "Python 3 (ipykernel)",
   "language": "python",
   "name": "python3"
  },
  "language_info": {
   "codemirror_mode": {
    "name": "ipython",
    "version": 3
   },
   "file_extension": ".py",
   "mimetype": "text/x-python",
   "name": "python",
   "nbconvert_exporter": "python",
   "pygments_lexer": "ipython3",
   "version": "3.10.9"
  },
  "toc": {
   "base_numbering": 1,
   "nav_menu": {},
   "number_sections": true,
   "sideBar": true,
   "skip_h1_title": true,
   "title_cell": "Table of Contents",
   "title_sidebar": "Contents",
   "toc_cell": false,
   "toc_position": {},
   "toc_section_display": true,
   "toc_window_display": false
  }
 },
 "nbformat": 4,
 "nbformat_minor": 2
}
