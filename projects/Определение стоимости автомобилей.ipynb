{
 "cells": [
  {
   "cell_type": "markdown",
   "metadata": {},
   "source": [
    "# Определение стоимости автомобилей"
   ]
  },
  {
   "cell_type": "markdown",
   "metadata": {},
   "source": [
    "Сервис по продаже автомобилей с пробегом «Не бит, не крашен» разрабатывает приложение для привлечения новых клиентов. В нём можно быстро узнать рыночную стоимость своего автомобиля. В вашем распоряжении исторические данные: технические характеристики, комплектации и цены автомобилей. Вам нужно построить модель для определения стоимости. \n",
    "\n",
    "Заказчику важны:\n",
    "\n",
    "- качество предсказания;\n",
    "- скорость предсказания;\n",
    "- время обучения."
   ]
  },
  {
   "cell_type": "markdown",
   "metadata": {},
   "source": [
    "## Подготовка данных\n",
    "### Импорт библиотек\n",
    "Импортирую необходимые библиотеки"
   ]
  },
  {
   "cell_type": "code",
   "execution_count": 1,
   "metadata": {},
   "outputs": [],
   "source": [
    "import pandas as pd\n",
    "import numpy as np\n",
    "from sklearn.preprocessing import StandardScaler\n",
    "from sklearn.model_selection import train_test_split\n",
    "from sklearn.metrics import mean_squared_error\n",
    "from sklearn.linear_model import LinearRegression\n",
    "import lightgbm as lgb\n",
    "from catboost import CatBoostRegressor\n",
    "from tqdm.notebook import tqdm"
   ]
  },
  {
   "cell_type": "markdown",
   "metadata": {},
   "source": [
    "### Чтение датафрейма и получение основной информации"
   ]
  },
  {
   "cell_type": "markdown",
   "metadata": {},
   "source": [
    "Открываю файл для чтения"
   ]
  },
  {
   "cell_type": "code",
   "execution_count": 2,
   "metadata": {},
   "outputs": [],
   "source": [
    "try:\n",
    "    data = pd.read_csv('/datasets/autos.csv')\n",
    "except:\n",
    "    data = pd.read_csv('https://code.s3.yandex.net/datasets/autos.csv')"
   ]
  },
  {
   "cell_type": "markdown",
   "metadata": {},
   "source": [
    "Вывожу первые строки датафрейма"
   ]
  },
  {
   "cell_type": "code",
   "execution_count": 3,
   "metadata": {},
   "outputs": [
    {
     "data": {
      "text/html": [
       "<div>\n",
       "<style scoped>\n",
       "    .dataframe tbody tr th:only-of-type {\n",
       "        vertical-align: middle;\n",
       "    }\n",
       "\n",
       "    .dataframe tbody tr th {\n",
       "        vertical-align: top;\n",
       "    }\n",
       "\n",
       "    .dataframe thead th {\n",
       "        text-align: right;\n",
       "    }\n",
       "</style>\n",
       "<table border=\"1\" class=\"dataframe\">\n",
       "  <thead>\n",
       "    <tr style=\"text-align: right;\">\n",
       "      <th></th>\n",
       "      <th>DateCrawled</th>\n",
       "      <th>Price</th>\n",
       "      <th>VehicleType</th>\n",
       "      <th>RegistrationYear</th>\n",
       "      <th>Gearbox</th>\n",
       "      <th>Power</th>\n",
       "      <th>Model</th>\n",
       "      <th>Kilometer</th>\n",
       "      <th>RegistrationMonth</th>\n",
       "      <th>FuelType</th>\n",
       "      <th>Brand</th>\n",
       "      <th>Repaired</th>\n",
       "      <th>DateCreated</th>\n",
       "      <th>NumberOfPictures</th>\n",
       "      <th>PostalCode</th>\n",
       "      <th>LastSeen</th>\n",
       "    </tr>\n",
       "  </thead>\n",
       "  <tbody>\n",
       "    <tr>\n",
       "      <th>0</th>\n",
       "      <td>2016-03-24 11:52:17</td>\n",
       "      <td>480</td>\n",
       "      <td>NaN</td>\n",
       "      <td>1993</td>\n",
       "      <td>manual</td>\n",
       "      <td>0</td>\n",
       "      <td>golf</td>\n",
       "      <td>150000</td>\n",
       "      <td>0</td>\n",
       "      <td>petrol</td>\n",
       "      <td>volkswagen</td>\n",
       "      <td>NaN</td>\n",
       "      <td>2016-03-24 00:00:00</td>\n",
       "      <td>0</td>\n",
       "      <td>70435</td>\n",
       "      <td>2016-04-07 03:16:57</td>\n",
       "    </tr>\n",
       "    <tr>\n",
       "      <th>1</th>\n",
       "      <td>2016-03-24 10:58:45</td>\n",
       "      <td>18300</td>\n",
       "      <td>coupe</td>\n",
       "      <td>2011</td>\n",
       "      <td>manual</td>\n",
       "      <td>190</td>\n",
       "      <td>NaN</td>\n",
       "      <td>125000</td>\n",
       "      <td>5</td>\n",
       "      <td>gasoline</td>\n",
       "      <td>audi</td>\n",
       "      <td>yes</td>\n",
       "      <td>2016-03-24 00:00:00</td>\n",
       "      <td>0</td>\n",
       "      <td>66954</td>\n",
       "      <td>2016-04-07 01:46:50</td>\n",
       "    </tr>\n",
       "    <tr>\n",
       "      <th>2</th>\n",
       "      <td>2016-03-14 12:52:21</td>\n",
       "      <td>9800</td>\n",
       "      <td>suv</td>\n",
       "      <td>2004</td>\n",
       "      <td>auto</td>\n",
       "      <td>163</td>\n",
       "      <td>grand</td>\n",
       "      <td>125000</td>\n",
       "      <td>8</td>\n",
       "      <td>gasoline</td>\n",
       "      <td>jeep</td>\n",
       "      <td>NaN</td>\n",
       "      <td>2016-03-14 00:00:00</td>\n",
       "      <td>0</td>\n",
       "      <td>90480</td>\n",
       "      <td>2016-04-05 12:47:46</td>\n",
       "    </tr>\n",
       "    <tr>\n",
       "      <th>3</th>\n",
       "      <td>2016-03-17 16:54:04</td>\n",
       "      <td>1500</td>\n",
       "      <td>small</td>\n",
       "      <td>2001</td>\n",
       "      <td>manual</td>\n",
       "      <td>75</td>\n",
       "      <td>golf</td>\n",
       "      <td>150000</td>\n",
       "      <td>6</td>\n",
       "      <td>petrol</td>\n",
       "      <td>volkswagen</td>\n",
       "      <td>no</td>\n",
       "      <td>2016-03-17 00:00:00</td>\n",
       "      <td>0</td>\n",
       "      <td>91074</td>\n",
       "      <td>2016-03-17 17:40:17</td>\n",
       "    </tr>\n",
       "    <tr>\n",
       "      <th>4</th>\n",
       "      <td>2016-03-31 17:25:20</td>\n",
       "      <td>3600</td>\n",
       "      <td>small</td>\n",
       "      <td>2008</td>\n",
       "      <td>manual</td>\n",
       "      <td>69</td>\n",
       "      <td>fabia</td>\n",
       "      <td>90000</td>\n",
       "      <td>7</td>\n",
       "      <td>gasoline</td>\n",
       "      <td>skoda</td>\n",
       "      <td>no</td>\n",
       "      <td>2016-03-31 00:00:00</td>\n",
       "      <td>0</td>\n",
       "      <td>60437</td>\n",
       "      <td>2016-04-06 10:17:21</td>\n",
       "    </tr>\n",
       "  </tbody>\n",
       "</table>\n",
       "</div>"
      ],
      "text/plain": [
       "           DateCrawled  Price VehicleType  RegistrationYear Gearbox  Power  \\\n",
       "0  2016-03-24 11:52:17    480         NaN              1993  manual      0   \n",
       "1  2016-03-24 10:58:45  18300       coupe              2011  manual    190   \n",
       "2  2016-03-14 12:52:21   9800         suv              2004    auto    163   \n",
       "3  2016-03-17 16:54:04   1500       small              2001  manual     75   \n",
       "4  2016-03-31 17:25:20   3600       small              2008  manual     69   \n",
       "\n",
       "   Model  Kilometer  RegistrationMonth  FuelType       Brand Repaired  \\\n",
       "0   golf     150000                  0    petrol  volkswagen      NaN   \n",
       "1    NaN     125000                  5  gasoline        audi      yes   \n",
       "2  grand     125000                  8  gasoline        jeep      NaN   \n",
       "3   golf     150000                  6    petrol  volkswagen       no   \n",
       "4  fabia      90000                  7  gasoline       skoda       no   \n",
       "\n",
       "           DateCreated  NumberOfPictures  PostalCode             LastSeen  \n",
       "0  2016-03-24 00:00:00                 0       70435  2016-04-07 03:16:57  \n",
       "1  2016-03-24 00:00:00                 0       66954  2016-04-07 01:46:50  \n",
       "2  2016-03-14 00:00:00                 0       90480  2016-04-05 12:47:46  \n",
       "3  2016-03-17 00:00:00                 0       91074  2016-03-17 17:40:17  \n",
       "4  2016-03-31 00:00:00                 0       60437  2016-04-06 10:17:21  "
      ]
     },
     "execution_count": 3,
     "metadata": {},
     "output_type": "execute_result"
    }
   ],
   "source": [
    "data.head()"
   ]
  },
  {
   "cell_type": "markdown",
   "metadata": {},
   "source": [
    "Получаю основную информацию о датафрейме"
   ]
  },
  {
   "cell_type": "code",
   "execution_count": 4,
   "metadata": {
    "scrolled": false
   },
   "outputs": [
    {
     "name": "stdout",
     "output_type": "stream",
     "text": [
      "<class 'pandas.core.frame.DataFrame'>\n",
      "RangeIndex: 354369 entries, 0 to 354368\n",
      "Data columns (total 16 columns):\n",
      " #   Column             Non-Null Count   Dtype \n",
      "---  ------             --------------   ----- \n",
      " 0   DateCrawled        354369 non-null  object\n",
      " 1   Price              354369 non-null  int64 \n",
      " 2   VehicleType        316879 non-null  object\n",
      " 3   RegistrationYear   354369 non-null  int64 \n",
      " 4   Gearbox            334536 non-null  object\n",
      " 5   Power              354369 non-null  int64 \n",
      " 6   Model              334664 non-null  object\n",
      " 7   Kilometer          354369 non-null  int64 \n",
      " 8   RegistrationMonth  354369 non-null  int64 \n",
      " 9   FuelType           321474 non-null  object\n",
      " 10  Brand              354369 non-null  object\n",
      " 11  Repaired           283215 non-null  object\n",
      " 12  DateCreated        354369 non-null  object\n",
      " 13  NumberOfPictures   354369 non-null  int64 \n",
      " 14  PostalCode         354369 non-null  int64 \n",
      " 15  LastSeen           354369 non-null  object\n",
      "dtypes: int64(7), object(9)\n",
      "memory usage: 43.3+ MB\n"
     ]
    }
   ],
   "source": [
    "data.info()"
   ]
  },
  {
   "cell_type": "markdown",
   "metadata": {},
   "source": [
    "### Вычисление актуальной даты\n",
    "Сохраняю значение актуальной на будущее"
   ]
  },
  {
   "cell_type": "code",
   "execution_count": 5,
   "metadata": {},
   "outputs": [
    {
     "data": {
      "text/plain": [
       "'2016-04-07 14:36:58'"
      ]
     },
     "execution_count": 5,
     "metadata": {},
     "output_type": "execute_result"
    }
   ],
   "source": [
    "MAX_DATA = data['DateCrawled'].max()\n",
    "MAX_DATA"
   ]
  },
  {
   "cell_type": "markdown",
   "metadata": {},
   "source": [
    "### Удаление ненужных столбцов"
   ]
  },
  {
   "cell_type": "markdown",
   "metadata": {},
   "source": [
    "Проверяю значения в столбце `NumberOfPictures`"
   ]
  },
  {
   "cell_type": "code",
   "execution_count": 6,
   "metadata": {},
   "outputs": [
    {
     "data": {
      "text/plain": [
       "0    354369\n",
       "Name: NumberOfPictures, dtype: int64"
      ]
     },
     "execution_count": 6,
     "metadata": {},
     "output_type": "execute_result"
    }
   ],
   "source": [
    "data['NumberOfPictures'].value_counts()"
   ]
  },
  {
   "cell_type": "markdown",
   "metadata": {},
   "source": [
    "Столбец содержит только нули, поэтому его можно удалить, а вместе с ним и удаляю столбцы, которые не нужны для прогнозирования цены"
   ]
  },
  {
   "cell_type": "code",
   "execution_count": 7,
   "metadata": {},
   "outputs": [],
   "source": [
    "data = data.drop(columns=[\n",
    "    'NumberOfPictures',\n",
    "    'PostalCode',\n",
    "    'RegistrationMonth',\n",
    "    'DateCreated',\n",
    "    'DateCrawled',\n",
    "    'LastSeen'\n",
    "])"
   ]
  },
  {
   "cell_type": "markdown",
   "metadata": {},
   "source": [
    "### Удаление дубликатов\n",
    "Вывожу количество дубликатов"
   ]
  },
  {
   "cell_type": "code",
   "execution_count": 8,
   "metadata": {},
   "outputs": [
    {
     "data": {
      "text/plain": [
       "45040"
      ]
     },
     "execution_count": 8,
     "metadata": {},
     "output_type": "execute_result"
    }
   ],
   "source": [
    "data.duplicated().sum()"
   ]
  },
  {
   "cell_type": "markdown",
   "metadata": {},
   "source": [
    "Удаляю дубликаты"
   ]
  },
  {
   "cell_type": "code",
   "execution_count": 9,
   "metadata": {},
   "outputs": [],
   "source": [
    "data = data.drop_duplicates()"
   ]
  },
  {
   "cell_type": "markdown",
   "metadata": {},
   "source": [
    "### Обработка пропусков"
   ]
  },
  {
   "cell_type": "markdown",
   "metadata": {},
   "source": [
    "Вывожу количество пропусков"
   ]
  },
  {
   "cell_type": "code",
   "execution_count": 10,
   "metadata": {},
   "outputs": [
    {
     "data": {
      "text/plain": [
       "Price                   0\n",
       "VehicleType         34559\n",
       "RegistrationYear        0\n",
       "Gearbox             17207\n",
       "Power                   0\n",
       "Model               18361\n",
       "Kilometer               0\n",
       "FuelType            30764\n",
       "Brand                   0\n",
       "Repaired            64558\n",
       "dtype: int64"
      ]
     },
     "execution_count": 10,
     "metadata": {},
     "output_type": "execute_result"
    }
   ],
   "source": [
    "data.isna().sum()"
   ]
  },
  {
   "cell_type": "markdown",
   "metadata": {},
   "source": [
    "Проверяю количество значений в столбце `Gearbox`"
   ]
  },
  {
   "cell_type": "code",
   "execution_count": 11,
   "metadata": {},
   "outputs": [
    {
     "data": {
      "text/plain": [
       "manual    232774\n",
       "auto       59348\n",
       "Name: Gearbox, dtype: int64"
      ]
     },
     "execution_count": 11,
     "metadata": {},
     "output_type": "execute_result"
    }
   ],
   "source": [
    "data['Gearbox'].value_counts()"
   ]
  },
  {
   "cell_type": "markdown",
   "metadata": {},
   "source": [
    "Заполняю пропуски и перевожу строки в числа"
   ]
  },
  {
   "cell_type": "code",
   "execution_count": 12,
   "metadata": {},
   "outputs": [],
   "source": [
    "data['Gearbox'] = data['Gearbox'].apply(lambda x: 0 if x =='auto' else 1)"
   ]
  },
  {
   "cell_type": "markdown",
   "metadata": {},
   "source": [
    "Проверяю количество значений в столбце `Repaired`"
   ]
  },
  {
   "cell_type": "code",
   "execution_count": 13,
   "metadata": {},
   "outputs": [
    {
     "data": {
      "text/plain": [
       "no     211328\n",
       "yes     33443\n",
       "Name: Repaired, dtype: int64"
      ]
     },
     "execution_count": 13,
     "metadata": {},
     "output_type": "execute_result"
    }
   ],
   "source": [
    "data['Repaired'].value_counts()"
   ]
  },
  {
   "cell_type": "markdown",
   "metadata": {},
   "source": [
    "Заполняю пропуски и перевожу строки в числа"
   ]
  },
  {
   "cell_type": "code",
   "execution_count": 14,
   "metadata": {},
   "outputs": [],
   "source": [
    "data['Repaired'] = data['Repaired'].apply(lambda x: 0 if x =='yes' else 1)"
   ]
  },
  {
   "cell_type": "markdown",
   "metadata": {},
   "source": [
    "Остальные данные с пропусками удаляю"
   ]
  },
  {
   "cell_type": "code",
   "execution_count": 15,
   "metadata": {},
   "outputs": [
    {
     "name": "stdout",
     "output_type": "stream",
     "text": [
      "Удалено строк: 59202 (19.14%)\n"
     ]
    }
   ],
   "source": [
    "before_data = data.shape[0]\n",
    "data = data.dropna()\n",
    "print(f\"Удалено строк: {before_data - data.shape[0]} ({(100 - (data.shape[0]/before_data) * 100):.2f}%)\")"
   ]
  },
  {
   "cell_type": "markdown",
   "metadata": {},
   "source": [
    "### Очистка выбросов\n",
    "Для очистки выбросов выведу гистограммы все возможных столбцов"
   ]
  },
  {
   "cell_type": "code",
   "execution_count": 16,
   "metadata": {},
   "outputs": [
    {
     "data": {
      "image/png": "[encoded data removed]",
      "text/plain": [
       "<Figure size 1500x700 with 6 Axes>"
      ]
     },
     "metadata": {},
     "output_type": "display_data"
    }
   ],
   "source": [
    "data.hist(figsize=(15, 7));"
   ]
  },
  {
   "cell_type": "markdown",
   "metadata": {},
   "source": [
    "Далее отдельно выведу гистограмму для мощности"
   ]
  },
  {
   "cell_type": "code",
   "execution_count": 17,
   "metadata": {},
   "outputs": [
    {
     "data": {
      "image/png": "[encoded data removed]",
      "text/plain": [
       "<Figure size 1500x700 with 1 Axes>"
      ]
     },
     "metadata": {},
     "output_type": "display_data"
    }
   ],
   "source": [
    "data['Power'].plot.hist(\n",
    "    bins=2000,\n",
    "    xticks=[i for i in range(0, 501, 20)],\n",
    "    xlim=(0,500),\n",
    "    grid=True,\n",
    "    figsize=(15,7)\n",
    ");"
   ]
  },
  {
   "cell_type": "markdown",
   "metadata": {},
   "source": [
    "Опираясь на гистограмму очищаю выбросы"
   ]
  },
  {
   "cell_type": "code",
   "execution_count": 18,
   "metadata": {},
   "outputs": [],
   "source": [
    "data = data[data['Power'] >= 40]\n",
    "data = data[data['Power'] <= 350]"
   ]
  },
  {
   "cell_type": "markdown",
   "metadata": {},
   "source": [
    "Также вывожу гистограмму для года регистрации"
   ]
  },
  {
   "cell_type": "code",
   "execution_count": 19,
   "metadata": {
    "scrolled": false
   },
   "outputs": [
    {
     "data": {
      "image/png": "[encoded data removed]",
      "text/plain": [
       "<Figure size 1500x700 with 1 Axes>"
      ]
     },
     "metadata": {},
     "output_type": "display_data"
    }
   ],
   "source": [
    "data['RegistrationYear'].plot.hist(\n",
    "    bins=50,\n",
    "    grid=True,\n",
    "    xticks=[i for i in range(1900, 2031, 5)],\n",
    "    figsize=(15, 7)\n",
    ");"
   ]
  },
  {
   "cell_type": "markdown",
   "metadata": {},
   "source": [
    "Гистограмма помогает определить нижний предел. Верхний предел буду определять по переменной `MAX_DATA`, которая хранит в себе дату последней выгрузки данных."
   ]
  },
  {
   "cell_type": "code",
   "execution_count": 20,
   "metadata": {},
   "outputs": [
    {
     "data": {
      "text/plain": [
       "'2016-04-07 14:36:58'"
      ]
     },
     "execution_count": 20,
     "metadata": {},
     "output_type": "execute_result"
    }
   ],
   "source": [
    "MAX_DATA"
   ]
  },
  {
   "cell_type": "markdown",
   "metadata": {},
   "source": [
    "Снова очищаю выбросы"
   ]
  },
  {
   "cell_type": "code",
   "execution_count": 21,
   "metadata": {},
   "outputs": [],
   "source": [
    "data = data[data['RegistrationYear'] >= 1965]\n",
    "data = data[data['RegistrationYear'] <= 2016]"
   ]
  },
  {
   "cell_type": "markdown",
   "metadata": {},
   "source": [
    "Столбец с ценой тяжело разобрать на графике гистограммы, однако думаю, что у цены не должно быть нулевого значения"
   ]
  },
  {
   "cell_type": "code",
   "execution_count": 22,
   "metadata": {},
   "outputs": [],
   "source": [
    "data = data[data['Price'] != 0]"
   ]
  },
  {
   "cell_type": "markdown",
   "metadata": {},
   "source": [
    "### Подготовка данных к обучению\n",
    "Делю признаки и целевой признак"
   ]
  },
  {
   "cell_type": "code",
   "execution_count": 23,
   "metadata": {},
   "outputs": [],
   "source": [
    "features = data.drop(columns=['Price'])\n",
    "target = data['Price']"
   ]
  },
  {
   "cell_type": "markdown",
   "metadata": {},
   "source": [
    "Делю данные на тестовую, валидационную и тестовую выборки"
   ]
  },
  {
   "cell_type": "code",
   "execution_count": 24,
   "metadata": {},
   "outputs": [],
   "source": [
    "features_train, features_valid, target_train, target_valid = train_test_split(\n",
    "    features,\n",
    "    target,\n",
    "    test_size=0.4,\n",
    "    random_state=1\n",
    ")\n",
    "features_valid, features_test, target_valid, target_test = train_test_split(\n",
    "    features_valid,\n",
    "    target_valid,\n",
    "    test_size=0.5,\n",
    "    random_state=1\n",
    ")"
   ]
  },
  {
   "cell_type": "markdown",
   "metadata": {},
   "source": [
    "### Кодирование текстовых признаков\n",
    "Пишу класс TargetEncoder"
   ]
  },
  {
   "cell_type": "code",
   "execution_count": 25,
   "metadata": {},
   "outputs": [],
   "source": [
    "# \n",
    "class TargetEncoder():\n",
    "    def fit_transform(self, features, target):\n",
    "        # В переменных буду хранить среднее значение целевого признака\n",
    "        self.instruction = {}\n",
    "        self.mean_target = target.mean()\n",
    "        full_data = pd.concat([features, target], axis=1)\n",
    "        for column in features.columns:\n",
    "            self.instruction[column] = full_data.groupby(column)['Price'].mean()\n",
    "            features[column] = features[column].apply(lambda x: self.instruction[column].get(x))\n",
    "        return features\n",
    "    \n",
    "    \n",
    "    def transform(self, features):\n",
    "        for column in features.columns:\n",
    "            features[column] = features[column].apply(lambda x: self.instruction[column].get(x))\n",
    "        # Если данных не было в тренировачной выборке, то они заполняются просто средним значением\n",
    "        return features.fillna(self.mean_target)"
   ]
  },
  {
   "cell_type": "markdown",
   "metadata": {},
   "source": [
    "Методом TargetEncoder кодирую признаки"
   ]
  },
  {
   "cell_type": "code",
   "execution_count": 26,
   "metadata": {},
   "outputs": [],
   "source": [
    "encoding_columns = [\n",
    "    'VehicleType',\n",
    "    'Model',\n",
    "    'FuelType',\n",
    "    'Brand'\n",
    "]\n",
    "encoder = TargetEncoder()\n",
    "encode_data_train = encoder.fit_transform(features_train.loc[:, encoding_columns], target_train)\n",
    "encode_data_valid = encoder.transform(features_valid.loc[:, encoding_columns])\n",
    "encode_data_test = encoder.transform(features_test.loc[:, encoding_columns])"
   ]
  },
  {
   "cell_type": "markdown",
   "metadata": {},
   "source": [
    "### Масштабирование данных\n",
    "Провожу масштабирование данных"
   ]
  },
  {
   "cell_type": "code",
   "execution_count": 27,
   "metadata": {},
   "outputs": [],
   "source": [
    "scale_columns = [\n",
    "    'RegistrationYear',\n",
    "    'Power',\n",
    "    'Kilometer'\n",
    "]\n",
    "scaler = StandardScaler()\n",
    "scale_data_train = scaler.fit_transform(features_train.loc[:, scale_columns])\n",
    "scale_data_valid = scaler.transform(features_valid.loc[:, scale_columns])\n",
    "scale_data_test = scaler.transform(features_test.loc[:, scale_columns])"
   ]
  },
  {
   "cell_type": "code",
   "execution_count": 28,
   "metadata": {},
   "outputs": [],
   "source": [
    "features_train = np.concatenate([\n",
    "    scale_data_train,\n",
    "    encode_data_train,\n",
    "    np.array(features_train.drop(columns=scale_columns + encoding_columns))\n",
    "], axis = 1)\n",
    "features_valid = np.concatenate([\n",
    "    scale_data_valid,\n",
    "    encode_data_valid,\n",
    "    np.array(features_valid.drop(columns=scale_columns + encoding_columns))\n",
    "], axis = 1)\n",
    "features_test = np.concatenate([\n",
    "    scale_data_test,\n",
    "    encode_data_test,\n",
    "    np.array(features_test.drop(columns=scale_columns + encoding_columns))\n",
    "], axis = 1)"
   ]
  },
  {
   "cell_type": "markdown",
   "metadata": {},
   "source": [
    "**Вывод раздела.** В данном разделе были произведены следующие действия:\n",
    "+ загружены необходимые библиотеки;\n",
    "+ загружены данные;\n",
    "+ выведена основная информация о данных;\n",
    "+ убраны лишние столбцы;\n",
    "+ обработаны пропуски;\n",
    "+ очищены выбросы;\n",
    "+ произведено преобразование дат;\n",
    "+ получены дамми признаки;\n",
    "+ данные подготовлены к обучению;\n",
    "+ произведено масштабирование данных.\n",
    "\n",
    "Данные действия должны увеличить точность предсказания моделей машинного обучения."
   ]
  },
  {
   "cell_type": "markdown",
   "metadata": {},
   "source": [
    "## Обучение моделей\n",
    "### Линейная регрессия\n",
    "Проверяю модель линейной регрессии"
   ]
  },
  {
   "cell_type": "code",
   "execution_count": 29,
   "metadata": {},
   "outputs": [
    {
     "name": "stdout",
     "output_type": "stream",
     "text": [
      "CPU times: total: 109 ms\n",
      "Wall time: 39 ms\n"
     ]
    },
    {
     "data": {
      "text/plain": [
       "2697.5472243496965"
      ]
     },
     "execution_count": 29,
     "metadata": {},
     "output_type": "execute_result"
    }
   ],
   "source": [
    "%%time\n",
    "model = LinearRegression()\n",
    "model.fit(features_train, target_train)\n",
    "mean_squared_error(target_valid, model.predict(features_valid)) ** 0.5"
   ]
  },
  {
   "cell_type": "markdown",
   "metadata": {},
   "source": [
    "### LGBMRegressor\n",
    "Проверяю LGBMRegressor"
   ]
  },
  {
   "cell_type": "code",
   "execution_count": 30,
   "metadata": {},
   "outputs": [
    {
     "data": {
      "application/vnd.jupyter.widget-view+json": {
       "model_id": "",
       "version_major": 2,
       "version_minor": 0
      },
      "text/plain": [
       "learning_rate:   0%|          | 0/5 [00:00<?, ?it/s]"
      ]
     },
     "metadata": {},
     "output_type": "display_data"
    },
    {
     "data": {
      "application/vnd.jupyter.widget-view+json": {
       "model_id": "",
       "version_major": 2,
       "version_minor": 0
      },
      "text/plain": [
       "est:   0%|          | 0/4 [00:00<?, ?it/s]"
      ]
     },
     "metadata": {},
     "output_type": "display_data"
    },
    {
     "data": {
      "application/vnd.jupyter.widget-view+json": {
       "model_id": "",
       "version_major": 2,
       "version_minor": 0
      },
      "text/plain": [
       "est:   0%|          | 0/4 [00:00<?, ?it/s]"
      ]
     },
     "metadata": {},
     "output_type": "display_data"
    },
    {
     "data": {
      "application/vnd.jupyter.widget-view+json": {
       "model_id": "",
       "version_major": 2,
       "version_minor": 0
      },
      "text/plain": [
       "est:   0%|          | 0/4 [00:00<?, ?it/s]"
      ]
     },
     "metadata": {},
     "output_type": "display_data"
    },
    {
     "data": {
      "application/vnd.jupyter.widget-view+json": {
       "model_id": "",
       "version_major": 2,
       "version_minor": 0
      },
      "text/plain": [
       "est:   0%|          | 0/4 [00:00<?, ?it/s]"
      ]
     },
     "metadata": {},
     "output_type": "display_data"
    },
    {
     "data": {
      "application/vnd.jupyter.widget-view+json": {
       "model_id": "",
       "version_major": 2,
       "version_minor": 0
      },
      "text/plain": [
       "est:   0%|          | 0/4 [00:00<?, ?it/s]"
      ]
     },
     "metadata": {},
     "output_type": "display_data"
    },
    {
     "name": "stdout",
     "output_type": "stream",
     "text": [
      "CPU times: total: 4min 55s\n",
      "Wall time: 51.5 s\n"
     ]
    }
   ],
   "source": [
    "%%time\n",
    "best_score = 2500\n",
    "best_est = 0\n",
    "best_num_leaves = 0\n",
    "best_learning_rate = 0\n",
    "for learning_rate in tqdm(range(1, 6), position=0, desc=\"learning_rate\", leave=False):\n",
    "    for est in tqdm(range(500, 2001, 500), position=1, desc=\"est\", leave=False):\n",
    "        model = lgb.LGBMRegressor(\n",
    "            learning_rate=0.1 * learning_rate,\n",
    "            n_estimators=est,\n",
    "            n_jobs=-1,\n",
    "            random_state=1\n",
    "        )\n",
    "        model.fit(features_train, target_train)\n",
    "        score = mean_squared_error(target_valid, model.predict(features_valid)) ** 0.5\n",
    "        if score < best_score:\n",
    "            best_score = score\n",
    "            best_est = est\n",
    "            best_learning_rate = 0.1 * learning_rate"
   ]
  },
  {
   "cell_type": "markdown",
   "metadata": {},
   "source": [
    "Вывожу наилучшие параметры для модели LGBMRegressor"
   ]
  },
  {
   "cell_type": "code",
   "execution_count": 31,
   "metadata": {},
   "outputs": [
    {
     "name": "stdout",
     "output_type": "stream",
     "text": [
      "1554.323016154402\n",
      "2000\n",
      "0.1\n"
     ]
    }
   ],
   "source": [
    "print(best_score)\n",
    "print(best_est)\n",
    "print(best_learning_rate)"
   ]
  },
  {
   "cell_type": "markdown",
   "metadata": {},
   "source": [
    "### CatBoostRegressor\n",
    "Проверяю CatBoostRegressor"
   ]
  },
  {
   "cell_type": "code",
   "execution_count": 32,
   "metadata": {
    "scrolled": true
   },
   "outputs": [
    {
     "data": {
      "application/vnd.jupyter.widget-view+json": {
       "model_id": "",
       "version_major": 2,
       "version_minor": 0
      },
      "text/plain": [
       "iterations:   0%|          | 0/4 [00:00<?, ?it/s]"
      ]
     },
     "metadata": {},
     "output_type": "display_data"
    },
    {
     "data": {
      "application/vnd.jupyter.widget-view+json": {
       "model_id": "",
       "version_major": 2,
       "version_minor": 0
      },
      "text/plain": [
       "learning_rate:   0%|          | 0/5 [00:00<?, ?it/s]"
      ]
     },
     "metadata": {},
     "output_type": "display_data"
    },
    {
     "data": {
      "application/vnd.jupyter.widget-view+json": {
       "model_id": "",
       "version_major": 2,
       "version_minor": 0
      },
      "text/plain": [
       "learning_rate:   0%|          | 0/5 [00:00<?, ?it/s]"
      ]
     },
     "metadata": {},
     "output_type": "display_data"
    },
    {
     "data": {
      "application/vnd.jupyter.widget-view+json": {
       "model_id": "",
       "version_major": 2,
       "version_minor": 0
      },
      "text/plain": [
       "learning_rate:   0%|          | 0/5 [00:00<?, ?it/s]"
      ]
     },
     "metadata": {},
     "output_type": "display_data"
    },
    {
     "data": {
      "application/vnd.jupyter.widget-view+json": {
       "model_id": "",
       "version_major": 2,
       "version_minor": 0
      },
      "text/plain": [
       "learning_rate:   0%|          | 0/5 [00:00<?, ?it/s]"
      ]
     },
     "metadata": {},
     "output_type": "display_data"
    },
    {
     "name": "stdout",
     "output_type": "stream",
     "text": [
      "CPU times: total: 2min 44s\n",
      "Wall time: 1min 42s\n"
     ]
    }
   ],
   "source": [
    "%%time\n",
    "best_score = 2500\n",
    "best_learning_rate = 0\n",
    "best_iterations = 0\n",
    "for iterations in tqdm(range(500, 2001, 500), position=0, desc=\"iterations\", leave=False):\n",
    "    for learning_rate in tqdm(range(1, 6), position=1, desc=\"learning_rate\", leave=False):\n",
    "        model = CatBoostRegressor(\n",
    "            learning_rate=0.1 * learning_rate,\n",
    "            iterations=iterations,\n",
    "            random_state=1,\n",
    "            verbose=0,\n",
    "            task_type=\"GPU\"\n",
    "        )\n",
    "        model.fit(features_train, target_train)\n",
    "        score = mean_squared_error(target_valid, model.predict(features_valid)) ** 0.5\n",
    "        if score < best_score:\n",
    "            best_score = score\n",
    "            best_learning_rate = 0.1 * learning_rate\n",
    "            best_iterations = iterations"
   ]
  },
  {
   "cell_type": "markdown",
   "metadata": {},
   "source": [
    "Вывожу наилучшие параметры для модели CatBoostRegressor"
   ]
  },
  {
   "cell_type": "code",
   "execution_count": 33,
   "metadata": {},
   "outputs": [
    {
     "name": "stdout",
     "output_type": "stream",
     "text": [
      "1561.816515900329\n",
      "0.2\n",
      "2000\n"
     ]
    }
   ],
   "source": [
    "print(best_score)\n",
    "print(best_learning_rate)\n",
    "print(best_iterations)"
   ]
  },
  {
   "cell_type": "markdown",
   "metadata": {},
   "source": [
    "**Вывод раздела.** В данном разделе был произведён перебор гиперпараметров разных моделей машинного обучения, чтобы найти лучшие гиперпараметры для каждой из моделей на валидационной выборке."
   ]
  },
  {
   "cell_type": "markdown",
   "metadata": {},
   "source": [
    "## Анализ моделей\n",
    "### Линейная регрессия\n",
    "Оцениваю время работы и точность линейной регрессии на тестовых данных\n",
    "\n",
    "**Время обучения**"
   ]
  },
  {
   "cell_type": "code",
   "execution_count": 34,
   "metadata": {
    "scrolled": true
   },
   "outputs": [
    {
     "name": "stdout",
     "output_type": "stream",
     "text": [
      "CPU times: total: 62.5 ms\n",
      "Wall time: 33.5 ms\n"
     ]
    },
    {
     "data": {
      "text/html": [
       "<style>#sk-container-id-1 {color: black;background-color: white;}#sk-container-id-1 pre{padding: 0;}#sk-container-id-1 div.sk-toggleable {background-color: white;}#sk-container-id-1 label.sk-toggleable__label {cursor: pointer;display: block;width: 100%;margin-bottom: 0;padding: 0.3em;box-sizing: border-box;text-align: center;}#sk-container-id-1 label.sk-toggleable__label-arrow:before {content: \"▸\";float: left;margin-right: 0.25em;color: #696969;}#sk-container-id-1 label.sk-toggleable__label-arrow:hover:before {color: black;}#sk-container-id-1 div.sk-estimator:hover label.sk-toggleable__label-arrow:before {color: black;}#sk-container-id-1 div.sk-toggleable__content {max-height: 0;max-width: 0;overflow: hidden;text-align: left;background-color: #f0f8ff;}#sk-container-id-1 div.sk-toggleable__content pre {margin: 0.2em;color: black;border-radius: 0.25em;background-color: #f0f8ff;}#sk-container-id-1 input.sk-toggleable__control:checked~div.sk-toggleable__content {max-height: 200px;max-width: 100%;overflow: auto;}#sk-container-id-1 input.sk-toggleable__control:checked~label.sk-toggleable__label-arrow:before {content: \"▾\";}#sk-container-id-1 div.sk-estimator input.sk-toggleable__control:checked~label.sk-toggleable__label {background-color: #d4ebff;}#sk-container-id-1 div.sk-label input.sk-toggleable__control:checked~label.sk-toggleable__label {background-color: #d4ebff;}#sk-container-id-1 input.sk-hidden--visually {border: 0;clip: rect(1px 1px 1px 1px);clip: rect(1px, 1px, 1px, 1px);height: 1px;margin: -1px;overflow: hidden;padding: 0;position: absolute;width: 1px;}#sk-container-id-1 div.sk-estimator {font-family: monospace;background-color: #f0f8ff;border: 1px dotted black;border-radius: 0.25em;box-sizing: border-box;margin-bottom: 0.5em;}#sk-container-id-1 div.sk-estimator:hover {background-color: #d4ebff;}#sk-container-id-1 div.sk-parallel-item::after {content: \"\";width: 100%;border-bottom: 1px solid gray;flex-grow: 1;}#sk-container-id-1 div.sk-label:hover label.sk-toggleable__label {background-color: #d4ebff;}#sk-container-id-1 div.sk-serial::before {content: \"\";position: absolute;border-left: 1px solid gray;box-sizing: border-box;top: 0;bottom: 0;left: 50%;z-index: 0;}#sk-container-id-1 div.sk-serial {display: flex;flex-direction: column;align-items: center;background-color: white;padding-right: 0.2em;padding-left: 0.2em;position: relative;}#sk-container-id-1 div.sk-item {position: relative;z-index: 1;}#sk-container-id-1 div.sk-parallel {display: flex;align-items: stretch;justify-content: center;background-color: white;position: relative;}#sk-container-id-1 div.sk-item::before, #sk-container-id-1 div.sk-parallel-item::before {content: \"\";position: absolute;border-left: 1px solid gray;box-sizing: border-box;top: 0;bottom: 0;left: 50%;z-index: -1;}#sk-container-id-1 div.sk-parallel-item {display: flex;flex-direction: column;z-index: 1;position: relative;background-color: white;}#sk-container-id-1 div.sk-parallel-item:first-child::after {align-self: flex-end;width: 50%;}#sk-container-id-1 div.sk-parallel-item:last-child::after {align-self: flex-start;width: 50%;}#sk-container-id-1 div.sk-parallel-item:only-child::after {width: 0;}#sk-container-id-1 div.sk-dashed-wrapped {border: 1px dashed gray;margin: 0 0.4em 0.5em 0.4em;box-sizing: border-box;padding-bottom: 0.4em;background-color: white;}#sk-container-id-1 div.sk-label label {font-family: monospace;font-weight: bold;display: inline-block;line-height: 1.2em;}#sk-container-id-1 div.sk-label-container {text-align: center;}#sk-container-id-1 div.sk-container {/* jupyter's `normalize.less` sets `[hidden] { display: none; }` but bootstrap.min.css set `[hidden] { display: none !important; }` so we also need the `!important` here to be able to override the default hidden behavior on the sphinx rendered scikit-learn.org. See: https://github.com/scikit-learn/scikit-learn/issues/21755 */display: inline-block !important;position: relative;}#sk-container-id-1 div.sk-text-repr-fallback {display: none;}</style><div id=\"sk-container-id-1\" class=\"sk-top-container\"><div class=\"sk-text-repr-fallback\"><pre>LinearRegression()</pre><b>In a Jupyter environment, please rerun this cell to show the HTML representation or trust the notebook. <br />On GitHub, the HTML representation is unable to render, please try loading this page with nbviewer.org.</b></div><div class=\"sk-container\" hidden><div class=\"sk-item\"><div class=\"sk-estimator sk-toggleable\"><input class=\"sk-toggleable__control sk-hidden--visually\" id=\"sk-estimator-id-1\" type=\"checkbox\" checked><label for=\"sk-estimator-id-1\" class=\"sk-toggleable__label sk-toggleable__label-arrow\">LinearRegression</label><div class=\"sk-toggleable__content\"><pre>LinearRegression()</pre></div></div></div></div></div>"
      ],
      "text/plain": [
       "LinearRegression()"
      ]
     },
     "execution_count": 34,
     "metadata": {},
     "output_type": "execute_result"
    }
   ],
   "source": [
    "%%time\n",
    "model = LinearRegression()\n",
    "model.fit(features_train, target_train)"
   ]
  },
  {
   "cell_type": "markdown",
   "metadata": {},
   "source": [
    "**Время предсказания**"
   ]
  },
  {
   "cell_type": "code",
   "execution_count": 35,
   "metadata": {
    "scrolled": true
   },
   "outputs": [
    {
     "name": "stdout",
     "output_type": "stream",
     "text": [
      "CPU times: total: 15.6 ms\n",
      "Wall time: 1 ms\n"
     ]
    }
   ],
   "source": [
    "%%time\n",
    "predicted = model.predict(features_test)"
   ]
  },
  {
   "cell_type": "markdown",
   "metadata": {},
   "source": [
    "**Оценка модели**"
   ]
  },
  {
   "cell_type": "code",
   "execution_count": 36,
   "metadata": {
    "scrolled": true
   },
   "outputs": [
    {
     "data": {
      "text/plain": [
       "2711.670096154414"
      ]
     },
     "execution_count": 36,
     "metadata": {},
     "output_type": "execute_result"
    }
   ],
   "source": [
    "mean_squared_error(target_test, predicted) ** 0.5"
   ]
  },
  {
   "cell_type": "markdown",
   "metadata": {},
   "source": [
    "### LGBMRegressor\n",
    "Оцениваю время работы и точность LGBMRegressor на тестовых данных\n",
    "\n",
    "**Время обучения**"
   ]
  },
  {
   "cell_type": "code",
   "execution_count": 37,
   "metadata": {},
   "outputs": [
    {
     "name": "stdout",
     "output_type": "stream",
     "text": [
      "CPU times: total: 18 s\n",
      "Wall time: 3.17 s\n"
     ]
    },
    {
     "data": {
      "text/html": [
       "<style>#sk-container-id-2 {color: black;background-color: white;}#sk-container-id-2 pre{padding: 0;}#sk-container-id-2 div.sk-toggleable {background-color: white;}#sk-container-id-2 label.sk-toggleable__label {cursor: pointer;display: block;width: 100%;margin-bottom: 0;padding: 0.3em;box-sizing: border-box;text-align: center;}#sk-container-id-2 label.sk-toggleable__label-arrow:before {content: \"▸\";float: left;margin-right: 0.25em;color: #696969;}#sk-container-id-2 label.sk-toggleable__label-arrow:hover:before {color: black;}#sk-container-id-2 div.sk-estimator:hover label.sk-toggleable__label-arrow:before {color: black;}#sk-container-id-2 div.sk-toggleable__content {max-height: 0;max-width: 0;overflow: hidden;text-align: left;background-color: #f0f8ff;}#sk-container-id-2 div.sk-toggleable__content pre {margin: 0.2em;color: black;border-radius: 0.25em;background-color: #f0f8ff;}#sk-container-id-2 input.sk-toggleable__control:checked~div.sk-toggleable__content {max-height: 200px;max-width: 100%;overflow: auto;}#sk-container-id-2 input.sk-toggleable__control:checked~label.sk-toggleable__label-arrow:before {content: \"▾\";}#sk-container-id-2 div.sk-estimator input.sk-toggleable__control:checked~label.sk-toggleable__label {background-color: #d4ebff;}#sk-container-id-2 div.sk-label input.sk-toggleable__control:checked~label.sk-toggleable__label {background-color: #d4ebff;}#sk-container-id-2 input.sk-hidden--visually {border: 0;clip: rect(1px 1px 1px 1px);clip: rect(1px, 1px, 1px, 1px);height: 1px;margin: -1px;overflow: hidden;padding: 0;position: absolute;width: 1px;}#sk-container-id-2 div.sk-estimator {font-family: monospace;background-color: #f0f8ff;border: 1px dotted black;border-radius: 0.25em;box-sizing: border-box;margin-bottom: 0.5em;}#sk-container-id-2 div.sk-estimator:hover {background-color: #d4ebff;}#sk-container-id-2 div.sk-parallel-item::after {content: \"\";width: 100%;border-bottom: 1px solid gray;flex-grow: 1;}#sk-container-id-2 div.sk-label:hover label.sk-toggleable__label {background-color: #d4ebff;}#sk-container-id-2 div.sk-serial::before {content: \"\";position: absolute;border-left: 1px solid gray;box-sizing: border-box;top: 0;bottom: 0;left: 50%;z-index: 0;}#sk-container-id-2 div.sk-serial {display: flex;flex-direction: column;align-items: center;background-color: white;padding-right: 0.2em;padding-left: 0.2em;position: relative;}#sk-container-id-2 div.sk-item {position: relative;z-index: 1;}#sk-container-id-2 div.sk-parallel {display: flex;align-items: stretch;justify-content: center;background-color: white;position: relative;}#sk-container-id-2 div.sk-item::before, #sk-container-id-2 div.sk-parallel-item::before {content: \"\";position: absolute;border-left: 1px solid gray;box-sizing: border-box;top: 0;bottom: 0;left: 50%;z-index: -1;}#sk-container-id-2 div.sk-parallel-item {display: flex;flex-direction: column;z-index: 1;position: relative;background-color: white;}#sk-container-id-2 div.sk-parallel-item:first-child::after {align-self: flex-end;width: 50%;}#sk-container-id-2 div.sk-parallel-item:last-child::after {align-self: flex-start;width: 50%;}#sk-container-id-2 div.sk-parallel-item:only-child::after {width: 0;}#sk-container-id-2 div.sk-dashed-wrapped {border: 1px dashed gray;margin: 0 0.4em 0.5em 0.4em;box-sizing: border-box;padding-bottom: 0.4em;background-color: white;}#sk-container-id-2 div.sk-label label {font-family: monospace;font-weight: bold;display: inline-block;line-height: 1.2em;}#sk-container-id-2 div.sk-label-container {text-align: center;}#sk-container-id-2 div.sk-container {/* jupyter's `normalize.less` sets `[hidden] { display: none; }` but bootstrap.min.css set `[hidden] { display: none !important; }` so we also need the `!important` here to be able to override the default hidden behavior on the sphinx rendered scikit-learn.org. See: https://github.com/scikit-learn/scikit-learn/issues/21755 */display: inline-block !important;position: relative;}#sk-container-id-2 div.sk-text-repr-fallback {display: none;}</style><div id=\"sk-container-id-2\" class=\"sk-top-container\"><div class=\"sk-text-repr-fallback\"><pre>LGBMRegressor(learning_rate=0.05, n_estimators=1500, random_state=1)</pre><b>In a Jupyter environment, please rerun this cell to show the HTML representation or trust the notebook. <br />On GitHub, the HTML representation is unable to render, please try loading this page with nbviewer.org.</b></div><div class=\"sk-container\" hidden><div class=\"sk-item\"><div class=\"sk-estimator sk-toggleable\"><input class=\"sk-toggleable__control sk-hidden--visually\" id=\"sk-estimator-id-2\" type=\"checkbox\" checked><label for=\"sk-estimator-id-2\" class=\"sk-toggleable__label sk-toggleable__label-arrow\">LGBMRegressor</label><div class=\"sk-toggleable__content\"><pre>LGBMRegressor(learning_rate=0.05, n_estimators=1500, random_state=1)</pre></div></div></div></div></div>"
      ],
      "text/plain": [
       "LGBMRegressor(learning_rate=0.05, n_estimators=1500, random_state=1)"
      ]
     },
     "execution_count": 37,
     "metadata": {},
     "output_type": "execute_result"
    }
   ],
   "source": [
    "%%time\n",
    "model = lgb.LGBMRegressor(\n",
    "    learning_rate=0.05,\n",
    "    n_estimators=1500,\n",
    "    n_jobs=-1,\n",
    "    random_state=1\n",
    ")\n",
    "model.fit(features_train, target_train)"
   ]
  },
  {
   "cell_type": "markdown",
   "metadata": {},
   "source": [
    "**Время предсказания**"
   ]
  },
  {
   "cell_type": "code",
   "execution_count": 38,
   "metadata": {},
   "outputs": [
    {
     "name": "stdout",
     "output_type": "stream",
     "text": [
      "CPU times: total: 3.3 s\n",
      "Wall time: 599 ms\n"
     ]
    }
   ],
   "source": [
    "%%time\n",
    "predicted = model.predict(features_test)"
   ]
  },
  {
   "cell_type": "markdown",
   "metadata": {},
   "source": [
    "**Оценка модели**"
   ]
  },
  {
   "cell_type": "code",
   "execution_count": 39,
   "metadata": {},
   "outputs": [
    {
     "data": {
      "text/plain": [
       "1560.0586561062466"
      ]
     },
     "execution_count": 39,
     "metadata": {},
     "output_type": "execute_result"
    }
   ],
   "source": [
    "mean_squared_error(target_test, predicted) ** 0.5"
   ]
  },
  {
   "cell_type": "markdown",
   "metadata": {},
   "source": [
    "### CatBoostRegressor\n",
    "Оцениваю время работы и точность CatBoostRegressor на тестовых данных\n",
    "\n",
    "**Время обучения**"
   ]
  },
  {
   "cell_type": "code",
   "execution_count": 40,
   "metadata": {},
   "outputs": [
    {
     "name": "stdout",
     "output_type": "stream",
     "text": [
      "CPU times: total: 13 s\n",
      "Wall time: 8.32 s\n"
     ]
    },
    {
     "data": {
      "text/plain": [
       "<catboost.core.CatBoostRegressor at 0x1e84622b8b0>"
      ]
     },
     "execution_count": 40,
     "metadata": {},
     "output_type": "execute_result"
    }
   ],
   "source": [
    "%%time\n",
    "model = CatBoostRegressor(\n",
    "    learning_rate=0.4,\n",
    "    iterations=2000,\n",
    "    random_state=1,\n",
    "    verbose=0,\n",
    "    task_type=\"GPU\"\n",
    ")\n",
    "model.fit(features_train, target_train)"
   ]
  },
  {
   "cell_type": "markdown",
   "metadata": {},
   "source": [
    "**Время предсказания**"
   ]
  },
  {
   "cell_type": "code",
   "execution_count": 41,
   "metadata": {},
   "outputs": [
    {
     "name": "stdout",
     "output_type": "stream",
     "text": [
      "CPU times: total: 109 ms\n",
      "Wall time: 30.5 ms\n"
     ]
    }
   ],
   "source": [
    "%%time\n",
    "predicted = model.predict(features_test)"
   ]
  },
  {
   "cell_type": "markdown",
   "metadata": {},
   "source": [
    "**Оценка модели**"
   ]
  },
  {
   "cell_type": "code",
   "execution_count": 42,
   "metadata": {},
   "outputs": [
    {
     "data": {
      "text/plain": [
       "1574.626781513214"
      ]
     },
     "execution_count": 42,
     "metadata": {},
     "output_type": "execute_result"
    }
   ],
   "source": [
    "mean_squared_error(target_test, predicted) ** 0.5"
   ]
  },
  {
   "cell_type": "markdown",
   "metadata": {},
   "source": [
    "### Итоговая таблица\n",
    "\n",
    "Данные анализа записаны в итоговую таблицу\n",
    "<table style=\"float: left; width: 100%; margin: 20px 0\"> \n",
    "    <tr>\n",
    "        <th>Этап/Модель</th>\n",
    "        <th>Линейная регрессия</th>\n",
    "        <th>LGBMRegressor</th>\n",
    "        <th>CatBoostRegressor</th>\n",
    "    </tr>\n",
    "    <tr>\n",
    "        <td><b>Время обучения, сек</b></td>\n",
    "        <td>0.033</td>\n",
    "        <td>3.17</td>\n",
    "        <td>8.32</td>\n",
    "    </tr>\n",
    "    <tr>\n",
    "        <td><b>Время предсказания, сек</b></td>\n",
    "        <td>0.001</td>\n",
    "        <td>0.599</td>\n",
    "        <td>0.03</td>\n",
    "    </tr>\n",
    "    <tr>\n",
    "        <td><b>Оценка модели, RMSE</b></td>\n",
    "        <td>2711.67</td>\n",
    "        <td>1560.06</td>\n",
    "        <td>1574.63</td>\n",
    "    </tr>\n",
    "</table>\n",
    "\n",
    "**Вывод раздела.** В данном разделе был проведён анализ скорости работы и качества моделей. На основе анализа можно прийти к следующим заключениям:\n",
    "+ линейная регрессия обладает самой быстрой скоростью обучения и предсказания данных, однако в то же время у неё наихудшая точность;\n",
    "+ LGBMRegressor точнее остальных моделей;\n",
    "+ Точность CatBoostRegressor чуть ниже LGBMRegressor, однако эта модель намного быстрее предсказывает данные.\n",
    "\n",
    "Подводя итоги, можно сказать, что CatBoostRegressor и LGBMRegressor схожи по точности, однако скорость предсказания у CatBoostRegressor в разы выше. Скорость обучения влияет на решение не так сильно, потому что обучение происходит реже, чем предсказания.\n",
    "\n",
    "**Вывод.** Целью данной работы было обучить и выбрать наилучшую модель для предсказания цены на авто. Критерии, которые важны были заказчику:\n",
    "+ качество предсказания;\n",
    "+ время обучения модели;\n",
    "+ время предсказания модели.\n",
    "\n",
    "Для выполнения работы были проведены следующие действия:\n",
    "+ подготовлены и обработаны данные;\n",
    "+ обучены модели машинного обчуения;\n",
    "+ проведён анализ моделей машинного обучения и выбрана наилучшая модель.\n",
    "\n",
    "Лучшая модель по итогам данного анализа - CatBoostRegressor."
   ]
  }
 ],
 "metadata": {
  "ExecuteTimeLog": [
   {
    "duration": 414,
    "start_time": "2023-05-28T05:02:28.476Z"
   },
   {
    "duration": 2913,
    "start_time": "2023-05-28T05:03:30.371Z"
   },
   {
    "duration": 33,
    "start_time": "2023-05-28T05:03:39.734Z"
   },
   {
    "duration": 232,
    "start_time": "2023-05-28T05:04:05.743Z"
   },
   {
    "duration": 192,
    "start_time": "2023-05-28T05:04:50.339Z"
   },
   {
    "duration": 887,
    "start_time": "2023-05-28T05:06:14.534Z"
   },
   {
    "duration": 34,
    "start_time": "2023-05-28T05:06:24.727Z"
   },
   {
    "duration": 668,
    "start_time": "2023-05-28T05:06:56.717Z"
   },
   {
    "duration": 851,
    "start_time": "2023-05-28T05:07:29.213Z"
   },
   {
    "duration": 704,
    "start_time": "2023-05-28T05:07:32.414Z"
   },
   {
    "duration": 188,
    "start_time": "2023-05-28T05:07:38.850Z"
   },
   {
    "duration": 44,
    "start_time": "2023-05-28T05:08:45.412Z"
   },
   {
    "duration": 41,
    "start_time": "2023-05-28T05:09:49.886Z"
   },
   {
    "duration": 44,
    "start_time": "2023-05-28T05:09:59.403Z"
   },
   {
    "duration": 197,
    "start_time": "2023-05-28T05:10:06.855Z"
   },
   {
    "duration": 823,
    "start_time": "2023-05-28T05:10:14.187Z"
   },
   {
    "duration": 426,
    "start_time": "2023-05-28T05:10:25.753Z"
   },
   {
    "duration": 458,
    "start_time": "2023-05-28T05:10:28.941Z"
   },
   {
    "duration": 117,
    "start_time": "2023-05-28T05:10:30.401Z"
   },
   {
    "duration": 29,
    "start_time": "2023-05-28T05:10:34.004Z"
   },
   {
    "duration": 19,
    "start_time": "2023-05-28T05:10:35.966Z"
   },
   {
    "duration": 29,
    "start_time": "2023-05-28T05:10:55.063Z"
   },
   {
    "duration": 32,
    "start_time": "2023-05-28T05:11:01.146Z"
   },
   {
    "duration": 99,
    "start_time": "2023-05-28T05:11:06.927Z"
   },
   {
    "duration": 56,
    "start_time": "2023-05-28T05:11:40.093Z"
   },
   {
    "duration": 31,
    "start_time": "2023-05-28T05:12:04.923Z"
   },
   {
    "duration": 4,
    "start_time": "2023-05-28T05:12:43.871Z"
   },
   {
    "duration": 149,
    "start_time": "2023-05-28T05:13:03.244Z"
   },
   {
    "duration": 29,
    "start_time": "2023-05-28T05:13:34.640Z"
   },
   {
    "duration": 23,
    "start_time": "2023-05-28T05:15:17.971Z"
   },
   {
    "duration": 5,
    "start_time": "2023-05-28T05:15:20.104Z"
   },
   {
    "duration": 158,
    "start_time": "2023-05-28T05:15:21.797Z"
   },
   {
    "duration": 111,
    "start_time": "2023-05-28T05:15:52.476Z"
   },
   {
    "duration": 29,
    "start_time": "2023-05-28T05:16:55.820Z"
   },
   {
    "duration": 6,
    "start_time": "2023-05-28T05:17:41.598Z"
   },
   {
    "duration": 161,
    "start_time": "2023-05-28T05:17:42.129Z"
   },
   {
    "duration": 144,
    "start_time": "2023-05-28T05:18:23.780Z"
   },
   {
    "duration": 25,
    "start_time": "2023-05-28T06:26:17.841Z"
   },
   {
    "duration": 11,
    "start_time": "2023-05-28T06:27:28.534Z"
   },
   {
    "duration": 837,
    "start_time": "2023-05-28T06:28:21.472Z"
   },
   {
    "duration": 155,
    "start_time": "2023-05-28T06:28:27.614Z"
   },
   {
    "duration": 224,
    "start_time": "2023-05-28T06:33:35.432Z"
   },
   {
    "duration": 55,
    "start_time": "2023-05-28T06:34:40.954Z"
   },
   {
    "duration": 34,
    "start_time": "2023-05-28T06:34:46.963Z"
   },
   {
    "duration": 165,
    "start_time": "2023-05-28T06:34:54.774Z"
   },
   {
    "duration": 98,
    "start_time": "2023-05-28T06:38:18.756Z"
   },
   {
    "duration": 84,
    "start_time": "2023-05-28T06:38:43.992Z"
   },
   {
    "duration": 86,
    "start_time": "2023-05-28T06:38:53.097Z"
   },
   {
    "duration": 119,
    "start_time": "2023-05-28T06:39:05.840Z"
   },
   {
    "duration": 80,
    "start_time": "2023-05-28T06:39:10.615Z"
   },
   {
    "duration": 88,
    "start_time": "2023-05-28T06:39:23.229Z"
   },
   {
    "duration": 111,
    "start_time": "2023-05-28T06:39:27.095Z"
   },
   {
    "duration": 172,
    "start_time": "2023-05-28T06:39:49.405Z"
   },
   {
    "duration": 250,
    "start_time": "2023-05-28T06:40:35.463Z"
   },
   {
    "duration": 147,
    "start_time": "2023-05-28T06:40:40.447Z"
   },
   {
    "duration": 175,
    "start_time": "2023-05-28T06:40:54.006Z"
   },
   {
    "duration": 47,
    "start_time": "2023-05-28T06:41:03.997Z"
   },
   {
    "duration": 128,
    "start_time": "2023-05-28T06:41:04.349Z"
   },
   {
    "duration": 75,
    "start_time": "2023-05-28T06:41:06.394Z"
   },
   {
    "duration": 4,
    "start_time": "2023-05-28T06:43:23.979Z"
   },
   {
    "duration": 1585,
    "start_time": "2023-05-28T06:43:56.234Z"
   },
   {
    "duration": 4,
    "start_time": "2023-05-28T06:44:40.738Z"
   },
   {
    "duration": 1677,
    "start_time": "2023-05-28T06:44:44.883Z"
   },
   {
    "duration": 9,
    "start_time": "2023-05-28T06:45:03.332Z"
   },
   {
    "duration": 1514,
    "start_time": "2023-05-28T06:45:13.169Z"
   },
   {
    "duration": 4,
    "start_time": "2023-05-28T06:45:41.181Z"
   },
   {
    "duration": 1576,
    "start_time": "2023-05-28T06:45:44.755Z"
   },
   {
    "duration": 4,
    "start_time": "2023-05-28T06:46:12.900Z"
   },
   {
    "duration": 1590,
    "start_time": "2023-05-28T06:46:15.005Z"
   },
   {
    "duration": 37,
    "start_time": "2023-05-28T06:46:38.241Z"
   },
   {
    "duration": 5,
    "start_time": "2023-05-28T06:47:04.586Z"
   },
   {
    "duration": 1377,
    "start_time": "2023-05-28T06:47:06.442Z"
   },
   {
    "duration": 1651,
    "start_time": "2023-05-28T06:47:27.578Z"
   },
   {
    "duration": 1539,
    "start_time": "2023-05-28T06:47:47.661Z"
   },
   {
    "duration": 3,
    "start_time": "2023-05-28T06:47:53.559Z"
   },
   {
    "duration": 1782,
    "start_time": "2023-05-28T06:47:55.437Z"
   },
   {
    "duration": 1640,
    "start_time": "2023-05-28T06:48:08.963Z"
   },
   {
    "duration": 1808,
    "start_time": "2023-05-28T06:48:33.625Z"
   },
   {
    "duration": 4,
    "start_time": "2023-05-28T06:52:08.839Z"
   },
   {
    "duration": 1119,
    "start_time": "2023-05-28T06:52:14.262Z"
   },
   {
    "duration": 4,
    "start_time": "2023-05-28T06:55:23.243Z"
   },
   {
    "duration": 1249,
    "start_time": "2023-05-28T06:55:25.772Z"
   },
   {
    "duration": 3514,
    "start_time": "2023-05-28T06:56:28.646Z"
   },
   {
    "duration": 67,
    "start_time": "2023-05-28T06:56:35.581Z"
   },
   {
    "duration": 28,
    "start_time": "2023-05-28T06:56:48.340Z"
   },
   {
    "duration": 72,
    "start_time": "2023-05-28T06:56:48.796Z"
   },
   {
    "duration": 134,
    "start_time": "2023-05-28T06:56:50.955Z"
   },
   {
    "duration": 123,
    "start_time": "2023-05-28T06:57:05.052Z"
   },
   {
    "duration": 19,
    "start_time": "2023-05-28T06:57:16.723Z"
   },
   {
    "duration": 1530,
    "start_time": "2023-05-28T07:29:07.115Z"
   },
   {
    "duration": 27,
    "start_time": "2023-05-28T07:30:05.967Z"
   },
   {
    "duration": 27,
    "start_time": "2023-05-28T07:30:58.548Z"
   },
   {
    "duration": 884,
    "start_time": "2023-05-28T07:31:08.458Z"
   },
   {
    "duration": 305,
    "start_time": "2023-05-28T07:31:22.247Z"
   },
   {
    "duration": 77,
    "start_time": "2023-05-28T08:14:45.011Z"
   },
   {
    "duration": 141,
    "start_time": "2023-05-28T08:15:48.018Z"
   },
   {
    "duration": 1631,
    "start_time": "2023-05-28T08:16:54.511Z"
   },
   {
    "duration": 17,
    "start_time": "2023-05-28T08:17:00.680Z"
   },
   {
    "duration": 1090,
    "start_time": "2023-05-28T08:17:44.149Z"
   },
   {
    "duration": 796,
    "start_time": "2023-05-28T08:17:46.117Z"
   },
   {
    "duration": 22,
    "start_time": "2023-05-28T08:17:47.447Z"
   },
   {
    "duration": 123,
    "start_time": "2023-05-28T08:17:50.109Z"
   },
   {
    "duration": 453,
    "start_time": "2023-05-28T08:17:52.624Z"
   },
   {
    "duration": 523,
    "start_time": "2023-05-28T08:17:53.608Z"
   },
   {
    "duration": 113,
    "start_time": "2023-05-28T08:17:55.356Z"
   },
   {
    "duration": 30,
    "start_time": "2023-05-28T08:17:57.412Z"
   },
   {
    "duration": 19,
    "start_time": "2023-05-28T08:17:58.158Z"
   },
   {
    "duration": 30,
    "start_time": "2023-05-28T08:17:58.700Z"
   },
   {
    "duration": 30,
    "start_time": "2023-05-28T08:17:59.319Z"
   },
   {
    "duration": 4,
    "start_time": "2023-05-28T08:18:01.185Z"
   },
   {
    "duration": 192,
    "start_time": "2023-05-28T08:18:01.595Z"
   },
   {
    "duration": 261,
    "start_time": "2023-05-28T08:18:02.407Z"
   },
   {
    "duration": 6,
    "start_time": "2023-05-28T08:18:05.351Z"
   },
   {
    "duration": 5,
    "start_time": "2023-05-28T08:18:25.247Z"
   },
   {
    "duration": 4779,
    "start_time": "2023-05-28T08:18:27.044Z"
   },
   {
    "duration": 1491,
    "start_time": "2023-05-28T08:18:33.597Z"
   },
   {
    "duration": 195,
    "start_time": "2023-05-28T08:18:36.543Z"
   },
   {
    "duration": 280,
    "start_time": "2023-05-28T08:18:37.305Z"
   },
   {
    "duration": 23874,
    "start_time": "2023-05-28T08:18:39.591Z"
   },
   {
    "duration": 21738,
    "start_time": "2023-05-28T08:19:15.020Z"
   },
   {
    "duration": 24252,
    "start_time": "2023-05-28T08:19:46.800Z"
   },
   {
    "duration": 17,
    "start_time": "2023-05-28T08:20:38.121Z"
   },
   {
    "duration": 3,
    "start_time": "2023-05-28T08:22:13.088Z"
   },
   {
    "duration": 2993,
    "start_time": "2023-05-28T08:23:23.305Z"
   },
   {
    "duration": 52,
    "start_time": "2023-05-28T08:23:44.600Z"
   },
   {
    "duration": 2356,
    "start_time": "2023-05-28T08:24:44.343Z"
   },
   {
    "duration": 2534,
    "start_time": "2023-05-28T08:25:07.547Z"
   },
   {
    "duration": 2662,
    "start_time": "2023-05-28T08:25:34.149Z"
   },
   {
    "duration": 2589,
    "start_time": "2023-05-28T08:25:52.642Z"
   },
   {
    "duration": 43,
    "start_time": "2023-05-28T08:31:15.262Z"
   },
   {
    "duration": 1251,
    "start_time": "2023-05-28T08:32:58.315Z"
   },
   {
    "duration": 940,
    "start_time": "2023-05-28T08:32:59.568Z"
   },
   {
    "duration": 37,
    "start_time": "2023-05-28T08:33:00.510Z"
   },
   {
    "duration": 211,
    "start_time": "2023-05-28T08:33:00.549Z"
   },
   {
    "duration": 577,
    "start_time": "2023-05-28T08:33:00.764Z"
   },
   {
    "duration": 615,
    "start_time": "2023-05-28T08:33:01.343Z"
   },
   {
    "duration": 113,
    "start_time": "2023-05-28T08:33:01.960Z"
   },
   {
    "duration": 31,
    "start_time": "2023-05-28T08:33:02.075Z"
   },
   {
    "duration": 70,
    "start_time": "2023-05-28T08:33:02.107Z"
   },
   {
    "duration": 35,
    "start_time": "2023-05-28T08:33:02.179Z"
   },
   {
    "duration": 28,
    "start_time": "2023-05-28T08:33:02.216Z"
   },
   {
    "duration": 5,
    "start_time": "2023-05-28T08:33:02.245Z"
   },
   {
    "duration": 178,
    "start_time": "2023-05-28T08:33:02.251Z"
   },
   {
    "duration": 342,
    "start_time": "2023-05-28T08:33:02.434Z"
   },
   {
    "duration": 6,
    "start_time": "2023-05-28T08:33:02.778Z"
   },
   {
    "duration": 5008,
    "start_time": "2023-05-28T08:33:02.786Z"
   },
   {
    "duration": 314,
    "start_time": "2023-05-28T08:33:07.796Z"
   },
   {
    "duration": 0,
    "start_time": "2023-05-28T08:33:08.113Z"
   },
   {
    "duration": 0,
    "start_time": "2023-05-28T08:33:08.114Z"
   },
   {
    "duration": 0,
    "start_time": "2023-05-28T08:33:08.115Z"
   },
   {
    "duration": 0,
    "start_time": "2023-05-28T08:33:08.117Z"
   },
   {
    "duration": 0,
    "start_time": "2023-05-28T08:33:08.118Z"
   },
   {
    "duration": 1559,
    "start_time": "2023-05-28T08:33:35.326Z"
   },
   {
    "duration": 200,
    "start_time": "2023-05-28T08:33:37.397Z"
   },
   {
    "duration": 349,
    "start_time": "2023-05-28T08:33:38.523Z"
   },
   {
    "duration": 16,
    "start_time": "2023-05-28T08:33:40.152Z"
   },
   {
    "duration": 6,
    "start_time": "2023-05-28T08:34:14.687Z"
   },
   {
    "duration": 4,
    "start_time": "2023-05-28T08:34:28.361Z"
   },
   {
    "duration": 985,
    "start_time": "2023-05-28T08:34:28.844Z"
   },
   {
    "duration": 15,
    "start_time": "2023-05-28T08:34:30.440Z"
   },
   {
    "duration": 109,
    "start_time": "2023-05-28T08:34:35.214Z"
   },
   {
    "duration": 8,
    "start_time": "2023-05-28T08:34:54.243Z"
   },
   {
    "duration": 4,
    "start_time": "2023-05-28T08:37:57.285Z"
   },
   {
    "duration": 764,
    "start_time": "2023-05-28T08:37:58.791Z"
   },
   {
    "duration": 17,
    "start_time": "2023-05-28T08:37:59.557Z"
   },
   {
    "duration": 118,
    "start_time": "2023-05-28T08:38:00.980Z"
   },
   {
    "duration": 467,
    "start_time": "2023-05-28T08:38:02.816Z"
   },
   {
    "duration": 495,
    "start_time": "2023-05-28T08:38:03.587Z"
   },
   {
    "duration": 149,
    "start_time": "2023-05-28T08:38:04.697Z"
   },
   {
    "duration": 30,
    "start_time": "2023-05-28T08:38:07.386Z"
   },
   {
    "duration": 19,
    "start_time": "2023-05-28T08:38:08.087Z"
   },
   {
    "duration": 46,
    "start_time": "2023-05-28T08:38:08.644Z"
   },
   {
    "duration": 26,
    "start_time": "2023-05-28T08:38:09.247Z"
   },
   {
    "duration": 4,
    "start_time": "2023-05-28T08:38:09.740Z"
   },
   {
    "duration": 177,
    "start_time": "2023-05-28T08:38:10.196Z"
   },
   {
    "duration": 179,
    "start_time": "2023-05-28T08:38:18.293Z"
   },
   {
    "duration": 3,
    "start_time": "2023-05-28T08:38:23.915Z"
   },
   {
    "duration": 3582,
    "start_time": "2023-05-28T08:38:24.384Z"
   },
   {
    "duration": 22,
    "start_time": "2023-05-28T08:38:27.968Z"
   },
   {
    "duration": 92,
    "start_time": "2023-05-28T08:38:28.450Z"
   },
   {
    "duration": 17,
    "start_time": "2023-05-28T08:38:29.205Z"
   },
   {
    "duration": 25,
    "start_time": "2023-05-28T08:38:40.512Z"
   },
   {
    "duration": 14,
    "start_time": "2023-05-28T08:42:04.616Z"
   },
   {
    "duration": 58,
    "start_time": "2023-05-28T08:42:23.218Z"
   },
   {
    "duration": 3,
    "start_time": "2023-05-28T08:44:46.588Z"
   },
   {
    "duration": 157,
    "start_time": "2023-05-28T08:46:37.819Z"
   },
   {
    "duration": 4,
    "start_time": "2023-05-28T08:47:52.501Z"
   },
   {
    "duration": 745,
    "start_time": "2023-05-28T08:47:52.844Z"
   },
   {
    "duration": 14,
    "start_time": "2023-05-28T08:47:53.591Z"
   },
   {
    "duration": 111,
    "start_time": "2023-05-28T08:47:55.485Z"
   },
   {
    "duration": 392,
    "start_time": "2023-05-28T08:47:56.344Z"
   },
   {
    "duration": 442,
    "start_time": "2023-05-28T08:47:57.901Z"
   },
   {
    "duration": 114,
    "start_time": "2023-05-28T08:47:58.345Z"
   },
   {
    "duration": 35,
    "start_time": "2023-05-28T08:47:59.916Z"
   },
   {
    "duration": 19,
    "start_time": "2023-05-28T08:48:00.398Z"
   },
   {
    "duration": 37,
    "start_time": "2023-05-28T08:48:01.744Z"
   },
   {
    "duration": 20,
    "start_time": "2023-05-28T08:48:03.430Z"
   },
   {
    "duration": 4,
    "start_time": "2023-05-28T08:48:03.897Z"
   },
   {
    "duration": 177,
    "start_time": "2023-05-28T08:48:04.342Z"
   },
   {
    "duration": 295,
    "start_time": "2023-05-28T08:48:04.724Z"
   },
   {
    "duration": 4,
    "start_time": "2023-05-28T08:48:05.185Z"
   },
   {
    "duration": 3930,
    "start_time": "2023-05-28T08:48:06.789Z"
   },
   {
    "duration": 1401,
    "start_time": "2023-05-28T08:48:10.721Z"
   },
   {
    "duration": 196,
    "start_time": "2023-05-28T08:48:12.124Z"
   },
   {
    "duration": 288,
    "start_time": "2023-05-28T08:48:12.322Z"
   },
   {
    "duration": 336,
    "start_time": "2023-05-28T08:48:12.612Z"
   },
   {
    "duration": 326,
    "start_time": "2023-05-28T08:48:37.793Z"
   },
   {
    "duration": 19,
    "start_time": "2023-05-28T08:48:45.047Z"
   },
   {
    "duration": 4,
    "start_time": "2023-05-28T08:48:56.341Z"
   },
   {
    "duration": 1080,
    "start_time": "2023-05-28T08:52:10.942Z"
   },
   {
    "duration": 822,
    "start_time": "2023-05-28T08:52:12.024Z"
   },
   {
    "duration": 20,
    "start_time": "2023-05-28T08:52:12.849Z"
   },
   {
    "duration": 124,
    "start_time": "2023-05-28T08:52:12.871Z"
   },
   {
    "duration": 460,
    "start_time": "2023-05-28T08:52:12.997Z"
   },
   {
    "duration": 493,
    "start_time": "2023-05-28T08:52:13.459Z"
   },
   {
    "duration": 125,
    "start_time": "2023-05-28T08:52:13.954Z"
   },
   {
    "duration": 36,
    "start_time": "2023-05-28T08:52:14.081Z"
   },
   {
    "duration": 38,
    "start_time": "2023-05-28T08:52:14.119Z"
   },
   {
    "duration": 37,
    "start_time": "2023-05-28T08:52:14.159Z"
   },
   {
    "duration": 24,
    "start_time": "2023-05-28T08:52:14.198Z"
   },
   {
    "duration": 5,
    "start_time": "2023-05-28T08:52:14.224Z"
   },
   {
    "duration": 195,
    "start_time": "2023-05-28T08:52:14.232Z"
   },
   {
    "duration": 248,
    "start_time": "2023-05-28T08:52:14.429Z"
   },
   {
    "duration": 3,
    "start_time": "2023-05-28T08:52:14.679Z"
   },
   {
    "duration": 3454,
    "start_time": "2023-05-28T08:52:14.683Z"
   },
   {
    "duration": 1415,
    "start_time": "2023-05-28T08:52:18.138Z"
   },
   {
    "duration": 200,
    "start_time": "2023-05-28T08:52:19.555Z"
   },
   {
    "duration": 294,
    "start_time": "2023-05-28T08:52:19.756Z"
   },
   {
    "duration": 340,
    "start_time": "2023-05-28T08:52:20.052Z"
   },
   {
    "duration": 108,
    "start_time": "2023-05-28T08:52:20.394Z"
   },
   {
    "duration": 0,
    "start_time": "2023-05-28T08:52:20.503Z"
   },
   {
    "duration": 1048,
    "start_time": "2023-05-28T08:52:40.886Z"
   },
   {
    "duration": 864,
    "start_time": "2023-05-28T08:52:41.936Z"
   },
   {
    "duration": 20,
    "start_time": "2023-05-28T08:52:42.802Z"
   },
   {
    "duration": 132,
    "start_time": "2023-05-28T08:52:42.823Z"
   },
   {
    "duration": 493,
    "start_time": "2023-05-28T08:52:42.957Z"
   },
   {
    "duration": 526,
    "start_time": "2023-05-28T08:52:43.452Z"
   },
   {
    "duration": 139,
    "start_time": "2023-05-28T08:52:43.979Z"
   },
   {
    "duration": 52,
    "start_time": "2023-05-28T08:52:44.120Z"
   },
   {
    "duration": 31,
    "start_time": "2023-05-28T08:52:44.174Z"
   },
   {
    "duration": 43,
    "start_time": "2023-05-28T08:52:44.208Z"
   },
   {
    "duration": 25,
    "start_time": "2023-05-28T08:52:44.253Z"
   },
   {
    "duration": 5,
    "start_time": "2023-05-28T08:52:44.281Z"
   },
   {
    "duration": 227,
    "start_time": "2023-05-28T08:52:44.288Z"
   },
   {
    "duration": 232,
    "start_time": "2023-05-28T08:52:44.519Z"
   },
   {
    "duration": 4,
    "start_time": "2023-05-28T08:52:44.753Z"
   },
   {
    "duration": 3625,
    "start_time": "2023-05-28T08:52:44.759Z"
   },
   {
    "duration": 1491,
    "start_time": "2023-05-28T08:52:48.386Z"
   },
   {
    "duration": 199,
    "start_time": "2023-05-28T08:52:49.879Z"
   },
   {
    "duration": 286,
    "start_time": "2023-05-28T08:52:50.080Z"
   },
   {
    "duration": 343,
    "start_time": "2023-05-28T08:52:50.368Z"
   },
   {
    "duration": 94,
    "start_time": "2023-05-28T08:52:50.712Z"
   },
   {
    "duration": 22643,
    "start_time": "2023-05-28T08:52:50.808Z"
   },
   {
    "duration": 3,
    "start_time": "2023-05-28T08:53:32.061Z"
   },
   {
    "duration": 743,
    "start_time": "2023-05-28T08:53:32.067Z"
   },
   {
    "duration": 14,
    "start_time": "2023-05-28T08:53:32.812Z"
   },
   {
    "duration": 126,
    "start_time": "2023-05-28T08:53:32.827Z"
   },
   {
    "duration": 411,
    "start_time": "2023-05-28T08:53:32.955Z"
   },
   {
    "duration": 415,
    "start_time": "2023-05-28T08:53:33.368Z"
   },
   {
    "duration": 108,
    "start_time": "2023-05-28T08:53:33.785Z"
   },
   {
    "duration": 29,
    "start_time": "2023-05-28T08:53:33.895Z"
   },
   {
    "duration": 37,
    "start_time": "2023-05-28T08:53:33.926Z"
   },
   {
    "duration": 29,
    "start_time": "2023-05-28T08:53:33.965Z"
   },
   {
    "duration": 21,
    "start_time": "2023-05-28T08:53:33.996Z"
   },
   {
    "duration": 4,
    "start_time": "2023-05-28T08:53:34.019Z"
   },
   {
    "duration": 198,
    "start_time": "2023-05-28T08:53:34.053Z"
   },
   {
    "duration": 200,
    "start_time": "2023-05-28T08:53:34.253Z"
   },
   {
    "duration": 4,
    "start_time": "2023-05-28T08:53:34.455Z"
   },
   {
    "duration": 3548,
    "start_time": "2023-05-28T08:53:34.462Z"
   },
   {
    "duration": 1374,
    "start_time": "2023-05-28T08:53:38.012Z"
   },
   {
    "duration": 194,
    "start_time": "2023-05-28T08:53:39.388Z"
   },
   {
    "duration": 284,
    "start_time": "2023-05-28T08:53:39.584Z"
   },
   {
    "duration": 24159,
    "start_time": "2023-05-28T08:53:52.494Z"
   },
   {
    "duration": 1133,
    "start_time": "2023-05-28T08:56:07.117Z"
   },
   {
    "duration": 846,
    "start_time": "2023-05-28T08:56:08.252Z"
   },
   {
    "duration": 20,
    "start_time": "2023-05-28T08:56:09.100Z"
   },
   {
    "duration": 128,
    "start_time": "2023-05-28T08:56:09.122Z"
   },
   {
    "duration": 489,
    "start_time": "2023-05-28T08:56:09.252Z"
   },
   {
    "duration": 527,
    "start_time": "2023-05-28T08:56:09.743Z"
   },
   {
    "duration": 115,
    "start_time": "2023-05-28T08:56:10.272Z"
   },
   {
    "duration": 29,
    "start_time": "2023-05-28T08:56:10.389Z"
   },
   {
    "duration": 46,
    "start_time": "2023-05-28T08:56:10.420Z"
   },
   {
    "duration": 51,
    "start_time": "2023-05-28T08:56:10.468Z"
   },
   {
    "duration": 34,
    "start_time": "2023-05-28T08:56:10.521Z"
   },
   {
    "duration": 4,
    "start_time": "2023-05-28T08:56:10.556Z"
   },
   {
    "duration": 170,
    "start_time": "2023-05-28T08:56:10.562Z"
   },
   {
    "duration": 230,
    "start_time": "2023-05-28T08:56:10.736Z"
   },
   {
    "duration": 3,
    "start_time": "2023-05-28T08:56:10.968Z"
   },
   {
    "duration": 3738,
    "start_time": "2023-05-28T08:56:10.973Z"
   },
   {
    "duration": 1418,
    "start_time": "2023-05-28T08:56:14.713Z"
   },
   {
    "duration": 201,
    "start_time": "2023-05-28T08:56:16.133Z"
   },
   {
    "duration": 301,
    "start_time": "2023-05-28T08:56:16.336Z"
   },
   {
    "duration": 341,
    "start_time": "2023-05-28T08:56:16.639Z"
   },
   {
    "duration": 90,
    "start_time": "2023-05-28T08:56:16.983Z"
   },
   {
    "duration": 24781,
    "start_time": "2023-05-28T08:56:17.075Z"
   },
   {
    "duration": 610062,
    "start_time": "2023-05-28T08:56:41.858Z"
   },
   {
    "duration": 4,
    "start_time": "2023-05-28T09:10:01.313Z"
   },
   {
    "duration": 864,
    "start_time": "2023-05-28T09:10:01.320Z"
   },
   {
    "duration": 14,
    "start_time": "2023-05-28T09:10:02.185Z"
   },
   {
    "duration": 120,
    "start_time": "2023-05-28T09:10:02.201Z"
   },
   {
    "duration": 439,
    "start_time": "2023-05-28T09:10:02.323Z"
   },
   {
    "duration": 430,
    "start_time": "2023-05-28T09:10:02.764Z"
   },
   {
    "duration": 108,
    "start_time": "2023-05-28T09:10:03.196Z"
   },
   {
    "duration": 44,
    "start_time": "2023-05-28T09:10:03.306Z"
   },
   {
    "duration": 19,
    "start_time": "2023-05-28T09:10:03.352Z"
   },
   {
    "duration": 32,
    "start_time": "2023-05-28T09:10:03.373Z"
   },
   {
    "duration": 20,
    "start_time": "2023-05-28T09:10:03.407Z"
   },
   {
    "duration": 4,
    "start_time": "2023-05-28T09:10:03.450Z"
   },
   {
    "duration": 156,
    "start_time": "2023-05-28T09:10:03.456Z"
   },
   {
    "duration": 176,
    "start_time": "2023-05-28T09:10:03.615Z"
   },
   {
    "duration": 2,
    "start_time": "2023-05-28T09:10:03.793Z"
   },
   {
    "duration": 3608,
    "start_time": "2023-05-28T09:10:03.797Z"
   },
   {
    "duration": 1366,
    "start_time": "2023-05-28T09:10:07.406Z"
   },
   {
    "duration": 199,
    "start_time": "2023-05-28T09:10:08.774Z"
   },
   {
    "duration": 294,
    "start_time": "2023-05-28T09:10:08.975Z"
   },
   {
    "duration": 4,
    "start_time": "2023-05-28T09:10:09.271Z"
   },
   {
    "duration": 7,
    "start_time": "2023-05-28T09:10:09.277Z"
   },
   {
    "duration": 25466,
    "start_time": "2023-05-28T09:10:09.286Z"
   },
   {
    "duration": 684649,
    "start_time": "2023-05-28T09:10:34.754Z"
   },
   {
    "duration": 5,
    "start_time": "2023-05-28T09:25:31.096Z"
   },
   {
    "duration": 844,
    "start_time": "2023-05-28T09:25:31.104Z"
   },
   {
    "duration": 20,
    "start_time": "2023-05-28T09:25:31.951Z"
   },
   {
    "duration": 144,
    "start_time": "2023-05-28T09:25:31.974Z"
   },
   {
    "duration": 422,
    "start_time": "2023-05-28T09:25:32.119Z"
   },
   {
    "duration": 448,
    "start_time": "2023-05-28T09:25:32.543Z"
   },
   {
    "duration": 106,
    "start_time": "2023-05-28T09:25:32.993Z"
   },
   {
    "duration": 63,
    "start_time": "2023-05-28T09:25:33.101Z"
   },
   {
    "duration": 33,
    "start_time": "2023-05-28T09:25:33.166Z"
   },
   {
    "duration": 54,
    "start_time": "2023-05-28T09:25:33.203Z"
   },
   {
    "duration": 38,
    "start_time": "2023-05-28T09:25:33.259Z"
   },
   {
    "duration": 5,
    "start_time": "2023-05-28T09:25:33.298Z"
   },
   {
    "duration": 170,
    "start_time": "2023-05-28T09:25:33.304Z"
   },
   {
    "duration": 101,
    "start_time": "2023-05-28T09:25:33.476Z"
   },
   {
    "duration": 5,
    "start_time": "2023-05-28T09:25:33.580Z"
   },
   {
    "duration": 1430,
    "start_time": "2023-05-28T09:25:33.587Z"
   },
   {
    "duration": 1624,
    "start_time": "2023-05-28T09:25:35.019Z"
   },
   {
    "duration": 173,
    "start_time": "2023-05-28T09:25:36.645Z"
   },
   {
    "duration": 304,
    "start_time": "2023-05-28T09:25:36.820Z"
   },
   {
    "duration": 4,
    "start_time": "2023-05-28T09:25:37.127Z"
   },
   {
    "duration": 18,
    "start_time": "2023-05-28T09:25:37.133Z"
   },
   {
    "duration": 30603,
    "start_time": "2023-05-28T09:25:37.153Z"
   },
   {
    "duration": 4,
    "start_time": "2023-05-28T09:27:19.333Z"
   },
   {
    "duration": 722,
    "start_time": "2023-05-28T09:27:19.339Z"
   },
   {
    "duration": 13,
    "start_time": "2023-05-28T09:27:20.063Z"
   },
   {
    "duration": 132,
    "start_time": "2023-05-28T09:27:20.078Z"
   },
   {
    "duration": 444,
    "start_time": "2023-05-28T09:27:20.213Z"
   },
   {
    "duration": 436,
    "start_time": "2023-05-28T09:27:20.659Z"
   },
   {
    "duration": 113,
    "start_time": "2023-05-28T09:27:21.097Z"
   },
   {
    "duration": 64,
    "start_time": "2023-05-28T09:27:21.212Z"
   },
   {
    "duration": 46,
    "start_time": "2023-05-28T09:27:21.278Z"
   },
   {
    "duration": 69,
    "start_time": "2023-05-28T09:27:21.326Z"
   },
   {
    "duration": 40,
    "start_time": "2023-05-28T09:27:21.397Z"
   },
   {
    "duration": 8,
    "start_time": "2023-05-28T09:27:21.439Z"
   },
   {
    "duration": 167,
    "start_time": "2023-05-28T09:27:21.450Z"
   },
   {
    "duration": 66,
    "start_time": "2023-05-28T09:27:21.621Z"
   },
   {
    "duration": 3,
    "start_time": "2023-05-28T09:27:21.689Z"
   },
   {
    "duration": 1247,
    "start_time": "2023-05-28T09:27:21.694Z"
   },
   {
    "duration": 1386,
    "start_time": "2023-05-28T09:27:22.943Z"
   },
   {
    "duration": 149,
    "start_time": "2023-05-28T09:27:24.330Z"
   },
   {
    "duration": 277,
    "start_time": "2023-05-28T09:27:24.481Z"
   },
   {
    "duration": 5,
    "start_time": "2023-05-28T09:27:24.760Z"
   },
   {
    "duration": 8,
    "start_time": "2023-05-28T09:27:24.767Z"
   },
   {
    "duration": 25684,
    "start_time": "2023-05-28T09:27:24.777Z"
   },
   {
    "duration": 4,
    "start_time": "2023-05-28T09:31:02.395Z"
   },
   {
    "duration": 829,
    "start_time": "2023-05-28T09:31:02.402Z"
   },
   {
    "duration": 19,
    "start_time": "2023-05-28T09:31:03.233Z"
   },
   {
    "duration": 126,
    "start_time": "2023-05-28T09:31:03.254Z"
   },
   {
    "duration": 394,
    "start_time": "2023-05-28T09:31:03.383Z"
   },
   {
    "duration": 504,
    "start_time": "2023-05-28T09:31:03.779Z"
   },
   {
    "duration": 167,
    "start_time": "2023-05-28T09:31:04.285Z"
   },
   {
    "duration": 35,
    "start_time": "2023-05-28T09:31:04.454Z"
   },
   {
    "duration": 27,
    "start_time": "2023-05-28T09:31:04.492Z"
   },
   {
    "duration": 45,
    "start_time": "2023-05-28T09:31:04.520Z"
   },
   {
    "duration": 21,
    "start_time": "2023-05-28T09:31:04.567Z"
   },
   {
    "duration": 4,
    "start_time": "2023-05-28T09:31:04.590Z"
   },
   {
    "duration": 220,
    "start_time": "2023-05-28T09:31:04.596Z"
   },
   {
    "duration": 66,
    "start_time": "2023-05-28T09:31:04.819Z"
   },
   {
    "duration": 4,
    "start_time": "2023-05-28T09:31:04.887Z"
   },
   {
    "duration": 1232,
    "start_time": "2023-05-28T09:31:04.893Z"
   },
   {
    "duration": 1336,
    "start_time": "2023-05-28T09:31:06.127Z"
   },
   {
    "duration": 148,
    "start_time": "2023-05-28T09:31:07.465Z"
   },
   {
    "duration": 261,
    "start_time": "2023-05-28T09:31:07.615Z"
   },
   {
    "duration": 4,
    "start_time": "2023-05-28T09:31:07.878Z"
   },
   {
    "duration": 7,
    "start_time": "2023-05-28T09:31:07.884Z"
   },
   {
    "duration": 22273,
    "start_time": "2023-05-28T09:31:07.893Z"
   },
   {
    "duration": 536968,
    "start_time": "2023-05-28T09:31:30.168Z"
   },
   {
    "duration": 36576,
    "start_time": "2023-05-28T09:42:25.192Z"
   },
   {
    "duration": 20662,
    "start_time": "2023-05-28T09:43:14.100Z"
   },
   {
    "duration": 75975,
    "start_time": "2023-05-28T09:43:45.487Z"
   },
   {
    "duration": 1363,
    "start_time": "2023-05-28T09:46:22.983Z"
   },
   {
    "duration": 474,
    "start_time": "2023-05-28T09:47:43.461Z"
   },
   {
    "duration": 5,
    "start_time": "2023-05-28T09:49:15.197Z"
   },
   {
    "duration": 797,
    "start_time": "2023-05-28T09:49:15.205Z"
   },
   {
    "duration": 15,
    "start_time": "2023-05-28T09:49:16.004Z"
   },
   {
    "duration": 145,
    "start_time": "2023-05-28T09:49:16.020Z"
   },
   {
    "duration": 441,
    "start_time": "2023-05-28T09:49:16.167Z"
   },
   {
    "duration": 457,
    "start_time": "2023-05-28T09:49:16.610Z"
   },
   {
    "duration": 114,
    "start_time": "2023-05-28T09:49:17.069Z"
   },
   {
    "duration": 31,
    "start_time": "2023-05-28T09:49:17.184Z"
   },
   {
    "duration": 50,
    "start_time": "2023-05-28T09:49:17.217Z"
   },
   {
    "duration": 30,
    "start_time": "2023-05-28T09:49:17.268Z"
   },
   {
    "duration": 21,
    "start_time": "2023-05-28T09:49:17.299Z"
   },
   {
    "duration": 4,
    "start_time": "2023-05-28T09:49:17.321Z"
   },
   {
    "duration": 161,
    "start_time": "2023-05-28T09:49:17.327Z"
   },
   {
    "duration": 78,
    "start_time": "2023-05-28T09:49:17.491Z"
   },
   {
    "duration": 3,
    "start_time": "2023-05-28T09:49:17.572Z"
   },
   {
    "duration": 1343,
    "start_time": "2023-05-28T09:49:17.577Z"
   },
   {
    "duration": 1324,
    "start_time": "2023-05-28T09:49:18.923Z"
   },
   {
    "duration": 139,
    "start_time": "2023-05-28T09:49:20.251Z"
   },
   {
    "duration": 268,
    "start_time": "2023-05-28T09:49:20.392Z"
   },
   {
    "duration": 6,
    "start_time": "2023-05-28T09:49:20.667Z"
   },
   {
    "duration": 22,
    "start_time": "2023-05-28T09:49:20.675Z"
   },
   {
    "duration": 11,
    "start_time": "2023-05-28T10:47:04.752Z"
   },
   {
    "duration": 5,
    "start_time": "2023-05-28T10:47:38.850Z"
   },
   {
    "duration": 42,
    "start_time": "2023-05-28T10:47:44.339Z"
   },
   {
    "duration": 2963,
    "start_time": "2023-05-28T10:47:51.796Z"
   },
   {
    "duration": 13741,
    "start_time": "2023-05-28T10:48:02.155Z"
   },
   {
    "duration": 1214,
    "start_time": "2023-05-28T10:50:06.514Z"
   },
   {
    "duration": 1200,
    "start_time": "2023-05-28T10:53:05.819Z"
   },
   {
    "duration": 848,
    "start_time": "2023-05-28T10:53:07.022Z"
   },
   {
    "duration": 20,
    "start_time": "2023-05-28T10:53:07.872Z"
   },
   {
    "duration": 128,
    "start_time": "2023-05-28T10:53:07.894Z"
   },
   {
    "duration": 541,
    "start_time": "2023-05-28T10:53:08.025Z"
   },
   {
    "duration": 509,
    "start_time": "2023-05-28T10:53:08.568Z"
   },
   {
    "duration": 123,
    "start_time": "2023-05-28T10:53:09.079Z"
   },
   {
    "duration": 31,
    "start_time": "2023-05-28T10:53:09.203Z"
   },
   {
    "duration": 38,
    "start_time": "2023-05-28T10:53:09.235Z"
   },
   {
    "duration": 29,
    "start_time": "2023-05-28T10:53:09.275Z"
   },
   {
    "duration": 20,
    "start_time": "2023-05-28T10:53:09.306Z"
   },
   {
    "duration": 11,
    "start_time": "2023-05-28T10:53:09.351Z"
   },
   {
    "duration": 167,
    "start_time": "2023-05-28T10:53:09.364Z"
   },
   {
    "duration": 87,
    "start_time": "2023-05-28T10:53:09.533Z"
   },
   {
    "duration": 3,
    "start_time": "2023-05-28T10:53:09.621Z"
   },
   {
    "duration": 1335,
    "start_time": "2023-05-28T10:53:09.626Z"
   },
   {
    "duration": 1806,
    "start_time": "2023-05-28T10:53:10.963Z"
   },
   {
    "duration": 215,
    "start_time": "2023-05-28T10:53:12.770Z"
   },
   {
    "duration": 294,
    "start_time": "2023-05-28T10:53:12.986Z"
   },
   {
    "duration": 4,
    "start_time": "2023-05-28T10:53:13.282Z"
   },
   {
    "duration": 11,
    "start_time": "2023-05-28T10:53:13.288Z"
   },
   {
    "duration": 40858,
    "start_time": "2023-05-28T10:53:13.301Z"
   },
   {
    "duration": 2659,
    "start_time": "2023-05-28T10:53:54.161Z"
   },
   {
    "duration": 515578,
    "start_time": "2023-05-28T10:53:56.821Z"
   },
   {
    "duration": 2438,
    "start_time": "2023-05-28T11:02:32.401Z"
   },
   {
    "duration": 2487,
    "start_time": "2023-05-28T11:04:13.440Z"
   },
   {
    "duration": 1228,
    "start_time": "2023-05-28T11:30:52.646Z"
   },
   {
    "duration": 909,
    "start_time": "2023-05-28T11:30:53.876Z"
   },
   {
    "duration": 23,
    "start_time": "2023-05-28T11:30:54.788Z"
   },
   {
    "duration": 147,
    "start_time": "2023-05-28T11:30:54.813Z"
   },
   {
    "duration": 475,
    "start_time": "2023-05-28T11:30:54.965Z"
   },
   {
    "duration": 543,
    "start_time": "2023-05-28T11:30:55.442Z"
   },
   {
    "duration": 114,
    "start_time": "2023-05-28T11:30:55.987Z"
   },
   {
    "duration": 29,
    "start_time": "2023-05-28T11:30:56.102Z"
   },
   {
    "duration": 41,
    "start_time": "2023-05-28T11:30:56.133Z"
   },
   {
    "duration": 29,
    "start_time": "2023-05-28T11:30:56.175Z"
   },
   {
    "duration": 50,
    "start_time": "2023-05-28T11:30:56.206Z"
   },
   {
    "duration": 6,
    "start_time": "2023-05-28T11:30:56.261Z"
   },
   {
    "duration": 172,
    "start_time": "2023-05-28T11:30:56.269Z"
   },
   {
    "duration": 95,
    "start_time": "2023-05-28T11:30:56.445Z"
   },
   {
    "duration": 9,
    "start_time": "2023-05-28T11:30:56.542Z"
   },
   {
    "duration": 1340,
    "start_time": "2023-05-28T11:30:56.555Z"
   },
   {
    "duration": 4,
    "start_time": "2023-05-28T11:30:57.897Z"
   },
   {
    "duration": 23,
    "start_time": "2023-05-28T11:30:57.902Z"
   },
   {
    "duration": 98,
    "start_time": "2023-05-28T11:30:57.927Z"
   },
   {
    "duration": 3,
    "start_time": "2023-05-28T11:30:58.027Z"
   },
   {
    "duration": 6,
    "start_time": "2023-05-28T11:30:58.032Z"
   },
   {
    "duration": 10,
    "start_time": "2023-05-28T11:30:58.050Z"
   },
   {
    "duration": 190,
    "start_time": "2023-05-28T11:30:58.064Z"
   },
   {
    "duration": 1196,
    "start_time": "2023-05-28T11:32:17.509Z"
   },
   {
    "duration": 835,
    "start_time": "2023-05-28T11:32:18.707Z"
   },
   {
    "duration": 33,
    "start_time": "2023-05-28T11:32:19.544Z"
   },
   {
    "duration": 120,
    "start_time": "2023-05-28T11:32:19.579Z"
   },
   {
    "duration": 493,
    "start_time": "2023-05-28T11:32:19.702Z"
   },
   {
    "duration": 547,
    "start_time": "2023-05-28T11:32:20.197Z"
   },
   {
    "duration": 132,
    "start_time": "2023-05-28T11:32:20.746Z"
   },
   {
    "duration": 32,
    "start_time": "2023-05-28T11:32:20.880Z"
   },
   {
    "duration": 40,
    "start_time": "2023-05-28T11:32:20.914Z"
   },
   {
    "duration": 37,
    "start_time": "2023-05-28T11:32:20.958Z"
   },
   {
    "duration": 41,
    "start_time": "2023-05-28T11:32:20.997Z"
   },
   {
    "duration": 7,
    "start_time": "2023-05-28T11:32:21.040Z"
   },
   {
    "duration": 198,
    "start_time": "2023-05-28T11:32:21.048Z"
   },
   {
    "duration": 82,
    "start_time": "2023-05-28T11:32:21.250Z"
   },
   {
    "duration": 3,
    "start_time": "2023-05-28T11:32:21.334Z"
   },
   {
    "duration": 1404,
    "start_time": "2023-05-28T11:32:21.350Z"
   },
   {
    "duration": 1814,
    "start_time": "2023-05-28T11:32:22.757Z"
   },
   {
    "duration": 223,
    "start_time": "2023-05-28T11:32:24.576Z"
   },
   {
    "duration": 291,
    "start_time": "2023-05-28T11:32:24.801Z"
   },
   {
    "duration": 4,
    "start_time": "2023-05-28T11:32:25.093Z"
   },
   {
    "duration": 6,
    "start_time": "2023-05-28T11:32:25.099Z"
   },
   {
    "duration": 69261,
    "start_time": "2023-05-28T11:32:25.107Z"
   },
   {
    "duration": 2571,
    "start_time": "2023-05-28T11:33:34.371Z"
   },
   {
    "duration": 2290,
    "start_time": "2023-05-28T11:34:59.093Z"
   },
   {
    "duration": 1237,
    "start_time": "2023-05-28T11:37:52.025Z"
   },
   {
    "duration": 865,
    "start_time": "2023-05-28T11:37:53.264Z"
   },
   {
    "duration": 36,
    "start_time": "2023-05-28T11:37:54.131Z"
   },
   {
    "duration": 167,
    "start_time": "2023-05-28T11:37:54.176Z"
   },
   {
    "duration": 492,
    "start_time": "2023-05-28T11:37:54.346Z"
   },
   {
    "duration": 553,
    "start_time": "2023-05-28T11:37:54.840Z"
   },
   {
    "duration": 110,
    "start_time": "2023-05-28T11:37:55.395Z"
   },
   {
    "duration": 46,
    "start_time": "2023-05-28T11:37:55.506Z"
   },
   {
    "duration": 24,
    "start_time": "2023-05-28T11:37:55.554Z"
   },
   {
    "duration": 32,
    "start_time": "2023-05-28T11:37:55.580Z"
   },
   {
    "duration": 51,
    "start_time": "2023-05-28T11:37:55.614Z"
   },
   {
    "duration": 8,
    "start_time": "2023-05-28T11:37:55.667Z"
   },
   {
    "duration": 193,
    "start_time": "2023-05-28T11:37:55.677Z"
   },
   {
    "duration": 88,
    "start_time": "2023-05-28T11:37:55.873Z"
   },
   {
    "duration": 4,
    "start_time": "2023-05-28T11:37:55.965Z"
   },
   {
    "duration": 1375,
    "start_time": "2023-05-28T11:37:55.971Z"
   },
   {
    "duration": 1779,
    "start_time": "2023-05-28T11:37:57.348Z"
   },
   {
    "duration": 221,
    "start_time": "2023-05-28T11:37:59.129Z"
   },
   {
    "duration": 311,
    "start_time": "2023-05-28T11:37:59.352Z"
   },
   {
    "duration": 119,
    "start_time": "2023-05-28T11:37:59.664Z"
   },
   {
    "duration": 0,
    "start_time": "2023-05-28T11:37:59.785Z"
   },
   {
    "duration": 0,
    "start_time": "2023-05-28T11:37:59.786Z"
   },
   {
    "duration": 0,
    "start_time": "2023-05-28T11:37:59.788Z"
   },
   {
    "duration": 0,
    "start_time": "2023-05-28T11:37:59.789Z"
   },
   {
    "duration": 4,
    "start_time": "2023-05-28T11:38:46.340Z"
   },
   {
    "duration": 856,
    "start_time": "2023-05-28T11:38:46.346Z"
   },
   {
    "duration": 13,
    "start_time": "2023-05-28T11:38:47.204Z"
   },
   {
    "duration": 128,
    "start_time": "2023-05-28T11:38:47.219Z"
   },
   {
    "duration": 440,
    "start_time": "2023-05-28T11:38:47.352Z"
   },
   {
    "duration": 472,
    "start_time": "2023-05-28T11:38:47.794Z"
   },
   {
    "duration": 113,
    "start_time": "2023-05-28T11:38:48.268Z"
   },
   {
    "duration": 32,
    "start_time": "2023-05-28T11:38:48.383Z"
   },
   {
    "duration": 34,
    "start_time": "2023-05-28T11:38:48.417Z"
   },
   {
    "duration": 42,
    "start_time": "2023-05-28T11:38:48.452Z"
   },
   {
    "duration": 21,
    "start_time": "2023-05-28T11:38:48.495Z"
   },
   {
    "duration": 3,
    "start_time": "2023-05-28T11:38:48.518Z"
   },
   {
    "duration": 179,
    "start_time": "2023-05-28T11:38:48.522Z"
   },
   {
    "duration": 70,
    "start_time": "2023-05-28T11:38:48.704Z"
   },
   {
    "duration": 3,
    "start_time": "2023-05-28T11:38:48.776Z"
   },
   {
    "duration": 1291,
    "start_time": "2023-05-28T11:38:48.781Z"
   },
   {
    "duration": 1687,
    "start_time": "2023-05-28T11:38:50.074Z"
   },
   {
    "duration": 225,
    "start_time": "2023-05-28T11:38:51.763Z"
   },
   {
    "duration": 304,
    "start_time": "2023-05-28T11:38:51.989Z"
   },
   {
    "duration": 327,
    "start_time": "2023-05-28T11:38:52.295Z"
   },
   {
    "duration": 92,
    "start_time": "2023-05-28T11:38:52.624Z"
   },
   {
    "duration": 39239,
    "start_time": "2023-05-28T11:38:52.718Z"
   },
   {
    "duration": 105503,
    "start_time": "2023-05-28T11:39:31.962Z"
   },
   {
    "duration": 1245,
    "start_time": "2023-05-28T11:42:19.166Z"
   },
   {
    "duration": 871,
    "start_time": "2023-05-28T11:42:20.412Z"
   },
   {
    "duration": 21,
    "start_time": "2023-05-28T11:42:21.285Z"
   },
   {
    "duration": 134,
    "start_time": "2023-05-28T11:42:21.308Z"
   },
   {
    "duration": 525,
    "start_time": "2023-05-28T11:42:21.445Z"
   },
   {
    "duration": 531,
    "start_time": "2023-05-28T11:42:21.972Z"
   },
   {
    "duration": 125,
    "start_time": "2023-05-28T11:42:22.506Z"
   },
   {
    "duration": 46,
    "start_time": "2023-05-28T11:42:22.633Z"
   },
   {
    "duration": 29,
    "start_time": "2023-05-28T11:42:22.680Z"
   },
   {
    "duration": 57,
    "start_time": "2023-05-28T11:42:22.711Z"
   },
   {
    "duration": 22,
    "start_time": "2023-05-28T11:42:22.769Z"
   },
   {
    "duration": 17,
    "start_time": "2023-05-28T11:42:22.793Z"
   },
   {
    "duration": 182,
    "start_time": "2023-05-28T11:42:22.813Z"
   },
   {
    "duration": 97,
    "start_time": "2023-05-28T11:42:22.999Z"
   },
   {
    "duration": 4,
    "start_time": "2023-05-28T11:42:23.098Z"
   },
   {
    "duration": 1372,
    "start_time": "2023-05-28T11:42:23.103Z"
   },
   {
    "duration": 1737,
    "start_time": "2023-05-28T11:42:24.477Z"
   },
   {
    "duration": 215,
    "start_time": "2023-05-28T11:42:26.216Z"
   },
   {
    "duration": 300,
    "start_time": "2023-05-28T11:42:26.432Z"
   },
   {
    "duration": 322,
    "start_time": "2023-05-28T11:42:26.734Z"
   },
   {
    "duration": 93,
    "start_time": "2023-05-28T11:42:27.059Z"
   },
   {
    "duration": 39107,
    "start_time": "2023-05-28T11:42:27.153Z"
   },
   {
    "duration": 383092,
    "start_time": "2023-05-28T11:43:06.264Z"
   },
   {
    "duration": 511011,
    "start_time": "2023-05-28T11:49:29.358Z"
   }
  ],
  "kernelspec": {
   "display_name": "Python 3 (ipykernel)",
   "language": "python",
   "name": "python3"
  },
  "language_info": {
   "codemirror_mode": {
    "name": "ipython",
    "version": 3
   },
   "file_extension": ".py",
   "mimetype": "text/x-python",
   "name": "python",
   "nbconvert_exporter": "python",
   "pygments_lexer": "ipython3",
   "version": "3.10.9"
  },
  "toc": {
   "base_numbering": 1,
   "nav_menu": {},
   "number_sections": true,
   "sideBar": true,
   "skip_h1_title": true,
   "title_cell": "Table of Contents",
   "title_sidebar": "Contents",
   "toc_cell": false,
   "toc_position": {},
   "toc_section_display": true,
   "toc_window_display": true
  }
 },
 "nbformat": 4,
 "nbformat_minor": 2
}
