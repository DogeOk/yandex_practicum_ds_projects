{
 "cells": [
  {
   "cell_type": "markdown",
   "metadata": {
    "toc": true
   },
   "source": [
    "<h1>Содержание<span class=\"tocSkip\"></span></h1>\n",
    "<div class=\"toc\"><ul class=\"toc-item\"><li><span><a href=\"#Подготовка-данных\" data-toc-modified-id=\"Подготовка-данных-1\"><span class=\"toc-item-num\">1&nbsp;&nbsp;</span>Подготовка данных</a></span><ul class=\"toc-item\"><li><span><a href=\"#Импорт-необходимых-библиотек\" data-toc-modified-id=\"Импорт-необходимых-библиотек-1.1\"><span class=\"toc-item-num\">1.1&nbsp;&nbsp;</span>Импорт необходимых библиотек</a></span></li><li><span><a href=\"#Открытие-файла\" data-toc-modified-id=\"Открытие-файла-1.2\"><span class=\"toc-item-num\">1.2&nbsp;&nbsp;</span>Открытие файла</a></span></li><li><span><a href=\"#Изучение-данных\" data-toc-modified-id=\"Изучение-данных-1.3\"><span class=\"toc-item-num\">1.3&nbsp;&nbsp;</span>Изучение данных</a></span></li></ul></li><li><span><a href=\"#Исследование-задачи\" data-toc-modified-id=\"Исследование-задачи-2\"><span class=\"toc-item-num\">2&nbsp;&nbsp;</span>Исследование задачи</a></span></li><li><span><a href=\"#Борьба-с-дисбалансом\" data-toc-modified-id=\"Борьба-с-дисбалансом-3\"><span class=\"toc-item-num\">3&nbsp;&nbsp;</span>Борьба с дисбалансом</a></span></li><li><span><a href=\"#Тестирование-модели\" data-toc-modified-id=\"Тестирование-модели-4\"><span class=\"toc-item-num\">4&nbsp;&nbsp;</span>Тестирование модели</a></span></li><li><span><a href=\"#Чек-лист-готовности-проекта\" data-toc-modified-id=\"Чек-лист-готовности-проекта-5\"><span class=\"toc-item-num\">5&nbsp;&nbsp;</span>Чек-лист готовности проекта</a></span></li></ul></div>"
   ]
  },
  {
   "cell_type": "markdown",
   "metadata": {},
   "source": [
    "# Отток клиентов"
   ]
  },
  {
   "cell_type": "markdown",
   "metadata": {},
   "source": [
    "Из «Бета-Банка» стали уходить клиенты. Каждый месяц. Немного, но заметно. Банковские маркетологи посчитали: сохранять текущих клиентов дешевле, чем привлекать новых.\n",
    "\n",
    "Нужно спрогнозировать, уйдёт клиент из банка в ближайшее время или нет. Вам предоставлены исторические данные о поведении клиентов и расторжении договоров с банком. \n",
    "\n",
    "Постройте модель с предельно большим значением *F1*-меры. Чтобы сдать проект успешно, нужно довести метрику до 0.59. Проверьте *F1*-меру на тестовой выборке самостоятельно.\n",
    "\n",
    "Дополнительно измеряйте *AUC-ROC*, сравнивайте её значение с *F1*-мерой.\n",
    "\n",
    "Источник данных: [https://www.kaggle.com/barelydedicated/bank-customer-churn-modeling](https://www.kaggle.com/barelydedicated/bank-customer-churn-modeling)"
   ]
  },
  {
   "cell_type": "markdown",
   "metadata": {},
   "source": [
    "## Подготовка данных\n",
    "### Импорт необходимых библиотек"
   ]
  },
  {
   "cell_type": "code",
   "execution_count": 1,
   "metadata": {},
   "outputs": [],
   "source": [
    "import pandas as pd\n",
    "import numpy as np\n",
    "from sklearn.model_selection import train_test_split\n",
    "from sklearn.preprocessing import StandardScaler\n",
    "from sklearn.ensemble import RandomForestClassifier\n",
    "from sklearn.linear_model import LogisticRegression\n",
    "from sklearn.metrics import accuracy_score, f1_score, roc_auc_score\n",
    "from sklearn.utils import shuffle\n",
    "from tqdm.notebook import tqdm"
   ]
  },
  {
   "cell_type": "markdown",
   "metadata": {},
   "source": [
    "### Открытие файла"
   ]
  },
  {
   "cell_type": "code",
   "execution_count": 2,
   "metadata": {},
   "outputs": [],
   "source": [
    "try:\n",
    "    data = pd.read_csv('/datasets/Churn.csv')\n",
    "except:\n",
    "    data = pd.read_csv('https://code.s3.yandex.net/datasets/Churn.csv')"
   ]
  },
  {
   "cell_type": "markdown",
   "metadata": {},
   "source": [
    "### Изучение данных"
   ]
  },
  {
   "cell_type": "code",
   "execution_count": 3,
   "metadata": {
    "scrolled": true
   },
   "outputs": [
    {
     "data": {
      "text/html": [
       "<div>\n",
       "<style scoped>\n",
       "    .dataframe tbody tr th:only-of-type {\n",
       "        vertical-align: middle;\n",
       "    }\n",
       "\n",
       "    .dataframe tbody tr th {\n",
       "        vertical-align: top;\n",
       "    }\n",
       "\n",
       "    .dataframe thead th {\n",
       "        text-align: right;\n",
       "    }\n",
       "</style>\n",
       "<table border=\"1\" class=\"dataframe\">\n",
       "  <thead>\n",
       "    <tr style=\"text-align: right;\">\n",
       "      <th></th>\n",
       "      <th>RowNumber</th>\n",
       "      <th>CustomerId</th>\n",
       "      <th>Surname</th>\n",
       "      <th>CreditScore</th>\n",
       "      <th>Geography</th>\n",
       "      <th>Gender</th>\n",
       "      <th>Age</th>\n",
       "      <th>Tenure</th>\n",
       "      <th>Balance</th>\n",
       "      <th>NumOfProducts</th>\n",
       "      <th>HasCrCard</th>\n",
       "      <th>IsActiveMember</th>\n",
       "      <th>EstimatedSalary</th>\n",
       "      <th>Exited</th>\n",
       "    </tr>\n",
       "  </thead>\n",
       "  <tbody>\n",
       "    <tr>\n",
       "      <th>0</th>\n",
       "      <td>1</td>\n",
       "      <td>15634602</td>\n",
       "      <td>Hargrave</td>\n",
       "      <td>619</td>\n",
       "      <td>France</td>\n",
       "      <td>Female</td>\n",
       "      <td>42</td>\n",
       "      <td>2.0</td>\n",
       "      <td>0.00</td>\n",
       "      <td>1</td>\n",
       "      <td>1</td>\n",
       "      <td>1</td>\n",
       "      <td>101348.88</td>\n",
       "      <td>1</td>\n",
       "    </tr>\n",
       "    <tr>\n",
       "      <th>1</th>\n",
       "      <td>2</td>\n",
       "      <td>15647311</td>\n",
       "      <td>Hill</td>\n",
       "      <td>608</td>\n",
       "      <td>Spain</td>\n",
       "      <td>Female</td>\n",
       "      <td>41</td>\n",
       "      <td>1.0</td>\n",
       "      <td>83807.86</td>\n",
       "      <td>1</td>\n",
       "      <td>0</td>\n",
       "      <td>1</td>\n",
       "      <td>112542.58</td>\n",
       "      <td>0</td>\n",
       "    </tr>\n",
       "    <tr>\n",
       "      <th>2</th>\n",
       "      <td>3</td>\n",
       "      <td>15619304</td>\n",
       "      <td>Onio</td>\n",
       "      <td>502</td>\n",
       "      <td>France</td>\n",
       "      <td>Female</td>\n",
       "      <td>42</td>\n",
       "      <td>8.0</td>\n",
       "      <td>159660.80</td>\n",
       "      <td>3</td>\n",
       "      <td>1</td>\n",
       "      <td>0</td>\n",
       "      <td>113931.57</td>\n",
       "      <td>1</td>\n",
       "    </tr>\n",
       "    <tr>\n",
       "      <th>3</th>\n",
       "      <td>4</td>\n",
       "      <td>15701354</td>\n",
       "      <td>Boni</td>\n",
       "      <td>699</td>\n",
       "      <td>France</td>\n",
       "      <td>Female</td>\n",
       "      <td>39</td>\n",
       "      <td>1.0</td>\n",
       "      <td>0.00</td>\n",
       "      <td>2</td>\n",
       "      <td>0</td>\n",
       "      <td>0</td>\n",
       "      <td>93826.63</td>\n",
       "      <td>0</td>\n",
       "    </tr>\n",
       "    <tr>\n",
       "      <th>4</th>\n",
       "      <td>5</td>\n",
       "      <td>15737888</td>\n",
       "      <td>Mitchell</td>\n",
       "      <td>850</td>\n",
       "      <td>Spain</td>\n",
       "      <td>Female</td>\n",
       "      <td>43</td>\n",
       "      <td>2.0</td>\n",
       "      <td>125510.82</td>\n",
       "      <td>1</td>\n",
       "      <td>1</td>\n",
       "      <td>1</td>\n",
       "      <td>79084.10</td>\n",
       "      <td>0</td>\n",
       "    </tr>\n",
       "  </tbody>\n",
       "</table>\n",
       "</div>"
      ],
      "text/plain": [
       "   RowNumber  CustomerId   Surname  CreditScore Geography  Gender  Age  \\\n",
       "0          1    15634602  Hargrave          619    France  Female   42   \n",
       "1          2    15647311      Hill          608     Spain  Female   41   \n",
       "2          3    15619304      Onio          502    France  Female   42   \n",
       "3          4    15701354      Boni          699    France  Female   39   \n",
       "4          5    15737888  Mitchell          850     Spain  Female   43   \n",
       "\n",
       "   Tenure    Balance  NumOfProducts  HasCrCard  IsActiveMember  \\\n",
       "0     2.0       0.00              1          1               1   \n",
       "1     1.0   83807.86              1          0               1   \n",
       "2     8.0  159660.80              3          1               0   \n",
       "3     1.0       0.00              2          0               0   \n",
       "4     2.0  125510.82              1          1               1   \n",
       "\n",
       "   EstimatedSalary  Exited  \n",
       "0        101348.88       1  \n",
       "1        112542.58       0  \n",
       "2        113931.57       1  \n",
       "3         93826.63       0  \n",
       "4         79084.10       0  "
      ]
     },
     "execution_count": 3,
     "metadata": {},
     "output_type": "execute_result"
    }
   ],
   "source": [
    "data.head()"
   ]
  },
  {
   "cell_type": "code",
   "execution_count": 4,
   "metadata": {
    "scrolled": false
   },
   "outputs": [
    {
     "name": "stdout",
     "output_type": "stream",
     "text": [
      "<class 'pandas.core.frame.DataFrame'>\n",
      "RangeIndex: 10000 entries, 0 to 9999\n",
      "Data columns (total 14 columns):\n",
      " #   Column           Non-Null Count  Dtype  \n",
      "---  ------           --------------  -----  \n",
      " 0   RowNumber        10000 non-null  int64  \n",
      " 1   CustomerId       10000 non-null  int64  \n",
      " 2   Surname          10000 non-null  object \n",
      " 3   CreditScore      10000 non-null  int64  \n",
      " 4   Geography        10000 non-null  object \n",
      " 5   Gender           10000 non-null  object \n",
      " 6   Age              10000 non-null  int64  \n",
      " 7   Tenure           9091 non-null   float64\n",
      " 8   Balance          10000 non-null  float64\n",
      " 9   NumOfProducts    10000 non-null  int64  \n",
      " 10  HasCrCard        10000 non-null  int64  \n",
      " 11  IsActiveMember   10000 non-null  int64  \n",
      " 12  EstimatedSalary  10000 non-null  float64\n",
      " 13  Exited           10000 non-null  int64  \n",
      "dtypes: float64(3), int64(8), object(3)\n",
      "memory usage: 1.1+ MB\n"
     ]
    }
   ],
   "source": [
    "data.info()"
   ]
  },
  {
   "cell_type": "code",
   "execution_count": 5,
   "metadata": {
    "scrolled": true
   },
   "outputs": [
    {
     "data": {
      "text/html": [
       "<div>\n",
       "<style scoped>\n",
       "    .dataframe tbody tr th:only-of-type {\n",
       "        vertical-align: middle;\n",
       "    }\n",
       "\n",
       "    .dataframe tbody tr th {\n",
       "        vertical-align: top;\n",
       "    }\n",
       "\n",
       "    .dataframe thead th {\n",
       "        text-align: right;\n",
       "    }\n",
       "</style>\n",
       "<table border=\"1\" class=\"dataframe\">\n",
       "  <thead>\n",
       "    <tr style=\"text-align: right;\">\n",
       "      <th></th>\n",
       "      <th>RowNumber</th>\n",
       "      <th>CustomerId</th>\n",
       "      <th>CreditScore</th>\n",
       "      <th>Age</th>\n",
       "      <th>Tenure</th>\n",
       "      <th>Balance</th>\n",
       "      <th>NumOfProducts</th>\n",
       "      <th>HasCrCard</th>\n",
       "      <th>IsActiveMember</th>\n",
       "      <th>EstimatedSalary</th>\n",
       "      <th>Exited</th>\n",
       "    </tr>\n",
       "  </thead>\n",
       "  <tbody>\n",
       "    <tr>\n",
       "      <th>count</th>\n",
       "      <td>10000.00000</td>\n",
       "      <td>1.000000e+04</td>\n",
       "      <td>10000.000000</td>\n",
       "      <td>10000.000000</td>\n",
       "      <td>9091.000000</td>\n",
       "      <td>10000.000000</td>\n",
       "      <td>10000.000000</td>\n",
       "      <td>10000.00000</td>\n",
       "      <td>10000.000000</td>\n",
       "      <td>10000.000000</td>\n",
       "      <td>10000.000000</td>\n",
       "    </tr>\n",
       "    <tr>\n",
       "      <th>mean</th>\n",
       "      <td>5000.50000</td>\n",
       "      <td>1.569094e+07</td>\n",
       "      <td>650.528800</td>\n",
       "      <td>38.921800</td>\n",
       "      <td>4.997690</td>\n",
       "      <td>76485.889288</td>\n",
       "      <td>1.530200</td>\n",
       "      <td>0.70550</td>\n",
       "      <td>0.515100</td>\n",
       "      <td>100090.239881</td>\n",
       "      <td>0.203700</td>\n",
       "    </tr>\n",
       "    <tr>\n",
       "      <th>std</th>\n",
       "      <td>2886.89568</td>\n",
       "      <td>7.193619e+04</td>\n",
       "      <td>96.653299</td>\n",
       "      <td>10.487806</td>\n",
       "      <td>2.894723</td>\n",
       "      <td>62397.405202</td>\n",
       "      <td>0.581654</td>\n",
       "      <td>0.45584</td>\n",
       "      <td>0.499797</td>\n",
       "      <td>57510.492818</td>\n",
       "      <td>0.402769</td>\n",
       "    </tr>\n",
       "    <tr>\n",
       "      <th>min</th>\n",
       "      <td>1.00000</td>\n",
       "      <td>1.556570e+07</td>\n",
       "      <td>350.000000</td>\n",
       "      <td>18.000000</td>\n",
       "      <td>0.000000</td>\n",
       "      <td>0.000000</td>\n",
       "      <td>1.000000</td>\n",
       "      <td>0.00000</td>\n",
       "      <td>0.000000</td>\n",
       "      <td>11.580000</td>\n",
       "      <td>0.000000</td>\n",
       "    </tr>\n",
       "    <tr>\n",
       "      <th>25%</th>\n",
       "      <td>2500.75000</td>\n",
       "      <td>1.562853e+07</td>\n",
       "      <td>584.000000</td>\n",
       "      <td>32.000000</td>\n",
       "      <td>2.000000</td>\n",
       "      <td>0.000000</td>\n",
       "      <td>1.000000</td>\n",
       "      <td>0.00000</td>\n",
       "      <td>0.000000</td>\n",
       "      <td>51002.110000</td>\n",
       "      <td>0.000000</td>\n",
       "    </tr>\n",
       "    <tr>\n",
       "      <th>50%</th>\n",
       "      <td>5000.50000</td>\n",
       "      <td>1.569074e+07</td>\n",
       "      <td>652.000000</td>\n",
       "      <td>37.000000</td>\n",
       "      <td>5.000000</td>\n",
       "      <td>97198.540000</td>\n",
       "      <td>1.000000</td>\n",
       "      <td>1.00000</td>\n",
       "      <td>1.000000</td>\n",
       "      <td>100193.915000</td>\n",
       "      <td>0.000000</td>\n",
       "    </tr>\n",
       "    <tr>\n",
       "      <th>75%</th>\n",
       "      <td>7500.25000</td>\n",
       "      <td>1.575323e+07</td>\n",
       "      <td>718.000000</td>\n",
       "      <td>44.000000</td>\n",
       "      <td>7.000000</td>\n",
       "      <td>127644.240000</td>\n",
       "      <td>2.000000</td>\n",
       "      <td>1.00000</td>\n",
       "      <td>1.000000</td>\n",
       "      <td>149388.247500</td>\n",
       "      <td>0.000000</td>\n",
       "    </tr>\n",
       "    <tr>\n",
       "      <th>max</th>\n",
       "      <td>10000.00000</td>\n",
       "      <td>1.581569e+07</td>\n",
       "      <td>850.000000</td>\n",
       "      <td>92.000000</td>\n",
       "      <td>10.000000</td>\n",
       "      <td>250898.090000</td>\n",
       "      <td>4.000000</td>\n",
       "      <td>1.00000</td>\n",
       "      <td>1.000000</td>\n",
       "      <td>199992.480000</td>\n",
       "      <td>1.000000</td>\n",
       "    </tr>\n",
       "  </tbody>\n",
       "</table>\n",
       "</div>"
      ],
      "text/plain": [
       "         RowNumber    CustomerId   CreditScore           Age       Tenure  \\\n",
       "count  10000.00000  1.000000e+04  10000.000000  10000.000000  9091.000000   \n",
       "mean    5000.50000  1.569094e+07    650.528800     38.921800     4.997690   \n",
       "std     2886.89568  7.193619e+04     96.653299     10.487806     2.894723   \n",
       "min        1.00000  1.556570e+07    350.000000     18.000000     0.000000   \n",
       "25%     2500.75000  1.562853e+07    584.000000     32.000000     2.000000   \n",
       "50%     5000.50000  1.569074e+07    652.000000     37.000000     5.000000   \n",
       "75%     7500.25000  1.575323e+07    718.000000     44.000000     7.000000   \n",
       "max    10000.00000  1.581569e+07    850.000000     92.000000    10.000000   \n",
       "\n",
       "             Balance  NumOfProducts    HasCrCard  IsActiveMember  \\\n",
       "count   10000.000000   10000.000000  10000.00000    10000.000000   \n",
       "mean    76485.889288       1.530200      0.70550        0.515100   \n",
       "std     62397.405202       0.581654      0.45584        0.499797   \n",
       "min         0.000000       1.000000      0.00000        0.000000   \n",
       "25%         0.000000       1.000000      0.00000        0.000000   \n",
       "50%     97198.540000       1.000000      1.00000        1.000000   \n",
       "75%    127644.240000       2.000000      1.00000        1.000000   \n",
       "max    250898.090000       4.000000      1.00000        1.000000   \n",
       "\n",
       "       EstimatedSalary        Exited  \n",
       "count     10000.000000  10000.000000  \n",
       "mean     100090.239881      0.203700  \n",
       "std       57510.492818      0.402769  \n",
       "min          11.580000      0.000000  \n",
       "25%       51002.110000      0.000000  \n",
       "50%      100193.915000      0.000000  \n",
       "75%      149388.247500      0.000000  \n",
       "max      199992.480000      1.000000  "
      ]
     },
     "execution_count": 5,
     "metadata": {},
     "output_type": "execute_result"
    }
   ],
   "source": [
    "data.describe()"
   ]
  },
  {
   "cell_type": "markdown",
   "metadata": {},
   "source": [
    "**Вывод раздела.** В данном разделе рассмотрены предоставленные данные. Видно, что в целевом признаке более `75%` нулей. В столбце `Tenure` обнаружены пропуски. В основном все признаки числовые, что упрощает задачу."
   ]
  },
  {
   "cell_type": "markdown",
   "metadata": {},
   "source": [
    "## Исследование задачи\n",
    "Для начала сброшу все строки с пустыми значениями из таблицы"
   ]
  },
  {
   "cell_type": "code",
   "execution_count": 6,
   "metadata": {},
   "outputs": [],
   "source": [
    "data = data.dropna()"
   ]
  },
  {
   "cell_type": "markdown",
   "metadata": {},
   "source": [
    "Далее выделю признаки и целевой признак"
   ]
  },
  {
   "cell_type": "code",
   "execution_count": 7,
   "metadata": {},
   "outputs": [],
   "source": [
    "# Номер строки, ID клиента и Фамилия будут мешать конечному обучению, так как всегда уникальны\n",
    "features = data.drop(columns=['RowNumber', 'CustomerId', 'Surname', 'Exited'])\n",
    "target = data['Exited']\n",
    "#One-hot-encoding для признаков\n",
    "features = pd.get_dummies(features, drop_first=True)"
   ]
  },
  {
   "cell_type": "markdown",
   "metadata": {},
   "source": [
    "Разбиваю данные на три части (тренировачные, валидационные и тестовые) в соотношении 3:1:1"
   ]
  },
  {
   "cell_type": "code",
   "execution_count": 8,
   "metadata": {},
   "outputs": [],
   "source": [
    "features_train, features_valid_test, target_train, target_valid_test = train_test_split(\n",
    "    features,\n",
    "    target,\n",
    "    test_size=0.4,\n",
    "    random_state=1\n",
    ")"
   ]
  },
  {
   "cell_type": "code",
   "execution_count": 9,
   "metadata": {},
   "outputs": [],
   "source": [
    "features_valid, features_test, target_valid, target_test = train_test_split(\n",
    "    features_valid_test,\n",
    "    target_valid_test,\n",
    "    test_size=0.5,\n",
    "    random_state=1\n",
    ")"
   ]
  },
  {
   "cell_type": "markdown",
   "metadata": {},
   "source": [
    "После разделения данных, масштабирую их."
   ]
  },
  {
   "cell_type": "code",
   "execution_count": 10,
   "metadata": {},
   "outputs": [],
   "source": [
    "# Отключает надоедливые предупреждения о копиях данных и всё-такое.\n",
    "# Главное работает.\n",
    "pd.options.mode.chained_assignment = None\n",
    "\n",
    "scaler = StandardScaler()\n",
    "numeric = ['CreditScore', 'Age', 'Tenure', 'Balance','NumOfProducts', 'EstimatedSalary']\n",
    "scaler.fit(features_train[numeric])\n",
    "\n",
    "features_train[numeric] = scaler.transform(features_train[numeric])\n",
    "features_valid[numeric] = scaler.transform(features_valid[numeric])\n",
    "features_test[numeric] = scaler.transform(features_test[numeric])"
   ]
  },
  {
   "cell_type": "markdown",
   "metadata": {},
   "source": [
    "Проверяю модель на подготовленных данных"
   ]
  },
  {
   "cell_type": "code",
   "execution_count": 11,
   "metadata": {},
   "outputs": [],
   "source": [
    "model = LogisticRegression(random_state=1, solver='liblinear')\n",
    "model.fit(features_train, target_train)\n",
    "predicted_valid = model.predict(features_valid)"
   ]
  },
  {
   "cell_type": "markdown",
   "metadata": {},
   "source": [
    "Смотрю точность модели"
   ]
  },
  {
   "cell_type": "code",
   "execution_count": 12,
   "metadata": {},
   "outputs": [
    {
     "data": {
      "text/plain": [
       "0.8052805280528053"
      ]
     },
     "execution_count": 12,
     "metadata": {},
     "output_type": "execute_result"
    }
   ],
   "source": [
    "accuracy_score(target_valid, predicted_valid)"
   ]
  },
  {
   "cell_type": "markdown",
   "metadata": {},
   "source": [
    "У модели очень высокая точность - `80.53%`. Проверяю модель на дисбаланс"
   ]
  },
  {
   "cell_type": "code",
   "execution_count": 13,
   "metadata": {},
   "outputs": [
    {
     "data": {
      "text/plain": [
       "0.2039379606203938"
      ]
     },
     "execution_count": 13,
     "metadata": {},
     "output_type": "execute_result"
    }
   ],
   "source": [
    "data['Exited'].mean()"
   ]
  },
  {
   "cell_type": "markdown",
   "metadata": {},
   "source": [
    "`20.39%` единиц в целевом признаке. Не очень много. Проверяю f1-меру"
   ]
  },
  {
   "cell_type": "code",
   "execution_count": 14,
   "metadata": {},
   "outputs": [
    {
     "data": {
      "text/plain": [
       "0.2594142259414226"
      ]
     },
     "execution_count": 14,
     "metadata": {},
     "output_type": "execute_result"
    }
   ],
   "source": [
    "f1_score(target_valid, predicted_valid)"
   ]
  },
  {
   "cell_type": "markdown",
   "metadata": {},
   "source": [
    "`0.26` - низкое значение f1-меры. Также значение auc-roc"
   ]
  },
  {
   "cell_type": "code",
   "execution_count": 15,
   "metadata": {},
   "outputs": [
    {
     "name": "stdout",
     "output_type": "stream",
     "text": [
      "0.7561360933587291\n"
     ]
    }
   ],
   "source": [
    "probabilities_valid = model.predict_proba(features_valid)\n",
    "probabilities_one_valid = probabilities_valid[:, 1]\n",
    "\n",
    "auc_roc = roc_auc_score(target_valid, probabilities_one_valid)\n",
    "\n",
    "print(auc_roc)"
   ]
  },
  {
   "cell_type": "markdown",
   "metadata": {},
   "source": [
    "`0.7561` - неплохой показатель, но и неидеальный.\n",
    "\n",
    "**Вывод раздела.** В данном разделе были убраны пропуски из данных. Из признаков были исключены столбцы `RowNumber`, `CustomerId` и `Surname`, так как они скорее всего помешают обучению. Данные были разделены в соотношении 3:1:1 (тренировачные, валидационные и тестовые). Было проведено масштабирование данных. Была проведена попытка обучить простую модель, однако успеха достичь не удалось, так как модель хоть и обладает высокой точностью в `81%`, значение f1-меры составляет только `0.26`, а auc-roc метрика равна `0.76`."
   ]
  },
  {
   "cell_type": "markdown",
   "metadata": {},
   "source": [
    "## Борьба с дисбалансом\n",
    "Для борьбы с дисбалансом обучу модель со взвешиванием классов. Для повышения качества поменяю модель обучения"
   ]
  },
  {
   "cell_type": "code",
   "execution_count": 16,
   "metadata": {},
   "outputs": [
    {
     "name": "stdout",
     "output_type": "stream",
     "text": [
      "F1: 0.5183823529411764\n"
     ]
    }
   ],
   "source": [
    "model = RandomForestClassifier(random_state=1, class_weight='balanced')\n",
    "model.fit(features_train, target_train)\n",
    "predicted_valid = model.predict(features_valid)\n",
    "print(\"F1:\", f1_score(target_valid, predicted_valid))"
   ]
  },
  {
   "cell_type": "markdown",
   "metadata": {},
   "source": [
    "После такого обучения f1-мера значительно выросла и составляет `0.5184`, однако этого недостаточно для прохождения порога. Проверю auc-roc метрику"
   ]
  },
  {
   "cell_type": "code",
   "execution_count": 17,
   "metadata": {},
   "outputs": [
    {
     "name": "stdout",
     "output_type": "stream",
     "text": [
      "0.8416333910218603\n"
     ]
    }
   ],
   "source": [
    "probabilities_valid = model.predict_proba(features_valid)\n",
    "probabilities_one_valid = probabilities_valid[:, 1]\n",
    "\n",
    "auc_roc = roc_auc_score(target_valid, probabilities_one_valid)\n",
    "\n",
    "print(auc_roc)"
   ]
  },
  {
   "cell_type": "markdown",
   "metadata": {},
   "source": [
    "`0.8416` - auc-roc метрика выросла. Для повышения качества увеличу количество единиц в данных. Для начала узнаю их количество"
   ]
  },
  {
   "cell_type": "code",
   "execution_count": 18,
   "metadata": {},
   "outputs": [
    {
     "data": {
      "text/plain": [
       "0    4331\n",
       "1    1123\n",
       "Name: Exited, dtype: int64"
      ]
     },
     "execution_count": 18,
     "metadata": {},
     "output_type": "execute_result"
    }
   ],
   "source": [
    "target_train.value_counts()"
   ]
  },
  {
   "cell_type": "markdown",
   "metadata": {},
   "source": [
    "Такие показатели значат, что нужно в 4 раза больше единиц для баланса данных. Из параметров модели убираю взвешивание классов, так как их почти одинаковое количество"
   ]
  },
  {
   "cell_type": "code",
   "execution_count": 19,
   "metadata": {},
   "outputs": [
    {
     "data": {
      "text/plain": [
       "0.5727848101265823"
      ]
     },
     "execution_count": 19,
     "metadata": {},
     "output_type": "execute_result"
    }
   ],
   "source": [
    "# upsample на вход принимает признаки и целевой признак,\n",
    "# а возвращает несколько повторов одних и тех же\n",
    "# перемешанных данных с целевым признаком 1\n",
    "def upsample(features, target, repeat):\n",
    "    features_zeros = features[target == 0]\n",
    "    features_ones = features[target == 1]\n",
    "    target_zeros = target[target == 0]\n",
    "    target_ones = target[target == 1]\n",
    "\n",
    "    features_upsampled = pd.concat([features_zeros] + [features_ones] * repeat)\n",
    "    target_upsampled = pd.concat([target_zeros] + [target_ones] * repeat)\n",
    "    \n",
    "    features_upsampled, target_upsampled = shuffle(\n",
    "        features_upsampled, target_upsampled, random_state=1)\n",
    "    \n",
    "    return features_upsampled, target_upsampled\n",
    "\n",
    "features_upsample, target_upsample = upsample(features_train, target_train, 4)\n",
    "model = RandomForestClassifier(random_state=1)\n",
    "model.fit(features_upsample, target_upsample)\n",
    "predicted_valid = model.predict(features_valid)\n",
    "f1_score(target_valid, predicted_valid)"
   ]
  },
  {
   "cell_type": "markdown",
   "metadata": {},
   "source": [
    "`0.5728` - это значит, что в этот раз f1-мера практически доходит до необходимого минимума `0.59`. Проверяю auc-roc метрику"
   ]
  },
  {
   "cell_type": "code",
   "execution_count": 20,
   "metadata": {},
   "outputs": [
    {
     "name": "stdout",
     "output_type": "stream",
     "text": [
      "0.8417513463342002\n"
     ]
    }
   ],
   "source": [
    "probabilities_valid = model.predict_proba(features_valid)\n",
    "probabilities_one_valid = probabilities_valid[:, 1]\n",
    "auc_roc = roc_auc_score(target_valid, probabilities_one_valid)\n",
    "print(auc_roc)"
   ]
  },
  {
   "cell_type": "markdown",
   "metadata": {},
   "source": [
    "Метрика почти не изменилась и составляет `0.8418`. Дальше, чтобы поднять f1-меру переберу гиперпараметры модели"
   ]
  },
  {
   "cell_type": "code",
   "execution_count": 21,
   "metadata": {},
   "outputs": [
    {
     "data": {
      "application/vnd.jupyter.widget-view+json": {
       "model_id": "",
       "version_major": 2,
       "version_minor": 0
      },
      "text/plain": [
       "depth:   0%|          | 0/20 [00:00<?, ?it/s]"
      ]
     },
     "metadata": {},
     "output_type": "display_data"
    },
    {
     "data": {
      "application/vnd.jupyter.widget-view+json": {
       "model_id": "",
       "version_major": 2,
       "version_minor": 0
      },
      "text/plain": [
       "est:   0%|          | 0/100 [00:00<?, ?it/s]"
      ]
     },
     "metadata": {},
     "output_type": "display_data"
    },
    {
     "data": {
      "application/vnd.jupyter.widget-view+json": {
       "model_id": "",
       "version_major": 2,
       "version_minor": 0
      },
      "text/plain": [
       "est:   0%|          | 0/100 [00:00<?, ?it/s]"
      ]
     },
     "metadata": {},
     "output_type": "display_data"
    },
    {
     "data": {
      "application/vnd.jupyter.widget-view+json": {
       "model_id": "",
       "version_major": 2,
       "version_minor": 0
      },
      "text/plain": [
       "est:   0%|          | 0/100 [00:00<?, ?it/s]"
      ]
     },
     "metadata": {},
     "output_type": "display_data"
    },
    {
     "data": {
      "application/vnd.jupyter.widget-view+json": {
       "model_id": "",
       "version_major": 2,
       "version_minor": 0
      },
      "text/plain": [
       "est:   0%|          | 0/100 [00:00<?, ?it/s]"
      ]
     },
     "metadata": {},
     "output_type": "display_data"
    },
    {
     "data": {
      "application/vnd.jupyter.widget-view+json": {
       "model_id": "",
       "version_major": 2,
       "version_minor": 0
      },
      "text/plain": [
       "est:   0%|          | 0/100 [00:00<?, ?it/s]"
      ]
     },
     "metadata": {},
     "output_type": "display_data"
    },
    {
     "data": {
      "application/vnd.jupyter.widget-view+json": {
       "model_id": "",
       "version_major": 2,
       "version_minor": 0
      },
      "text/plain": [
       "est:   0%|          | 0/100 [00:00<?, ?it/s]"
      ]
     },
     "metadata": {},
     "output_type": "display_data"
    },
    {
     "data": {
      "application/vnd.jupyter.widget-view+json": {
       "model_id": "",
       "version_major": 2,
       "version_minor": 0
      },
      "text/plain": [
       "est:   0%|          | 0/100 [00:00<?, ?it/s]"
      ]
     },
     "metadata": {},
     "output_type": "display_data"
    },
    {
     "data": {
      "application/vnd.jupyter.widget-view+json": {
       "model_id": "",
       "version_major": 2,
       "version_minor": 0
      },
      "text/plain": [
       "est:   0%|          | 0/100 [00:00<?, ?it/s]"
      ]
     },
     "metadata": {},
     "output_type": "display_data"
    },
    {
     "data": {
      "application/vnd.jupyter.widget-view+json": {
       "model_id": "",
       "version_major": 2,
       "version_minor": 0
      },
      "text/plain": [
       "est:   0%|          | 0/100 [00:00<?, ?it/s]"
      ]
     },
     "metadata": {},
     "output_type": "display_data"
    },
    {
     "data": {
      "application/vnd.jupyter.widget-view+json": {
       "model_id": "",
       "version_major": 2,
       "version_minor": 0
      },
      "text/plain": [
       "est:   0%|          | 0/100 [00:00<?, ?it/s]"
      ]
     },
     "metadata": {},
     "output_type": "display_data"
    },
    {
     "data": {
      "application/vnd.jupyter.widget-view+json": {
       "model_id": "",
       "version_major": 2,
       "version_minor": 0
      },
      "text/plain": [
       "est:   0%|          | 0/100 [00:00<?, ?it/s]"
      ]
     },
     "metadata": {},
     "output_type": "display_data"
    },
    {
     "data": {
      "application/vnd.jupyter.widget-view+json": {
       "model_id": "",
       "version_major": 2,
       "version_minor": 0
      },
      "text/plain": [
       "est:   0%|          | 0/100 [00:00<?, ?it/s]"
      ]
     },
     "metadata": {},
     "output_type": "display_data"
    },
    {
     "data": {
      "application/vnd.jupyter.widget-view+json": {
       "model_id": "",
       "version_major": 2,
       "version_minor": 0
      },
      "text/plain": [
       "est:   0%|          | 0/100 [00:00<?, ?it/s]"
      ]
     },
     "metadata": {},
     "output_type": "display_data"
    },
    {
     "data": {
      "application/vnd.jupyter.widget-view+json": {
       "model_id": "",
       "version_major": 2,
       "version_minor": 0
      },
      "text/plain": [
       "est:   0%|          | 0/100 [00:00<?, ?it/s]"
      ]
     },
     "metadata": {},
     "output_type": "display_data"
    },
    {
     "data": {
      "application/vnd.jupyter.widget-view+json": {
       "model_id": "",
       "version_major": 2,
       "version_minor": 0
      },
      "text/plain": [
       "est:   0%|          | 0/100 [00:00<?, ?it/s]"
      ]
     },
     "metadata": {},
     "output_type": "display_data"
    },
    {
     "data": {
      "application/vnd.jupyter.widget-view+json": {
       "model_id": "",
       "version_major": 2,
       "version_minor": 0
      },
      "text/plain": [
       "est:   0%|          | 0/100 [00:00<?, ?it/s]"
      ]
     },
     "metadata": {},
     "output_type": "display_data"
    },
    {
     "data": {
      "application/vnd.jupyter.widget-view+json": {
       "model_id": "",
       "version_major": 2,
       "version_minor": 0
      },
      "text/plain": [
       "est:   0%|          | 0/100 [00:00<?, ?it/s]"
      ]
     },
     "metadata": {},
     "output_type": "display_data"
    },
    {
     "data": {
      "application/vnd.jupyter.widget-view+json": {
       "model_id": "",
       "version_major": 2,
       "version_minor": 0
      },
      "text/plain": [
       "est:   0%|          | 0/100 [00:00<?, ?it/s]"
      ]
     },
     "metadata": {},
     "output_type": "display_data"
    },
    {
     "data": {
      "application/vnd.jupyter.widget-view+json": {
       "model_id": "",
       "version_major": 2,
       "version_minor": 0
      },
      "text/plain": [
       "est:   0%|          | 0/100 [00:00<?, ?it/s]"
      ]
     },
     "metadata": {},
     "output_type": "display_data"
    },
    {
     "data": {
      "application/vnd.jupyter.widget-view+json": {
       "model_id": "",
       "version_major": 2,
       "version_minor": 0
      },
      "text/plain": [
       "est:   0%|          | 0/100 [00:00<?, ?it/s]"
      ]
     },
     "metadata": {},
     "output_type": "display_data"
    }
   ],
   "source": [
    "best_depth = 0\n",
    "best_est = 0\n",
    "best_f1 = 0\n",
    "\n",
    "for depth in tqdm(range(1, 21, 1), position=0, desc=\"depth\", leave=False):\n",
    "    for est in tqdm(range(1, 101), position=1, desc=\"est\", leave=False):\n",
    "        model = RandomForestClassifier(n_estimators=est, max_depth=depth, random_state=1)\n",
    "        model.fit(features_upsample, target_upsample)\n",
    "        predicted_valid = model.predict(features_valid)\n",
    "        f1 = f1_score(target_valid, predicted_valid)\n",
    "        if best_f1 < f1:\n",
    "            best_f1 = f1\n",
    "            best_depth = depth\n",
    "            best_est = est"
   ]
  },
  {
   "cell_type": "code",
   "execution_count": 22,
   "metadata": {},
   "outputs": [
    {
     "name": "stdout",
     "output_type": "stream",
     "text": [
      "best_f1: 0.6217008797653959\n",
      "best_depth: 15\n",
      "best_est: 38\n"
     ]
    }
   ],
   "source": [
    "print(f\"best_f1: {best_f1}\")\n",
    "print(f\"best_depth: {best_depth}\")\n",
    "print(f\"best_est: {best_est}\")"
   ]
  },
  {
   "cell_type": "markdown",
   "metadata": {},
   "source": [
    "При максимальной глубине в 15 и количестве деревьев 38 удалось получить лучший результат f1-меры в `0.6217`.\n",
    "\n",
    "**Вывод раздела.** В данном разделе проведена борьба с дисбалансом. Для этого была попытка в параметрах модели включить взвешивание классов, однако она не принесла нужных результатов, поэтому данные переработаны таким образом, чтобы поднять значение f1-меры на валидационной выборке. Также вместо линейной регрессии используется классификатор случайного леса, для которого перебором были найдены оптимальные гиперпараметры."
   ]
  },
  {
   "cell_type": "markdown",
   "metadata": {},
   "source": [
    "## Тестирование модели\n",
    "Проверяю модель на тестовой выборке. Для обучения добавляю данные из валидационной выборки."
   ]
  },
  {
   "cell_type": "code",
   "execution_count": 23,
   "metadata": {},
   "outputs": [
    {
     "data": {
      "text/plain": [
       "0.6145092460881935"
      ]
     },
     "execution_count": 23,
     "metadata": {},
     "output_type": "execute_result"
    }
   ],
   "source": [
    "model = RandomForestClassifier(n_estimators=best_est, max_depth=best_depth, random_state=1)\n",
    "model.fit(pd.concat([features_upsample, features_valid]), pd.concat([target_upsample, target_valid]))\n",
    "predicted_test = model.predict(features_test)\n",
    "f1_score(target_test, predicted_test)"
   ]
  },
  {
   "cell_type": "markdown",
   "metadata": {},
   "source": [
    "`0.6145` - результат выше минимального порога необходимого для f1-меры, а значит, что модель прошла проверку. Проверю также auc-roc значение."
   ]
  },
  {
   "cell_type": "code",
   "execution_count": 24,
   "metadata": {},
   "outputs": [
    {
     "name": "stdout",
     "output_type": "stream",
     "text": [
      "0.8478009832971665\n"
     ]
    }
   ],
   "source": [
    "probabilities_test = model.predict_proba(features_test)\n",
    "probabilities_one_test = probabilities_test[:, 1]\n",
    "auc_roc = roc_auc_score(target_test, probabilities_one_test)\n",
    "print(auc_roc)"
   ]
  },
  {
   "cell_type": "markdown",
   "metadata": {},
   "source": [
    "`0.8478` - неплохой результат.\n",
    "\n",
    "**Вывод раздела.** В данном разделе готовая модель проверена на тестовой выборке. Модель показала хороший результат и прошла минимальный порог f1-меры в `0.59` со значением `0.6145`.\n",
    "\n",
    "**Вывод.** В данной работе были взяты данные «Бета-Банка» из которого уходят клиенты. Целью было спрогнозировать, уйдёт клиент из банка в ближайшее время или нет. Чтобы сдать проект успешно, необходимо было довести F1-меру до 0.59. В ходе работы были выполнены следующие задачи:\n",
    "+ изучены представленные данные;\n",
    "+ из данных убраны лишние строки;\n",
    "+ выделены признаки и целевой признак;\n",
    "+ получены дамми-признаки с избеганием дамми-ловушки;\n",
    "+ данные разбиты на тренировачные, валидационные и тестовые;\n",
    "+ проведено масштабирование данных;\n",
    "+ проведена борьба с дисбалансом;\n",
    "+ лучшая модель проверена на тестовой выборке;\n",
    "+ пройден порог f1-меры в `0.59`.\n",
    "\n",
    "С данной моделью «Бета-Банк» сможет улучшить свои прогнозы уходов клиентов до того, как они решаться уйти и примет необходимые меры для их удержания."
   ]
  }
 ],
 "metadata": {
  "ExecuteTimeLog": [
   {
    "duration": 378,
    "start_time": "2023-04-04T12:10:35.095Z"
   },
   {
    "duration": 94,
    "start_time": "2023-04-04T12:11:43.561Z"
   },
   {
    "duration": 18,
    "start_time": "2023-04-04T12:11:50.067Z"
   },
   {
    "duration": 14,
    "start_time": "2023-04-04T12:13:05.760Z"
   },
   {
    "duration": 46,
    "start_time": "2023-04-04T12:13:23.213Z"
   },
   {
    "duration": 36245,
    "start_time": "2023-04-04T12:20:42.993Z"
   },
   {
    "duration": 5,
    "start_time": "2023-04-04T12:21:25.757Z"
   },
   {
    "duration": 4,
    "start_time": "2023-04-04T12:32:51.755Z"
   },
   {
    "duration": 80,
    "start_time": "2023-04-04T12:32:52.751Z"
   },
   {
    "duration": 692,
    "start_time": "2023-04-04T12:33:19.533Z"
   },
   {
    "duration": 38,
    "start_time": "2023-04-04T12:33:22.168Z"
   },
   {
    "duration": 15,
    "start_time": "2023-04-04T12:33:24.011Z"
   },
   {
    "duration": 12,
    "start_time": "2023-04-04T12:33:25.399Z"
   },
   {
    "duration": 38,
    "start_time": "2023-04-04T12:33:28.291Z"
   },
   {
    "duration": 4,
    "start_time": "2023-04-04T12:33:32.337Z"
   },
   {
    "duration": 4,
    "start_time": "2023-04-04T12:33:33.929Z"
   },
   {
    "duration": 6,
    "start_time": "2023-04-04T12:33:35.160Z"
   },
   {
    "duration": 6,
    "start_time": "2023-04-04T12:33:36.456Z"
   },
   {
    "duration": 64,
    "start_time": "2023-04-04T12:33:38.493Z"
   },
   {
    "duration": 5,
    "start_time": "2023-04-04T12:34:23.504Z"
   },
   {
    "duration": 7,
    "start_time": "2023-04-04T12:34:24.402Z"
   },
   {
    "duration": 4,
    "start_time": "2023-04-04T12:34:26.444Z"
   },
   {
    "duration": 16,
    "start_time": "2023-04-04T12:34:29.722Z"
   },
   {
    "duration": 266,
    "start_time": "2023-04-04T12:36:26.633Z"
   },
   {
    "duration": 16,
    "start_time": "2023-04-04T12:36:28.760Z"
   },
   {
    "duration": 14,
    "start_time": "2023-04-04T12:37:10.256Z"
   },
   {
    "duration": 1119,
    "start_time": "2023-04-04T12:37:23.626Z"
   },
   {
    "duration": 37,
    "start_time": "2023-04-04T12:37:24.748Z"
   },
   {
    "duration": 19,
    "start_time": "2023-04-04T12:37:24.786Z"
   },
   {
    "duration": 16,
    "start_time": "2023-04-04T12:37:24.807Z"
   },
   {
    "duration": 41,
    "start_time": "2023-04-04T12:37:24.824Z"
   },
   {
    "duration": 4,
    "start_time": "2023-04-04T12:37:24.867Z"
   },
   {
    "duration": 17,
    "start_time": "2023-04-04T12:37:24.872Z"
   },
   {
    "duration": 6,
    "start_time": "2023-04-04T12:37:24.890Z"
   },
   {
    "duration": 5,
    "start_time": "2023-04-04T12:37:24.897Z"
   },
   {
    "duration": 130,
    "start_time": "2023-04-04T12:37:24.903Z"
   },
   {
    "duration": 1054,
    "start_time": "2023-04-04T12:38:39.364Z"
   },
   {
    "duration": 37,
    "start_time": "2023-04-04T12:38:40.420Z"
   },
   {
    "duration": 19,
    "start_time": "2023-04-04T12:38:40.460Z"
   },
   {
    "duration": 13,
    "start_time": "2023-04-04T12:38:40.482Z"
   },
   {
    "duration": 63,
    "start_time": "2023-04-04T12:38:40.497Z"
   },
   {
    "duration": 10,
    "start_time": "2023-04-04T12:38:40.562Z"
   },
   {
    "duration": 10,
    "start_time": "2023-04-04T12:38:40.574Z"
   },
   {
    "duration": 12,
    "start_time": "2023-04-04T12:38:40.586Z"
   },
   {
    "duration": 7,
    "start_time": "2023-04-04T12:38:40.600Z"
   },
   {
    "duration": 6,
    "start_time": "2023-04-04T12:38:40.608Z"
   },
   {
    "duration": 38,
    "start_time": "2023-04-04T12:38:40.639Z"
   },
   {
    "duration": 3,
    "start_time": "2023-04-04T12:41:05.292Z"
   },
   {
    "duration": 108,
    "start_time": "2023-04-04T12:42:08.067Z"
   },
   {
    "duration": 32,
    "start_time": "2023-04-04T12:42:11.598Z"
   },
   {
    "duration": 5,
    "start_time": "2023-04-04T12:42:13.996Z"
   },
   {
    "duration": 7,
    "start_time": "2023-04-04T12:42:17.651Z"
   },
   {
    "duration": 8,
    "start_time": "2023-04-04T12:43:30.317Z"
   },
   {
    "duration": 1066,
    "start_time": "2023-04-04T12:43:45.163Z"
   },
   {
    "duration": 42,
    "start_time": "2023-04-04T12:43:46.231Z"
   },
   {
    "duration": 26,
    "start_time": "2023-04-04T12:43:46.275Z"
   },
   {
    "duration": 14,
    "start_time": "2023-04-04T12:43:46.303Z"
   },
   {
    "duration": 36,
    "start_time": "2023-04-04T12:43:46.319Z"
   },
   {
    "duration": 7,
    "start_time": "2023-04-04T12:43:46.357Z"
   },
   {
    "duration": 4,
    "start_time": "2023-04-04T12:43:46.366Z"
   },
   {
    "duration": 13,
    "start_time": "2023-04-04T12:43:46.371Z"
   },
   {
    "duration": 5,
    "start_time": "2023-04-04T12:43:46.385Z"
   },
   {
    "duration": 7,
    "start_time": "2023-04-04T12:43:46.392Z"
   },
   {
    "duration": 57,
    "start_time": "2023-04-04T12:43:46.401Z"
   },
   {
    "duration": 5,
    "start_time": "2023-04-04T12:43:46.459Z"
   },
   {
    "duration": 6,
    "start_time": "2023-04-04T12:43:46.465Z"
   },
   {
    "duration": 5,
    "start_time": "2023-04-04T12:43:46.473Z"
   },
   {
    "duration": 3,
    "start_time": "2023-04-04T13:23:24.737Z"
   },
   {
    "duration": 12,
    "start_time": "2023-04-04T13:24:10.159Z"
   },
   {
    "duration": 35,
    "start_time": "2023-04-04T13:24:15.047Z"
   },
   {
    "duration": 4,
    "start_time": "2023-04-04T13:24:20.816Z"
   },
   {
    "duration": 7,
    "start_time": "2023-04-04T13:24:25.258Z"
   },
   {
    "duration": 5,
    "start_time": "2023-04-04T13:24:32.142Z"
   },
   {
    "duration": 4,
    "start_time": "2023-04-04T13:24:32.725Z"
   },
   {
    "duration": 31,
    "start_time": "2023-04-04T13:24:35.553Z"
   },
   {
    "duration": 6,
    "start_time": "2023-04-04T13:24:37.082Z"
   },
   {
    "duration": 6,
    "start_time": "2023-04-04T13:24:40.177Z"
   },
   {
    "duration": 6,
    "start_time": "2023-04-04T13:24:47.393Z"
   },
   {
    "duration": 17,
    "start_time": "2023-04-04T13:27:59.859Z"
   },
   {
    "duration": 5,
    "start_time": "2023-04-04T13:28:01.941Z"
   },
   {
    "duration": 5,
    "start_time": "2023-04-04T13:28:02.391Z"
   },
   {
    "duration": 29,
    "start_time": "2023-04-04T13:28:05.071Z"
   },
   {
    "duration": 4,
    "start_time": "2023-04-04T13:28:07.579Z"
   },
   {
    "duration": 9,
    "start_time": "2023-04-04T13:28:15.458Z"
   },
   {
    "duration": 9,
    "start_time": "2023-04-04T13:28:18.067Z"
   },
   {
    "duration": 18,
    "start_time": "2023-04-04T13:28:29.381Z"
   },
   {
    "duration": 5,
    "start_time": "2023-04-04T13:28:29.877Z"
   },
   {
    "duration": 4,
    "start_time": "2023-04-04T13:28:30.319Z"
   },
   {
    "duration": 39,
    "start_time": "2023-04-04T13:28:30.973Z"
   },
   {
    "duration": 6,
    "start_time": "2023-04-04T13:28:31.517Z"
   },
   {
    "duration": 7,
    "start_time": "2023-04-04T13:28:33.324Z"
   },
   {
    "duration": 8,
    "start_time": "2023-04-04T13:28:34.827Z"
   },
   {
    "duration": 5,
    "start_time": "2023-04-04T14:01:09.200Z"
   },
   {
    "duration": 7,
    "start_time": "2023-04-04T14:01:12.796Z"
   },
   {
    "duration": 31,
    "start_time": "2023-04-04T14:08:49.888Z"
   },
   {
    "duration": 32,
    "start_time": "2023-04-04T14:09:11.224Z"
   },
   {
    "duration": 6,
    "start_time": "2023-04-04T14:09:18.394Z"
   },
   {
    "duration": 7,
    "start_time": "2023-04-04T14:09:22.595Z"
   },
   {
    "duration": 6,
    "start_time": "2023-04-04T14:09:27.158Z"
   },
   {
    "duration": 30,
    "start_time": "2023-04-04T14:09:35.663Z"
   },
   {
    "duration": 4,
    "start_time": "2023-04-04T14:09:36.162Z"
   },
   {
    "duration": 7,
    "start_time": "2023-04-04T14:09:37.195Z"
   },
   {
    "duration": 6,
    "start_time": "2023-04-04T14:09:38.233Z"
   },
   {
    "duration": 117,
    "start_time": "2023-04-04T14:11:14.164Z"
   },
   {
    "duration": 16,
    "start_time": "2023-04-04T14:13:04.021Z"
   },
   {
    "duration": 4,
    "start_time": "2023-04-04T14:14:46.768Z"
   },
   {
    "duration": 20,
    "start_time": "2023-04-04T14:15:18.022Z"
   },
   {
    "duration": 1063,
    "start_time": "2023-04-04T14:15:40.194Z"
   },
   {
    "duration": 38,
    "start_time": "2023-04-04T14:15:41.259Z"
   },
   {
    "duration": 18,
    "start_time": "2023-04-04T14:15:41.299Z"
   },
   {
    "duration": 13,
    "start_time": "2023-04-04T14:15:41.319Z"
   },
   {
    "duration": 35,
    "start_time": "2023-04-04T14:15:41.334Z"
   },
   {
    "duration": 7,
    "start_time": "2023-04-04T14:15:41.371Z"
   },
   {
    "duration": 5,
    "start_time": "2023-04-04T14:15:41.379Z"
   },
   {
    "duration": 19,
    "start_time": "2023-04-04T14:15:41.385Z"
   },
   {
    "duration": 3,
    "start_time": "2023-04-04T14:15:41.406Z"
   },
   {
    "duration": 4,
    "start_time": "2023-04-04T14:15:41.410Z"
   },
   {
    "duration": 52,
    "start_time": "2023-04-04T14:15:41.415Z"
   },
   {
    "duration": 4,
    "start_time": "2023-04-04T14:15:41.469Z"
   },
   {
    "duration": 6,
    "start_time": "2023-04-04T14:15:41.474Z"
   },
   {
    "duration": 5,
    "start_time": "2023-04-04T14:15:41.482Z"
   },
   {
    "duration": 142,
    "start_time": "2023-04-04T14:15:41.488Z"
   },
   {
    "duration": 5,
    "start_time": "2023-04-04T14:16:05.669Z"
   },
   {
    "duration": 5,
    "start_time": "2023-04-04T14:16:28.341Z"
   },
   {
    "duration": 6,
    "start_time": "2023-04-04T14:17:01.739Z"
   },
   {
    "duration": 1137,
    "start_time": "2023-04-04T14:17:06.885Z"
   },
   {
    "duration": 40,
    "start_time": "2023-04-04T14:17:08.024Z"
   },
   {
    "duration": 19,
    "start_time": "2023-04-04T14:17:08.067Z"
   },
   {
    "duration": 14,
    "start_time": "2023-04-04T14:17:08.089Z"
   },
   {
    "duration": 57,
    "start_time": "2023-04-04T14:17:08.105Z"
   },
   {
    "duration": 9,
    "start_time": "2023-04-04T14:17:08.164Z"
   },
   {
    "duration": 6,
    "start_time": "2023-04-04T14:17:08.174Z"
   },
   {
    "duration": 15,
    "start_time": "2023-04-04T14:17:08.181Z"
   },
   {
    "duration": 7,
    "start_time": "2023-04-04T14:17:08.198Z"
   },
   {
    "duration": 35,
    "start_time": "2023-04-04T14:17:08.207Z"
   },
   {
    "duration": 35,
    "start_time": "2023-04-04T14:17:08.243Z"
   },
   {
    "duration": 4,
    "start_time": "2023-04-04T14:17:08.279Z"
   },
   {
    "duration": 10,
    "start_time": "2023-04-04T14:17:08.286Z"
   },
   {
    "duration": 5,
    "start_time": "2023-04-04T14:17:08.298Z"
   },
   {
    "duration": 15,
    "start_time": "2023-04-04T14:17:08.304Z"
   },
   {
    "duration": 15,
    "start_time": "2023-04-04T14:17:28.729Z"
   },
   {
    "duration": 56,
    "start_time": "2023-04-04T14:17:47.486Z"
   },
   {
    "duration": 4,
    "start_time": "2023-04-04T14:17:49.125Z"
   },
   {
    "duration": 6,
    "start_time": "2023-04-04T14:17:52.056Z"
   },
   {
    "duration": 5,
    "start_time": "2023-04-04T14:17:54.183Z"
   },
   {
    "duration": 3,
    "start_time": "2023-04-04T14:19:09.311Z"
   },
   {
    "duration": 38,
    "start_time": "2023-04-04T14:19:09.859Z"
   },
   {
    "duration": 12,
    "start_time": "2023-04-04T14:19:10.419Z"
   },
   {
    "duration": 13,
    "start_time": "2023-04-04T14:19:12.116Z"
   },
   {
    "duration": 38,
    "start_time": "2023-04-04T14:19:14.693Z"
   },
   {
    "duration": 7,
    "start_time": "2023-04-04T14:19:18.208Z"
   },
   {
    "duration": 5,
    "start_time": "2023-04-04T14:19:18.663Z"
   },
   {
    "duration": 12,
    "start_time": "2023-04-04T14:19:19.499Z"
   },
   {
    "duration": 6,
    "start_time": "2023-04-04T14:19:20.291Z"
   },
   {
    "duration": 6,
    "start_time": "2023-04-04T14:19:21.313Z"
   },
   {
    "duration": 35,
    "start_time": "2023-04-04T14:19:24.212Z"
   },
   {
    "duration": 5,
    "start_time": "2023-04-04T14:19:26.228Z"
   },
   {
    "duration": 5,
    "start_time": "2023-04-04T14:19:27.485Z"
   },
   {
    "duration": 6,
    "start_time": "2023-04-04T14:19:28.036Z"
   },
   {
    "duration": 11,
    "start_time": "2023-04-04T14:19:32.054Z"
   },
   {
    "duration": 14,
    "start_time": "2023-04-04T14:19:37.653Z"
   },
   {
    "duration": 4,
    "start_time": "2023-04-04T14:19:39.160Z"
   },
   {
    "duration": 6,
    "start_time": "2023-04-04T14:19:41.387Z"
   },
   {
    "duration": 5,
    "start_time": "2023-04-04T14:19:44.480Z"
   },
   {
    "duration": 7,
    "start_time": "2023-04-04T14:20:04.128Z"
   },
   {
    "duration": 6,
    "start_time": "2023-04-04T14:20:05.071Z"
   },
   {
    "duration": 11,
    "start_time": "2023-04-04T14:20:10.026Z"
   },
   {
    "duration": 16,
    "start_time": "2023-04-04T14:20:15.103Z"
   },
   {
    "duration": 5,
    "start_time": "2023-04-04T14:20:16.459Z"
   },
   {
    "duration": 7,
    "start_time": "2023-04-04T14:20:18.741Z"
   },
   {
    "duration": 6,
    "start_time": "2023-04-04T14:20:19.832Z"
   },
   {
    "duration": 11,
    "start_time": "2023-04-04T14:20:26.786Z"
   },
   {
    "duration": 11,
    "start_time": "2023-04-04T14:20:51.635Z"
   },
   {
    "duration": 8,
    "start_time": "2023-04-04T14:21:04.553Z"
   },
   {
    "duration": 5,
    "start_time": "2023-04-04T14:21:05.089Z"
   },
   {
    "duration": 34,
    "start_time": "2023-04-04T14:21:06.686Z"
   },
   {
    "duration": 5,
    "start_time": "2023-04-04T14:21:07.364Z"
   },
   {
    "duration": 6,
    "start_time": "2023-04-04T14:21:09.888Z"
   },
   {
    "duration": 5,
    "start_time": "2023-04-04T14:21:11.869Z"
   },
   {
    "duration": 143,
    "start_time": "2023-04-04T14:28:20.066Z"
   },
   {
    "duration": 3,
    "start_time": "2023-04-04T14:28:35.574Z"
   },
   {
    "duration": 42,
    "start_time": "2023-04-04T14:28:40.303Z"
   },
   {
    "duration": 3,
    "start_time": "2023-04-04T14:29:10.219Z"
   },
   {
    "duration": 73,
    "start_time": "2023-04-04T14:29:17.221Z"
   },
   {
    "duration": 71,
    "start_time": "2023-04-04T14:29:54.163Z"
   },
   {
    "duration": 124,
    "start_time": "2023-04-04T14:30:05.011Z"
   },
   {
    "duration": 76,
    "start_time": "2023-04-04T14:30:40.445Z"
   },
   {
    "duration": 4,
    "start_time": "2023-04-04T14:30:49.692Z"
   },
   {
    "duration": 5,
    "start_time": "2023-04-04T14:34:30.038Z"
   },
   {
    "duration": 1116,
    "start_time": "2023-04-04T14:50:57.948Z"
   },
   {
    "duration": 48,
    "start_time": "2023-04-04T14:50:59.066Z"
   },
   {
    "duration": 22,
    "start_time": "2023-04-04T14:50:59.116Z"
   },
   {
    "duration": 13,
    "start_time": "2023-04-04T14:50:59.140Z"
   },
   {
    "duration": 47,
    "start_time": "2023-04-04T14:50:59.156Z"
   },
   {
    "duration": 9,
    "start_time": "2023-04-04T14:50:59.205Z"
   },
   {
    "duration": 40,
    "start_time": "2023-04-04T14:50:59.215Z"
   },
   {
    "duration": 11,
    "start_time": "2023-04-04T14:50:59.257Z"
   },
   {
    "duration": 8,
    "start_time": "2023-04-04T14:50:59.270Z"
   },
   {
    "duration": 71,
    "start_time": "2023-04-04T14:50:59.280Z"
   },
   {
    "duration": 90,
    "start_time": "2023-04-04T14:50:59.353Z"
   },
   {
    "duration": 97,
    "start_time": "2023-04-04T14:50:59.446Z"
   },
   {
    "duration": 7,
    "start_time": "2023-04-04T14:50:59.545Z"
   },
   {
    "duration": 103,
    "start_time": "2023-04-04T14:50:59.554Z"
   },
   {
    "duration": 49,
    "start_time": "2023-04-04T14:50:59.741Z"
   },
   {
    "duration": 0,
    "start_time": "2023-04-04T14:50:59.791Z"
   },
   {
    "duration": 3875,
    "start_time": "2023-04-04T14:53:52.089Z"
   },
   {
    "duration": 139,
    "start_time": "2023-04-04T14:54:25.291Z"
   },
   {
    "duration": 17,
    "start_time": "2023-04-04T14:55:16.384Z"
   },
   {
    "duration": 5,
    "start_time": "2023-04-04T14:55:56.881Z"
   },
   {
    "duration": 6,
    "start_time": "2023-04-04T14:57:13.210Z"
   },
   {
    "duration": 22,
    "start_time": "2023-04-04T14:57:57.363Z"
   },
   {
    "duration": 21,
    "start_time": "2023-04-04T14:58:07.583Z"
   },
   {
    "duration": 4274,
    "start_time": "2023-04-04T14:58:24.170Z"
   },
   {
    "duration": 3628,
    "start_time": "2023-04-04T14:59:08.815Z"
   },
   {
    "duration": 1115,
    "start_time": "2023-04-04T14:59:42.144Z"
   },
   {
    "duration": 40,
    "start_time": "2023-04-04T14:59:43.261Z"
   },
   {
    "duration": 19,
    "start_time": "2023-04-04T14:59:43.303Z"
   },
   {
    "duration": 13,
    "start_time": "2023-04-04T14:59:43.324Z"
   },
   {
    "duration": 37,
    "start_time": "2023-04-04T14:59:43.339Z"
   },
   {
    "duration": 8,
    "start_time": "2023-04-04T14:59:43.378Z"
   },
   {
    "duration": 12,
    "start_time": "2023-04-04T14:59:43.387Z"
   },
   {
    "duration": 5,
    "start_time": "2023-04-04T14:59:43.402Z"
   },
   {
    "duration": 5,
    "start_time": "2023-04-04T14:59:43.408Z"
   },
   {
    "duration": 41,
    "start_time": "2023-04-04T14:59:43.441Z"
   },
   {
    "duration": 6,
    "start_time": "2023-04-04T14:59:43.541Z"
   },
   {
    "duration": 95,
    "start_time": "2023-04-04T14:59:43.548Z"
   },
   {
    "duration": 9,
    "start_time": "2023-04-04T14:59:43.644Z"
   },
   {
    "duration": 39,
    "start_time": "2023-04-04T14:59:43.655Z"
   },
   {
    "duration": 3749,
    "start_time": "2023-04-04T14:59:43.695Z"
   },
   {
    "duration": 102,
    "start_time": "2023-04-04T14:59:47.445Z"
   },
   {
    "duration": 17,
    "start_time": "2023-04-04T15:00:25.167Z"
   },
   {
    "duration": 17,
    "start_time": "2023-04-04T15:00:35.911Z"
   },
   {
    "duration": 23,
    "start_time": "2023-04-04T15:01:04.528Z"
   },
   {
    "duration": 5,
    "start_time": "2023-04-04T15:01:05.360Z"
   },
   {
    "duration": 5,
    "start_time": "2023-04-04T15:01:06.131Z"
   },
   {
    "duration": 6,
    "start_time": "2023-04-04T15:01:06.686Z"
   },
   {
    "duration": 4065,
    "start_time": "2023-04-04T15:01:46.687Z"
   },
   {
    "duration": 4564,
    "start_time": "2023-04-04T15:02:15.431Z"
   },
   {
    "duration": 1568,
    "start_time": "2023-04-04T15:13:58.782Z"
   },
   {
    "duration": 126,
    "start_time": "2023-04-04T15:14:14.502Z"
   },
   {
    "duration": 1518,
    "start_time": "2023-04-04T15:14:24.833Z"
   },
   {
    "duration": 1550,
    "start_time": "2023-04-04T15:15:20.610Z"
   },
   {
    "duration": 3040,
    "start_time": "2023-04-04T15:16:55.561Z"
   },
   {
    "duration": 13,
    "start_time": "2023-04-04T15:17:13.949Z"
   },
   {
    "duration": 2603,
    "start_time": "2023-04-04T15:17:17.150Z"
   },
   {
    "duration": 2640,
    "start_time": "2023-04-04T15:17:40.501Z"
   },
   {
    "duration": 1912,
    "start_time": "2023-04-04T15:18:03.589Z"
   },
   {
    "duration": 2530,
    "start_time": "2023-04-04T15:18:13.613Z"
   },
   {
    "duration": 5207,
    "start_time": "2023-04-04T15:18:35.134Z"
   },
   {
    "duration": 11,
    "start_time": "2023-04-04T15:23:37.587Z"
   },
   {
    "duration": 39,
    "start_time": "2023-04-04T15:25:52.678Z"
   },
   {
    "duration": 13,
    "start_time": "2023-04-04T15:29:49.225Z"
   },
   {
    "duration": 10,
    "start_time": "2023-04-04T15:30:19.195Z"
   },
   {
    "duration": 13,
    "start_time": "2023-04-04T15:30:25.074Z"
   },
   {
    "duration": 385,
    "start_time": "2023-04-04T15:30:31.439Z"
   },
   {
    "duration": 348,
    "start_time": "2023-04-04T15:31:05.586Z"
   },
   {
    "duration": 3,
    "start_time": "2023-04-04T15:32:11.402Z"
   },
   {
    "duration": 162,
    "start_time": "2023-04-04T15:32:21.722Z"
   },
   {
    "duration": 149,
    "start_time": "2023-04-04T15:32:27.944Z"
   },
   {
    "duration": 144,
    "start_time": "2023-04-04T15:32:37.767Z"
   },
   {
    "duration": 160,
    "start_time": "2023-04-04T15:33:48.593Z"
   },
   {
    "duration": 34,
    "start_time": "2023-04-04T15:34:48.726Z"
   },
   {
    "duration": 53,
    "start_time": "2023-04-04T15:35:19.112Z"
   },
   {
    "duration": 863625,
    "start_time": "2023-04-04T15:35:56.296Z"
   },
   {
    "duration": 870243,
    "start_time": "2023-04-04T16:00:45.294Z"
   },
   {
    "duration": 882,
    "start_time": "2023-04-04T16:16:32.107Z"
   },
   {
    "duration": 49,
    "start_time": "2023-04-04T16:17:50.618Z"
   },
   {
    "duration": 64,
    "start_time": "2023-04-04T16:18:04.501Z"
   },
   {
    "duration": 4586,
    "start_time": "2023-04-04T16:18:44.329Z"
   },
   {
    "duration": 1019,
    "start_time": "2023-04-04T16:19:27.404Z"
   },
   {
    "duration": 39,
    "start_time": "2023-04-04T16:19:49.195Z"
   },
   {
    "duration": 46,
    "start_time": "2023-04-04T16:19:52.263Z"
   },
   {
    "duration": 52,
    "start_time": "2023-04-04T16:20:04.869Z"
   },
   {
    "duration": 37,
    "start_time": "2023-04-04T16:20:15.195Z"
   },
   {
    "duration": 633,
    "start_time": "2023-04-04T16:20:27.859Z"
   },
   {
    "duration": 23062,
    "start_time": "2023-04-04T16:29:55.976Z"
   },
   {
    "duration": 19,
    "start_time": "2023-04-04T16:30:38.470Z"
   },
   {
    "duration": 12359,
    "start_time": "2023-04-04T16:31:03.372Z"
   },
   {
    "duration": 14,
    "start_time": "2023-04-04T16:31:35.500Z"
   },
   {
    "duration": 1036204,
    "start_time": "2023-04-04T16:31:41.957Z"
   },
   {
    "duration": 1206,
    "start_time": "2023-04-04T16:53:17.250Z"
   },
   {
    "duration": 51,
    "start_time": "2023-04-04T16:54:42.986Z"
   },
   {
    "duration": 1401,
    "start_time": "2023-04-04T16:55:02.405Z"
   },
   {
    "duration": 1211,
    "start_time": "2023-04-04T16:56:44.434Z"
   },
   {
    "duration": 1175,
    "start_time": "2023-04-04T16:57:19.208Z"
   },
   {
    "duration": 37,
    "start_time": "2023-04-04T16:57:20.385Z"
   },
   {
    "duration": 19,
    "start_time": "2023-04-04T16:57:20.424Z"
   },
   {
    "duration": 23,
    "start_time": "2023-04-04T16:57:20.445Z"
   },
   {
    "duration": 47,
    "start_time": "2023-04-04T16:57:20.471Z"
   },
   {
    "duration": 8,
    "start_time": "2023-04-04T16:57:20.520Z"
   },
   {
    "duration": 18,
    "start_time": "2023-04-04T16:57:20.530Z"
   },
   {
    "duration": 15,
    "start_time": "2023-04-04T16:57:20.550Z"
   },
   {
    "duration": 37,
    "start_time": "2023-04-04T16:57:20.567Z"
   },
   {
    "duration": 39,
    "start_time": "2023-04-04T16:57:20.606Z"
   },
   {
    "duration": 6,
    "start_time": "2023-04-04T16:57:20.647Z"
   },
   {
    "duration": 6,
    "start_time": "2023-04-04T16:57:20.740Z"
   },
   {
    "duration": 94,
    "start_time": "2023-04-04T16:57:20.748Z"
   },
   {
    "duration": 39,
    "start_time": "2023-04-04T16:57:20.845Z"
   },
   {
    "duration": 22899,
    "start_time": "2023-04-04T16:57:20.941Z"
   },
   {
    "duration": 14,
    "start_time": "2023-04-04T16:57:43.842Z"
   },
   {
    "duration": 12203,
    "start_time": "2023-04-04T16:57:43.858Z"
   },
   {
    "duration": 12,
    "start_time": "2023-04-04T16:57:56.063Z"
   },
   {
    "duration": 10052,
    "start_time": "2023-04-04T16:57:56.077Z"
   },
   {
    "duration": 0,
    "start_time": "2023-04-04T16:58:06.130Z"
   },
   {
    "duration": 0,
    "start_time": "2023-04-04T16:58:06.132Z"
   },
   {
    "duration": 0,
    "start_time": "2023-04-04T16:58:06.133Z"
   },
   {
    "duration": 0,
    "start_time": "2023-04-04T16:58:06.139Z"
   },
   {
    "duration": 1131,
    "start_time": "2023-04-04T16:59:47.950Z"
   },
   {
    "duration": 37,
    "start_time": "2023-04-04T16:59:49.083Z"
   },
   {
    "duration": 21,
    "start_time": "2023-04-04T16:59:49.122Z"
   },
   {
    "duration": 14,
    "start_time": "2023-04-04T16:59:49.144Z"
   },
   {
    "duration": 37,
    "start_time": "2023-04-04T16:59:49.160Z"
   },
   {
    "duration": 9,
    "start_time": "2023-04-04T16:59:49.199Z"
   },
   {
    "duration": 37,
    "start_time": "2023-04-04T16:59:49.210Z"
   },
   {
    "duration": 8,
    "start_time": "2023-04-04T16:59:49.248Z"
   },
   {
    "duration": 5,
    "start_time": "2023-04-04T16:59:49.257Z"
   },
   {
    "duration": 29,
    "start_time": "2023-04-04T16:59:49.264Z"
   },
   {
    "duration": 9,
    "start_time": "2023-04-04T16:59:49.340Z"
   },
   {
    "duration": 4,
    "start_time": "2023-04-04T16:59:49.441Z"
   },
   {
    "duration": 14,
    "start_time": "2023-04-04T16:59:49.446Z"
   },
   {
    "duration": 78,
    "start_time": "2023-04-04T16:59:49.463Z"
   },
   {
    "duration": 24929,
    "start_time": "2023-04-04T16:59:49.545Z"
   },
   {
    "duration": 13,
    "start_time": "2023-04-04T17:00:14.475Z"
   },
   {
    "duration": 12343,
    "start_time": "2023-04-04T17:00:14.490Z"
   },
   {
    "duration": 18,
    "start_time": "2023-04-04T17:00:26.839Z"
   },
   {
    "duration": 109739,
    "start_time": "2023-04-04T17:00:26.859Z"
   },
   {
    "duration": 0,
    "start_time": "2023-04-04T17:02:16.600Z"
   },
   {
    "duration": 0,
    "start_time": "2023-04-04T17:02:16.601Z"
   },
   {
    "duration": 0,
    "start_time": "2023-04-04T17:02:16.603Z"
   },
   {
    "duration": 0,
    "start_time": "2023-04-04T17:02:16.605Z"
   },
   {
    "duration": 1422,
    "start_time": "2023-04-04T17:02:51.593Z"
   },
   {
    "duration": 55,
    "start_time": "2023-04-04T17:34:52.536Z"
   },
   {
    "duration": 5,
    "start_time": "2023-04-04T17:35:02.057Z"
   },
   {
    "duration": 27,
    "start_time": "2023-04-04T17:35:02.534Z"
   },
   {
    "duration": 4,
    "start_time": "2023-04-04T17:35:03.034Z"
   },
   {
    "duration": 4,
    "start_time": "2023-04-04T17:35:03.699Z"
   },
   {
    "duration": 7,
    "start_time": "2023-04-04T17:35:04.732Z"
   },
   {
    "duration": 9,
    "start_time": "2023-04-04T17:35:07.639Z"
   },
   {
    "duration": 45,
    "start_time": "2023-04-04T17:35:19.379Z"
   },
   {
    "duration": 8,
    "start_time": "2023-04-04T17:35:38.435Z"
   },
   {
    "duration": 1453,
    "start_time": "2023-04-04T17:36:54.414Z"
   },
   {
    "duration": 12438,
    "start_time": "2023-04-04T17:38:11.858Z"
   },
   {
    "duration": 1453,
    "start_time": "2023-04-04T17:38:30.693Z"
   },
   {
    "duration": 1246,
    "start_time": "2023-04-04T17:38:48.260Z"
   },
   {
    "duration": 58,
    "start_time": "2023-04-04T17:40:20.173Z"
   },
   {
    "duration": 1496,
    "start_time": "2023-04-04T17:40:30.157Z"
   },
   {
    "duration": 60,
    "start_time": "2023-04-04T17:40:33.955Z"
   },
   {
    "duration": 47,
    "start_time": "2023-04-04T17:40:50.986Z"
   },
   {
    "duration": 1706,
    "start_time": "2023-04-04T17:44:03.497Z"
   },
   {
    "duration": 5,
    "start_time": "2023-04-04T17:44:17.862Z"
   },
   {
    "duration": 1104,
    "start_time": "2023-04-04T18:13:11.781Z"
   },
   {
    "duration": 39,
    "start_time": "2023-04-04T18:13:12.887Z"
   },
   {
    "duration": 20,
    "start_time": "2023-04-04T18:13:12.930Z"
   },
   {
    "duration": 14,
    "start_time": "2023-04-04T18:13:12.951Z"
   },
   {
    "duration": 38,
    "start_time": "2023-04-04T18:13:12.967Z"
   },
   {
    "duration": 8,
    "start_time": "2023-04-04T18:13:13.006Z"
   },
   {
    "duration": 35,
    "start_time": "2023-04-04T18:13:13.015Z"
   },
   {
    "duration": 14,
    "start_time": "2023-04-04T18:13:13.051Z"
   },
   {
    "duration": 4,
    "start_time": "2023-04-04T18:13:13.068Z"
   },
   {
    "duration": 67,
    "start_time": "2023-04-04T18:13:13.074Z"
   },
   {
    "duration": 6,
    "start_time": "2023-04-04T18:13:13.142Z"
   },
   {
    "duration": 94,
    "start_time": "2023-04-04T18:13:13.149Z"
   },
   {
    "duration": 7,
    "start_time": "2023-04-04T18:13:13.244Z"
   },
   {
    "duration": 7,
    "start_time": "2023-04-04T18:13:13.253Z"
   },
   {
    "duration": 207,
    "start_time": "2023-04-04T18:13:13.262Z"
   },
   {
    "duration": 77,
    "start_time": "2023-04-04T18:13:13.471Z"
   },
   {
    "duration": 25149,
    "start_time": "2023-04-04T18:13:13.641Z"
   },
   {
    "duration": 1462,
    "start_time": "2023-04-04T18:13:38.791Z"
   },
   {
    "duration": 12243,
    "start_time": "2023-04-04T18:13:40.255Z"
   },
   {
    "duration": 1300,
    "start_time": "2023-04-04T18:13:52.500Z"
   },
   {
    "duration": 3939431,
    "start_time": "2023-04-04T18:13:53.802Z"
   },
   {
    "duration": 1424,
    "start_time": "2023-04-04T19:19:33.240Z"
   },
   {
    "duration": 46,
    "start_time": "2023-04-04T19:19:34.666Z"
   },
   {
    "duration": 3,
    "start_time": "2023-04-04T19:22:04.589Z"
   },
   {
    "duration": 1135,
    "start_time": "2023-04-05T15:45:42.280Z"
   },
   {
    "duration": 83,
    "start_time": "2023-04-05T15:45:43.417Z"
   },
   {
    "duration": 23,
    "start_time": "2023-04-05T15:45:43.502Z"
   },
   {
    "duration": 16,
    "start_time": "2023-04-05T15:45:43.527Z"
   },
   {
    "duration": 50,
    "start_time": "2023-04-05T15:45:43.546Z"
   },
   {
    "duration": 8,
    "start_time": "2023-04-05T15:45:43.598Z"
   },
   {
    "duration": 12,
    "start_time": "2023-04-05T15:45:43.608Z"
   },
   {
    "duration": 6,
    "start_time": "2023-04-05T15:45:43.622Z"
   },
   {
    "duration": 10,
    "start_time": "2023-04-05T15:45:43.629Z"
   },
   {
    "duration": 47,
    "start_time": "2023-04-05T15:45:43.641Z"
   },
   {
    "duration": 7,
    "start_time": "2023-04-05T15:45:43.689Z"
   },
   {
    "duration": 82,
    "start_time": "2023-04-05T15:45:43.697Z"
   },
   {
    "duration": 98,
    "start_time": "2023-04-05T15:45:43.781Z"
   },
   {
    "duration": 9,
    "start_time": "2023-04-05T15:45:43.881Z"
   },
   {
    "duration": 205,
    "start_time": "2023-04-05T15:45:43.892Z"
   },
   {
    "duration": 80,
    "start_time": "2023-04-05T15:45:44.100Z"
   },
   {
    "duration": 23667,
    "start_time": "2023-04-05T15:45:44.182Z"
   },
   {
    "duration": 1347,
    "start_time": "2023-04-05T15:46:07.851Z"
   },
   {
    "duration": 11427,
    "start_time": "2023-04-05T15:46:09.199Z"
   },
   {
    "duration": 1196,
    "start_time": "2023-04-05T15:46:20.628Z"
   },
   {
    "duration": 9241,
    "start_time": "2023-04-05T15:46:21.825Z"
   },
   {
    "duration": 0,
    "start_time": "2023-04-05T15:46:31.068Z"
   },
   {
    "duration": 0,
    "start_time": "2023-04-05T15:46:31.070Z"
   },
   {
    "duration": 0,
    "start_time": "2023-04-05T15:46:31.075Z"
   },
   {
    "duration": 0,
    "start_time": "2023-04-05T15:46:31.077Z"
   },
   {
    "duration": 0,
    "start_time": "2023-04-05T15:46:31.078Z"
   },
   {
    "duration": 11,
    "start_time": "2023-04-05T15:46:41.956Z"
   },
   {
    "duration": 1177,
    "start_time": "2023-04-05T15:46:45.233Z"
   },
   {
    "duration": 1094,
    "start_time": "2023-04-05T15:47:08.754Z"
   },
   {
    "duration": 1195,
    "start_time": "2023-04-05T15:47:35.358Z"
   },
   {
    "duration": 40,
    "start_time": "2023-04-05T15:47:36.556Z"
   },
   {
    "duration": 21,
    "start_time": "2023-04-05T15:47:36.598Z"
   },
   {
    "duration": 25,
    "start_time": "2023-04-05T15:47:36.621Z"
   },
   {
    "duration": 60,
    "start_time": "2023-04-05T15:47:36.649Z"
   },
   {
    "duration": 9,
    "start_time": "2023-04-05T15:47:36.711Z"
   },
   {
    "duration": 19,
    "start_time": "2023-04-05T15:47:36.722Z"
   },
   {
    "duration": 7,
    "start_time": "2023-04-05T15:47:36.743Z"
   },
   {
    "duration": 26,
    "start_time": "2023-04-05T15:47:36.752Z"
   },
   {
    "duration": 97,
    "start_time": "2023-04-05T15:47:36.780Z"
   },
   {
    "duration": 6,
    "start_time": "2023-04-05T15:47:36.879Z"
   },
   {
    "duration": 91,
    "start_time": "2023-04-05T15:47:36.887Z"
   },
   {
    "duration": 12,
    "start_time": "2023-04-05T15:47:36.980Z"
   },
   {
    "duration": 13,
    "start_time": "2023-04-05T15:47:36.995Z"
   },
   {
    "duration": 187,
    "start_time": "2023-04-05T15:47:37.009Z"
   },
   {
    "duration": 81,
    "start_time": "2023-04-05T15:47:37.199Z"
   },
   {
    "duration": 24656,
    "start_time": "2023-04-05T15:47:37.282Z"
   },
   {
    "duration": 1421,
    "start_time": "2023-04-05T15:48:01.939Z"
   },
   {
    "duration": 11656,
    "start_time": "2023-04-05T15:48:03.362Z"
   },
   {
    "duration": 1203,
    "start_time": "2023-04-05T15:48:15.020Z"
   },
   {
    "duration": 1126,
    "start_time": "2023-04-05T15:48:19.715Z"
   },
   {
    "duration": 37,
    "start_time": "2023-04-05T15:48:20.843Z"
   },
   {
    "duration": 23,
    "start_time": "2023-04-05T15:48:20.881Z"
   },
   {
    "duration": 15,
    "start_time": "2023-04-05T15:48:20.906Z"
   },
   {
    "duration": 65,
    "start_time": "2023-04-05T15:48:20.924Z"
   },
   {
    "duration": 10,
    "start_time": "2023-04-05T15:48:20.991Z"
   },
   {
    "duration": 13,
    "start_time": "2023-04-05T15:48:21.002Z"
   },
   {
    "duration": 14,
    "start_time": "2023-04-05T15:48:21.017Z"
   },
   {
    "duration": 13,
    "start_time": "2023-04-05T15:48:21.032Z"
   },
   {
    "duration": 50,
    "start_time": "2023-04-05T15:48:21.047Z"
   },
   {
    "duration": 81,
    "start_time": "2023-04-05T15:48:21.099Z"
   },
   {
    "duration": 96,
    "start_time": "2023-04-05T15:48:21.181Z"
   },
   {
    "duration": 24,
    "start_time": "2023-04-05T15:48:21.279Z"
   },
   {
    "duration": 68,
    "start_time": "2023-04-05T15:48:21.307Z"
   },
   {
    "duration": 128,
    "start_time": "2023-04-05T15:48:21.378Z"
   },
   {
    "duration": 169,
    "start_time": "2023-04-05T15:48:21.507Z"
   },
   {
    "duration": 1202,
    "start_time": "2023-04-05T15:48:44.145Z"
   },
   {
    "duration": 40,
    "start_time": "2023-04-05T15:48:45.349Z"
   },
   {
    "duration": 21,
    "start_time": "2023-04-05T15:48:45.391Z"
   },
   {
    "duration": 15,
    "start_time": "2023-04-05T15:48:45.413Z"
   },
   {
    "duration": 58,
    "start_time": "2023-04-05T15:48:45.430Z"
   },
   {
    "duration": 10,
    "start_time": "2023-04-05T15:48:45.489Z"
   },
   {
    "duration": 34,
    "start_time": "2023-04-05T15:48:45.501Z"
   },
   {
    "duration": 18,
    "start_time": "2023-04-05T15:48:45.537Z"
   },
   {
    "duration": 31,
    "start_time": "2023-04-05T15:48:45.557Z"
   },
   {
    "duration": 51,
    "start_time": "2023-04-05T15:48:45.590Z"
   },
   {
    "duration": 6,
    "start_time": "2023-04-05T15:48:45.643Z"
   },
   {
    "duration": 14,
    "start_time": "2023-04-05T15:48:45.675Z"
   },
   {
    "duration": 6,
    "start_time": "2023-04-05T15:48:45.776Z"
   },
   {
    "duration": 22,
    "start_time": "2023-04-05T15:48:45.785Z"
   },
   {
    "duration": 210,
    "start_time": "2023-04-05T15:48:45.808Z"
   },
   {
    "duration": 10,
    "start_time": "2023-04-05T15:48:46.076Z"
   },
   {
    "duration": 24293,
    "start_time": "2023-04-05T15:48:46.088Z"
   },
   {
    "duration": 1420,
    "start_time": "2023-04-05T15:49:10.384Z"
   },
   {
    "duration": 12040,
    "start_time": "2023-04-05T15:49:11.806Z"
   },
   {
    "duration": 1237,
    "start_time": "2023-04-05T15:49:23.848Z"
   },
   {
    "duration": 998779,
    "start_time": "2023-04-05T15:49:25.088Z"
   },
   {
    "duration": 4,
    "start_time": "2023-04-05T16:06:03.875Z"
   },
   {
    "duration": 1389,
    "start_time": "2023-04-05T16:06:03.881Z"
   },
   {
    "duration": 56,
    "start_time": "2023-04-05T16:06:05.272Z"
   },
   {
    "duration": 46,
    "start_time": "2023-04-05T16:07:35.033Z"
   },
   {
    "duration": 1501,
    "start_time": "2023-04-05T16:18:27.449Z"
   },
   {
    "duration": 5,
    "start_time": "2023-04-05T16:26:20.216Z"
   },
   {
    "duration": 86,
    "start_time": "2023-04-06T15:05:34.908Z"
   },
   {
    "duration": 1076,
    "start_time": "2023-04-06T15:22:45.285Z"
   },
   {
    "duration": 171,
    "start_time": "2023-04-06T15:22:48.784Z"
   },
   {
    "duration": 21,
    "start_time": "2023-04-06T15:22:51.210Z"
   },
   {
    "duration": 12,
    "start_time": "2023-04-06T15:22:53.371Z"
   },
   {
    "duration": 51,
    "start_time": "2023-04-06T15:22:55.065Z"
   },
   {
    "duration": 9,
    "start_time": "2023-04-06T15:22:58.197Z"
   },
   {
    "duration": 11,
    "start_time": "2023-04-06T15:23:00.073Z"
   },
   {
    "duration": 5,
    "start_time": "2023-04-06T15:23:02.762Z"
   },
   {
    "duration": 5,
    "start_time": "2023-04-06T15:23:04.600Z"
   },
   {
    "duration": 21,
    "start_time": "2023-04-06T15:23:07.451Z"
   },
   {
    "duration": 14,
    "start_time": "2023-04-06T15:23:36.821Z"
   },
   {
    "duration": 5,
    "start_time": "2023-04-06T15:24:33.325Z"
   },
   {
    "duration": 4,
    "start_time": "2023-04-06T15:24:34.118Z"
   },
   {
    "duration": 24,
    "start_time": "2023-04-06T15:24:36.367Z"
   },
   {
    "duration": 23,
    "start_time": "2023-04-06T15:24:44.018Z"
   },
   {
    "duration": 5,
    "start_time": "2023-04-06T15:24:46.912Z"
   },
   {
    "duration": 4,
    "start_time": "2023-04-06T15:24:49.484Z"
   },
   {
    "duration": 5,
    "start_time": "2023-04-06T15:24:51.969Z"
   },
   {
    "duration": 107,
    "start_time": "2023-04-06T15:25:28.604Z"
   },
   {
    "duration": 19,
    "start_time": "2023-04-06T15:26:28.502Z"
   },
   {
    "duration": 17,
    "start_time": "2023-04-06T15:28:00.981Z"
   },
   {
    "duration": 6,
    "start_time": "2023-04-06T15:28:04.519Z"
   },
   {
    "duration": 6,
    "start_time": "2023-04-06T15:28:04.964Z"
   },
   {
    "duration": 17,
    "start_time": "2023-04-06T15:28:07.188Z"
   },
   {
    "duration": 17,
    "start_time": "2023-04-06T15:28:26.968Z"
   },
   {
    "duration": 28,
    "start_time": "2023-04-06T15:29:14.916Z"
   },
   {
    "duration": 24,
    "start_time": "2023-04-06T15:29:30.568Z"
   },
   {
    "duration": 31,
    "start_time": "2023-04-06T15:30:14.576Z"
   },
   {
    "duration": 20,
    "start_time": "2023-04-06T15:31:02.811Z"
   },
   {
    "duration": 6,
    "start_time": "2023-04-06T15:33:03.197Z"
   },
   {
    "duration": 5,
    "start_time": "2023-04-06T15:33:03.670Z"
   },
   {
    "duration": 23,
    "start_time": "2023-04-06T15:33:05.760Z"
   },
   {
    "duration": 23,
    "start_time": "2023-04-06T15:33:07.984Z"
   },
   {
    "duration": 5,
    "start_time": "2023-04-06T15:33:09.908Z"
   },
   {
    "duration": 3,
    "start_time": "2023-04-06T15:33:11.864Z"
   },
   {
    "duration": 5,
    "start_time": "2023-04-06T15:33:13.533Z"
   },
   {
    "duration": 12,
    "start_time": "2023-04-06T15:33:17.767Z"
   },
   {
    "duration": 9,
    "start_time": "2023-04-06T15:37:16.872Z"
   },
   {
    "duration": 18,
    "start_time": "2023-04-06T15:37:31.063Z"
   },
   {
    "duration": 9,
    "start_time": "2023-04-06T15:37:39.972Z"
   },
   {
    "duration": 22894,
    "start_time": "2023-04-06T15:40:08.496Z"
   },
   {
    "duration": 99,
    "start_time": "2023-04-06T15:42:15.885Z"
   },
   {
    "duration": 6,
    "start_time": "2023-04-06T15:43:32.027Z"
   },
   {
    "duration": 840,
    "start_time": "2023-04-06T15:48:04.284Z"
   },
   {
    "duration": 1003,
    "start_time": "2023-04-06T15:48:55.576Z"
   },
   {
    "duration": 74,
    "start_time": "2023-04-06T15:51:04.573Z"
   },
   {
    "duration": 1163,
    "start_time": "2023-04-06T15:52:30.129Z"
   },
   {
    "duration": 41,
    "start_time": "2023-04-06T15:52:31.294Z"
   },
   {
    "duration": 27,
    "start_time": "2023-04-06T15:52:31.337Z"
   },
   {
    "duration": 35,
    "start_time": "2023-04-06T15:52:31.366Z"
   },
   {
    "duration": 54,
    "start_time": "2023-04-06T15:52:31.403Z"
   },
   {
    "duration": 9,
    "start_time": "2023-04-06T15:52:31.459Z"
   },
   {
    "duration": 40,
    "start_time": "2023-04-06T15:52:31.469Z"
   },
   {
    "duration": 30,
    "start_time": "2023-04-06T15:52:31.511Z"
   },
   {
    "duration": 34,
    "start_time": "2023-04-06T15:52:31.542Z"
   },
   {
    "duration": 63,
    "start_time": "2023-04-06T15:52:31.579Z"
   },
   {
    "duration": 17,
    "start_time": "2023-04-06T15:52:31.643Z"
   },
   {
    "duration": 175,
    "start_time": "2023-04-06T15:52:31.662Z"
   },
   {
    "duration": 27,
    "start_time": "2023-04-06T15:52:31.839Z"
   },
   {
    "duration": 33,
    "start_time": "2023-04-06T15:52:31.868Z"
   },
   {
    "duration": 31,
    "start_time": "2023-04-06T15:52:31.903Z"
   },
   {
    "duration": 298,
    "start_time": "2023-04-06T15:52:31.936Z"
   },
   {
    "duration": 99,
    "start_time": "2023-04-06T15:52:32.237Z"
   },
   {
    "duration": 112,
    "start_time": "2023-04-06T15:52:32.340Z"
   },
   {
    "duration": 853,
    "start_time": "2023-04-06T15:52:32.453Z"
   },
   {
    "duration": 104,
    "start_time": "2023-04-06T15:52:33.307Z"
   },
   {
    "duration": 0,
    "start_time": "2023-04-06T15:52:33.412Z"
   },
   {
    "duration": 0,
    "start_time": "2023-04-06T15:52:33.413Z"
   },
   {
    "duration": 0,
    "start_time": "2023-04-06T15:52:33.415Z"
   },
   {
    "duration": 0,
    "start_time": "2023-04-06T15:52:33.416Z"
   },
   {
    "duration": 1091,
    "start_time": "2023-04-06T15:54:12.859Z"
   },
   {
    "duration": 41,
    "start_time": "2023-04-06T15:54:13.952Z"
   },
   {
    "duration": 19,
    "start_time": "2023-04-06T15:54:13.994Z"
   },
   {
    "duration": 12,
    "start_time": "2023-04-06T15:54:14.015Z"
   },
   {
    "duration": 37,
    "start_time": "2023-04-06T15:54:14.029Z"
   },
   {
    "duration": 8,
    "start_time": "2023-04-06T15:54:14.067Z"
   },
   {
    "duration": 16,
    "start_time": "2023-04-06T15:54:14.076Z"
   },
   {
    "duration": 11,
    "start_time": "2023-04-06T15:54:14.093Z"
   },
   {
    "duration": 4,
    "start_time": "2023-04-06T15:54:14.105Z"
   },
   {
    "duration": 36,
    "start_time": "2023-04-06T15:54:14.111Z"
   },
   {
    "duration": 86,
    "start_time": "2023-04-06T15:54:14.148Z"
   },
   {
    "duration": 101,
    "start_time": "2023-04-06T15:54:14.236Z"
   },
   {
    "duration": 6,
    "start_time": "2023-04-06T15:54:14.339Z"
   },
   {
    "duration": 7,
    "start_time": "2023-04-06T15:54:14.346Z"
   },
   {
    "duration": 11,
    "start_time": "2023-04-06T15:54:14.355Z"
   },
   {
    "duration": 117,
    "start_time": "2023-04-06T15:54:14.434Z"
   },
   {
    "duration": 87,
    "start_time": "2023-04-06T15:54:14.553Z"
   },
   {
    "duration": 128,
    "start_time": "2023-04-06T15:54:14.642Z"
   },
   {
    "duration": 924,
    "start_time": "2023-04-06T15:54:14.772Z"
   },
   {
    "duration": 57,
    "start_time": "2023-04-06T15:54:15.698Z"
   },
   {
    "duration": 659594,
    "start_time": "2023-04-06T15:54:15.756Z"
   },
   {
    "duration": 4,
    "start_time": "2023-04-06T16:05:15.352Z"
   },
   {
    "duration": 125,
    "start_time": "2023-04-06T16:05:15.358Z"
   },
   {
    "duration": 0,
    "start_time": "2023-04-06T16:05:15.486Z"
   },
   {
    "duration": 353,
    "start_time": "2023-04-06T16:05:41.693Z"
   },
   {
    "duration": 23,
    "start_time": "2023-04-06T16:05:56.147Z"
   },
   {
    "duration": 970,
    "start_time": "2023-04-06T16:06:57.265Z"
   },
   {
    "duration": 101,
    "start_time": "2023-04-06T16:07:54.904Z"
   },
   {
    "duration": 299,
    "start_time": "2023-04-06T16:08:07.748Z"
   },
   {
    "duration": 308,
    "start_time": "2023-04-06T16:08:39.630Z"
   },
   {
    "duration": 1100,
    "start_time": "2023-04-06T16:11:57.528Z"
   },
   {
    "duration": 40,
    "start_time": "2023-04-06T16:11:58.630Z"
   },
   {
    "duration": 18,
    "start_time": "2023-04-06T16:11:58.671Z"
   },
   {
    "duration": 11,
    "start_time": "2023-04-06T16:11:58.690Z"
   },
   {
    "duration": 35,
    "start_time": "2023-04-06T16:11:58.702Z"
   },
   {
    "duration": 8,
    "start_time": "2023-04-06T16:11:58.738Z"
   },
   {
    "duration": 11,
    "start_time": "2023-04-06T16:11:58.747Z"
   },
   {
    "duration": 7,
    "start_time": "2023-04-06T16:11:58.759Z"
   },
   {
    "duration": 7,
    "start_time": "2023-04-06T16:11:58.767Z"
   },
   {
    "duration": 25,
    "start_time": "2023-04-06T16:11:58.776Z"
   },
   {
    "duration": 40,
    "start_time": "2023-04-06T16:11:58.802Z"
   },
   {
    "duration": 9,
    "start_time": "2023-04-06T16:11:58.845Z"
   },
   {
    "duration": 83,
    "start_time": "2023-04-06T16:11:58.856Z"
   },
   {
    "duration": 96,
    "start_time": "2023-04-06T16:11:58.942Z"
   },
   {
    "duration": 10,
    "start_time": "2023-04-06T16:11:59.040Z"
   },
   {
    "duration": 190,
    "start_time": "2023-04-06T16:11:59.052Z"
   },
   {
    "duration": 207,
    "start_time": "2023-04-06T16:11:59.244Z"
   },
   {
    "duration": 100,
    "start_time": "2023-04-06T16:11:59.538Z"
   },
   {
    "duration": 862,
    "start_time": "2023-04-06T16:11:59.640Z"
   },
   {
    "duration": 62,
    "start_time": "2023-04-06T16:12:00.504Z"
   },
   {
    "duration": 645673,
    "start_time": "2023-04-06T16:12:00.568Z"
   },
   {
    "duration": 3,
    "start_time": "2023-04-06T16:22:46.243Z"
   },
   {
    "duration": 320,
    "start_time": "2023-04-06T16:22:46.248Z"
   },
   {
    "duration": 24,
    "start_time": "2023-04-06T16:22:46.570Z"
   },
   {
    "duration": 6,
    "start_time": "2023-04-06T16:32:41.855Z"
   },
   {
    "duration": 801,
    "start_time": "2023-04-06T16:32:46.371Z"
   },
   {
    "duration": 51,
    "start_time": "2023-04-06T16:32:54.232Z"
   },
   {
    "duration": 56,
    "start_time": "2023-04-06T16:34:24.504Z"
   },
   {
    "duration": 355,
    "start_time": "2023-04-06T16:34:43.742Z"
   },
   {
    "duration": 25,
    "start_time": "2023-04-06T16:35:12.338Z"
   },
   {
    "duration": 662,
    "start_time": "2023-04-06T16:39:24.160Z"
   },
   {
    "duration": 49,
    "start_time": "2023-04-06T16:39:58.774Z"
   },
   {
    "duration": 1258,
    "start_time": "2023-04-06T16:43:09.728Z"
   },
   {
    "duration": 50,
    "start_time": "2023-04-06T16:43:10.988Z"
   },
   {
    "duration": 21,
    "start_time": "2023-04-06T16:43:11.040Z"
   },
   {
    "duration": 13,
    "start_time": "2023-04-06T16:43:11.063Z"
   },
   {
    "duration": 36,
    "start_time": "2023-04-06T16:43:11.077Z"
   },
   {
    "duration": 24,
    "start_time": "2023-04-06T16:43:11.115Z"
   },
   {
    "duration": 11,
    "start_time": "2023-04-06T16:43:11.140Z"
   },
   {
    "duration": 5,
    "start_time": "2023-04-06T16:43:11.152Z"
   },
   {
    "duration": 7,
    "start_time": "2023-04-06T16:43:11.159Z"
   },
   {
    "duration": 23,
    "start_time": "2023-04-06T16:43:11.168Z"
   },
   {
    "duration": 51,
    "start_time": "2023-04-06T16:43:11.193Z"
   },
   {
    "duration": 91,
    "start_time": "2023-04-06T16:43:11.246Z"
   },
   {
    "duration": 102,
    "start_time": "2023-04-06T16:43:11.339Z"
   },
   {
    "duration": 6,
    "start_time": "2023-04-06T16:43:11.443Z"
   },
   {
    "duration": 84,
    "start_time": "2023-04-06T16:43:11.450Z"
   },
   {
    "duration": 682,
    "start_time": "2023-04-06T16:43:11.537Z"
   },
   {
    "duration": 56,
    "start_time": "2023-04-06T16:43:12.220Z"
   },
   {
    "duration": 5,
    "start_time": "2023-04-06T16:43:12.277Z"
   },
   {
    "duration": 812,
    "start_time": "2023-04-06T16:43:12.283Z"
   },
   {
    "duration": 54,
    "start_time": "2023-04-06T16:43:13.097Z"
   },
   {
    "duration": 649712,
    "start_time": "2023-04-06T16:43:13.152Z"
   },
   {
    "duration": 3,
    "start_time": "2023-04-06T16:54:02.866Z"
   },
   {
    "duration": 375,
    "start_time": "2023-04-06T16:54:02.871Z"
   },
   {
    "duration": 23,
    "start_time": "2023-04-06T16:54:03.248Z"
   }
  ],
  "kernelspec": {
   "display_name": "Python 3 (ipykernel)",
   "language": "python",
   "name": "python3"
  },
  "language_info": {
   "codemirror_mode": {
    "name": "ipython",
    "version": 3
   },
   "file_extension": ".py",
   "mimetype": "text/x-python",
   "name": "python",
   "nbconvert_exporter": "python",
   "pygments_lexer": "ipython3",
   "version": "3.10.9"
  },
  "toc": {
   "base_numbering": 1,
   "nav_menu": {},
   "number_sections": true,
   "sideBar": true,
   "skip_h1_title": true,
   "title_cell": "Содержание",
   "title_sidebar": "Contents",
   "toc_cell": true,
   "toc_position": {},
   "toc_section_display": true,
   "toc_window_display": true
  }
 },
 "nbformat": 4,
 "nbformat_minor": 2
}
