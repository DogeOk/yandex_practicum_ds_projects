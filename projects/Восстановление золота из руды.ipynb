{
 "cells": [
  {
   "cell_type": "markdown",
   "metadata": {
    "toc": true
   },
   "source": [
    "<h1>Содержание<span class=\"tocSkip\"></span></h1>\n",
    "<div class=\"toc\"><ul class=\"toc-item\"><li><span><a href=\"#Подготовка-данных\" data-toc-modified-id=\"Подготовка-данных-1\"><span class=\"toc-item-num\">1&nbsp;&nbsp;</span>Подготовка данных</a></span><ul class=\"toc-item\"><li><span><a href=\"#Импорт-библиотек\" data-toc-modified-id=\"Импорт-библиотек-1.1\"><span class=\"toc-item-num\">1.1&nbsp;&nbsp;</span>Импорт библиотек</a></span></li><li><span><a href=\"#Открытие-файлов-и-их-изучение\" data-toc-modified-id=\"Открытие-файлов-и-их-изучение-1.2\"><span class=\"toc-item-num\">1.2&nbsp;&nbsp;</span>Открытие файлов и их изучение</a></span></li><li><span><a href=\"#Проверка-рассчёта-эффективности-обогащения\" data-toc-modified-id=\"Проверка-рассчёта-эффективности-обогащения-1.3\"><span class=\"toc-item-num\">1.3&nbsp;&nbsp;</span>Проверка рассчёта эффективности обогащения</a></span></li><li><span><a href=\"#Проверка-разницы-в-признаках-тренировачной-и-тестовой-выборок\" data-toc-modified-id=\"Проверка-разницы-в-признаках-тренировачной-и-тестовой-выборок-1.4\"><span class=\"toc-item-num\">1.4&nbsp;&nbsp;</span>Проверка разницы в признаках тренировачной и тестовой выборок</a></span></li><li><span><a href=\"#Предобработка-данных\" data-toc-modified-id=\"Предобработка-данных-1.5\"><span class=\"toc-item-num\">1.5&nbsp;&nbsp;</span>Предобработка данных</a></span></li></ul></li><li><span><a href=\"#Анализ-данных\" data-toc-modified-id=\"Анализ-данных-2\"><span class=\"toc-item-num\">2&nbsp;&nbsp;</span>Анализ данных</a></span><ul class=\"toc-item\"><li><span><a href=\"#Изменение-концентрации-металлов-(Au,-Ag,-Pb)-на-различных-этапах-очистки\" data-toc-modified-id=\"Изменение-концентрации-металлов-(Au,-Ag,-Pb)-на-различных-этапах-очистки-2.1\"><span class=\"toc-item-num\">2.1&nbsp;&nbsp;</span>Изменение концентрации металлов (Au, Ag, Pb) на различных этапах очистки</a></span></li><li><span><a href=\"#Сравнение-распределения-размеров-гранул-сырья\" data-toc-modified-id=\"Сравнение-распределения-размеров-гранул-сырья-2.2\"><span class=\"toc-item-num\">2.2&nbsp;&nbsp;</span>Сравнение распределения размеров гранул сырья</a></span></li><li><span><a href=\"#Исследование-суммарной-концентрации-всех-веществ-на-разных-стадиях:-сырьё,-в-черновой-и-финальный-концентраты.\" data-toc-modified-id=\"Исследование-суммарной-концентрации-всех-веществ-на-разных-стадиях:-сырьё,-в-черновой-и-финальный-концентраты.-2.3\"><span class=\"toc-item-num\">2.3&nbsp;&nbsp;</span>Исследование суммарной концентрации всех веществ на разных стадиях: сырьё, в черновой и финальный концентраты.</a></span></li></ul></li><li><span><a href=\"#Модель\" data-toc-modified-id=\"Модель-3\"><span class=\"toc-item-num\">3&nbsp;&nbsp;</span>Модель</a></span><ul class=\"toc-item\"><li><span><a href=\"#Функция-для-вычисления-sMAPE\" data-toc-modified-id=\"Функция-для-вычисления-sMAPE-3.1\"><span class=\"toc-item-num\">3.1&nbsp;&nbsp;</span>Функция для вычисления sMAPE</a></span></li><li><span><a href=\"#Обучение-моделей\" data-toc-modified-id=\"Обучение-моделей-3.2\"><span class=\"toc-item-num\">3.2&nbsp;&nbsp;</span>Обучение моделей</a></span></li></ul></li><li><span><a href=\"#Чек-лист-готовности-проекта\" data-toc-modified-id=\"Чек-лист-готовности-проекта-4\"><span class=\"toc-item-num\">4&nbsp;&nbsp;</span>Чек-лист готовности проекта</a></span></li></ul></div>"
   ]
  },
  {
   "cell_type": "markdown",
   "metadata": {},
   "source": [
    "# Восстановление золота из руды"
   ]
  },
  {
   "cell_type": "markdown",
   "metadata": {},
   "source": [
    "Подготовьте прототип модели машинного обучения для «Цифры». Компания разрабатывает решения для эффективной работы промышленных предприятий.\n",
    "\n",
    "Модель должна предсказать коэффициент восстановления золота из золотосодержащей руды. Используйте данные с параметрами добычи и очистки. \n",
    "\n",
    "Модель поможет оптимизировать производство, чтобы не запускать предприятие с убыточными характеристиками.\n",
    "\n",
    "Вам нужно:\n",
    "\n",
    "1. Подготовить данные;\n",
    "2. Провести исследовательский анализ данных;\n",
    "3. Построить и обучить модель.\n",
    "\n",
    "Чтобы выполнить проект, обращайтесь к библиотекам *pandas*, *matplotlib* и *sklearn.* Вам поможет их документация."
   ]
  },
  {
   "cell_type": "markdown",
   "metadata": {},
   "source": [
    "## Подготовка данных\n",
    "### Импорт библиотек\n",
    "Импортирую необходимые библиотеки для работы"
   ]
  },
  {
   "cell_type": "code",
   "execution_count": 1,
   "metadata": {},
   "outputs": [],
   "source": [
    "import pandas as pd\n",
    "import matplotlib.pyplot as plt\n",
    "import seaborn as sns\n",
    "import numpy as np\n",
    "from sklearn.model_selection import train_test_split\n",
    "from sklearn.metrics import mean_absolute_error, make_scorer\n",
    "from sklearn.model_selection import cross_val_score\n",
    "from sklearn.linear_model import LinearRegression\n",
    "from sklearn.tree import DecisionTreeRegressor\n",
    "from sklearn.ensemble import RandomForestRegressor\n",
    "from sklearn.dummy import DummyRegressor\n",
    "from tqdm.notebook import tqdm"
   ]
  },
  {
   "cell_type": "markdown",
   "metadata": {},
   "source": [
    "### Открытие файлов и их изучение\n",
    "Открываю файлы и вывожу основную информацию"
   ]
  },
  {
   "cell_type": "code",
   "execution_count": 2,
   "metadata": {
    "scrolled": true
   },
   "outputs": [
    {
     "name": "stdout",
     "output_type": "stream",
     "text": [
      "<class 'pandas.core.frame.DataFrame'>\n",
      "RangeIndex: 14149 entries, 0 to 14148\n",
      "Data columns (total 87 columns):\n",
      " #   Column                                              Non-Null Count  Dtype  \n",
      "---  ------                                              --------------  -----  \n",
      " 0   date                                                14149 non-null  object \n",
      " 1   final.output.concentrate_ag                         14148 non-null  float64\n",
      " 2   final.output.concentrate_pb                         14148 non-null  float64\n",
      " 3   final.output.concentrate_sol                        13938 non-null  float64\n",
      " 4   final.output.concentrate_au                         14149 non-null  float64\n",
      " 5   final.output.recovery                               14149 non-null  float64\n",
      " 6   final.output.tail_ag                                14149 non-null  float64\n",
      " 7   final.output.tail_pb                                14049 non-null  float64\n",
      " 8   final.output.tail_sol                               14144 non-null  float64\n",
      " 9   final.output.tail_au                                14149 non-null  float64\n",
      " 10  primary_cleaner.input.sulfate                       14129 non-null  float64\n",
      " 11  primary_cleaner.input.depressant                    14117 non-null  float64\n",
      " 12  primary_cleaner.input.feed_size                     14149 non-null  float64\n",
      " 13  primary_cleaner.input.xanthate                      14049 non-null  float64\n",
      " 14  primary_cleaner.output.concentrate_ag               14149 non-null  float64\n",
      " 15  primary_cleaner.output.concentrate_pb               14063 non-null  float64\n",
      " 16  primary_cleaner.output.concentrate_sol              13863 non-null  float64\n",
      " 17  primary_cleaner.output.concentrate_au               14149 non-null  float64\n",
      " 18  primary_cleaner.output.tail_ag                      14148 non-null  float64\n",
      " 19  primary_cleaner.output.tail_pb                      14134 non-null  float64\n",
      " 20  primary_cleaner.output.tail_sol                     14103 non-null  float64\n",
      " 21  primary_cleaner.output.tail_au                      14149 non-null  float64\n",
      " 22  primary_cleaner.state.floatbank8_a_air              14145 non-null  float64\n",
      " 23  primary_cleaner.state.floatbank8_a_level            14148 non-null  float64\n",
      " 24  primary_cleaner.state.floatbank8_b_air              14145 non-null  float64\n",
      " 25  primary_cleaner.state.floatbank8_b_level            14148 non-null  float64\n",
      " 26  primary_cleaner.state.floatbank8_c_air              14147 non-null  float64\n",
      " 27  primary_cleaner.state.floatbank8_c_level            14148 non-null  float64\n",
      " 28  primary_cleaner.state.floatbank8_d_air              14146 non-null  float64\n",
      " 29  primary_cleaner.state.floatbank8_d_level            14148 non-null  float64\n",
      " 30  rougher.calculation.sulfate_to_au_concentrate       14148 non-null  float64\n",
      " 31  rougher.calculation.floatbank10_sulfate_to_au_feed  14148 non-null  float64\n",
      " 32  rougher.calculation.floatbank11_sulfate_to_au_feed  14148 non-null  float64\n",
      " 33  rougher.calculation.au_pb_ratio                     14149 non-null  float64\n",
      " 34  rougher.input.feed_ag                               14149 non-null  float64\n",
      " 35  rougher.input.feed_pb                               14049 non-null  float64\n",
      " 36  rougher.input.feed_rate                             14141 non-null  float64\n",
      " 37  rougher.input.feed_size                             14005 non-null  float64\n",
      " 38  rougher.input.feed_sol                              14071 non-null  float64\n",
      " 39  rougher.input.feed_au                               14149 non-null  float64\n",
      " 40  rougher.input.floatbank10_sulfate                   14120 non-null  float64\n",
      " 41  rougher.input.floatbank10_xanthate                  14141 non-null  float64\n",
      " 42  rougher.input.floatbank11_sulfate                   14113 non-null  float64\n",
      " 43  rougher.input.floatbank11_xanthate                  13721 non-null  float64\n",
      " 44  rougher.output.concentrate_ag                       14149 non-null  float64\n",
      " 45  rougher.output.concentrate_pb                       14149 non-null  float64\n",
      " 46  rougher.output.concentrate_sol                      14127 non-null  float64\n",
      " 47  rougher.output.concentrate_au                       14149 non-null  float64\n",
      " 48  rougher.output.recovery                             14149 non-null  float64\n",
      " 49  rougher.output.tail_ag                              14148 non-null  float64\n",
      " 50  rougher.output.tail_pb                              14149 non-null  float64\n",
      " 51  rougher.output.tail_sol                             14149 non-null  float64\n",
      " 52  rougher.output.tail_au                              14149 non-null  float64\n",
      " 53  rougher.state.floatbank10_a_air                     14148 non-null  float64\n",
      " 54  rougher.state.floatbank10_a_level                   14148 non-null  float64\n",
      " 55  rougher.state.floatbank10_b_air                     14148 non-null  float64\n",
      " 56  rougher.state.floatbank10_b_level                   14148 non-null  float64\n",
      " 57  rougher.state.floatbank10_c_air                     14148 non-null  float64\n",
      " 58  rougher.state.floatbank10_c_level                   14148 non-null  float64\n",
      " 59  rougher.state.floatbank10_d_air                     14149 non-null  float64\n",
      " 60  rougher.state.floatbank10_d_level                   14149 non-null  float64\n",
      " 61  rougher.state.floatbank10_e_air                     13713 non-null  float64\n",
      " 62  rougher.state.floatbank10_e_level                   14149 non-null  float64\n",
      " 63  rougher.state.floatbank10_f_air                     14149 non-null  float64\n",
      " 64  rougher.state.floatbank10_f_level                   14149 non-null  float64\n",
      " 65  secondary_cleaner.output.tail_ag                    14147 non-null  float64\n",
      " 66  secondary_cleaner.output.tail_pb                    14139 non-null  float64\n",
      " 67  secondary_cleaner.output.tail_sol                   12544 non-null  float64\n",
      " 68  secondary_cleaner.output.tail_au                    14149 non-null  float64\n",
      " 69  secondary_cleaner.state.floatbank2_a_air            13932 non-null  float64\n",
      " 70  secondary_cleaner.state.floatbank2_a_level          14148 non-null  float64\n",
      " 71  secondary_cleaner.state.floatbank2_b_air            14128 non-null  float64\n",
      " 72  secondary_cleaner.state.floatbank2_b_level          14148 non-null  float64\n",
      " 73  secondary_cleaner.state.floatbank3_a_air            14145 non-null  float64\n",
      " 74  secondary_cleaner.state.floatbank3_a_level          14148 non-null  float64\n",
      " 75  secondary_cleaner.state.floatbank3_b_air            14148 non-null  float64\n",
      " 76  secondary_cleaner.state.floatbank3_b_level          14148 non-null  float64\n",
      " 77  secondary_cleaner.state.floatbank4_a_air            14143 non-null  float64\n",
      " 78  secondary_cleaner.state.floatbank4_a_level          14148 non-null  float64\n",
      " 79  secondary_cleaner.state.floatbank4_b_air            14148 non-null  float64\n",
      " 80  secondary_cleaner.state.floatbank4_b_level          14148 non-null  float64\n",
      " 81  secondary_cleaner.state.floatbank5_a_air            14148 non-null  float64\n",
      " 82  secondary_cleaner.state.floatbank5_a_level          14148 non-null  float64\n",
      " 83  secondary_cleaner.state.floatbank5_b_air            14148 non-null  float64\n",
      " 84  secondary_cleaner.state.floatbank5_b_level          14148 non-null  float64\n",
      " 85  secondary_cleaner.state.floatbank6_a_air            14147 non-null  float64\n",
      " 86  secondary_cleaner.state.floatbank6_a_level          14148 non-null  float64\n",
      "dtypes: float64(86), object(1)\n",
      "memory usage: 9.4+ MB\n",
      "\n",
      "<class 'pandas.core.frame.DataFrame'>\n",
      "RangeIndex: 5290 entries, 0 to 5289\n",
      "Data columns (total 53 columns):\n",
      " #   Column                                      Non-Null Count  Dtype  \n",
      "---  ------                                      --------------  -----  \n",
      " 0   date                                        5290 non-null   object \n",
      " 1   primary_cleaner.input.sulfate               5286 non-null   float64\n",
      " 2   primary_cleaner.input.depressant            5285 non-null   float64\n",
      " 3   primary_cleaner.input.feed_size             5290 non-null   float64\n",
      " 4   primary_cleaner.input.xanthate              5286 non-null   float64\n",
      " 5   primary_cleaner.state.floatbank8_a_air      5290 non-null   float64\n",
      " 6   primary_cleaner.state.floatbank8_a_level    5290 non-null   float64\n",
      " 7   primary_cleaner.state.floatbank8_b_air      5290 non-null   float64\n",
      " 8   primary_cleaner.state.floatbank8_b_level    5290 non-null   float64\n",
      " 9   primary_cleaner.state.floatbank8_c_air      5290 non-null   float64\n",
      " 10  primary_cleaner.state.floatbank8_c_level    5290 non-null   float64\n",
      " 11  primary_cleaner.state.floatbank8_d_air      5290 non-null   float64\n",
      " 12  primary_cleaner.state.floatbank8_d_level    5290 non-null   float64\n",
      " 13  rougher.input.feed_ag                       5290 non-null   float64\n",
      " 14  rougher.input.feed_pb                       5290 non-null   float64\n",
      " 15  rougher.input.feed_rate                     5287 non-null   float64\n",
      " 16  rougher.input.feed_size                     5289 non-null   float64\n",
      " 17  rougher.input.feed_sol                      5269 non-null   float64\n",
      " 18  rougher.input.feed_au                       5290 non-null   float64\n",
      " 19  rougher.input.floatbank10_sulfate           5285 non-null   float64\n",
      " 20  rougher.input.floatbank10_xanthate          5290 non-null   float64\n",
      " 21  rougher.input.floatbank11_sulfate           5282 non-null   float64\n",
      " 22  rougher.input.floatbank11_xanthate          5265 non-null   float64\n",
      " 23  rougher.state.floatbank10_a_air             5290 non-null   float64\n",
      " 24  rougher.state.floatbank10_a_level           5290 non-null   float64\n",
      " 25  rougher.state.floatbank10_b_air             5290 non-null   float64\n",
      " 26  rougher.state.floatbank10_b_level           5290 non-null   float64\n",
      " 27  rougher.state.floatbank10_c_air             5290 non-null   float64\n",
      " 28  rougher.state.floatbank10_c_level           5290 non-null   float64\n",
      " 29  rougher.state.floatbank10_d_air             5290 non-null   float64\n",
      " 30  rougher.state.floatbank10_d_level           5290 non-null   float64\n",
      " 31  rougher.state.floatbank10_e_air             5290 non-null   float64\n",
      " 32  rougher.state.floatbank10_e_level           5290 non-null   float64\n",
      " 33  rougher.state.floatbank10_f_air             5290 non-null   float64\n",
      " 34  rougher.state.floatbank10_f_level           5290 non-null   float64\n",
      " 35  secondary_cleaner.state.floatbank2_a_air    5287 non-null   float64\n",
      " 36  secondary_cleaner.state.floatbank2_a_level  5290 non-null   float64\n",
      " 37  secondary_cleaner.state.floatbank2_b_air    5288 non-null   float64\n",
      " 38  secondary_cleaner.state.floatbank2_b_level  5290 non-null   float64\n",
      " 39  secondary_cleaner.state.floatbank3_a_air    5281 non-null   float64\n",
      " 40  secondary_cleaner.state.floatbank3_a_level  5290 non-null   float64\n",
      " 41  secondary_cleaner.state.floatbank3_b_air    5290 non-null   float64\n",
      " 42  secondary_cleaner.state.floatbank3_b_level  5290 non-null   float64\n",
      " 43  secondary_cleaner.state.floatbank4_a_air    5290 non-null   float64\n",
      " 44  secondary_cleaner.state.floatbank4_a_level  5290 non-null   float64\n",
      " 45  secondary_cleaner.state.floatbank4_b_air    5290 non-null   float64\n",
      " 46  secondary_cleaner.state.floatbank4_b_level  5290 non-null   float64\n",
      " 47  secondary_cleaner.state.floatbank5_a_air    5290 non-null   float64\n",
      " 48  secondary_cleaner.state.floatbank5_a_level  5290 non-null   float64\n",
      " 49  secondary_cleaner.state.floatbank5_b_air    5290 non-null   float64\n",
      " 50  secondary_cleaner.state.floatbank5_b_level  5290 non-null   float64\n",
      " 51  secondary_cleaner.state.floatbank6_a_air    5290 non-null   float64\n",
      " 52  secondary_cleaner.state.floatbank6_a_level  5290 non-null   float64\n",
      "dtypes: float64(52), object(1)\n",
      "memory usage: 2.1+ MB\n",
      "\n",
      "<class 'pandas.core.frame.DataFrame'>\n",
      "RangeIndex: 19439 entries, 0 to 19438\n",
      "Data columns (total 87 columns):\n",
      " #   Column                                              Non-Null Count  Dtype  \n",
      "---  ------                                              --------------  -----  \n",
      " 0   date                                                19439 non-null  object \n",
      " 1   final.output.concentrate_ag                         19438 non-null  float64\n",
      " 2   final.output.concentrate_pb                         19438 non-null  float64\n",
      " 3   final.output.concentrate_sol                        19228 non-null  float64\n",
      " 4   final.output.concentrate_au                         19439 non-null  float64\n",
      " 5   final.output.recovery                               19439 non-null  float64\n",
      " 6   final.output.tail_ag                                19438 non-null  float64\n",
      " 7   final.output.tail_pb                                19338 non-null  float64\n",
      " 8   final.output.tail_sol                               19433 non-null  float64\n",
      " 9   final.output.tail_au                                19439 non-null  float64\n",
      " 10  primary_cleaner.input.sulfate                       19415 non-null  float64\n",
      " 11  primary_cleaner.input.depressant                    19402 non-null  float64\n",
      " 12  primary_cleaner.input.feed_size                     19439 non-null  float64\n",
      " 13  primary_cleaner.input.xanthate                      19335 non-null  float64\n",
      " 14  primary_cleaner.output.concentrate_ag               19439 non-null  float64\n",
      " 15  primary_cleaner.output.concentrate_pb               19323 non-null  float64\n",
      " 16  primary_cleaner.output.concentrate_sol              19069 non-null  float64\n",
      " 17  primary_cleaner.output.concentrate_au               19439 non-null  float64\n",
      " 18  primary_cleaner.output.tail_ag                      19435 non-null  float64\n",
      " 19  primary_cleaner.output.tail_pb                      19418 non-null  float64\n",
      " 20  primary_cleaner.output.tail_sol                     19377 non-null  float64\n",
      " 21  primary_cleaner.output.tail_au                      19439 non-null  float64\n",
      " 22  primary_cleaner.state.floatbank8_a_air              19435 non-null  float64\n",
      " 23  primary_cleaner.state.floatbank8_a_level            19438 non-null  float64\n",
      " 24  primary_cleaner.state.floatbank8_b_air              19435 non-null  float64\n",
      " 25  primary_cleaner.state.floatbank8_b_level            19438 non-null  float64\n",
      " 26  primary_cleaner.state.floatbank8_c_air              19437 non-null  float64\n",
      " 27  primary_cleaner.state.floatbank8_c_level            19438 non-null  float64\n",
      " 28  primary_cleaner.state.floatbank8_d_air              19436 non-null  float64\n",
      " 29  primary_cleaner.state.floatbank8_d_level            19438 non-null  float64\n",
      " 30  rougher.calculation.sulfate_to_au_concentrate       19437 non-null  float64\n",
      " 31  rougher.calculation.floatbank10_sulfate_to_au_feed  19437 non-null  float64\n",
      " 32  rougher.calculation.floatbank11_sulfate_to_au_feed  19437 non-null  float64\n",
      " 33  rougher.calculation.au_pb_ratio                     19439 non-null  float64\n",
      " 34  rougher.input.feed_ag                               19439 non-null  float64\n",
      " 35  rougher.input.feed_pb                               19339 non-null  float64\n",
      " 36  rougher.input.feed_rate                             19428 non-null  float64\n",
      " 37  rougher.input.feed_size                             19294 non-null  float64\n",
      " 38  rougher.input.feed_sol                              19340 non-null  float64\n",
      " 39  rougher.input.feed_au                               19439 non-null  float64\n",
      " 40  rougher.input.floatbank10_sulfate                   19405 non-null  float64\n",
      " 41  rougher.input.floatbank10_xanthate                  19431 non-null  float64\n",
      " 42  rougher.input.floatbank11_sulfate                   19395 non-null  float64\n",
      " 43  rougher.input.floatbank11_xanthate                  18986 non-null  float64\n",
      " 44  rougher.output.concentrate_ag                       19439 non-null  float64\n",
      " 45  rougher.output.concentrate_pb                       19439 non-null  float64\n",
      " 46  rougher.output.concentrate_sol                      19416 non-null  float64\n",
      " 47  rougher.output.concentrate_au                       19439 non-null  float64\n",
      " 48  rougher.output.recovery                             19439 non-null  float64\n",
      " 49  rougher.output.tail_ag                              19438 non-null  float64\n",
      " 50  rougher.output.tail_pb                              19439 non-null  float64\n",
      " 51  rougher.output.tail_sol                             19439 non-null  float64\n",
      " 52  rougher.output.tail_au                              19439 non-null  float64\n",
      " 53  rougher.state.floatbank10_a_air                     19438 non-null  float64\n",
      " 54  rougher.state.floatbank10_a_level                   19438 non-null  float64\n",
      " 55  rougher.state.floatbank10_b_air                     19438 non-null  float64\n",
      " 56  rougher.state.floatbank10_b_level                   19438 non-null  float64\n",
      " 57  rougher.state.floatbank10_c_air                     19438 non-null  float64\n",
      " 58  rougher.state.floatbank10_c_level                   19438 non-null  float64\n",
      " 59  rougher.state.floatbank10_d_air                     19439 non-null  float64\n",
      " 60  rougher.state.floatbank10_d_level                   19439 non-null  float64\n",
      " 61  rougher.state.floatbank10_e_air                     19003 non-null  float64\n",
      " 62  rougher.state.floatbank10_e_level                   19439 non-null  float64\n",
      " 63  rougher.state.floatbank10_f_air                     19439 non-null  float64\n",
      " 64  rougher.state.floatbank10_f_level                   19439 non-null  float64\n",
      " 65  secondary_cleaner.output.tail_ag                    19437 non-null  float64\n",
      " 66  secondary_cleaner.output.tail_pb                    19427 non-null  float64\n",
      " 67  secondary_cleaner.output.tail_sol                   17691 non-null  float64\n",
      " 68  secondary_cleaner.output.tail_au                    19439 non-null  float64\n",
      " 69  secondary_cleaner.state.floatbank2_a_air            19219 non-null  float64\n",
      " 70  secondary_cleaner.state.floatbank2_a_level          19438 non-null  float64\n",
      " 71  secondary_cleaner.state.floatbank2_b_air            19416 non-null  float64\n",
      " 72  secondary_cleaner.state.floatbank2_b_level          19438 non-null  float64\n",
      " 73  secondary_cleaner.state.floatbank3_a_air            19426 non-null  float64\n",
      " 74  secondary_cleaner.state.floatbank3_a_level          19438 non-null  float64\n",
      " 75  secondary_cleaner.state.floatbank3_b_air            19438 non-null  float64\n",
      " 76  secondary_cleaner.state.floatbank3_b_level          19438 non-null  float64\n",
      " 77  secondary_cleaner.state.floatbank4_a_air            19433 non-null  float64\n",
      " 78  secondary_cleaner.state.floatbank4_a_level          19438 non-null  float64\n",
      " 79  secondary_cleaner.state.floatbank4_b_air            19438 non-null  float64\n",
      " 80  secondary_cleaner.state.floatbank4_b_level          19438 non-null  float64\n",
      " 81  secondary_cleaner.state.floatbank5_a_air            19438 non-null  float64\n",
      " 82  secondary_cleaner.state.floatbank5_a_level          19438 non-null  float64\n",
      " 83  secondary_cleaner.state.floatbank5_b_air            19438 non-null  float64\n",
      " 84  secondary_cleaner.state.floatbank5_b_level          19438 non-null  float64\n",
      " 85  secondary_cleaner.state.floatbank6_a_air            19437 non-null  float64\n",
      " 86  secondary_cleaner.state.floatbank6_a_level          19438 non-null  float64\n",
      "dtypes: float64(86), object(1)\n",
      "memory usage: 12.9+ MB\n",
      "\n"
     ]
    }
   ],
   "source": [
    "data = {}\n",
    "for name in ['train', 'test', 'full']:\n",
    "    try:\n",
    "        data[name] = pd.read_csv(f'/datasets/gold_recovery_{name}_new.csv')\n",
    "    except:\n",
    "        data[name] = pd.read_csv(f'https://code.s3.yandex.net/datasets/gold_recovery_{name}_new.csv')\n",
    "    data[name].info()\n",
    "    print()"
   ]
  },
  {
   "cell_type": "markdown",
   "metadata": {},
   "source": [
    "Предоставленные данные уже разиты на обучающую и тестовую выборку. Также есть таблица со всеми данными. У данных с тестовой выборкой 53 столбца в то время, как у таблицы со всеми данными и у тренировачных данных по 87 столбцов. Вдобавок ко всему в тестовой выборке нет целевых признаков."
   ]
  },
  {
   "cell_type": "markdown",
   "metadata": {},
   "source": [
    "### Проверка рассчёта эффективности обогащения\n",
    "Далее я проверяю: правильно ли рассчитана эффективность обогащения по формуле, представленной ниже.\n",
    "\n",
    "<img src=\"https://pictures.s3.yandex.net/resources/Recovery_1576238822.jpg\">\n",
    "\n",
    "Для этой формулы я пишу функцию"
   ]
  },
  {
   "cell_type": "code",
   "execution_count": 3,
   "metadata": {},
   "outputs": [],
   "source": [
    "def recovery(row):\n",
    "    c = row['rougher.output.concentrate_au']\n",
    "    f = row['rougher.input.feed_au']\n",
    "    t = row['rougher.output.tail_au']\n",
    "    return ((c * (f - t)) / (f * (c - t))) * 100"
   ]
  },
  {
   "cell_type": "markdown",
   "metadata": {},
   "source": [
    "Затем я нахожу значения MAE"
   ]
  },
  {
   "cell_type": "code",
   "execution_count": 4,
   "metadata": {},
   "outputs": [
    {
     "data": {
      "text/plain": [
       "9.73512347450521e-15"
      ]
     },
     "execution_count": 4,
     "metadata": {},
     "output_type": "execute_result"
    }
   ],
   "source": [
    "mean_absolute_error(data['train']['rougher.output.recovery'], data['train'].apply(recovery, axis=1))"
   ]
  },
  {
   "cell_type": "markdown",
   "metadata": {},
   "source": [
    "Значение MAE достаточно низкое, чтобы не переживать о неправильных расчётах"
   ]
  },
  {
   "cell_type": "markdown",
   "metadata": {},
   "source": [
    "### Проверка разницы в признаках тренировачной и тестовой выборок\n",
    "Ниже перечисляются столбцы, которые есть в полных данных, но по каким-то причинам отсутствуют в тестовой выборке"
   ]
  },
  {
   "cell_type": "code",
   "execution_count": 5,
   "metadata": {},
   "outputs": [
    {
     "data": {
      "text/plain": [
       "{'final.output.concentrate_ag',\n",
       " 'final.output.concentrate_au',\n",
       " 'final.output.concentrate_pb',\n",
       " 'final.output.concentrate_sol',\n",
       " 'final.output.recovery',\n",
       " 'final.output.tail_ag',\n",
       " 'final.output.tail_au',\n",
       " 'final.output.tail_pb',\n",
       " 'final.output.tail_sol',\n",
       " 'primary_cleaner.output.concentrate_ag',\n",
       " 'primary_cleaner.output.concentrate_au',\n",
       " 'primary_cleaner.output.concentrate_pb',\n",
       " 'primary_cleaner.output.concentrate_sol',\n",
       " 'primary_cleaner.output.tail_ag',\n",
       " 'primary_cleaner.output.tail_au',\n",
       " 'primary_cleaner.output.tail_pb',\n",
       " 'primary_cleaner.output.tail_sol',\n",
       " 'rougher.calculation.au_pb_ratio',\n",
       " 'rougher.calculation.floatbank10_sulfate_to_au_feed',\n",
       " 'rougher.calculation.floatbank11_sulfate_to_au_feed',\n",
       " 'rougher.calculation.sulfate_to_au_concentrate',\n",
       " 'rougher.output.concentrate_ag',\n",
       " 'rougher.output.concentrate_au',\n",
       " 'rougher.output.concentrate_pb',\n",
       " 'rougher.output.concentrate_sol',\n",
       " 'rougher.output.recovery',\n",
       " 'rougher.output.tail_ag',\n",
       " 'rougher.output.tail_au',\n",
       " 'rougher.output.tail_pb',\n",
       " 'rougher.output.tail_sol',\n",
       " 'secondary_cleaner.output.tail_ag',\n",
       " 'secondary_cleaner.output.tail_au',\n",
       " 'secondary_cleaner.output.tail_pb',\n",
       " 'secondary_cleaner.output.tail_sol'}"
      ]
     },
     "execution_count": 5,
     "metadata": {},
     "output_type": "execute_result"
    }
   ],
   "source": [
    "set(data['full'].columns) - set(data['test'].columns)"
   ]
  },
  {
   "cell_type": "markdown",
   "metadata": {},
   "source": [
    "Если проверить обратное выражение, то результатом будет пустое множество, а значит в тренировачной выборке есть все столбцы из тестовой выборки"
   ]
  },
  {
   "cell_type": "code",
   "execution_count": 6,
   "metadata": {},
   "outputs": [
    {
     "data": {
      "text/plain": [
       "set()"
      ]
     },
     "execution_count": 6,
     "metadata": {},
     "output_type": "execute_result"
    }
   ],
   "source": [
    "set(data['full'].columns) - set(data['train'].columns)"
   ]
  },
  {
   "cell_type": "markdown",
   "metadata": {},
   "source": [
    "В тестовых данных отстутствуют столбцы с типом параметра `output` и `calculation`. Возможно, их нет в тестовой выборке, так как с помощью расчётов их можно получить из имеющихся данных"
   ]
  },
  {
   "cell_type": "markdown",
   "metadata": {},
   "source": [
    "### Предобработка данных\n",
    "Проверяю количество дубликатов в данных"
   ]
  },
  {
   "cell_type": "code",
   "execution_count": 7,
   "metadata": {},
   "outputs": [
    {
     "data": {
      "text/plain": [
       "0"
      ]
     },
     "execution_count": 7,
     "metadata": {},
     "output_type": "execute_result"
    }
   ],
   "source": [
    "data['full'].duplicated().sum()"
   ]
  },
  {
   "cell_type": "markdown",
   "metadata": {},
   "source": [
    "Объединяю все данные с обучайющей выборкой"
   ]
  },
  {
   "cell_type": "code",
   "execution_count": 8,
   "metadata": {},
   "outputs": [],
   "source": [
    "full_data = pd.concat([data['full'], data['train']])"
   ]
  },
  {
   "cell_type": "markdown",
   "metadata": {},
   "source": [
    "Снова проверяю количество дубликатов"
   ]
  },
  {
   "cell_type": "code",
   "execution_count": 9,
   "metadata": {},
   "outputs": [
    {
     "data": {
      "text/plain": [
       "11057"
      ]
     },
     "execution_count": 9,
     "metadata": {},
     "output_type": "execute_result"
    }
   ],
   "source": [
    "full_data.duplicated().sum()"
   ]
  },
  {
   "cell_type": "markdown",
   "metadata": {},
   "source": [
    "Как и ожидалось, данные повторяются. Проверю количество строк в обучающей выборке"
   ]
  },
  {
   "cell_type": "code",
   "execution_count": 10,
   "metadata": {},
   "outputs": [
    {
     "data": {
      "text/plain": [
       "14149"
      ]
     },
     "execution_count": 10,
     "metadata": {},
     "output_type": "execute_result"
    }
   ],
   "source": [
    "data['train'].shape[0]"
   ]
  },
  {
   "cell_type": "markdown",
   "metadata": {},
   "source": [
    "Получились разные ответы, а значит в общих данных присутствуют не все данные с обучающей выборки. Удаляю дубликаты и срасываю индексы"
   ]
  },
  {
   "cell_type": "code",
   "execution_count": 11,
   "metadata": {},
   "outputs": [],
   "source": [
    "full_data = full_data.drop_duplicates().reset_index(drop=True)"
   ]
  },
  {
   "cell_type": "markdown",
   "metadata": {},
   "source": [
    "В тестовой выборке, как уже было выяснено ранее, меньше столбцов, чем у остальных данных. Сопоставляя похожие строки в полном датафрейме, составляю тестовую выборку со всеми столбцами"
   ]
  },
  {
   "cell_type": "code",
   "execution_count": 12,
   "metadata": {},
   "outputs": [],
   "source": [
    "# Для этого делаю полную копию таблицы со всеми данными\n",
    "temp_test_data = full_data\n",
    "# Делаю ещё одну копию, только со столбцами, которые присутствуют в тестовой выборке\n",
    "test_data = full_data.drop(columns=list(set(full_data.columns) - set(data['test'].columns)))\n",
    "# У меня есть два датафрейма: первый со всеми столбцами (temp_test_data), а второй урезанный (test_data)\n",
    "# Далее одинаковые операции будут применяться к обоим датафреймам\n",
    "# Удаляю строки с дубликатами, так как они могли появиться после урезания столбцов\n",
    "temp_test_data = temp_test_data[~test_data.duplicated()]\n",
    "test_data = test_data.drop_duplicates()\n",
    "# Объединяю два датафрейма\n",
    "temp_test_data = pd.concat([temp_test_data, data['test']])\n",
    "test_data = pd.concat([test_data, data['test']])\n",
    "# Делю датафрейм со всеми столбцами на тренировачные и обучающие данные\n",
    "train_data = temp_test_data[~test_data.duplicated(keep='last')].reset_index(drop=True)\n",
    "test_data = temp_test_data[test_data.duplicated(keep='last')].reset_index(drop=True)"
   ]
  },
  {
   "cell_type": "markdown",
   "metadata": {},
   "source": [
    "По итогу я получил более полную тестовую выборку, в которой присутствуют все столбцы, а также отделил от неё обучающую выборку. Далее избавляюсь от пропусков и объединяю данные в ещё один датафрейм"
   ]
  },
  {
   "cell_type": "code",
   "execution_count": 13,
   "metadata": {},
   "outputs": [],
   "source": [
    "train_data = train_data[(train_data['rougher.output.recovery'] != 0) & (train_data['final.output.recovery'] != 0)]\n",
    "train_data = train_data.dropna().reset_index(drop=True)\n",
    "test_data = test_data[(test_data['rougher.output.recovery'] != 0) & (test_data['final.output.recovery'] != 0)]\n",
    "test_data = test_data.dropna().reset_index(drop=True)\n",
    "full_data = pd.concat([train_data, test_data]).reset_index(drop=True)"
   ]
  },
  {
   "cell_type": "markdown",
   "metadata": {},
   "source": [
    "Подвожу итоги предобработки данных"
   ]
  },
  {
   "cell_type": "code",
   "execution_count": 14,
   "metadata": {},
   "outputs": [
    {
     "name": "stdout",
     "output_type": "stream",
     "text": [
      "Тренировачные данные\n",
      "    Было:(14149, 87)\n",
      "    Стало:(12328, 87)\n",
      "    Потери строк: 12.870167503003742%\n",
      "Тестовые данные\n",
      "    Было:(5290, 53)\n",
      "    Стало:(4969, 87)\n",
      "    Потери строк: 6.068052930056709%\n",
      "Общие данные\n",
      "    Было:(19439, 87)\n",
      "    Стало:(17297, 87)\n",
      "    Потери строк: 11.019085343896293%\n"
     ]
    }
   ],
   "source": [
    "print(f\"\"\"Тренировачные данные\n",
    "    Было:{data['train'].shape}\n",
    "    Стало:{train_data.shape}\n",
    "    Потери строк: {100 - train_data.shape[0] / data['train'].shape[0] * 100}%\n",
    "Тестовые данные\n",
    "    Было:{data['test'].shape}\n",
    "    Стало:{test_data.shape}\n",
    "    Потери строк: {100 - test_data.shape[0] / data['test'].shape[0] * 100}%\n",
    "Общие данные\n",
    "    Было:{data['full'].shape}\n",
    "    Стало:{full_data.shape}\n",
    "    Потери строк: {100 - full_data.shape[0] / data['full'].shape[0] * 100}%\n",
    "\"\"\", end='')"
   ]
  },
  {
   "cell_type": "markdown",
   "metadata": {},
   "source": [
    "В тренировачных данных стало на `11%` меньше строк, однако эта выборка всё равно достаточно большая, поэтому оставлю всё как есть.\n",
    "\n",
    "**Вывод раздела.** В данном разделе были импортированы библиотеки для работы. Открыты и изучены файлы с данными. Проведена проверка рассчётов эффективности обогащения. Найдена разница в тренировачных и тестовых выборках. На основе информации о разнице добавлены новые данные в тестовую выборку. Данные очищены от пропусков."
   ]
  },
  {
   "cell_type": "markdown",
   "metadata": {},
   "source": [
    "## Анализ данных\n",
    "### Изменение концентрации металлов (Au, Ag, Pb) на различных этапах очистки\n",
    "Для рассмотрения изменений составлю гистограммы для каждого этапа.\n",
    "\n",
    "Сначала изучу золото"
   ]
  },
  {
   "cell_type": "code",
   "execution_count": 15,
   "metadata": {},
   "outputs": [
    {
     "data": {
      "image/png": "[encoded data removed]",
      "text/plain": [
       "<Figure size 1080x504 with 1 Axes>"
      ]
     },
     "metadata": {
      "needs_background": "light"
     },
     "output_type": "display_data"
    }
   ],
   "source": [
    "fig, ax = plt.subplots(figsize = (15, 7))\n",
    "for column_name in [\n",
    "    'rougher.output.concentrate_au',\n",
    "    'primary_cleaner.output.concentrate_au',\n",
    "    'final.output.concentrate_au',\n",
    "    'rougher.input.feed_au']:\n",
    "    full_data.hist(\n",
    "        ax=ax,\n",
    "        bins=55,\n",
    "        column=column_name,\n",
    "        legend=True\n",
    "    )\n",
    "ax.set_title('Золото');\n",
    "ax.set_xticks([i for i in range(53)]);"
   ]
  },
  {
   "cell_type": "markdown",
   "metadata": {},
   "source": [
    "Концентрат золота с каждым этапом очистки становится всё больше, так как именно его получают из руды.\n",
    "\n",
    "Далее рассмотрю серебро"
   ]
  },
  {
   "cell_type": "code",
   "execution_count": 16,
   "metadata": {},
   "outputs": [
    {
     "data": {
      "image/png": "[encoded data removed]",
      "text/plain": [
       "<Figure size 1080x504 with 1 Axes>"
      ]
     },
     "metadata": {
      "needs_background": "light"
     },
     "output_type": "display_data"
    }
   ],
   "source": [
    "fig, ax = plt.subplots(figsize = (15, 7))\n",
    "for column_name in [\n",
    "    'rougher.output.concentrate_ag',\n",
    "    'primary_cleaner.output.concentrate_ag',\n",
    "    'final.output.concentrate_ag',\n",
    "    'rougher.input.feed_ag'\n",
    "]:\n",
    "    full_data.hist(\n",
    "        ax=ax,\n",
    "        bins=50,\n",
    "        column=column_name,\n",
    "        legend=True,\n",
    "        alpha=0.85\n",
    "    )\n",
    "ax.set_title('Серебро');\n",
    "ax.set_xticks([i for i in range(22)]);"
   ]
  },
  {
   "cell_type": "markdown",
   "metadata": {},
   "source": [
    "Серебра наоборот с каждым разом становится всё меньше и меньше.\n",
    "\n",
    "Далее рассматриваю свинец."
   ]
  },
  {
   "cell_type": "code",
   "execution_count": 17,
   "metadata": {},
   "outputs": [
    {
     "data": {
      "image/png": "[encoded data removed]",
      "text/plain": [
       "<Figure size 1080x504 with 1 Axes>"
      ]
     },
     "metadata": {
      "needs_background": "light"
     },
     "output_type": "display_data"
    }
   ],
   "source": [
    "fig, ax = plt.subplots(figsize = (15, 7))\n",
    "for column_name in [\n",
    "    'rougher.output.concentrate_pb',\n",
    "    'primary_cleaner.output.concentrate_pb',\n",
    "    'final.output.concentrate_pb',\n",
    "    'rougher.input.feed_pb'\n",
    "]:\n",
    "    full_data.hist(\n",
    "        ax=ax,\n",
    "        bins=50,\n",
    "        column=column_name,\n",
    "        legend=True,\n",
    "        alpha=0.85\n",
    "    )\n",
    "plt.show()\n",
    "ax.set_title('Свинец');\n",
    "ax.set_xticks([i for i in range(21)]);"
   ]
  },
  {
   "cell_type": "markdown",
   "metadata": {},
   "source": [
    "Концентрат свинца увеличивается после флотации, однако далее он находится примерно на том же уровне, на котором остался после флотации."
   ]
  },
  {
   "cell_type": "markdown",
   "metadata": {},
   "source": [
    "### Сравнение распределения размеров гранул сырья"
   ]
  },
  {
   "cell_type": "markdown",
   "metadata": {},
   "source": [
    "Найду столбцы, которые содержат в себе размеры гранул сырья"
   ]
  },
  {
   "cell_type": "code",
   "execution_count": 18,
   "metadata": {},
   "outputs": [
    {
     "name": "stdout",
     "output_type": "stream",
     "text": [
      "primary_cleaner.input.feed_size\n",
      "rougher.input.feed_size\n"
     ]
    }
   ],
   "source": [
    "for i in train_data.columns:\n",
    "    if 'size' in i:\n",
    "        print(i)"
   ]
  },
  {
   "cell_type": "markdown",
   "metadata": {},
   "source": [
    "Добавлю все значения в одну таблицу"
   ]
  },
  {
   "cell_type": "code",
   "execution_count": 19,
   "metadata": {},
   "outputs": [],
   "source": [
    "feed_table = pd.DataFrame(data={\n",
    "    'train.rougher.input.feed_size':train_data['rougher.input.feed_size'],\n",
    "    'train.primary_cleaner.input.feed_size':train_data['primary_cleaner.input.feed_size'],\n",
    "    'test.rougher.input.feed_size':test_data['rougher.input.feed_size'],\n",
    "    'test.primary_cleaner.input.feed_size':test_data['primary_cleaner.input.feed_size']\n",
    "})"
   ]
  },
  {
   "cell_type": "markdown",
   "metadata": {},
   "source": [
    "Далее строю гистограмму для столбцов процесса флотации, чтобы сравнить значения"
   ]
  },
  {
   "cell_type": "code",
   "execution_count": 20,
   "metadata": {},
   "outputs": [
    {
     "data": {
      "image/png": "[encoded data removed]",
      "text/plain": [
       "<Figure size 1080x504 with 1 Axes>"
      ]
     },
     "metadata": {
      "needs_background": "light"
     },
     "output_type": "display_data"
    }
   ],
   "source": [
    "fig, ax = plt.subplots(figsize = (15, 7))\n",
    "sns.histplot(data=feed_table, ax=ax, x=\"train.rougher.input.feed_size\", color=\"skyblue\", kde=True)\n",
    "sns.histplot(data=feed_table, ax=ax, x=\"test.rougher.input.feed_size\", color=\"red\", kde=True)\n",
    "ax.set_xlim(0,121);"
   ]
  },
  {
   "cell_type": "markdown",
   "metadata": {},
   "source": [
    "На графике видно, что хоть распределение немного отличается, значения находится примерно в одном диалазоне.\n",
    "\n",
    "Строю следующую гистограмму для столбцов процесса первого этапа очистки, чтобы сравнить значения"
   ]
  },
  {
   "cell_type": "code",
   "execution_count": 21,
   "metadata": {},
   "outputs": [
    {
     "data": {
      "image/png": "[encoded data removed]",
      "text/plain": [
       "<Figure size 1080x504 with 1 Axes>"
      ]
     },
     "metadata": {
      "needs_background": "light"
     },
     "output_type": "display_data"
    }
   ],
   "source": [
    "fig, ax = plt.subplots(figsize = (15, 7))\n",
    "sns.histplot(data=feed_table, ax=ax, x=\"train.primary_cleaner.input.feed_size\", color=\"skyblue\", label=\"Sepal Length\", kde=True)\n",
    "sns.histplot(data=feed_table, ax=ax, x=\"test.primary_cleaner.input.feed_size\", color=\"red\", label=\"Sepal Width\", kde=True)\n",
    "ax.set_xlim(4,13);"
   ]
  },
  {
   "cell_type": "markdown",
   "metadata": {},
   "source": [
    "Опять же разницы между распределением в графиках практически нет, а значит на оценку модели разница в значениях не окажет влияния."
   ]
  },
  {
   "cell_type": "markdown",
   "metadata": {},
   "source": [
    "### Исследование суммарной концентрации всех веществ на разных стадиях: сырьё, в черновой и финальный концентраты. \n",
    "Нахожу необходимые для исследования столбцы"
   ]
  },
  {
   "cell_type": "code",
   "execution_count": 22,
   "metadata": {},
   "outputs": [
    {
     "name": "stdout",
     "output_type": "stream",
     "text": [
      "final.output.concentrate_ag\n",
      "final.output.concentrate_pb\n",
      "final.output.concentrate_sol\n",
      "final.output.concentrate_au\n",
      "primary_cleaner.output.concentrate_ag\n",
      "primary_cleaner.output.concentrate_pb\n",
      "primary_cleaner.output.concentrate_sol\n",
      "primary_cleaner.output.concentrate_au\n",
      "rougher.calculation.sulfate_to_au_concentrate\n",
      "rougher.output.concentrate_ag\n",
      "rougher.output.concentrate_pb\n",
      "rougher.output.concentrate_sol\n",
      "rougher.output.concentrate_au\n"
     ]
    }
   ],
   "source": [
    "for i in full_data.columns:\n",
    "    if 'concentrate' in i:\n",
    "        print(i)"
   ]
  },
  {
   "cell_type": "markdown",
   "metadata": {},
   "source": [
    "Строю отдельную таблицу с суммами всех концентратов на разных этапах и строю график"
   ]
  },
  {
   "cell_type": "code",
   "execution_count": 23,
   "metadata": {},
   "outputs": [
    {
     "data": {
      "image/png": "[encoded data removed]",
      "text/plain": [
       "<Figure size 1080x504 with 1 Axes>"
      ]
     },
     "metadata": {
      "needs_background": "light"
     },
     "output_type": "display_data"
    }
   ],
   "source": [
    "concentrate_table = pd.DataFrame(data={\n",
    "    'rougher.output.concentrate_sum':(\n",
    "        full_data['rougher.output.concentrate_ag'] + \n",
    "        full_data['rougher.output.concentrate_pb'] + \n",
    "        full_data['rougher.output.concentrate_sol'] + \n",
    "        full_data['rougher.output.concentrate_au']\n",
    "    ),\n",
    "    'primary_cleaner.output.concentrate_sum':(\n",
    "        full_data['primary_cleaner.output.concentrate_ag'] + \n",
    "        full_data['primary_cleaner.output.concentrate_pb'] + \n",
    "        full_data['primary_cleaner.output.concentrate_sol'] + \n",
    "        full_data['primary_cleaner.output.concentrate_au']\n",
    "    ),\n",
    "    'final.output.concentrate_sum':(\n",
    "        full_data['final.output.concentrate_ag'] + \n",
    "        full_data['final.output.concentrate_pb'] + \n",
    "        full_data['final.output.concentrate_sol'] + \n",
    "        full_data['final.output.concentrate_au']\n",
    "    )\n",
    "})\n",
    "concentrate_table.plot(kind='hist', bins=100, figsize=(15,7), alpha=0.85, grid=True);"
   ]
  },
  {
   "cell_type": "markdown",
   "metadata": {},
   "source": [
    "На графике видно, что на этапе флотации в сумме концентратов больше, чем на других этапах. После первого этапа очистки сумма значительно уменьшается. А финальная сумма концентратов примерно на том же уровне, что и в процессе флотации, однако распределение у финальной суммы концентратов ниже.\n",
    "\n",
    "Отдельно вывожу суммарную концентрацию по исходному сырью"
   ]
  },
  {
   "cell_type": "code",
   "execution_count": 24,
   "metadata": {},
   "outputs": [
    {
     "data": {
      "image/png": "[encoded data removed]",
      "text/plain": [
       "<Figure size 1080x504 with 1 Axes>"
      ]
     },
     "metadata": {
      "needs_background": "light"
     },
     "output_type": "display_data"
    }
   ],
   "source": [
    "(full_data['rougher.input.feed_ag'] +\n",
    "full_data['rougher.input.feed_pb'] +\n",
    "full_data['rougher.input.feed_rate'] +\n",
    "full_data['rougher.input.feed_size'] +\n",
    "full_data['rougher.input.feed_sol'] +\n",
    "full_data['rougher.input.feed_au']).plot(\n",
    "    kind='hist',\n",
    "    bins=100,\n",
    "    figsize=(15,7),\n",
    "    alpha=0.85,\n",
    "    grid=True,\n",
    "    xticks=[i for i in range(0, 1001, 25)],\n",
    "    yticks=[i for i in range(0, 1001, 25)]\n",
    ");"
   ]
  },
  {
   "cell_type": "markdown",
   "metadata": {},
   "source": [
    "Пользуясь этими графиками, удаляю аномальные значения из тренировочной выборки"
   ]
  },
  {
   "cell_type": "code",
   "execution_count": 25,
   "metadata": {},
   "outputs": [],
   "source": [
    "train_data_rougher_input_sum = (train_data['rougher.input.feed_ag'] +\n",
    "train_data['rougher.input.feed_pb'] +\n",
    "train_data['rougher.input.feed_rate'] +\n",
    "train_data['rougher.input.feed_size'] +\n",
    "train_data['rougher.input.feed_sol'] +\n",
    "train_data['rougher.input.feed_au'])\n",
    "train_data = train_data[(train_data_rougher_input_sum > 250) & (train_data_rougher_input_sum < 875)]\n",
    "\n",
    "train_data_concentrate_table = pd.DataFrame(data={\n",
    "    'rougher.output.concentrate_sum':(\n",
    "        train_data['rougher.output.concentrate_ag'] + \n",
    "        train_data['rougher.output.concentrate_pb'] + \n",
    "        train_data['rougher.output.concentrate_sol'] + \n",
    "        train_data['rougher.output.concentrate_au']\n",
    "    ),\n",
    "    'primary_cleaner.output.concentrate_sum':(\n",
    "        train_data['primary_cleaner.output.concentrate_ag'] + \n",
    "        train_data['primary_cleaner.output.concentrate_pb'] + \n",
    "        train_data['primary_cleaner.output.concentrate_sol'] + \n",
    "        train_data['primary_cleaner.output.concentrate_au']\n",
    "    ),\n",
    "    'final.output.concentrate_sum':(\n",
    "        train_data['final.output.concentrate_ag'] + \n",
    "        train_data['final.output.concentrate_pb'] + \n",
    "        train_data['final.output.concentrate_sol'] + \n",
    "        train_data['final.output.concentrate_au']\n",
    "    )\n",
    "})\n",
    "train_data = train_data[~(\n",
    "    (train_data_concentrate_table['rougher.output.concentrate_sum'] < 20) |\n",
    "    (train_data_concentrate_table['primary_cleaner.output.concentrate_sum'] < 20) |\n",
    "    (train_data_concentrate_table['final.output.concentrate_sum'] < 20)\n",
    ")]"
   ]
  },
  {
   "cell_type": "markdown",
   "metadata": {},
   "source": [
    "\n",
    "**Вывод раздела.** В данном разделе изучено изменение концентрации металлов на разных этапах очистки, проведено сравнение распределения размеров сырья на разных этапах очистки и исследована суммарная концентрация всех веществ на разных стадиях очистки и удалены аномальные значения из тренировачных данных."
   ]
  },
  {
   "cell_type": "markdown",
   "metadata": {},
   "source": [
    "## Модель"
   ]
  },
  {
   "cell_type": "markdown",
   "metadata": {},
   "source": [
    "### Функция для вычисления sMAPE\n",
    "Метрика sMAPE вычисляется следующим образом:\n",
    "\n",
    "<img src='https://pictures.s3.yandex.net/resources/smape_1576238825.jpg'>\n",
    "\n",
    "Пользуясь этой формулой, пишу функцию для вычисления sMAPE"
   ]
  },
  {
   "cell_type": "code",
   "execution_count": 26,
   "metadata": {},
   "outputs": [],
   "source": [
    "def sMAPE(target, predictions):\n",
    "    return (1 / len(target)) * sum(abs(target - predictions) / ((abs(target) + abs(predictions)) / 2)) * 100"
   ]
  },
  {
   "cell_type": "markdown",
   "metadata": {},
   "source": [
    "Также необходима функция для вычисления итогового sMAPE. Она вычисляется следующим образом\n",
    "\n",
    "<img src='https://pictures.s3.yandex.net/resources/_smape_1576238814.jpg'>\n",
    "\n",
    "Реализую функцию для вычисления итогового sMAPE"
   ]
  },
  {
   "cell_type": "code",
   "execution_count": 27,
   "metadata": {},
   "outputs": [],
   "source": [
    "def final_sMAPE(target_rougher, predictions_rougher, target_final, predictions_final):\n",
    "    return 0.25 * sMAPE(target_rougher, predictions_rougher) + 0.75 * sMAPE(target_final, predictions_final)"
   ]
  },
  {
   "cell_type": "markdown",
   "metadata": {},
   "source": [
    "### Обучение моделей\n",
    "Отделяю признаки друг от друга"
   ]
  },
  {
   "cell_type": "code",
   "execution_count": 28,
   "metadata": {},
   "outputs": [],
   "source": [
    "features_train = train_data.drop(columns=['date', 'rougher.output.recovery', 'final.output.recovery'])\n",
    "target_train = train_data.loc[:, ['rougher.output.recovery', 'final.output.recovery']]\n",
    "features_test = test_data.drop(columns=['date', 'rougher.output.recovery', 'final.output.recovery'])\n",
    "target_test = test_data.loc[:, ['rougher.output.recovery', 'final.output.recovery']]"
   ]
  },
  {
   "cell_type": "markdown",
   "metadata": {},
   "source": [
    "Перебираю модели и гиперпараметры для нахождения наилучшей модели для обоих целевых признаков"
   ]
  },
  {
   "cell_type": "code",
   "execution_count": 29,
   "metadata": {
    "scrolled": false
   },
   "outputs": [
    {
     "data": {
      "application/vnd.jupyter.widget-view+json": {
       "model_id": "",
       "version_major": 2,
       "version_minor": 0
      },
      "text/plain": [
       "DecisionTreeRegressor (max_depth):   0%|          | 0/30 [00:00<?, ?it/s]"
      ]
     },
     "metadata": {},
     "output_type": "display_data"
    },
    {
     "data": {
      "application/vnd.jupyter.widget-view+json": {
       "model_id": "",
       "version_major": 2,
       "version_minor": 0
      },
      "text/plain": [
       "DecisionTreeRegressor (samples_leaf):   0%|          | 0/50 [00:00<?, ?it/s]"
      ]
     },
     "metadata": {},
     "output_type": "display_data"
    },
    {
     "data": {
      "application/vnd.jupyter.widget-view+json": {
       "model_id": "",
       "version_major": 2,
       "version_minor": 0
      },
      "text/plain": [
       "DecisionTreeRegressor (samples_leaf):   0%|          | 0/50 [00:00<?, ?it/s]"
      ]
     },
     "metadata": {},
     "output_type": "display_data"
    },
    {
     "data": {
      "application/vnd.jupyter.widget-view+json": {
       "model_id": "",
       "version_major": 2,
       "version_minor": 0
      },
      "text/plain": [
       "DecisionTreeRegressor (samples_leaf):   0%|          | 0/50 [00:00<?, ?it/s]"
      ]
     },
     "metadata": {},
     "output_type": "display_data"
    },
    {
     "data": {
      "application/vnd.jupyter.widget-view+json": {
       "model_id": "",
       "version_major": 2,
       "version_minor": 0
      },
      "text/plain": [
       "DecisionTreeRegressor (samples_leaf):   0%|          | 0/50 [00:00<?, ?it/s]"
      ]
     },
     "metadata": {},
     "output_type": "display_data"
    },
    {
     "data": {
      "application/vnd.jupyter.widget-view+json": {
       "model_id": "",
       "version_major": 2,
       "version_minor": 0
      },
      "text/plain": [
       "DecisionTreeRegressor (samples_leaf):   0%|          | 0/50 [00:00<?, ?it/s]"
      ]
     },
     "metadata": {},
     "output_type": "display_data"
    },
    {
     "data": {
      "application/vnd.jupyter.widget-view+json": {
       "model_id": "",
       "version_major": 2,
       "version_minor": 0
      },
      "text/plain": [
       "DecisionTreeRegressor (samples_leaf):   0%|          | 0/50 [00:00<?, ?it/s]"
      ]
     },
     "metadata": {},
     "output_type": "display_data"
    },
    {
     "data": {
      "application/vnd.jupyter.widget-view+json": {
       "model_id": "",
       "version_major": 2,
       "version_minor": 0
      },
      "text/plain": [
       "DecisionTreeRegressor (samples_leaf):   0%|          | 0/50 [00:00<?, ?it/s]"
      ]
     },
     "metadata": {},
     "output_type": "display_data"
    },
    {
     "data": {
      "application/vnd.jupyter.widget-view+json": {
       "model_id": "",
       "version_major": 2,
       "version_minor": 0
      },
      "text/plain": [
       "DecisionTreeRegressor (samples_leaf):   0%|          | 0/50 [00:00<?, ?it/s]"
      ]
     },
     "metadata": {},
     "output_type": "display_data"
    },
    {
     "data": {
      "application/vnd.jupyter.widget-view+json": {
       "model_id": "",
       "version_major": 2,
       "version_minor": 0
      },
      "text/plain": [
       "DecisionTreeRegressor (samples_leaf):   0%|          | 0/50 [00:00<?, ?it/s]"
      ]
     },
     "metadata": {},
     "output_type": "display_data"
    },
    {
     "data": {
      "application/vnd.jupyter.widget-view+json": {
       "model_id": "",
       "version_major": 2,
       "version_minor": 0
      },
      "text/plain": [
       "DecisionTreeRegressor (samples_leaf):   0%|          | 0/50 [00:00<?, ?it/s]"
      ]
     },
     "metadata": {},
     "output_type": "display_data"
    },
    {
     "data": {
      "application/vnd.jupyter.widget-view+json": {
       "model_id": "",
       "version_major": 2,
       "version_minor": 0
      },
      "text/plain": [
       "DecisionTreeRegressor (samples_leaf):   0%|          | 0/50 [00:00<?, ?it/s]"
      ]
     },
     "metadata": {},
     "output_type": "display_data"
    },
    {
     "data": {
      "application/vnd.jupyter.widget-view+json": {
       "model_id": "",
       "version_major": 2,
       "version_minor": 0
      },
      "text/plain": [
       "DecisionTreeRegressor (samples_leaf):   0%|          | 0/50 [00:00<?, ?it/s]"
      ]
     },
     "metadata": {},
     "output_type": "display_data"
    },
    {
     "data": {
      "application/vnd.jupyter.widget-view+json": {
       "model_id": "",
       "version_major": 2,
       "version_minor": 0
      },
      "text/plain": [
       "DecisionTreeRegressor (samples_leaf):   0%|          | 0/50 [00:00<?, ?it/s]"
      ]
     },
     "metadata": {},
     "output_type": "display_data"
    },
    {
     "data": {
      "application/vnd.jupyter.widget-view+json": {
       "model_id": "",
       "version_major": 2,
       "version_minor": 0
      },
      "text/plain": [
       "DecisionTreeRegressor (samples_leaf):   0%|          | 0/50 [00:00<?, ?it/s]"
      ]
     },
     "metadata": {},
     "output_type": "display_data"
    },
    {
     "data": {
      "application/vnd.jupyter.widget-view+json": {
       "model_id": "",
       "version_major": 2,
       "version_minor": 0
      },
      "text/plain": [
       "DecisionTreeRegressor (samples_leaf):   0%|          | 0/50 [00:00<?, ?it/s]"
      ]
     },
     "metadata": {},
     "output_type": "display_data"
    },
    {
     "data": {
      "application/vnd.jupyter.widget-view+json": {
       "model_id": "",
       "version_major": 2,
       "version_minor": 0
      },
      "text/plain": [
       "DecisionTreeRegressor (samples_leaf):   0%|          | 0/50 [00:00<?, ?it/s]"
      ]
     },
     "metadata": {},
     "output_type": "display_data"
    },
    {
     "data": {
      "application/vnd.jupyter.widget-view+json": {
       "model_id": "",
       "version_major": 2,
       "version_minor": 0
      },
      "text/plain": [
       "DecisionTreeRegressor (samples_leaf):   0%|          | 0/50 [00:00<?, ?it/s]"
      ]
     },
     "metadata": {},
     "output_type": "display_data"
    },
    {
     "data": {
      "application/vnd.jupyter.widget-view+json": {
       "model_id": "",
       "version_major": 2,
       "version_minor": 0
      },
      "text/plain": [
       "DecisionTreeRegressor (samples_leaf):   0%|          | 0/50 [00:00<?, ?it/s]"
      ]
     },
     "metadata": {},
     "output_type": "display_data"
    },
    {
     "data": {
      "application/vnd.jupyter.widget-view+json": {
       "model_id": "",
       "version_major": 2,
       "version_minor": 0
      },
      "text/plain": [
       "DecisionTreeRegressor (samples_leaf):   0%|          | 0/50 [00:00<?, ?it/s]"
      ]
     },
     "metadata": {},
     "output_type": "display_data"
    },
    {
     "data": {
      "application/vnd.jupyter.widget-view+json": {
       "model_id": "",
       "version_major": 2,
       "version_minor": 0
      },
      "text/plain": [
       "DecisionTreeRegressor (samples_leaf):   0%|          | 0/50 [00:00<?, ?it/s]"
      ]
     },
     "metadata": {},
     "output_type": "display_data"
    },
    {
     "data": {
      "application/vnd.jupyter.widget-view+json": {
       "model_id": "",
       "version_major": 2,
       "version_minor": 0
      },
      "text/plain": [
       "DecisionTreeRegressor (samples_leaf):   0%|          | 0/50 [00:00<?, ?it/s]"
      ]
     },
     "metadata": {},
     "output_type": "display_data"
    },
    {
     "data": {
      "application/vnd.jupyter.widget-view+json": {
       "model_id": "",
       "version_major": 2,
       "version_minor": 0
      },
      "text/plain": [
       "DecisionTreeRegressor (samples_leaf):   0%|          | 0/50 [00:00<?, ?it/s]"
      ]
     },
     "metadata": {},
     "output_type": "display_data"
    },
    {
     "data": {
      "application/vnd.jupyter.widget-view+json": {
       "model_id": "",
       "version_major": 2,
       "version_minor": 0
      },
      "text/plain": [
       "DecisionTreeRegressor (samples_leaf):   0%|          | 0/50 [00:00<?, ?it/s]"
      ]
     },
     "metadata": {},
     "output_type": "display_data"
    },
    {
     "data": {
      "application/vnd.jupyter.widget-view+json": {
       "model_id": "",
       "version_major": 2,
       "version_minor": 0
      },
      "text/plain": [
       "DecisionTreeRegressor (samples_leaf):   0%|          | 0/50 [00:00<?, ?it/s]"
      ]
     },
     "metadata": {},
     "output_type": "display_data"
    },
    {
     "data": {
      "application/vnd.jupyter.widget-view+json": {
       "model_id": "",
       "version_major": 2,
       "version_minor": 0
      },
      "text/plain": [
       "DecisionTreeRegressor (samples_leaf):   0%|          | 0/50 [00:00<?, ?it/s]"
      ]
     },
     "metadata": {},
     "output_type": "display_data"
    },
    {
     "data": {
      "application/vnd.jupyter.widget-view+json": {
       "model_id": "",
       "version_major": 2,
       "version_minor": 0
      },
      "text/plain": [
       "DecisionTreeRegressor (samples_leaf):   0%|          | 0/50 [00:00<?, ?it/s]"
      ]
     },
     "metadata": {},
     "output_type": "display_data"
    },
    {
     "data": {
      "application/vnd.jupyter.widget-view+json": {
       "model_id": "",
       "version_major": 2,
       "version_minor": 0
      },
      "text/plain": [
       "DecisionTreeRegressor (samples_leaf):   0%|          | 0/50 [00:00<?, ?it/s]"
      ]
     },
     "metadata": {},
     "output_type": "display_data"
    },
    {
     "data": {
      "application/vnd.jupyter.widget-view+json": {
       "model_id": "",
       "version_major": 2,
       "version_minor": 0
      },
      "text/plain": [
       "DecisionTreeRegressor (samples_leaf):   0%|          | 0/50 [00:00<?, ?it/s]"
      ]
     },
     "metadata": {},
     "output_type": "display_data"
    },
    {
     "data": {
      "application/vnd.jupyter.widget-view+json": {
       "model_id": "",
       "version_major": 2,
       "version_minor": 0
      },
      "text/plain": [
       "DecisionTreeRegressor (samples_leaf):   0%|          | 0/50 [00:00<?, ?it/s]"
      ]
     },
     "metadata": {},
     "output_type": "display_data"
    },
    {
     "data": {
      "application/vnd.jupyter.widget-view+json": {
       "model_id": "",
       "version_major": 2,
       "version_minor": 0
      },
      "text/plain": [
       "DecisionTreeRegressor (samples_leaf):   0%|          | 0/50 [00:00<?, ?it/s]"
      ]
     },
     "metadata": {},
     "output_type": "display_data"
    },
    {
     "data": {
      "application/vnd.jupyter.widget-view+json": {
       "model_id": "",
       "version_major": 2,
       "version_minor": 0
      },
      "text/plain": [
       "RandomForestRegressor (max_depth):   0%|          | 0/20 [00:00<?, ?it/s]"
      ]
     },
     "metadata": {},
     "output_type": "display_data"
    },
    {
     "data": {
      "application/vnd.jupyter.widget-view+json": {
       "model_id": "",
       "version_major": 2,
       "version_minor": 0
      },
      "text/plain": [
       "RandomForestRegressor (n_estimators):   0%|          | 0/50 [00:00<?, ?it/s]"
      ]
     },
     "metadata": {},
     "output_type": "display_data"
    },
    {
     "data": {
      "application/vnd.jupyter.widget-view+json": {
       "model_id": "",
       "version_major": 2,
       "version_minor": 0
      },
      "text/plain": [
       "RandomForestRegressor (n_estimators):   0%|          | 0/50 [00:00<?, ?it/s]"
      ]
     },
     "metadata": {},
     "output_type": "display_data"
    },
    {
     "data": {
      "application/vnd.jupyter.widget-view+json": {
       "model_id": "",
       "version_major": 2,
       "version_minor": 0
      },
      "text/plain": [
       "RandomForestRegressor (n_estimators):   0%|          | 0/50 [00:00<?, ?it/s]"
      ]
     },
     "metadata": {},
     "output_type": "display_data"
    },
    {
     "data": {
      "application/vnd.jupyter.widget-view+json": {
       "model_id": "",
       "version_major": 2,
       "version_minor": 0
      },
      "text/plain": [
       "RandomForestRegressor (n_estimators):   0%|          | 0/50 [00:00<?, ?it/s]"
      ]
     },
     "metadata": {},
     "output_type": "display_data"
    },
    {
     "data": {
      "application/vnd.jupyter.widget-view+json": {
       "model_id": "",
       "version_major": 2,
       "version_minor": 0
      },
      "text/plain": [
       "RandomForestRegressor (n_estimators):   0%|          | 0/50 [00:00<?, ?it/s]"
      ]
     },
     "metadata": {},
     "output_type": "display_data"
    },
    {
     "data": {
      "application/vnd.jupyter.widget-view+json": {
       "model_id": "",
       "version_major": 2,
       "version_minor": 0
      },
      "text/plain": [
       "RandomForestRegressor (n_estimators):   0%|          | 0/50 [00:00<?, ?it/s]"
      ]
     },
     "metadata": {},
     "output_type": "display_data"
    },
    {
     "data": {
      "application/vnd.jupyter.widget-view+json": {
       "model_id": "",
       "version_major": 2,
       "version_minor": 0
      },
      "text/plain": [
       "RandomForestRegressor (n_estimators):   0%|          | 0/50 [00:00<?, ?it/s]"
      ]
     },
     "metadata": {},
     "output_type": "display_data"
    },
    {
     "data": {
      "application/vnd.jupyter.widget-view+json": {
       "model_id": "",
       "version_major": 2,
       "version_minor": 0
      },
      "text/plain": [
       "RandomForestRegressor (n_estimators):   0%|          | 0/50 [00:00<?, ?it/s]"
      ]
     },
     "metadata": {},
     "output_type": "display_data"
    },
    {
     "data": {
      "application/vnd.jupyter.widget-view+json": {
       "model_id": "",
       "version_major": 2,
       "version_minor": 0
      },
      "text/plain": [
       "RandomForestRegressor (n_estimators):   0%|          | 0/50 [00:00<?, ?it/s]"
      ]
     },
     "metadata": {},
     "output_type": "display_data"
    },
    {
     "data": {
      "application/vnd.jupyter.widget-view+json": {
       "model_id": "",
       "version_major": 2,
       "version_minor": 0
      },
      "text/plain": [
       "RandomForestRegressor (n_estimators):   0%|          | 0/50 [00:00<?, ?it/s]"
      ]
     },
     "metadata": {},
     "output_type": "display_data"
    },
    {
     "data": {
      "application/vnd.jupyter.widget-view+json": {
       "model_id": "",
       "version_major": 2,
       "version_minor": 0
      },
      "text/plain": [
       "RandomForestRegressor (n_estimators):   0%|          | 0/50 [00:00<?, ?it/s]"
      ]
     },
     "metadata": {},
     "output_type": "display_data"
    },
    {
     "data": {
      "application/vnd.jupyter.widget-view+json": {
       "model_id": "",
       "version_major": 2,
       "version_minor": 0
      },
      "text/plain": [
       "RandomForestRegressor (n_estimators):   0%|          | 0/50 [00:00<?, ?it/s]"
      ]
     },
     "metadata": {},
     "output_type": "display_data"
    },
    {
     "data": {
      "application/vnd.jupyter.widget-view+json": {
       "model_id": "",
       "version_major": 2,
       "version_minor": 0
      },
      "text/plain": [
       "RandomForestRegressor (n_estimators):   0%|          | 0/50 [00:00<?, ?it/s]"
      ]
     },
     "metadata": {},
     "output_type": "display_data"
    },
    {
     "data": {
      "application/vnd.jupyter.widget-view+json": {
       "model_id": "",
       "version_major": 2,
       "version_minor": 0
      },
      "text/plain": [
       "RandomForestRegressor (n_estimators):   0%|          | 0/50 [00:00<?, ?it/s]"
      ]
     },
     "metadata": {},
     "output_type": "display_data"
    },
    {
     "data": {
      "application/vnd.jupyter.widget-view+json": {
       "model_id": "",
       "version_major": 2,
       "version_minor": 0
      },
      "text/plain": [
       "RandomForestRegressor (n_estimators):   0%|          | 0/50 [00:00<?, ?it/s]"
      ]
     },
     "metadata": {},
     "output_type": "display_data"
    },
    {
     "data": {
      "application/vnd.jupyter.widget-view+json": {
       "model_id": "",
       "version_major": 2,
       "version_minor": 0
      },
      "text/plain": [
       "RandomForestRegressor (n_estimators):   0%|          | 0/50 [00:00<?, ?it/s]"
      ]
     },
     "metadata": {},
     "output_type": "display_data"
    },
    {
     "data": {
      "application/vnd.jupyter.widget-view+json": {
       "model_id": "",
       "version_major": 2,
       "version_minor": 0
      },
      "text/plain": [
       "RandomForestRegressor (n_estimators):   0%|          | 0/50 [00:00<?, ?it/s]"
      ]
     },
     "metadata": {},
     "output_type": "display_data"
    },
    {
     "data": {
      "application/vnd.jupyter.widget-view+json": {
       "model_id": "",
       "version_major": 2,
       "version_minor": 0
      },
      "text/plain": [
       "RandomForestRegressor (n_estimators):   0%|          | 0/50 [00:00<?, ?it/s]"
      ]
     },
     "metadata": {},
     "output_type": "display_data"
    },
    {
     "data": {
      "application/vnd.jupyter.widget-view+json": {
       "model_id": "",
       "version_major": 2,
       "version_minor": 0
      },
      "text/plain": [
       "RandomForestRegressor (n_estimators):   0%|          | 0/50 [00:00<?, ?it/s]"
      ]
     },
     "metadata": {},
     "output_type": "display_data"
    },
    {
     "data": {
      "application/vnd.jupyter.widget-view+json": {
       "model_id": "",
       "version_major": 2,
       "version_minor": 0
      },
      "text/plain": [
       "RandomForestRegressor (n_estimators):   0%|          | 0/50 [00:00<?, ?it/s]"
      ]
     },
     "metadata": {},
     "output_type": "display_data"
    },
    {
     "name": "stdout",
     "output_type": "stream",
     "text": [
      "Лучшая модель для rougher.output.recovery: RandomForestRegressor(n_estimators=50, max_depth=20)\n",
      "sMAPE: 0.7072128394694849\n"
     ]
    },
    {
     "data": {
      "application/vnd.jupyter.widget-view+json": {
       "model_id": "",
       "version_major": 2,
       "version_minor": 0
      },
      "text/plain": [
       "DecisionTreeRegressor (max_depth):   0%|          | 0/30 [00:00<?, ?it/s]"
      ]
     },
     "metadata": {},
     "output_type": "display_data"
    },
    {
     "data": {
      "application/vnd.jupyter.widget-view+json": {
       "model_id": "",
       "version_major": 2,
       "version_minor": 0
      },
      "text/plain": [
       "DecisionTreeRegressor (samples_leaf):   0%|          | 0/50 [00:00<?, ?it/s]"
      ]
     },
     "metadata": {},
     "output_type": "display_data"
    },
    {
     "data": {
      "application/vnd.jupyter.widget-view+json": {
       "model_id": "",
       "version_major": 2,
       "version_minor": 0
      },
      "text/plain": [
       "DecisionTreeRegressor (samples_leaf):   0%|          | 0/50 [00:00<?, ?it/s]"
      ]
     },
     "metadata": {},
     "output_type": "display_data"
    },
    {
     "data": {
      "application/vnd.jupyter.widget-view+json": {
       "model_id": "",
       "version_major": 2,
       "version_minor": 0
      },
      "text/plain": [
       "DecisionTreeRegressor (samples_leaf):   0%|          | 0/50 [00:00<?, ?it/s]"
      ]
     },
     "metadata": {},
     "output_type": "display_data"
    },
    {
     "data": {
      "application/vnd.jupyter.widget-view+json": {
       "model_id": "",
       "version_major": 2,
       "version_minor": 0
      },
      "text/plain": [
       "DecisionTreeRegressor (samples_leaf):   0%|          | 0/50 [00:00<?, ?it/s]"
      ]
     },
     "metadata": {},
     "output_type": "display_data"
    },
    {
     "data": {
      "application/vnd.jupyter.widget-view+json": {
       "model_id": "",
       "version_major": 2,
       "version_minor": 0
      },
      "text/plain": [
       "DecisionTreeRegressor (samples_leaf):   0%|          | 0/50 [00:00<?, ?it/s]"
      ]
     },
     "metadata": {},
     "output_type": "display_data"
    },
    {
     "data": {
      "application/vnd.jupyter.widget-view+json": {
       "model_id": "",
       "version_major": 2,
       "version_minor": 0
      },
      "text/plain": [
       "DecisionTreeRegressor (samples_leaf):   0%|          | 0/50 [00:00<?, ?it/s]"
      ]
     },
     "metadata": {},
     "output_type": "display_data"
    },
    {
     "data": {
      "application/vnd.jupyter.widget-view+json": {
       "model_id": "",
       "version_major": 2,
       "version_minor": 0
      },
      "text/plain": [
       "DecisionTreeRegressor (samples_leaf):   0%|          | 0/50 [00:00<?, ?it/s]"
      ]
     },
     "metadata": {},
     "output_type": "display_data"
    },
    {
     "data": {
      "application/vnd.jupyter.widget-view+json": {
       "model_id": "",
       "version_major": 2,
       "version_minor": 0
      },
      "text/plain": [
       "DecisionTreeRegressor (samples_leaf):   0%|          | 0/50 [00:00<?, ?it/s]"
      ]
     },
     "metadata": {},
     "output_type": "display_data"
    },
    {
     "data": {
      "application/vnd.jupyter.widget-view+json": {
       "model_id": "",
       "version_major": 2,
       "version_minor": 0
      },
      "text/plain": [
       "DecisionTreeRegressor (samples_leaf):   0%|          | 0/50 [00:00<?, ?it/s]"
      ]
     },
     "metadata": {},
     "output_type": "display_data"
    },
    {
     "data": {
      "application/vnd.jupyter.widget-view+json": {
       "model_id": "",
       "version_major": 2,
       "version_minor": 0
      },
      "text/plain": [
       "DecisionTreeRegressor (samples_leaf):   0%|          | 0/50 [00:00<?, ?it/s]"
      ]
     },
     "metadata": {},
     "output_type": "display_data"
    },
    {
     "data": {
      "application/vnd.jupyter.widget-view+json": {
       "model_id": "",
       "version_major": 2,
       "version_minor": 0
      },
      "text/plain": [
       "DecisionTreeRegressor (samples_leaf):   0%|          | 0/50 [00:00<?, ?it/s]"
      ]
     },
     "metadata": {},
     "output_type": "display_data"
    },
    {
     "data": {
      "application/vnd.jupyter.widget-view+json": {
       "model_id": "",
       "version_major": 2,
       "version_minor": 0
      },
      "text/plain": [
       "DecisionTreeRegressor (samples_leaf):   0%|          | 0/50 [00:00<?, ?it/s]"
      ]
     },
     "metadata": {},
     "output_type": "display_data"
    },
    {
     "data": {
      "application/vnd.jupyter.widget-view+json": {
       "model_id": "",
       "version_major": 2,
       "version_minor": 0
      },
      "text/plain": [
       "DecisionTreeRegressor (samples_leaf):   0%|          | 0/50 [00:00<?, ?it/s]"
      ]
     },
     "metadata": {},
     "output_type": "display_data"
    },
    {
     "data": {
      "application/vnd.jupyter.widget-view+json": {
       "model_id": "",
       "version_major": 2,
       "version_minor": 0
      },
      "text/plain": [
       "DecisionTreeRegressor (samples_leaf):   0%|          | 0/50 [00:00<?, ?it/s]"
      ]
     },
     "metadata": {},
     "output_type": "display_data"
    },
    {
     "data": {
      "application/vnd.jupyter.widget-view+json": {
       "model_id": "",
       "version_major": 2,
       "version_minor": 0
      },
      "text/plain": [
       "DecisionTreeRegressor (samples_leaf):   0%|          | 0/50 [00:00<?, ?it/s]"
      ]
     },
     "metadata": {},
     "output_type": "display_data"
    },
    {
     "data": {
      "application/vnd.jupyter.widget-view+json": {
       "model_id": "",
       "version_major": 2,
       "version_minor": 0
      },
      "text/plain": [
       "DecisionTreeRegressor (samples_leaf):   0%|          | 0/50 [00:00<?, ?it/s]"
      ]
     },
     "metadata": {},
     "output_type": "display_data"
    },
    {
     "data": {
      "application/vnd.jupyter.widget-view+json": {
       "model_id": "",
       "version_major": 2,
       "version_minor": 0
      },
      "text/plain": [
       "DecisionTreeRegressor (samples_leaf):   0%|          | 0/50 [00:00<?, ?it/s]"
      ]
     },
     "metadata": {},
     "output_type": "display_data"
    },
    {
     "data": {
      "application/vnd.jupyter.widget-view+json": {
       "model_id": "",
       "version_major": 2,
       "version_minor": 0
      },
      "text/plain": [
       "DecisionTreeRegressor (samples_leaf):   0%|          | 0/50 [00:00<?, ?it/s]"
      ]
     },
     "metadata": {},
     "output_type": "display_data"
    },
    {
     "data": {
      "application/vnd.jupyter.widget-view+json": {
       "model_id": "",
       "version_major": 2,
       "version_minor": 0
      },
      "text/plain": [
       "DecisionTreeRegressor (samples_leaf):   0%|          | 0/50 [00:00<?, ?it/s]"
      ]
     },
     "metadata": {},
     "output_type": "display_data"
    },
    {
     "data": {
      "application/vnd.jupyter.widget-view+json": {
       "model_id": "",
       "version_major": 2,
       "version_minor": 0
      },
      "text/plain": [
       "DecisionTreeRegressor (samples_leaf):   0%|          | 0/50 [00:00<?, ?it/s]"
      ]
     },
     "metadata": {},
     "output_type": "display_data"
    },
    {
     "data": {
      "application/vnd.jupyter.widget-view+json": {
       "model_id": "",
       "version_major": 2,
       "version_minor": 0
      },
      "text/plain": [
       "DecisionTreeRegressor (samples_leaf):   0%|          | 0/50 [00:00<?, ?it/s]"
      ]
     },
     "metadata": {},
     "output_type": "display_data"
    },
    {
     "data": {
      "application/vnd.jupyter.widget-view+json": {
       "model_id": "",
       "version_major": 2,
       "version_minor": 0
      },
      "text/plain": [
       "DecisionTreeRegressor (samples_leaf):   0%|          | 0/50 [00:00<?, ?it/s]"
      ]
     },
     "metadata": {},
     "output_type": "display_data"
    },
    {
     "data": {
      "application/vnd.jupyter.widget-view+json": {
       "model_id": "",
       "version_major": 2,
       "version_minor": 0
      },
      "text/plain": [
       "DecisionTreeRegressor (samples_leaf):   0%|          | 0/50 [00:00<?, ?it/s]"
      ]
     },
     "metadata": {},
     "output_type": "display_data"
    },
    {
     "data": {
      "application/vnd.jupyter.widget-view+json": {
       "model_id": "",
       "version_major": 2,
       "version_minor": 0
      },
      "text/plain": [
       "DecisionTreeRegressor (samples_leaf):   0%|          | 0/50 [00:00<?, ?it/s]"
      ]
     },
     "metadata": {},
     "output_type": "display_data"
    },
    {
     "data": {
      "application/vnd.jupyter.widget-view+json": {
       "model_id": "",
       "version_major": 2,
       "version_minor": 0
      },
      "text/plain": [
       "DecisionTreeRegressor (samples_leaf):   0%|          | 0/50 [00:00<?, ?it/s]"
      ]
     },
     "metadata": {},
     "output_type": "display_data"
    },
    {
     "data": {
      "application/vnd.jupyter.widget-view+json": {
       "model_id": "",
       "version_major": 2,
       "version_minor": 0
      },
      "text/plain": [
       "DecisionTreeRegressor (samples_leaf):   0%|          | 0/50 [00:00<?, ?it/s]"
      ]
     },
     "metadata": {},
     "output_type": "display_data"
    },
    {
     "data": {
      "application/vnd.jupyter.widget-view+json": {
       "model_id": "",
       "version_major": 2,
       "version_minor": 0
      },
      "text/plain": [
       "DecisionTreeRegressor (samples_leaf):   0%|          | 0/50 [00:00<?, ?it/s]"
      ]
     },
     "metadata": {},
     "output_type": "display_data"
    },
    {
     "data": {
      "application/vnd.jupyter.widget-view+json": {
       "model_id": "",
       "version_major": 2,
       "version_minor": 0
      },
      "text/plain": [
       "DecisionTreeRegressor (samples_leaf):   0%|          | 0/50 [00:00<?, ?it/s]"
      ]
     },
     "metadata": {},
     "output_type": "display_data"
    },
    {
     "data": {
      "application/vnd.jupyter.widget-view+json": {
       "model_id": "",
       "version_major": 2,
       "version_minor": 0
      },
      "text/plain": [
       "DecisionTreeRegressor (samples_leaf):   0%|          | 0/50 [00:00<?, ?it/s]"
      ]
     },
     "metadata": {},
     "output_type": "display_data"
    },
    {
     "data": {
      "application/vnd.jupyter.widget-view+json": {
       "model_id": "",
       "version_major": 2,
       "version_minor": 0
      },
      "text/plain": [
       "DecisionTreeRegressor (samples_leaf):   0%|          | 0/50 [00:00<?, ?it/s]"
      ]
     },
     "metadata": {},
     "output_type": "display_data"
    },
    {
     "data": {
      "application/vnd.jupyter.widget-view+json": {
       "model_id": "",
       "version_major": 2,
       "version_minor": 0
      },
      "text/plain": [
       "RandomForestRegressor (max_depth):   0%|          | 0/20 [00:00<?, ?it/s]"
      ]
     },
     "metadata": {},
     "output_type": "display_data"
    },
    {
     "data": {
      "application/vnd.jupyter.widget-view+json": {
       "model_id": "",
       "version_major": 2,
       "version_minor": 0
      },
      "text/plain": [
       "RandomForestRegressor (n_estimators):   0%|          | 0/50 [00:00<?, ?it/s]"
      ]
     },
     "metadata": {},
     "output_type": "display_data"
    },
    {
     "data": {
      "application/vnd.jupyter.widget-view+json": {
       "model_id": "",
       "version_major": 2,
       "version_minor": 0
      },
      "text/plain": [
       "RandomForestRegressor (n_estimators):   0%|          | 0/50 [00:00<?, ?it/s]"
      ]
     },
     "metadata": {},
     "output_type": "display_data"
    },
    {
     "data": {
      "application/vnd.jupyter.widget-view+json": {
       "model_id": "",
       "version_major": 2,
       "version_minor": 0
      },
      "text/plain": [
       "RandomForestRegressor (n_estimators):   0%|          | 0/50 [00:00<?, ?it/s]"
      ]
     },
     "metadata": {},
     "output_type": "display_data"
    },
    {
     "data": {
      "application/vnd.jupyter.widget-view+json": {
       "model_id": "",
       "version_major": 2,
       "version_minor": 0
      },
      "text/plain": [
       "RandomForestRegressor (n_estimators):   0%|          | 0/50 [00:00<?, ?it/s]"
      ]
     },
     "metadata": {},
     "output_type": "display_data"
    },
    {
     "data": {
      "application/vnd.jupyter.widget-view+json": {
       "model_id": "",
       "version_major": 2,
       "version_minor": 0
      },
      "text/plain": [
       "RandomForestRegressor (n_estimators):   0%|          | 0/50 [00:00<?, ?it/s]"
      ]
     },
     "metadata": {},
     "output_type": "display_data"
    },
    {
     "data": {
      "application/vnd.jupyter.widget-view+json": {
       "model_id": "",
       "version_major": 2,
       "version_minor": 0
      },
      "text/plain": [
       "RandomForestRegressor (n_estimators):   0%|          | 0/50 [00:00<?, ?it/s]"
      ]
     },
     "metadata": {},
     "output_type": "display_data"
    },
    {
     "data": {
      "application/vnd.jupyter.widget-view+json": {
       "model_id": "",
       "version_major": 2,
       "version_minor": 0
      },
      "text/plain": [
       "RandomForestRegressor (n_estimators):   0%|          | 0/50 [00:00<?, ?it/s]"
      ]
     },
     "metadata": {},
     "output_type": "display_data"
    },
    {
     "data": {
      "application/vnd.jupyter.widget-view+json": {
       "model_id": "",
       "version_major": 2,
       "version_minor": 0
      },
      "text/plain": [
       "RandomForestRegressor (n_estimators):   0%|          | 0/50 [00:00<?, ?it/s]"
      ]
     },
     "metadata": {},
     "output_type": "display_data"
    },
    {
     "data": {
      "application/vnd.jupyter.widget-view+json": {
       "model_id": "",
       "version_major": 2,
       "version_minor": 0
      },
      "text/plain": [
       "RandomForestRegressor (n_estimators):   0%|          | 0/50 [00:00<?, ?it/s]"
      ]
     },
     "metadata": {},
     "output_type": "display_data"
    },
    {
     "data": {
      "application/vnd.jupyter.widget-view+json": {
       "model_id": "",
       "version_major": 2,
       "version_minor": 0
      },
      "text/plain": [
       "RandomForestRegressor (n_estimators):   0%|          | 0/50 [00:00<?, ?it/s]"
      ]
     },
     "metadata": {},
     "output_type": "display_data"
    },
    {
     "data": {
      "application/vnd.jupyter.widget-view+json": {
       "model_id": "",
       "version_major": 2,
       "version_minor": 0
      },
      "text/plain": [
       "RandomForestRegressor (n_estimators):   0%|          | 0/50 [00:00<?, ?it/s]"
      ]
     },
     "metadata": {},
     "output_type": "display_data"
    },
    {
     "data": {
      "application/vnd.jupyter.widget-view+json": {
       "model_id": "",
       "version_major": 2,
       "version_minor": 0
      },
      "text/plain": [
       "RandomForestRegressor (n_estimators):   0%|          | 0/50 [00:00<?, ?it/s]"
      ]
     },
     "metadata": {},
     "output_type": "display_data"
    },
    {
     "data": {
      "application/vnd.jupyter.widget-view+json": {
       "model_id": "",
       "version_major": 2,
       "version_minor": 0
      },
      "text/plain": [
       "RandomForestRegressor (n_estimators):   0%|          | 0/50 [00:00<?, ?it/s]"
      ]
     },
     "metadata": {},
     "output_type": "display_data"
    },
    {
     "data": {
      "application/vnd.jupyter.widget-view+json": {
       "model_id": "",
       "version_major": 2,
       "version_minor": 0
      },
      "text/plain": [
       "RandomForestRegressor (n_estimators):   0%|          | 0/50 [00:00<?, ?it/s]"
      ]
     },
     "metadata": {},
     "output_type": "display_data"
    },
    {
     "data": {
      "application/vnd.jupyter.widget-view+json": {
       "model_id": "",
       "version_major": 2,
       "version_minor": 0
      },
      "text/plain": [
       "RandomForestRegressor (n_estimators):   0%|          | 0/50 [00:00<?, ?it/s]"
      ]
     },
     "metadata": {},
     "output_type": "display_data"
    },
    {
     "data": {
      "application/vnd.jupyter.widget-view+json": {
       "model_id": "",
       "version_major": 2,
       "version_minor": 0
      },
      "text/plain": [
       "RandomForestRegressor (n_estimators):   0%|          | 0/50 [00:00<?, ?it/s]"
      ]
     },
     "metadata": {},
     "output_type": "display_data"
    },
    {
     "data": {
      "application/vnd.jupyter.widget-view+json": {
       "model_id": "",
       "version_major": 2,
       "version_minor": 0
      },
      "text/plain": [
       "RandomForestRegressor (n_estimators):   0%|          | 0/50 [00:00<?, ?it/s]"
      ]
     },
     "metadata": {},
     "output_type": "display_data"
    },
    {
     "data": {
      "application/vnd.jupyter.widget-view+json": {
       "model_id": "",
       "version_major": 2,
       "version_minor": 0
      },
      "text/plain": [
       "RandomForestRegressor (n_estimators):   0%|          | 0/50 [00:00<?, ?it/s]"
      ]
     },
     "metadata": {},
     "output_type": "display_data"
    },
    {
     "data": {
      "application/vnd.jupyter.widget-view+json": {
       "model_id": "",
       "version_major": 2,
       "version_minor": 0
      },
      "text/plain": [
       "RandomForestRegressor (n_estimators):   0%|          | 0/50 [00:00<?, ?it/s]"
      ]
     },
     "metadata": {},
     "output_type": "display_data"
    },
    {
     "data": {
      "application/vnd.jupyter.widget-view+json": {
       "model_id": "",
       "version_major": 2,
       "version_minor": 0
      },
      "text/plain": [
       "RandomForestRegressor (n_estimators):   0%|          | 0/50 [00:00<?, ?it/s]"
      ]
     },
     "metadata": {},
     "output_type": "display_data"
    },
    {
     "name": "stdout",
     "output_type": "stream",
     "text": [
      "Лучшая модель для final.output.recovery: RandomForestRegressor(n_estimators=49, max_depth=20)\n",
      "sMAPE: 0.8045551791524407\n"
     ]
    }
   ],
   "source": [
    "# Создаю свою метрику\n",
    "sMAPE_scorer = make_scorer(sMAPE)\n",
    "# Переменные для хранения параметров наилучшей модели\n",
    "best_score = {}\n",
    "best_model = {}\n",
    "best_model_title = {}\n",
    "# Цикл для перебора обоих целевых признаков\n",
    "for column_name in ['rougher.output.recovery', 'final.output.recovery']:\n",
    "    # Начинаю с оценки линейной регрессии, так как она не требует перебора гиперпараметров\n",
    "    model = LinearRegression()\n",
    "    # Оцениваю модели с помощью среднего значения кросс-валидации. Делю выборку на 5 частей.\n",
    "    # Сохраняю оценку, как лучшую, так как это первая модель\n",
    "    best_score[column_name] = cross_val_score(\n",
    "        model, features_train, target_train[column_name], cv=5, scoring=sMAPE_scorer\n",
    "    ).mean()\n",
    "    best_model[column_name] = model\n",
    "    best_model_title[column_name] = 'LinearRegression'\n",
    "    # Дерево решений\n",
    "    best_depth = 0\n",
    "    best_samples_leaf = 0\n",
    "    best_decision_tree = 100\n",
    "    local_features_train, local_features_valid, local_target_train, local_target_valid = train_test_split(\n",
    "        features_train, target_train[column_name], test_size=0.2, random_state=1\n",
    "    )\n",
    "    # Цикл для перебора гиперпараметров модели дерева решений\n",
    "    for depth in tqdm(range(1, 31), desc='DecisionTreeRegressor (max_depth)', position=0, leave=False):\n",
    "        for samples_leaf in tqdm(range(1, 51), desc='DecisionTreeRegressor (samples_leaf)', position=1, leave=False):\n",
    "            model = DecisionTreeRegressor(min_samples_leaf=samples_leaf, max_depth=depth, random_state=1)\n",
    "            model.fit(local_features_train, local_target_train)\n",
    "            score = sMAPE(local_target_valid, model.predict(local_features_valid))\n",
    "            if best_decision_tree > score:\n",
    "                best_samples_leaf = samples_leaf\n",
    "                best_depth = depth\n",
    "                best_decision_tree = score\n",
    "    # После сравнения моделей дерева решений между собой лучшая сравнивается с остальными\n",
    "    model = DecisionTreeRegressor(min_samples_leaf=best_samples_leaf, max_depth=best_depth, random_state=1)\n",
    "    score = cross_val_score(\n",
    "        model, features_train, target_train[column_name], cv=5, scoring=sMAPE_scorer\n",
    "    ).mean()\n",
    "    if best_score[column_name] > score:\n",
    "        best_model[column_name] = model\n",
    "        best_model_title[column_name] = f'DecisionTreeRegressor(min_samples_leaf={best_samples_leaf}, max_depth={depth})'\n",
    "        best_score[column_name] = score\n",
    "    # Случайный лес\n",
    "    best_depth = 0\n",
    "    best_est = 0\n",
    "    best_random_forest = 100\n",
    "    # Цикл для перебора гиперпараметров модели случайного леса\n",
    "    for depth in tqdm(range(1, 21), desc='RandomForestRegressor (max_depth)', position=0, leave=False):\n",
    "        for est in tqdm(range(1, 51), desc='RandomForestRegressor (n_estimators)', position=1, leave=False):\n",
    "            model = RandomForestRegressor(n_estimators=est, max_depth=depth, random_state=1)\n",
    "            model.fit(local_features_train, local_target_train)\n",
    "            score = sMAPE(local_target_valid, model.predict(local_features_valid))\n",
    "            if best_random_forest > score:\n",
    "                best_est = est\n",
    "                best_depth = depth\n",
    "                best_random_forest = score\n",
    "    # После сравнения моделей случайного леса между собой лучшая сравнивается с остальными\n",
    "    model = RandomForestRegressor(n_estimators=best_est, max_depth=best_depth, random_state=1)\n",
    "    score = cross_val_score(\n",
    "        model, features_train, target_train[column_name], cv=5, scoring=sMAPE_scorer\n",
    "    ).mean()\n",
    "    if best_score[column_name] > score:\n",
    "        best_model[column_name] = model\n",
    "        best_model_title[column_name] = f'RandomForestRegressor(n_estimators={best_est}, max_depth={depth})'\n",
    "        best_score[column_name] = score\n",
    "    \n",
    "    # Вывод лучшей модели и её параметров для целевого признака\n",
    "    print(f'Лучшая модель для {column_name}: {best_model_title[column_name]}')\n",
    "    print(f'sMAPE: {best_score[column_name]}')"
   ]
  },
  {
   "cell_type": "markdown",
   "metadata": {},
   "source": [
    "Перед тем, как узнать результат метрики на тестовой выборке, посмотрю, что выдаст Dummy модель, чтобы сравнение было более явным"
   ]
  },
  {
   "cell_type": "code",
   "execution_count": 30,
   "metadata": {},
   "outputs": [
    {
     "name": "stdout",
     "output_type": "stream",
     "text": [
      "DummyRegressor(strategy=mean) sMAPE:7.417961191573438\n",
      "DummyRegressor(strategy=median) sMAPE:7.152603082550686\n"
     ]
    }
   ],
   "source": [
    "for strategy in ['mean', 'median']:\n",
    "    dummy_model = DummyRegressor(strategy=strategy)\n",
    "    dummy_model.fit(features_train, target_train)\n",
    "    predict = dummy_model.predict(features_test)\n",
    "    print(f'DummyRegressor(strategy={strategy}) sMAPE: ', end='')\n",
    "    print(final_sMAPE(\n",
    "        target_test['rougher.output.recovery'],\n",
    "        predict[:, 0],\n",
    "        target_test['final.output.recovery'],\n",
    "        predict[:, 1]\n",
    "    ))"
   ]
  },
  {
   "cell_type": "markdown",
   "metadata": {},
   "source": [
    "Лучшая оценка примитивной модели - `7.15%`.\n",
    "\n",
    "Проверяю лучшие модели на тестовой выборке"
   ]
  },
  {
   "cell_type": "code",
   "execution_count": 31,
   "metadata": {},
   "outputs": [
    {
     "data": {
      "text/plain": [
       "0.9694418091423447"
      ]
     },
     "execution_count": 31,
     "metadata": {},
     "output_type": "execute_result"
    }
   ],
   "source": [
    "# Обучаю лучшую модель\n",
    "best_model['rougher.output.recovery'].fit(features_train, target_train['rougher.output.recovery'])\n",
    "best_model['final.output.recovery'].fit(features_train, target_train['final.output.recovery'])\n",
    "# Вывожу финальную оценку модели\n",
    "final_sMAPE(\n",
    "    target_test['rougher.output.recovery'],\n",
    "    best_model['rougher.output.recovery'].predict(features_test),\n",
    "    target_test['final.output.recovery'],\n",
    "    best_model['final.output.recovery'].predict(features_test)\n",
    ")"
   ]
  },
  {
   "cell_type": "markdown",
   "metadata": {},
   "source": [
    "Оценка модели на тестовых данных - `0.97%`. Такая оценка в 7 раз лучше примитивной модели. Модель обучена.\n",
    "\n",
    "**Вывод раздела.** В данном разделе были написаны функции для вычисления sMAPE, созданы метрики, с применением кросс-валидации и перебором гиперпараметров была найдена лучшая модель и обучена на тренировачных  данных. Обученная модель проверена на тестовых данных и её оценка составляет `0.97%`.\n",
    "\n",
    "**Вывод.** В данной работе были взяты данные из золотодобывающей отрасли. Целью было создать модель, которая должна предсказать коэффициент восстановления золота из золотосодержащей руды. В ходе работы были выполнены следующие задачи:\n",
    "+ изучены представленные данные;\n",
    "+ проверены рассчёты эффективности обогащения;\n",
    "+ проверена разница в признаках тренировачной и тестовой выборках;\n",
    "+ предобработаны данные;\n",
    "+ изучено изменение концентрации металлов на разных этапах очистки;\n",
    "+ проведено сравнение распределения размеров сырья на разных этапах очистки;\n",
    "+ исследована суммарная концентрация всех веществ на разных стадиях очистки;\n",
    "+ написаны функции для вычисления sMAPE и итогового sMAPE;\n",
    "+ выделены признаки и целевой признак;\n",
    "+ найдены лучшие модели для целевых признаков;\n",
    "+ лучшие модели обучены;\n",
    "+ лучшие модели проверены итоговой метрикой на тестовой выборке.\n",
    "\n",
    "Главная цель проекта была выполнена. Модель поможет оптимизировать производство, чтобы не запускать предприятие с убыточными характеристиками."
   ]
  }
 ],
 "metadata": {
  "ExecuteTimeLog": [
   {
    "duration": 332,
    "start_time": "2023-04-16T00:13:03.429Z"
   },
   {
    "duration": 2922,
    "start_time": "2023-04-16T00:17:26.663Z"
   },
   {
    "duration": 24,
    "start_time": "2023-04-16T00:18:02.683Z"
   },
   {
    "duration": 17,
    "start_time": "2023-04-16T00:18:20.492Z"
   },
   {
    "duration": 16,
    "start_time": "2023-04-16T00:18:33.876Z"
   },
   {
    "duration": 144,
    "start_time": "2023-04-16T00:20:46.280Z"
   },
   {
    "duration": 677,
    "start_time": "2023-04-16T00:20:55.871Z"
   },
   {
    "duration": 59,
    "start_time": "2023-04-16T00:21:47.984Z"
   },
   {
    "duration": 3,
    "start_time": "2023-04-16T00:21:57.193Z"
   },
   {
    "duration": 3,
    "start_time": "2023-04-16T00:22:13.003Z"
   },
   {
    "duration": 36,
    "start_time": "2023-04-16T00:23:20.880Z"
   },
   {
    "duration": 8,
    "start_time": "2023-04-16T00:23:46.516Z"
   },
   {
    "duration": 45,
    "start_time": "2023-04-17T06:54:37.532Z"
   },
   {
    "duration": 363,
    "start_time": "2023-04-17T06:54:42.964Z"
   },
   {
    "duration": 1744,
    "start_time": "2023-04-17T06:54:45.624Z"
   },
   {
    "duration": 8,
    "start_time": "2023-04-17T06:54:48.825Z"
   },
   {
    "duration": 5,
    "start_time": "2023-04-17T07:08:32.656Z"
   },
   {
    "duration": 25,
    "start_time": "2023-04-17T07:10:01.219Z"
   },
   {
    "duration": 6,
    "start_time": "2023-04-17T07:10:12.052Z"
   },
   {
    "duration": 15,
    "start_time": "2023-04-17T07:10:44.978Z"
   },
   {
    "duration": 237,
    "start_time": "2023-04-17T07:11:24.513Z"
   },
   {
    "duration": 7,
    "start_time": "2023-04-17T07:13:01.919Z"
   },
   {
    "duration": 613,
    "start_time": "2023-04-17T07:13:06.953Z"
   },
   {
    "duration": 236,
    "start_time": "2023-04-17T07:13:10.156Z"
   },
   {
    "duration": 6,
    "start_time": "2023-04-17T07:20:58.964Z"
   },
   {
    "duration": 69,
    "start_time": "2023-04-17T07:21:12.610Z"
   },
   {
    "duration": 5,
    "start_time": "2023-04-17T07:21:32.012Z"
   },
   {
    "duration": 53,
    "start_time": "2023-04-17T15:47:42.618Z"
   },
   {
    "duration": 1170,
    "start_time": "2023-04-17T15:47:47.588Z"
   },
   {
    "duration": 3619,
    "start_time": "2023-04-17T15:47:48.759Z"
   },
   {
    "duration": 14,
    "start_time": "2023-04-17T15:47:57.994Z"
   },
   {
    "duration": 4,
    "start_time": "2023-04-17T15:48:00.345Z"
   },
   {
    "duration": 62,
    "start_time": "2023-04-17T15:48:41.811Z"
   },
   {
    "duration": 9,
    "start_time": "2023-04-17T15:48:55.882Z"
   },
   {
    "duration": 4,
    "start_time": "2023-04-17T15:49:14.679Z"
   },
   {
    "duration": 5,
    "start_time": "2023-04-17T15:49:34.495Z"
   },
   {
    "duration": 5,
    "start_time": "2023-04-17T15:49:57.418Z"
   },
   {
    "duration": 27,
    "start_time": "2023-04-17T15:50:39.508Z"
   },
   {
    "duration": 20,
    "start_time": "2023-04-17T15:50:57.033Z"
   },
   {
    "duration": 7,
    "start_time": "2023-04-17T15:51:05.099Z"
   },
   {
    "duration": 6,
    "start_time": "2023-04-17T15:51:31.196Z"
   },
   {
    "duration": 4,
    "start_time": "2023-04-17T15:51:46.843Z"
   },
   {
    "duration": 5,
    "start_time": "2023-04-17T15:52:02.455Z"
   },
   {
    "duration": 8,
    "start_time": "2023-04-17T15:52:12.540Z"
   },
   {
    "duration": 33,
    "start_time": "2023-04-17T15:52:56.415Z"
   },
   {
    "duration": 14,
    "start_time": "2023-04-17T15:53:18.180Z"
   },
   {
    "duration": 17,
    "start_time": "2023-04-17T15:54:55.180Z"
   },
   {
    "duration": 22,
    "start_time": "2023-04-17T15:55:32.705Z"
   },
   {
    "duration": 4,
    "start_time": "2023-04-17T16:01:39.516Z"
   },
   {
    "duration": 150,
    "start_time": "2023-04-17T16:02:50.112Z"
   },
   {
    "duration": 5,
    "start_time": "2023-04-17T16:03:16.889Z"
   },
   {
    "duration": 16,
    "start_time": "2023-04-17T16:03:45.182Z"
   },
   {
    "duration": 24,
    "start_time": "2023-04-17T16:03:56.621Z"
   },
   {
    "duration": 148,
    "start_time": "2023-04-17T16:04:15.584Z"
   },
   {
    "duration": 5,
    "start_time": "2023-04-17T16:04:38.878Z"
   },
   {
    "duration": 154,
    "start_time": "2023-04-17T16:06:03.998Z"
   },
   {
    "duration": 23,
    "start_time": "2023-04-17T16:06:16.984Z"
   },
   {
    "duration": 128,
    "start_time": "2023-04-17T16:13:45.333Z"
   },
   {
    "duration": 20,
    "start_time": "2023-04-17T16:13:46.993Z"
   },
   {
    "duration": 98,
    "start_time": "2023-04-17T16:14:04.570Z"
   },
   {
    "duration": 25,
    "start_time": "2023-04-17T16:14:06.379Z"
   },
   {
    "duration": 8,
    "start_time": "2023-04-17T16:15:01.374Z"
   },
   {
    "duration": 5,
    "start_time": "2023-04-17T16:15:10.865Z"
   },
   {
    "duration": 4,
    "start_time": "2023-04-17T16:15:25.332Z"
   },
   {
    "duration": 8,
    "start_time": "2023-04-17T16:22:25.166Z"
   },
   {
    "duration": 4,
    "start_time": "2023-04-17T16:22:36.806Z"
   },
   {
    "duration": 547,
    "start_time": "2023-04-17T16:26:33.413Z"
   },
   {
    "duration": 331,
    "start_time": "2023-04-17T16:30:30.145Z"
   },
   {
    "duration": 461,
    "start_time": "2023-04-17T16:30:59.743Z"
   },
   {
    "duration": 498,
    "start_time": "2023-04-17T16:31:04.767Z"
   },
   {
    "duration": 127,
    "start_time": "2023-04-17T16:31:47.036Z"
   },
   {
    "duration": 575,
    "start_time": "2023-04-17T16:31:51.013Z"
   },
   {
    "duration": 657,
    "start_time": "2023-04-17T16:34:02.703Z"
   },
   {
    "duration": 10,
    "start_time": "2023-04-17T16:38:19.225Z"
   },
   {
    "duration": 357,
    "start_time": "2023-04-17T16:38:42.413Z"
   },
   {
    "duration": 462,
    "start_time": "2023-04-17T16:40:01.312Z"
   },
   {
    "duration": 390,
    "start_time": "2023-04-17T16:40:09.324Z"
   },
   {
    "duration": 384,
    "start_time": "2023-04-17T16:41:18.339Z"
   },
   {
    "duration": 390,
    "start_time": "2023-04-17T16:41:27.615Z"
   },
   {
    "duration": 471,
    "start_time": "2023-04-17T16:41:37.307Z"
   },
   {
    "duration": 114,
    "start_time": "2023-04-17T16:43:01.126Z"
   },
   {
    "duration": 394,
    "start_time": "2023-04-17T16:43:06.401Z"
   },
   {
    "duration": 432,
    "start_time": "2023-04-17T16:43:18.434Z"
   },
   {
    "duration": 616,
    "start_time": "2023-04-17T16:43:39.201Z"
   },
   {
    "duration": 436,
    "start_time": "2023-04-17T16:43:45.686Z"
   },
   {
    "duration": 427,
    "start_time": "2023-04-17T16:43:53.218Z"
   },
   {
    "duration": 496,
    "start_time": "2023-04-17T16:44:00.581Z"
   },
   {
    "duration": 543,
    "start_time": "2023-04-17T16:44:16.514Z"
   },
   {
    "duration": 456,
    "start_time": "2023-04-17T16:45:49.911Z"
   },
   {
    "duration": 691,
    "start_time": "2023-04-17T16:46:49.503Z"
   },
   {
    "duration": 415,
    "start_time": "2023-04-17T16:47:05.932Z"
   },
   {
    "duration": 609,
    "start_time": "2023-04-17T16:47:37.309Z"
   },
   {
    "duration": 461,
    "start_time": "2023-04-17T16:47:55.301Z"
   },
   {
    "duration": 424,
    "start_time": "2023-04-17T16:48:30.129Z"
   },
   {
    "duration": 105,
    "start_time": "2023-04-17T16:48:46.193Z"
   },
   {
    "duration": 214,
    "start_time": "2023-04-17T16:48:52.101Z"
   },
   {
    "duration": 786,
    "start_time": "2023-04-17T16:49:00.021Z"
   },
   {
    "duration": 457,
    "start_time": "2023-04-17T16:49:18.819Z"
   },
   {
    "duration": 521,
    "start_time": "2023-04-17T16:50:29.907Z"
   },
   {
    "duration": 685,
    "start_time": "2023-04-17T16:56:32.978Z"
   },
   {
    "duration": 496,
    "start_time": "2023-04-17T16:56:39.399Z"
   },
   {
    "duration": 469,
    "start_time": "2023-04-17T16:57:30.692Z"
   },
   {
    "duration": 568,
    "start_time": "2023-04-17T16:57:38.781Z"
   },
   {
    "duration": 478,
    "start_time": "2023-04-17T16:57:49.699Z"
   },
   {
    "duration": 459,
    "start_time": "2023-04-17T16:58:21.602Z"
   },
   {
    "duration": 421,
    "start_time": "2023-04-17T16:58:28.401Z"
   },
   {
    "duration": 566,
    "start_time": "2023-04-17T16:58:35.281Z"
   },
   {
    "duration": 419,
    "start_time": "2023-04-17T16:58:43.351Z"
   },
   {
    "duration": 11,
    "start_time": "2023-04-17T16:59:01.143Z"
   },
   {
    "duration": 470,
    "start_time": "2023-04-17T16:59:35.802Z"
   },
   {
    "duration": 482,
    "start_time": "2023-04-17T16:59:40.213Z"
   },
   {
    "duration": 8,
    "start_time": "2023-04-17T17:00:23.505Z"
   },
   {
    "duration": 18,
    "start_time": "2023-04-17T17:00:48.877Z"
   },
   {
    "duration": 692,
    "start_time": "2023-04-17T17:01:33.543Z"
   },
   {
    "duration": 483,
    "start_time": "2023-04-17T17:01:57.602Z"
   },
   {
    "duration": 523,
    "start_time": "2023-04-17T17:02:09.580Z"
   },
   {
    "duration": 307,
    "start_time": "2023-04-17T17:03:08.503Z"
   },
   {
    "duration": 561,
    "start_time": "2023-04-17T17:03:21.701Z"
   },
   {
    "duration": 519,
    "start_time": "2023-04-17T17:03:38.669Z"
   },
   {
    "duration": 453,
    "start_time": "2023-04-17T17:04:03.090Z"
   },
   {
    "duration": 115,
    "start_time": "2023-04-17T17:05:40.412Z"
   },
   {
    "duration": 992,
    "start_time": "2023-04-17T17:05:56.564Z"
   },
   {
    "duration": 784,
    "start_time": "2023-04-17T17:06:05.452Z"
   },
   {
    "duration": 790,
    "start_time": "2023-04-17T17:06:13.115Z"
   },
   {
    "duration": 124,
    "start_time": "2023-04-17T17:06:45.408Z"
   },
   {
    "duration": 488,
    "start_time": "2023-04-17T17:08:19.715Z"
   },
   {
    "duration": 671,
    "start_time": "2023-04-17T17:08:29.601Z"
   },
   {
    "duration": 498,
    "start_time": "2023-04-17T17:08:39.849Z"
   },
   {
    "duration": 406,
    "start_time": "2023-04-17T17:09:03.043Z"
   },
   {
    "duration": 221,
    "start_time": "2023-04-17T17:11:24.114Z"
   },
   {
    "duration": 250,
    "start_time": "2023-04-17T17:11:33.096Z"
   },
   {
    "duration": 263,
    "start_time": "2023-04-17T17:11:43.295Z"
   },
   {
    "duration": 395,
    "start_time": "2023-04-17T17:13:52.945Z"
   },
   {
    "duration": 444,
    "start_time": "2023-04-17T17:14:06.997Z"
   },
   {
    "duration": 438,
    "start_time": "2023-04-17T17:14:30.894Z"
   },
   {
    "duration": 1116,
    "start_time": "2023-04-17T17:16:02.312Z"
   },
   {
    "duration": 1012,
    "start_time": "2023-04-17T17:16:22.704Z"
   },
   {
    "duration": 791,
    "start_time": "2023-04-17T17:17:00.518Z"
   },
   {
    "duration": 1097,
    "start_time": "2023-04-17T17:17:35.712Z"
   },
   {
    "duration": 1130,
    "start_time": "2023-04-17T17:17:52.210Z"
   },
   {
    "duration": 1231,
    "start_time": "2023-04-17T17:18:17.543Z"
   },
   {
    "duration": 980,
    "start_time": "2023-04-17T17:44:15.562Z"
   },
   {
    "duration": 382,
    "start_time": "2023-04-17T17:44:31.193Z"
   },
   {
    "duration": 524,
    "start_time": "2023-04-17T17:45:11.615Z"
   },
   {
    "duration": 475,
    "start_time": "2023-04-17T17:45:28.748Z"
   },
   {
    "duration": 467,
    "start_time": "2023-04-17T17:46:23.426Z"
   },
   {
    "duration": 531,
    "start_time": "2023-04-17T17:46:38.204Z"
   },
   {
    "duration": 57,
    "start_time": "2023-04-17T21:11:57.326Z"
   },
   {
    "duration": 1557,
    "start_time": "2023-04-17T21:12:04.612Z"
   },
   {
    "duration": 1943,
    "start_time": "2023-04-17T21:12:06.174Z"
   },
   {
    "duration": 3,
    "start_time": "2023-04-17T21:12:08.119Z"
   },
   {
    "duration": 246,
    "start_time": "2023-04-17T21:12:08.123Z"
   },
   {
    "duration": 6,
    "start_time": "2023-04-17T21:12:08.372Z"
   },
   {
    "duration": 8,
    "start_time": "2023-04-17T21:12:08.380Z"
   },
   {
    "duration": 119,
    "start_time": "2023-04-17T21:12:08.389Z"
   },
   {
    "duration": 14,
    "start_time": "2023-04-17T21:12:08.510Z"
   },
   {
    "duration": 144,
    "start_time": "2023-04-17T21:12:08.526Z"
   },
   {
    "duration": 5,
    "start_time": "2023-04-17T21:12:08.672Z"
   },
   {
    "duration": 166,
    "start_time": "2023-04-17T21:12:08.679Z"
   },
   {
    "duration": 44,
    "start_time": "2023-04-17T21:12:08.847Z"
   },
   {
    "duration": 1174,
    "start_time": "2023-04-17T21:12:08.894Z"
   },
   {
    "duration": 594,
    "start_time": "2023-04-17T21:12:10.072Z"
   },
   {
    "duration": 577,
    "start_time": "2023-04-17T21:12:10.668Z"
   },
   {
    "duration": 43,
    "start_time": "2023-04-17T21:13:07.173Z"
   },
   {
    "duration": 5,
    "start_time": "2023-04-17T21:13:13.345Z"
   },
   {
    "duration": 4,
    "start_time": "2023-04-17T21:13:23.582Z"
   },
   {
    "duration": 35,
    "start_time": "2023-04-17T21:14:14.836Z"
   },
   {
    "duration": 37,
    "start_time": "2023-04-17T21:14:37.544Z"
   },
   {
    "duration": 9,
    "start_time": "2023-04-17T21:18:57.909Z"
   },
   {
    "duration": 45,
    "start_time": "2023-04-17T21:19:55.072Z"
   },
   {
    "duration": 88,
    "start_time": "2023-04-17T21:20:32.742Z"
   },
   {
    "duration": 11,
    "start_time": "2023-04-17T21:20:59.573Z"
   },
   {
    "duration": 44,
    "start_time": "2023-04-17T21:21:25.100Z"
   },
   {
    "duration": 73,
    "start_time": "2023-04-17T21:21:33.273Z"
   },
   {
    "duration": 11,
    "start_time": "2023-04-17T21:23:59.172Z"
   },
   {
    "duration": 103,
    "start_time": "2023-04-17T22:08:52.936Z"
   },
   {
    "duration": 4,
    "start_time": "2023-04-17T22:09:09.399Z"
   },
   {
    "duration": 103,
    "start_time": "2023-04-17T22:09:42.907Z"
   },
   {
    "duration": 9,
    "start_time": "2023-04-17T22:09:49.550Z"
   },
   {
    "duration": 91,
    "start_time": "2023-04-17T22:10:06.081Z"
   },
   {
    "duration": 60,
    "start_time": "2023-04-17T22:10:22.470Z"
   },
   {
    "duration": 35,
    "start_time": "2023-04-17T22:11:17.516Z"
   },
   {
    "duration": 1354,
    "start_time": "2023-04-17T22:11:59.778Z"
   },
   {
    "duration": 768,
    "start_time": "2023-04-17T22:12:01.134Z"
   },
   {
    "duration": 3,
    "start_time": "2023-04-17T22:12:01.904Z"
   },
   {
    "duration": 270,
    "start_time": "2023-04-17T22:12:01.910Z"
   },
   {
    "duration": 4,
    "start_time": "2023-04-17T22:12:02.183Z"
   },
   {
    "duration": 24,
    "start_time": "2023-04-17T22:12:02.189Z"
   },
   {
    "duration": 114,
    "start_time": "2023-04-17T22:12:02.214Z"
   },
   {
    "duration": 15,
    "start_time": "2023-04-17T22:12:02.330Z"
   },
   {
    "duration": 151,
    "start_time": "2023-04-17T22:12:02.346Z"
   },
   {
    "duration": 4,
    "start_time": "2023-04-17T22:12:02.498Z"
   },
   {
    "duration": 157,
    "start_time": "2023-04-17T22:12:02.503Z"
   },
   {
    "duration": 14,
    "start_time": "2023-04-17T22:12:02.662Z"
   },
   {
    "duration": 34,
    "start_time": "2023-04-17T22:12:02.678Z"
   },
   {
    "duration": 1047,
    "start_time": "2023-04-17T22:12:02.715Z"
   },
   {
    "duration": 565,
    "start_time": "2023-04-17T22:12:03.764Z"
   },
   {
    "duration": 540,
    "start_time": "2023-04-17T22:12:04.331Z"
   },
   {
    "duration": 155,
    "start_time": "2023-04-17T22:13:01.214Z"
   },
   {
    "duration": 12,
    "start_time": "2023-04-17T22:13:01.667Z"
   },
   {
    "duration": 80,
    "start_time": "2023-04-17T22:13:30.102Z"
   },
   {
    "duration": 252,
    "start_time": "2023-04-17T22:15:18.993Z"
   },
   {
    "duration": 35,
    "start_time": "2023-04-17T22:15:20.453Z"
   },
   {
    "duration": 116,
    "start_time": "2023-04-17T22:16:29.210Z"
   },
   {
    "duration": 7,
    "start_time": "2023-04-17T22:16:32.649Z"
   },
   {
    "duration": 64,
    "start_time": "2023-04-17T22:16:33.523Z"
   },
   {
    "duration": 1325,
    "start_time": "2023-04-17T22:16:41.113Z"
   },
   {
    "duration": 746,
    "start_time": "2023-04-17T22:16:42.441Z"
   },
   {
    "duration": 4,
    "start_time": "2023-04-17T22:16:43.189Z"
   },
   {
    "duration": 282,
    "start_time": "2023-04-17T22:16:43.195Z"
   },
   {
    "duration": 4,
    "start_time": "2023-04-17T22:16:43.479Z"
   },
   {
    "duration": 11,
    "start_time": "2023-04-17T22:16:43.485Z"
   },
   {
    "duration": 107,
    "start_time": "2023-04-17T22:16:43.497Z"
   },
   {
    "duration": 15,
    "start_time": "2023-04-17T22:16:43.606Z"
   },
   {
    "duration": 151,
    "start_time": "2023-04-17T22:16:43.623Z"
   },
   {
    "duration": 4,
    "start_time": "2023-04-17T22:16:43.777Z"
   },
   {
    "duration": 167,
    "start_time": "2023-04-17T22:16:43.783Z"
   },
   {
    "duration": 11,
    "start_time": "2023-04-17T22:16:43.952Z"
   },
   {
    "duration": 95,
    "start_time": "2023-04-17T22:16:43.965Z"
   },
   {
    "duration": 1332,
    "start_time": "2023-04-17T22:16:44.063Z"
   },
   {
    "duration": 635,
    "start_time": "2023-04-17T22:16:45.396Z"
   },
   {
    "duration": 534,
    "start_time": "2023-04-17T22:16:46.033Z"
   },
   {
    "duration": 76,
    "start_time": "2023-04-17T22:18:14.045Z"
   },
   {
    "duration": 77,
    "start_time": "2023-04-17T22:18:14.804Z"
   },
   {
    "duration": 5,
    "start_time": "2023-04-17T22:18:33.546Z"
   },
   {
    "duration": 42,
    "start_time": "2023-04-17T22:21:58.645Z"
   },
   {
    "duration": 216,
    "start_time": "2023-04-17T22:22:50.175Z"
   },
   {
    "duration": 68,
    "start_time": "2023-04-17T22:23:44.032Z"
   },
   {
    "duration": 43,
    "start_time": "2023-04-17T22:23:48.560Z"
   },
   {
    "duration": 279,
    "start_time": "2023-04-17T22:28:09.169Z"
   },
   {
    "duration": 189,
    "start_time": "2023-04-17T22:28:46.870Z"
   },
   {
    "duration": 211,
    "start_time": "2023-04-17T22:29:01.610Z"
   },
   {
    "duration": 189,
    "start_time": "2023-04-17T22:29:11.992Z"
   },
   {
    "duration": 211,
    "start_time": "2023-04-17T22:29:19.484Z"
   },
   {
    "duration": 85,
    "start_time": "2023-04-17T22:30:18.425Z"
   },
   {
    "duration": 143,
    "start_time": "2023-04-17T22:30:44.357Z"
   },
   {
    "duration": 204,
    "start_time": "2023-04-17T22:30:56.181Z"
   },
   {
    "duration": 144,
    "start_time": "2023-04-17T22:31:47.572Z"
   },
   {
    "duration": 274,
    "start_time": "2023-04-17T22:32:24.158Z"
   },
   {
    "duration": 255,
    "start_time": "2023-04-17T22:32:33.652Z"
   },
   {
    "duration": 20,
    "start_time": "2023-04-17T22:33:22.070Z"
   },
   {
    "duration": 14,
    "start_time": "2023-04-17T22:33:42.455Z"
   },
   {
    "duration": 253,
    "start_time": "2023-04-17T22:34:21.569Z"
   },
   {
    "duration": 246,
    "start_time": "2023-04-17T22:34:31.390Z"
   },
   {
    "duration": 82,
    "start_time": "2023-04-17T22:34:36.756Z"
   },
   {
    "duration": 256,
    "start_time": "2023-04-17T22:35:14.919Z"
   },
   {
    "duration": 27,
    "start_time": "2023-04-17T22:35:35.203Z"
   },
   {
    "duration": 241,
    "start_time": "2023-04-17T22:36:33.983Z"
   },
   {
    "duration": 1684,
    "start_time": "2023-04-18T00:20:17.185Z"
   },
   {
    "duration": 2643,
    "start_time": "2023-04-18T00:20:18.872Z"
   },
   {
    "duration": 3,
    "start_time": "2023-04-18T00:20:21.516Z"
   },
   {
    "duration": 308,
    "start_time": "2023-04-18T00:20:21.521Z"
   },
   {
    "duration": 4,
    "start_time": "2023-04-18T00:20:21.832Z"
   },
   {
    "duration": 21,
    "start_time": "2023-04-18T00:20:21.838Z"
   },
   {
    "duration": 134,
    "start_time": "2023-04-18T00:20:21.864Z"
   },
   {
    "duration": 15,
    "start_time": "2023-04-18T00:20:22.001Z"
   },
   {
    "duration": 161,
    "start_time": "2023-04-18T00:20:22.018Z"
   },
   {
    "duration": 9,
    "start_time": "2023-04-18T00:20:22.181Z"
   },
   {
    "duration": 177,
    "start_time": "2023-04-18T00:20:22.192Z"
   },
   {
    "duration": 459,
    "start_time": "2023-04-18T00:20:22.371Z"
   },
   {
    "duration": 0,
    "start_time": "2023-04-18T00:20:22.832Z"
   },
   {
    "duration": 0,
    "start_time": "2023-04-18T00:20:22.834Z"
   },
   {
    "duration": 0,
    "start_time": "2023-04-18T00:20:22.835Z"
   },
   {
    "duration": 0,
    "start_time": "2023-04-18T00:20:22.837Z"
   },
   {
    "duration": 303,
    "start_time": "2023-04-18T00:21:32.934Z"
   },
   {
    "duration": 306,
    "start_time": "2023-04-18T00:22:13.044Z"
   },
   {
    "duration": 266,
    "start_time": "2023-04-18T00:22:35.243Z"
   },
   {
    "duration": 33,
    "start_time": "2023-04-18T00:22:44.991Z"
   },
   {
    "duration": 31,
    "start_time": "2023-04-18T00:23:18.390Z"
   },
   {
    "duration": 328,
    "start_time": "2023-04-18T00:24:40.415Z"
   },
   {
    "duration": 315,
    "start_time": "2023-04-18T00:25:35.536Z"
   },
   {
    "duration": 27,
    "start_time": "2023-04-18T00:26:13.901Z"
   },
   {
    "duration": 4,
    "start_time": "2023-04-18T00:26:15.079Z"
   },
   {
    "duration": 6,
    "start_time": "2023-04-18T00:27:47.474Z"
   },
   {
    "duration": 1123,
    "start_time": "2023-04-18T00:29:50.709Z"
   },
   {
    "duration": 634,
    "start_time": "2023-04-18T00:29:56.037Z"
   },
   {
    "duration": 631,
    "start_time": "2023-04-18T00:29:59.700Z"
   },
   {
    "duration": 532,
    "start_time": "2023-04-18T00:31:58.640Z"
   },
   {
    "duration": 648,
    "start_time": "2023-04-18T00:32:09.298Z"
   },
   {
    "duration": 812,
    "start_time": "2023-04-18T00:32:30.387Z"
   },
   {
    "duration": 605,
    "start_time": "2023-04-18T00:32:40.341Z"
   },
   {
    "duration": 350,
    "start_time": "2023-04-18T00:42:09.204Z"
   },
   {
    "duration": 345,
    "start_time": "2023-04-18T00:42:19.678Z"
   },
   {
    "duration": 8,
    "start_time": "2023-04-18T00:43:48.082Z"
   },
   {
    "duration": 4,
    "start_time": "2023-04-18T00:44:27.913Z"
   },
   {
    "duration": 719,
    "start_time": "2023-04-18T00:47:40.387Z"
   },
   {
    "duration": 716,
    "start_time": "2023-04-18T00:47:53.286Z"
   },
   {
    "duration": 51,
    "start_time": "2023-04-18T00:59:21.732Z"
   },
   {
    "duration": 45,
    "start_time": "2023-04-18T02:28:49.104Z"
   },
   {
    "duration": 4,
    "start_time": "2023-04-18T02:29:13.830Z"
   },
   {
    "duration": 49,
    "start_time": "2023-04-18T02:30:37.040Z"
   },
   {
    "duration": 5,
    "start_time": "2023-04-18T02:30:57.271Z"
   },
   {
    "duration": 3,
    "start_time": "2023-04-18T02:31:25.404Z"
   },
   {
    "duration": 4,
    "start_time": "2023-04-18T02:32:22.866Z"
   },
   {
    "duration": 4,
    "start_time": "2023-04-18T02:33:07.163Z"
   },
   {
    "duration": 4,
    "start_time": "2023-04-18T02:33:25.461Z"
   },
   {
    "duration": 78,
    "start_time": "2023-04-18T03:16:24.127Z"
   },
   {
    "duration": 54,
    "start_time": "2023-04-18T03:16:42.301Z"
   },
   {
    "duration": 8,
    "start_time": "2023-04-18T03:17:20.073Z"
   },
   {
    "duration": 21,
    "start_time": "2023-04-18T03:17:26.219Z"
   },
   {
    "duration": 379,
    "start_time": "2023-04-18T03:18:05.209Z"
   },
   {
    "duration": 609,
    "start_time": "2023-04-18T03:18:24.042Z"
   },
   {
    "duration": 1220,
    "start_time": "2023-04-18T03:18:44.362Z"
   },
   {
    "duration": 1517,
    "start_time": "2023-04-18T05:47:39.756Z"
   },
   {
    "duration": 1914,
    "start_time": "2023-04-18T05:47:41.276Z"
   },
   {
    "duration": 3,
    "start_time": "2023-04-18T05:47:43.195Z"
   },
   {
    "duration": 295,
    "start_time": "2023-04-18T05:47:43.200Z"
   },
   {
    "duration": 4,
    "start_time": "2023-04-18T05:47:43.497Z"
   },
   {
    "duration": 7,
    "start_time": "2023-04-18T05:47:43.503Z"
   },
   {
    "duration": 122,
    "start_time": "2023-04-18T05:47:43.511Z"
   },
   {
    "duration": 22,
    "start_time": "2023-04-18T05:47:43.635Z"
   },
   {
    "duration": 158,
    "start_time": "2023-04-18T05:47:43.659Z"
   },
   {
    "duration": 4,
    "start_time": "2023-04-18T05:47:43.819Z"
   },
   {
    "duration": 211,
    "start_time": "2023-04-18T05:47:43.825Z"
   },
   {
    "duration": 364,
    "start_time": "2023-04-18T05:47:44.038Z"
   },
   {
    "duration": 30,
    "start_time": "2023-04-18T05:47:44.404Z"
   },
   {
    "duration": 5,
    "start_time": "2023-04-18T05:47:44.436Z"
   },
   {
    "duration": 1118,
    "start_time": "2023-04-18T05:47:44.456Z"
   },
   {
    "duration": 554,
    "start_time": "2023-04-18T05:47:45.576Z"
   },
   {
    "duration": 464,
    "start_time": "2023-04-18T05:47:46.131Z"
   },
   {
    "duration": 3,
    "start_time": "2023-04-18T05:47:46.597Z"
   },
   {
    "duration": 6,
    "start_time": "2023-04-18T05:47:46.601Z"
   },
   {
    "duration": 847,
    "start_time": "2023-04-18T05:47:46.608Z"
   },
   {
    "duration": 698,
    "start_time": "2023-04-18T05:49:06.328Z"
   },
   {
    "duration": 6,
    "start_time": "2023-04-18T05:49:17.551Z"
   },
   {
    "duration": 437,
    "start_time": "2023-04-18T05:49:20.516Z"
   },
   {
    "duration": 540,
    "start_time": "2023-04-18T05:50:08.421Z"
   },
   {
    "duration": 266,
    "start_time": "2023-04-18T05:52:12.000Z"
   },
   {
    "duration": 392,
    "start_time": "2023-04-18T05:53:27.748Z"
   },
   {
    "duration": 611,
    "start_time": "2023-04-18T05:54:04.604Z"
   },
   {
    "duration": 592,
    "start_time": "2023-04-18T05:54:47.731Z"
   },
   {
    "duration": 747,
    "start_time": "2023-04-18T05:55:35.553Z"
   },
   {
    "duration": 46,
    "start_time": "2023-04-18T05:56:41.979Z"
   },
   {
    "duration": 1333,
    "start_time": "2023-04-18T05:57:01.862Z"
   },
   {
    "duration": 782,
    "start_time": "2023-04-18T05:57:39.194Z"
   },
   {
    "duration": 697,
    "start_time": "2023-04-18T06:16:33.767Z"
   },
   {
    "duration": 590,
    "start_time": "2023-04-18T06:16:53.156Z"
   },
   {
    "duration": 732,
    "start_time": "2023-04-18T06:18:08.797Z"
   },
   {
    "duration": 593,
    "start_time": "2023-04-18T06:18:39.102Z"
   },
   {
    "duration": 664,
    "start_time": "2023-04-18T06:19:32.159Z"
   },
   {
    "duration": 5,
    "start_time": "2023-04-18T06:24:11.919Z"
   },
   {
    "duration": 5,
    "start_time": "2023-04-18T06:24:42.640Z"
   },
   {
    "duration": 7,
    "start_time": "2023-04-18T06:29:25.876Z"
   },
   {
    "duration": 12,
    "start_time": "2023-04-18T06:34:55.363Z"
   },
   {
    "duration": 11,
    "start_time": "2023-04-18T06:35:36.600Z"
   },
   {
    "duration": 8,
    "start_time": "2023-04-18T06:36:13.097Z"
   },
   {
    "duration": 8,
    "start_time": "2023-04-18T06:36:33.743Z"
   },
   {
    "duration": 13,
    "start_time": "2023-04-18T06:36:42.819Z"
   },
   {
    "duration": 58,
    "start_time": "2023-04-18T06:37:39.168Z"
   },
   {
    "duration": 15,
    "start_time": "2023-04-18T06:37:49.633Z"
   },
   {
    "duration": 31,
    "start_time": "2023-04-18T06:38:49.210Z"
   },
   {
    "duration": 18,
    "start_time": "2023-04-18T06:38:58.637Z"
   },
   {
    "duration": 725,
    "start_time": "2023-04-18T06:39:47.859Z"
   },
   {
    "duration": 675,
    "start_time": "2023-04-18T06:40:41.425Z"
   },
   {
    "duration": 759,
    "start_time": "2023-04-18T06:42:49.022Z"
   },
   {
    "duration": 4,
    "start_time": "2023-04-18T06:52:17.854Z"
   },
   {
    "duration": 5,
    "start_time": "2023-04-18T06:56:08.537Z"
   },
   {
    "duration": 7,
    "start_time": "2023-04-18T06:58:06.561Z"
   },
   {
    "duration": 7,
    "start_time": "2023-04-18T07:00:41.159Z"
   },
   {
    "duration": 6,
    "start_time": "2023-04-18T07:01:23.156Z"
   },
   {
    "duration": 8,
    "start_time": "2023-04-18T07:01:48.750Z"
   },
   {
    "duration": 9,
    "start_time": "2023-04-18T07:01:55.241Z"
   },
   {
    "duration": 7,
    "start_time": "2023-04-18T07:02:04.225Z"
   },
   {
    "duration": 9,
    "start_time": "2023-04-18T07:02:17.887Z"
   },
   {
    "duration": 4,
    "start_time": "2023-04-18T07:03:42.415Z"
   },
   {
    "duration": 3,
    "start_time": "2023-04-18T07:09:22.316Z"
   },
   {
    "duration": 6,
    "start_time": "2023-04-18T07:13:56.820Z"
   },
   {
    "duration": 11,
    "start_time": "2023-04-18T07:16:00.467Z"
   },
   {
    "duration": 10,
    "start_time": "2023-04-18T07:16:37.579Z"
   },
   {
    "duration": 103,
    "start_time": "2023-04-18T07:17:04.268Z"
   },
   {
    "duration": 10,
    "start_time": "2023-04-18T07:17:30.863Z"
   },
   {
    "duration": 257,
    "start_time": "2023-04-18T07:17:32.203Z"
   },
   {
    "duration": 132,
    "start_time": "2023-04-18T07:18:03.331Z"
   },
   {
    "duration": 209,
    "start_time": "2023-04-18T07:18:29.253Z"
   },
   {
    "duration": 5,
    "start_time": "2023-04-18T07:20:26.334Z"
   },
   {
    "duration": 4,
    "start_time": "2023-04-18T07:20:36.082Z"
   },
   {
    "duration": 5,
    "start_time": "2023-04-18T07:20:43.940Z"
   },
   {
    "duration": 4,
    "start_time": "2023-04-18T07:20:51.429Z"
   },
   {
    "duration": 10,
    "start_time": "2023-04-18T07:21:28.125Z"
   },
   {
    "duration": 8,
    "start_time": "2023-04-18T07:21:44.353Z"
   },
   {
    "duration": 7,
    "start_time": "2023-04-18T07:25:18.917Z"
   },
   {
    "duration": 6,
    "start_time": "2023-04-18T07:25:20.571Z"
   },
   {
    "duration": 144,
    "start_time": "2023-04-18T07:25:58.721Z"
   },
   {
    "duration": 7,
    "start_time": "2023-04-18T07:25:59.712Z"
   },
   {
    "duration": 5,
    "start_time": "2023-04-18T07:26:21.131Z"
   },
   {
    "duration": 8,
    "start_time": "2023-04-18T07:26:21.960Z"
   },
   {
    "duration": 7,
    "start_time": "2023-04-18T07:27:27.413Z"
   },
   {
    "duration": 8,
    "start_time": "2023-04-18T07:27:43.211Z"
   },
   {
    "duration": 3,
    "start_time": "2023-04-18T07:28:38.110Z"
   },
   {
    "duration": 8,
    "start_time": "2023-04-18T07:28:42.028Z"
   },
   {
    "duration": 8,
    "start_time": "2023-04-18T07:28:43.815Z"
   },
   {
    "duration": 6,
    "start_time": "2023-04-18T07:28:57.370Z"
   },
   {
    "duration": 8,
    "start_time": "2023-04-18T07:28:57.846Z"
   },
   {
    "duration": 498,
    "start_time": "2023-04-18T07:29:02.461Z"
   },
   {
    "duration": 7,
    "start_time": "2023-04-18T07:29:03.228Z"
   },
   {
    "duration": 404,
    "start_time": "2023-04-18T07:29:34.253Z"
   },
   {
    "duration": 9,
    "start_time": "2023-04-18T07:29:35.029Z"
   },
   {
    "duration": 7,
    "start_time": "2023-04-18T07:29:42.126Z"
   },
   {
    "duration": 8,
    "start_time": "2023-04-18T07:29:42.469Z"
   },
   {
    "duration": 5,
    "start_time": "2023-04-18T07:29:47.629Z"
   },
   {
    "duration": 9,
    "start_time": "2023-04-18T07:29:48.110Z"
   },
   {
    "duration": 3,
    "start_time": "2023-04-18T07:30:39.008Z"
   },
   {
    "duration": 11,
    "start_time": "2023-04-18T07:30:41.175Z"
   },
   {
    "duration": 6,
    "start_time": "2023-04-18T07:30:41.730Z"
   },
   {
    "duration": 15,
    "start_time": "2023-04-18T07:30:42.218Z"
   },
   {
    "duration": 6,
    "start_time": "2023-04-18T07:31:09.654Z"
   },
   {
    "duration": 13,
    "start_time": "2023-04-18T07:31:13.646Z"
   },
   {
    "duration": 6,
    "start_time": "2023-04-18T07:31:14.639Z"
   },
   {
    "duration": 16,
    "start_time": "2023-04-18T07:31:15.771Z"
   },
   {
    "duration": 462,
    "start_time": "2023-04-18T07:31:29.119Z"
   },
   {
    "duration": 87,
    "start_time": "2023-04-18T07:31:29.583Z"
   },
   {
    "duration": 1549,
    "start_time": "2023-04-18T07:34:35.564Z"
   },
   {
    "duration": 11,
    "start_time": "2023-04-18T07:34:37.115Z"
   },
   {
    "duration": 1056,
    "start_time": "2023-04-18T07:35:00.306Z"
   },
   {
    "duration": 19,
    "start_time": "2023-04-18T07:35:01.459Z"
   },
   {
    "duration": 1567,
    "start_time": "2023-04-18T07:35:11.789Z"
   },
   {
    "duration": 20,
    "start_time": "2023-04-18T07:35:13.359Z"
   },
   {
    "duration": 44277,
    "start_time": "2023-04-18T07:35:19.331Z"
   },
   {
    "duration": 0,
    "start_time": "2023-04-18T07:36:03.609Z"
   },
   {
    "duration": 0,
    "start_time": "2023-04-18T07:36:03.611Z"
   },
   {
    "duration": 91698,
    "start_time": "2023-04-18T07:36:16.843Z"
   },
   {
    "duration": 14,
    "start_time": "2023-04-18T07:37:48.544Z"
   },
   {
    "duration": 9,
    "start_time": "2023-04-18T07:38:20.264Z"
   },
   {
    "duration": 12,
    "start_time": "2023-04-18T07:39:08.503Z"
   },
   {
    "duration": 11,
    "start_time": "2023-04-18T07:39:44.741Z"
   },
   {
    "duration": 12,
    "start_time": "2023-04-18T07:40:05.131Z"
   },
   {
    "duration": 7,
    "start_time": "2023-04-18T07:40:16.636Z"
   },
   {
    "duration": 3,
    "start_time": "2023-04-18T07:48:42.942Z"
   },
   {
    "duration": 6,
    "start_time": "2023-04-18T07:48:50.465Z"
   },
   {
    "duration": 4,
    "start_time": "2023-04-18T07:49:29.406Z"
   },
   {
    "duration": 13,
    "start_time": "2023-04-18T07:49:33.370Z"
   },
   {
    "duration": 209,
    "start_time": "2023-04-18T07:49:45.947Z"
   },
   {
    "duration": 11,
    "start_time": "2023-04-18T07:49:47.057Z"
   },
   {
    "duration": 4,
    "start_time": "2023-04-18T07:49:59.410Z"
   },
   {
    "duration": 7,
    "start_time": "2023-04-18T07:50:02.076Z"
   },
   {
    "duration": 10,
    "start_time": "2023-04-18T07:52:57.818Z"
   },
   {
    "duration": 10,
    "start_time": "2023-04-18T07:53:20.149Z"
   },
   {
    "duration": 3,
    "start_time": "2023-04-18T08:02:24.919Z"
   },
   {
    "duration": 9,
    "start_time": "2023-04-18T08:02:30.220Z"
   },
   {
    "duration": 5,
    "start_time": "2023-04-18T08:02:35.320Z"
   },
   {
    "duration": 10,
    "start_time": "2023-04-18T08:02:39.142Z"
   },
   {
    "duration": 7,
    "start_time": "2023-04-18T08:04:43.026Z"
   },
   {
    "duration": 14,
    "start_time": "2023-04-18T08:05:07.868Z"
   },
   {
    "duration": 6,
    "start_time": "2023-04-18T08:05:41.552Z"
   },
   {
    "duration": 47,
    "start_time": "2023-04-18T08:09:34.839Z"
   },
   {
    "duration": 6,
    "start_time": "2023-04-18T08:09:40.618Z"
   },
   {
    "duration": 44,
    "start_time": "2023-04-18T08:10:20.138Z"
   },
   {
    "duration": 15,
    "start_time": "2023-04-18T08:10:48.963Z"
   },
   {
    "duration": 19,
    "start_time": "2023-04-18T08:11:02.240Z"
   },
   {
    "duration": 6,
    "start_time": "2023-04-18T08:11:20.931Z"
   },
   {
    "duration": 7,
    "start_time": "2023-04-18T08:11:38.674Z"
   },
   {
    "duration": 1259,
    "start_time": "2023-04-18T08:16:50.760Z"
   },
   {
    "duration": 722,
    "start_time": "2023-04-18T08:16:52.021Z"
   },
   {
    "duration": 11,
    "start_time": "2023-04-18T08:16:52.745Z"
   },
   {
    "duration": 226,
    "start_time": "2023-04-18T08:16:52.758Z"
   },
   {
    "duration": 4,
    "start_time": "2023-04-18T08:16:52.987Z"
   },
   {
    "duration": 32,
    "start_time": "2023-04-18T08:16:52.993Z"
   },
   {
    "duration": 93,
    "start_time": "2023-04-18T08:16:53.027Z"
   },
   {
    "duration": 14,
    "start_time": "2023-04-18T08:16:53.122Z"
   },
   {
    "duration": 133,
    "start_time": "2023-04-18T08:16:53.138Z"
   },
   {
    "duration": 4,
    "start_time": "2023-04-18T08:16:53.272Z"
   },
   {
    "duration": 153,
    "start_time": "2023-04-18T08:16:53.277Z"
   },
   {
    "duration": 349,
    "start_time": "2023-04-18T08:16:53.432Z"
   },
   {
    "duration": 39,
    "start_time": "2023-04-18T08:16:53.783Z"
   },
   {
    "duration": 4,
    "start_time": "2023-04-18T08:16:53.825Z"
   },
   {
    "duration": 1098,
    "start_time": "2023-04-18T08:16:53.830Z"
   },
   {
    "duration": 573,
    "start_time": "2023-04-18T08:16:54.930Z"
   },
   {
    "duration": 530,
    "start_time": "2023-04-18T08:16:55.505Z"
   },
   {
    "duration": 3,
    "start_time": "2023-04-18T08:16:56.037Z"
   },
   {
    "duration": 18,
    "start_time": "2023-04-18T08:16:56.042Z"
   },
   {
    "duration": 525,
    "start_time": "2023-04-18T08:16:56.062Z"
   },
   {
    "duration": 660,
    "start_time": "2023-04-18T08:16:56.589Z"
   },
   {
    "duration": 5,
    "start_time": "2023-04-18T08:16:57.255Z"
   },
   {
    "duration": 793,
    "start_time": "2023-04-18T08:16:57.262Z"
   },
   {
    "duration": 4,
    "start_time": "2023-04-18T08:16:58.057Z"
   },
   {
    "duration": 7,
    "start_time": "2023-04-18T08:16:58.063Z"
   },
   {
    "duration": 9,
    "start_time": "2023-04-18T08:16:58.072Z"
   },
   {
    "duration": 12,
    "start_time": "2023-04-18T08:16:58.083Z"
   },
   {
    "duration": 467,
    "start_time": "2023-04-18T08:16:58.098Z"
   },
   {
    "duration": 89,
    "start_time": "2023-04-18T08:16:58.573Z"
   },
   {
    "duration": 7,
    "start_time": "2023-04-18T08:17:30.122Z"
   },
   {
    "duration": 9,
    "start_time": "2023-04-18T08:17:30.861Z"
   },
   {
    "duration": 6,
    "start_time": "2023-04-18T08:18:21.448Z"
   },
   {
    "duration": 8,
    "start_time": "2023-04-18T08:18:23.852Z"
   },
   {
    "duration": 6,
    "start_time": "2023-04-18T08:18:30.806Z"
   },
   {
    "duration": 7,
    "start_time": "2023-04-18T08:18:31.133Z"
   },
   {
    "duration": 1201,
    "start_time": "2023-04-18T08:18:39.760Z"
   },
   {
    "duration": 8,
    "start_time": "2023-04-18T08:18:40.963Z"
   },
   {
    "duration": 71412,
    "start_time": "2023-04-18T08:18:48.031Z"
   },
   {
    "duration": 12,
    "start_time": "2023-04-18T08:19:59.445Z"
   },
   {
    "duration": 9,
    "start_time": "2023-04-18T08:21:06.867Z"
   },
   {
    "duration": 5,
    "start_time": "2023-04-18T08:21:45.450Z"
   },
   {
    "duration": 10,
    "start_time": "2023-04-18T08:22:24.039Z"
   },
   {
    "duration": 6,
    "start_time": "2023-04-18T08:24:22.826Z"
   },
   {
    "duration": 9,
    "start_time": "2023-04-18T08:24:25.221Z"
   },
   {
    "duration": 6,
    "start_time": "2023-04-18T08:24:27.580Z"
   },
   {
    "duration": 5,
    "start_time": "2023-04-18T08:24:45.207Z"
   },
   {
    "duration": 255,
    "start_time": "2023-04-18T08:25:03.201Z"
   },
   {
    "duration": 7,
    "start_time": "2023-04-18T08:25:05.368Z"
   },
   {
    "duration": 6,
    "start_time": "2023-04-18T08:25:11.712Z"
   },
   {
    "duration": 1296,
    "start_time": "2023-04-18T08:25:43.847Z"
   },
   {
    "duration": 12,
    "start_time": "2023-04-18T08:25:45.145Z"
   },
   {
    "duration": 6,
    "start_time": "2023-04-18T08:25:47.110Z"
   },
   {
    "duration": 70287,
    "start_time": "2023-04-18T08:25:55.194Z"
   },
   {
    "duration": 7,
    "start_time": "2023-04-18T08:27:05.483Z"
   },
   {
    "duration": 17,
    "start_time": "2023-04-18T08:27:05.492Z"
   },
   {
    "duration": 192,
    "start_time": "2023-04-18T08:28:40.066Z"
   },
   {
    "duration": 8,
    "start_time": "2023-04-18T08:28:47.678Z"
   },
   {
    "duration": 3,
    "start_time": "2023-04-18T08:39:53.867Z"
   },
   {
    "duration": 1097,
    "start_time": "2023-04-18T08:42:55.167Z"
   },
   {
    "duration": 2140,
    "start_time": "2023-04-18T08:49:01.319Z"
   },
   {
    "duration": 2158,
    "start_time": "2023-04-18T08:51:18.345Z"
   },
   {
    "duration": 4,
    "start_time": "2023-04-18T08:52:03.323Z"
   },
   {
    "duration": 6086,
    "start_time": "2023-04-18T08:52:07.459Z"
   },
   {
    "duration": 4,
    "start_time": "2023-04-18T08:53:45.950Z"
   },
   {
    "duration": 2372,
    "start_time": "2023-04-18T08:53:48.925Z"
   },
   {
    "duration": 1646,
    "start_time": "2023-04-18T08:54:33.518Z"
   },
   {
    "duration": 1520,
    "start_time": "2023-04-18T08:58:40.045Z"
   },
   {
    "duration": 4,
    "start_time": "2023-04-18T09:07:34.614Z"
   },
   {
    "duration": 1476,
    "start_time": "2023-04-18T09:07:48.782Z"
   },
   {
    "duration": 1525,
    "start_time": "2023-04-18T09:09:29.138Z"
   },
   {
    "duration": 1612,
    "start_time": "2023-04-18T09:09:50.045Z"
   },
   {
    "duration": 3,
    "start_time": "2023-04-18T09:09:54.614Z"
   },
   {
    "duration": 1834,
    "start_time": "2023-04-18T09:09:57.823Z"
   },
   {
    "duration": 3,
    "start_time": "2023-04-18T09:13:48.678Z"
   },
   {
    "duration": 2034,
    "start_time": "2023-04-18T09:14:35.614Z"
   },
   {
    "duration": 1861,
    "start_time": "2023-04-18T09:21:21.810Z"
   },
   {
    "duration": 4,
    "start_time": "2023-04-18T09:23:31.424Z"
   },
   {
    "duration": 1537,
    "start_time": "2023-04-18T09:23:35.322Z"
   },
   {
    "duration": 4,
    "start_time": "2023-04-18T09:23:58.220Z"
   },
   {
    "duration": 1581,
    "start_time": "2023-04-18T09:24:00.784Z"
   },
   {
    "duration": 1426,
    "start_time": "2023-04-18T09:24:15.432Z"
   },
   {
    "duration": 1625,
    "start_time": "2023-04-18T09:24:39.636Z"
   },
   {
    "duration": 1608,
    "start_time": "2023-04-18T09:25:17.849Z"
   },
   {
    "duration": 1248,
    "start_time": "2023-04-18T09:25:23.414Z"
   },
   {
    "duration": 3,
    "start_time": "2023-04-18T09:28:53.027Z"
   },
   {
    "duration": 4155,
    "start_time": "2023-04-18T09:29:58.020Z"
   },
   {
    "duration": 15298,
    "start_time": "2023-04-18T09:30:30.418Z"
   },
   {
    "duration": 234185,
    "start_time": "2023-04-18T09:30:58.959Z"
   },
   {
    "duration": 1836,
    "start_time": "2023-04-18T09:46:41.530Z"
   },
   {
    "duration": 1684,
    "start_time": "2023-04-18T09:47:46.282Z"
   },
   {
    "duration": 42,
    "start_time": "2023-04-18T09:47:56.793Z"
   },
   {
    "duration": 24638,
    "start_time": "2023-04-18T09:48:03.830Z"
   },
   {
    "duration": 84401,
    "start_time": "2023-04-18T09:48:37.039Z"
   },
   {
    "duration": 119195,
    "start_time": "2023-04-18T09:51:31.430Z"
   },
   {
    "duration": 117588,
    "start_time": "2023-04-18T10:04:32.326Z"
   },
   {
    "duration": 2099,
    "start_time": "2023-04-18T10:09:44.264Z"
   },
   {
    "duration": 4,
    "start_time": "2023-04-18T10:10:00.832Z"
   },
   {
    "duration": 2198,
    "start_time": "2023-04-18T10:10:04.134Z"
   },
   {
    "duration": 2231,
    "start_time": "2023-04-18T10:10:31.072Z"
   },
   {
    "duration": 1429,
    "start_time": "2023-04-18T10:11:31.864Z"
   },
   {
    "duration": 821,
    "start_time": "2023-04-18T10:11:33.295Z"
   },
   {
    "duration": 4,
    "start_time": "2023-04-18T10:11:34.118Z"
   },
   {
    "duration": 307,
    "start_time": "2023-04-18T10:11:34.125Z"
   },
   {
    "duration": 5,
    "start_time": "2023-04-18T10:11:34.434Z"
   },
   {
    "duration": 16,
    "start_time": "2023-04-18T10:11:34.441Z"
   },
   {
    "duration": 105,
    "start_time": "2023-04-18T10:11:34.459Z"
   },
   {
    "duration": 16,
    "start_time": "2023-04-18T10:11:34.566Z"
   },
   {
    "duration": 167,
    "start_time": "2023-04-18T10:11:34.584Z"
   },
   {
    "duration": 4,
    "start_time": "2023-04-18T10:11:34.755Z"
   },
   {
    "duration": 157,
    "start_time": "2023-04-18T10:11:34.761Z"
   },
   {
    "duration": 341,
    "start_time": "2023-04-18T10:11:34.920Z"
   },
   {
    "duration": 48,
    "start_time": "2023-04-18T10:11:35.262Z"
   },
   {
    "duration": 6,
    "start_time": "2023-04-18T10:11:35.312Z"
   },
   {
    "duration": 1129,
    "start_time": "2023-04-18T10:11:35.320Z"
   },
   {
    "duration": 596,
    "start_time": "2023-04-18T10:11:36.457Z"
   },
   {
    "duration": 550,
    "start_time": "2023-04-18T10:11:37.054Z"
   },
   {
    "duration": 4,
    "start_time": "2023-04-18T10:11:37.606Z"
   },
   {
    "duration": 7,
    "start_time": "2023-04-18T10:11:37.612Z"
   },
   {
    "duration": 592,
    "start_time": "2023-04-18T10:11:37.620Z"
   },
   {
    "duration": 782,
    "start_time": "2023-04-18T10:11:38.214Z"
   },
   {
    "duration": 5,
    "start_time": "2023-04-18T10:11:38.998Z"
   },
   {
    "duration": 653,
    "start_time": "2023-04-18T10:11:39.005Z"
   },
   {
    "duration": 3,
    "start_time": "2023-04-18T10:11:39.660Z"
   },
   {
    "duration": 22,
    "start_time": "2023-04-18T10:11:39.664Z"
   },
   {
    "duration": 15,
    "start_time": "2023-04-18T10:11:39.688Z"
   },
   {
    "duration": 121595,
    "start_time": "2023-04-18T10:11:39.705Z"
   },
   {
    "duration": 2252,
    "start_time": "2023-04-18T10:13:41.304Z"
   },
   {
    "duration": 133479,
    "start_time": "2023-04-18T10:13:50.931Z"
   },
   {
    "duration": 2262,
    "start_time": "2023-04-18T10:16:36.073Z"
   },
   {
    "duration": 128877,
    "start_time": "2023-04-18T10:16:45.753Z"
   },
   {
    "duration": 2080,
    "start_time": "2023-04-18T10:19:03.122Z"
   },
   {
    "duration": 121901,
    "start_time": "2023-04-18T10:19:13.727Z"
   },
   {
    "duration": 1012,
    "start_time": "2023-04-18T10:21:35.723Z"
   },
   {
    "duration": 33513,
    "start_time": "2023-04-18T10:26:03.535Z"
   },
   {
    "duration": 57239,
    "start_time": "2023-04-18T10:26:38.729Z"
   },
   {
    "duration": 13,
    "start_time": "2023-04-18T10:39:46.226Z"
   },
   {
    "duration": 846063,
    "start_time": "2023-04-18T10:39:52.931Z"
   },
   {
    "duration": 633,
    "start_time": "2023-04-18T10:53:58.996Z"
   },
   {
    "duration": 601,
    "start_time": "2023-04-18T10:55:13.364Z"
   },
   {
    "duration": 1374,
    "start_time": "2023-04-18T23:54:41.807Z"
   },
   {
    "duration": 1338,
    "start_time": "2023-04-18T23:54:51.766Z"
   },
   {
    "duration": 2970,
    "start_time": "2023-04-18T23:54:53.107Z"
   },
   {
    "duration": 3,
    "start_time": "2023-04-18T23:54:56.078Z"
   },
   {
    "duration": 235,
    "start_time": "2023-04-18T23:54:56.083Z"
   },
   {
    "duration": 3,
    "start_time": "2023-04-18T23:54:56.320Z"
   },
   {
    "duration": 8,
    "start_time": "2023-04-18T23:54:56.324Z"
   },
   {
    "duration": 97,
    "start_time": "2023-04-18T23:54:56.333Z"
   },
   {
    "duration": 12,
    "start_time": "2023-04-18T23:54:56.432Z"
   },
   {
    "duration": 147,
    "start_time": "2023-04-18T23:54:56.445Z"
   },
   {
    "duration": 3,
    "start_time": "2023-04-18T23:54:56.595Z"
   },
   {
    "duration": 142,
    "start_time": "2023-04-18T23:54:56.599Z"
   },
   {
    "duration": 295,
    "start_time": "2023-04-18T23:54:56.742Z"
   },
   {
    "duration": 37,
    "start_time": "2023-04-18T23:54:57.039Z"
   },
   {
    "duration": 4,
    "start_time": "2023-04-18T23:54:57.078Z"
   },
   {
    "duration": 818,
    "start_time": "2023-04-18T23:54:57.083Z"
   },
   {
    "duration": 462,
    "start_time": "2023-04-18T23:54:57.902Z"
   },
   {
    "duration": 391,
    "start_time": "2023-04-18T23:54:58.371Z"
   },
   {
    "duration": 8,
    "start_time": "2023-04-18T23:54:58.764Z"
   },
   {
    "duration": 7,
    "start_time": "2023-04-18T23:54:58.773Z"
   },
   {
    "duration": 891,
    "start_time": "2023-04-18T23:54:58.782Z"
   },
   {
    "duration": 0,
    "start_time": "2023-04-18T23:54:59.674Z"
   },
   {
    "duration": 0,
    "start_time": "2023-04-18T23:54:59.675Z"
   },
   {
    "duration": 0,
    "start_time": "2023-04-18T23:54:59.676Z"
   },
   {
    "duration": 0,
    "start_time": "2023-04-18T23:54:59.677Z"
   },
   {
    "duration": 0,
    "start_time": "2023-04-18T23:54:59.678Z"
   },
   {
    "duration": 0,
    "start_time": "2023-04-18T23:54:59.678Z"
   },
   {
    "duration": 0,
    "start_time": "2023-04-18T23:54:59.680Z"
   },
   {
    "duration": 0,
    "start_time": "2023-04-18T23:54:59.680Z"
   },
   {
    "duration": 0,
    "start_time": "2023-04-18T23:54:59.681Z"
   },
   {
    "duration": 839,
    "start_time": "2023-04-18T23:55:29.951Z"
   },
   {
    "duration": 331,
    "start_time": "2023-04-18T23:56:06.548Z"
   },
   {
    "duration": 927,
    "start_time": "2023-04-18T23:59:52.123Z"
   },
   {
    "duration": 832,
    "start_time": "2023-04-19T00:00:08.823Z"
   },
   {
    "duration": 3,
    "start_time": "2023-04-19T00:00:38.006Z"
   },
   {
    "duration": 1002,
    "start_time": "2023-04-19T00:01:09.991Z"
   },
   {
    "duration": 662,
    "start_time": "2023-04-19T00:02:05.869Z"
   },
   {
    "duration": 768,
    "start_time": "2023-04-19T00:02:59.886Z"
   },
   {
    "duration": 1290,
    "start_time": "2023-04-19T00:19:52.390Z"
   },
   {
    "duration": 650,
    "start_time": "2023-04-19T00:19:53.681Z"
   },
   {
    "duration": 3,
    "start_time": "2023-04-19T00:19:54.332Z"
   },
   {
    "duration": 251,
    "start_time": "2023-04-19T00:19:54.337Z"
   },
   {
    "duration": 4,
    "start_time": "2023-04-19T00:19:54.590Z"
   },
   {
    "duration": 14,
    "start_time": "2023-04-19T00:19:54.596Z"
   },
   {
    "duration": 97,
    "start_time": "2023-04-19T00:19:54.612Z"
   },
   {
    "duration": 12,
    "start_time": "2023-04-19T00:19:54.710Z"
   },
   {
    "duration": 121,
    "start_time": "2023-04-19T00:19:54.723Z"
   },
   {
    "duration": 3,
    "start_time": "2023-04-19T00:19:54.845Z"
   },
   {
    "duration": 150,
    "start_time": "2023-04-19T00:19:54.850Z"
   },
   {
    "duration": 287,
    "start_time": "2023-04-19T00:19:55.001Z"
   },
   {
    "duration": 29,
    "start_time": "2023-04-19T00:19:55.290Z"
   },
   {
    "duration": 4,
    "start_time": "2023-04-19T00:19:55.321Z"
   },
   {
    "duration": 904,
    "start_time": "2023-04-19T00:19:55.326Z"
   },
   {
    "duration": 418,
    "start_time": "2023-04-19T00:19:56.231Z"
   },
   {
    "duration": 431,
    "start_time": "2023-04-19T00:19:56.651Z"
   },
   {
    "duration": 3,
    "start_time": "2023-04-19T00:19:57.084Z"
   },
   {
    "duration": 15,
    "start_time": "2023-04-19T00:19:57.088Z"
   },
   {
    "duration": 885,
    "start_time": "2023-04-19T00:19:57.104Z"
   },
   {
    "duration": 625,
    "start_time": "2023-04-19T00:19:57.991Z"
   },
   {
    "duration": 3,
    "start_time": "2023-04-19T00:19:58.618Z"
   },
   {
    "duration": 511,
    "start_time": "2023-04-19T00:19:58.623Z"
   },
   {
    "duration": 3,
    "start_time": "2023-04-19T00:19:59.136Z"
   },
   {
    "duration": 11,
    "start_time": "2023-04-19T00:19:59.140Z"
   },
   {
    "duration": 17,
    "start_time": "2023-04-19T00:19:59.152Z"
   },
   {
    "duration": 1408,
    "start_time": "2023-04-19T00:23:14.439Z"
   },
   {
    "duration": 706,
    "start_time": "2023-04-19T00:23:15.849Z"
   },
   {
    "duration": 3,
    "start_time": "2023-04-19T00:23:16.557Z"
   },
   {
    "duration": 238,
    "start_time": "2023-04-19T00:23:16.561Z"
   },
   {
    "duration": 5,
    "start_time": "2023-04-19T00:23:16.801Z"
   },
   {
    "duration": 14,
    "start_time": "2023-04-19T00:23:16.807Z"
   },
   {
    "duration": 95,
    "start_time": "2023-04-19T00:23:16.823Z"
   },
   {
    "duration": 12,
    "start_time": "2023-04-19T00:23:16.920Z"
   },
   {
    "duration": 129,
    "start_time": "2023-04-19T00:23:16.934Z"
   },
   {
    "duration": 10,
    "start_time": "2023-04-19T00:23:17.064Z"
   },
   {
    "duration": 134,
    "start_time": "2023-04-19T00:23:17.075Z"
   },
   {
    "duration": 304,
    "start_time": "2023-04-19T00:23:17.211Z"
   },
   {
    "duration": 28,
    "start_time": "2023-04-19T00:23:17.517Z"
   },
   {
    "duration": 4,
    "start_time": "2023-04-19T00:23:17.548Z"
   },
   {
    "duration": 886,
    "start_time": "2023-04-19T00:23:17.553Z"
   },
   {
    "duration": 408,
    "start_time": "2023-04-19T00:23:18.440Z"
   },
   {
    "duration": 396,
    "start_time": "2023-04-19T00:23:18.849Z"
   },
   {
    "duration": 4,
    "start_time": "2023-04-19T00:23:19.246Z"
   },
   {
    "duration": 18,
    "start_time": "2023-04-19T00:23:19.251Z"
   },
   {
    "duration": 909,
    "start_time": "2023-04-19T00:23:19.270Z"
   },
   {
    "duration": 625,
    "start_time": "2023-04-19T00:23:20.180Z"
   },
   {
    "duration": 4,
    "start_time": "2023-04-19T00:23:20.807Z"
   },
   {
    "duration": 508,
    "start_time": "2023-04-19T00:23:20.812Z"
   },
   {
    "duration": 3,
    "start_time": "2023-04-19T00:23:21.321Z"
   },
   {
    "duration": 7,
    "start_time": "2023-04-19T00:23:21.325Z"
   },
   {
    "duration": 10,
    "start_time": "2023-04-19T00:23:21.333Z"
   },
   {
    "duration": 125241,
    "start_time": "2023-04-19T00:23:21.344Z"
   },
   {
    "duration": 0,
    "start_time": "2023-04-19T00:25:26.587Z"
   },
   {
    "duration": 920,
    "start_time": "2023-04-19T00:25:34.538Z"
   },
   {
    "duration": 1068,
    "start_time": "2023-04-19T00:25:59.569Z"
   },
   {
    "duration": 817,
    "start_time": "2023-04-19T00:26:20.074Z"
   },
   {
    "duration": 1306,
    "start_time": "2023-04-19T00:43:48.170Z"
   },
   {
    "duration": 653,
    "start_time": "2023-04-19T00:43:49.477Z"
   },
   {
    "duration": 3,
    "start_time": "2023-04-19T00:43:50.131Z"
   },
   {
    "duration": 231,
    "start_time": "2023-04-19T00:43:50.135Z"
   },
   {
    "duration": 4,
    "start_time": "2023-04-19T00:43:50.371Z"
   },
   {
    "duration": 7,
    "start_time": "2023-04-19T00:43:50.376Z"
   },
   {
    "duration": 93,
    "start_time": "2023-04-19T00:43:50.384Z"
   },
   {
    "duration": 10,
    "start_time": "2023-04-19T00:43:50.478Z"
   },
   {
    "duration": 121,
    "start_time": "2023-04-19T00:43:50.490Z"
   },
   {
    "duration": 4,
    "start_time": "2023-04-19T00:43:50.613Z"
   },
   {
    "duration": 133,
    "start_time": "2023-04-19T00:43:50.618Z"
   },
   {
    "duration": 290,
    "start_time": "2023-04-19T00:43:50.753Z"
   },
   {
    "duration": 30,
    "start_time": "2023-04-19T00:43:51.045Z"
   },
   {
    "duration": 4,
    "start_time": "2023-04-19T00:43:51.077Z"
   },
   {
    "duration": 848,
    "start_time": "2023-04-19T00:43:51.083Z"
   },
   {
    "duration": 391,
    "start_time": "2023-04-19T00:43:51.932Z"
   },
   {
    "duration": 385,
    "start_time": "2023-04-19T00:43:52.324Z"
   },
   {
    "duration": 3,
    "start_time": "2023-04-19T00:43:52.710Z"
   },
   {
    "duration": 6,
    "start_time": "2023-04-19T00:43:52.715Z"
   },
   {
    "duration": 958,
    "start_time": "2023-04-19T00:43:52.722Z"
   },
   {
    "duration": 636,
    "start_time": "2023-04-19T00:43:53.682Z"
   },
   {
    "duration": 4,
    "start_time": "2023-04-19T00:43:54.319Z"
   },
   {
    "duration": 496,
    "start_time": "2023-04-19T00:43:54.324Z"
   },
   {
    "duration": 2,
    "start_time": "2023-04-19T00:43:54.822Z"
   },
   {
    "duration": 19,
    "start_time": "2023-04-19T00:43:54.825Z"
   },
   {
    "duration": 10,
    "start_time": "2023-04-19T00:43:54.845Z"
   },
   {
    "duration": 863019,
    "start_time": "2023-04-19T00:43:54.857Z"
   },
   {
    "duration": 2205,
    "start_time": "2023-04-19T00:58:17.879Z"
   },
   {
    "duration": 506,
    "start_time": "2023-04-19T02:12:28.859Z"
   },
   {
    "duration": 47,
    "start_time": "2023-04-19T23:27:53.983Z"
   },
   {
    "duration": 1559,
    "start_time": "2023-04-19T23:29:24.402Z"
   },
   {
    "duration": 2972,
    "start_time": "2023-04-19T23:29:25.963Z"
   },
   {
    "duration": 3,
    "start_time": "2023-04-19T23:29:28.937Z"
   },
   {
    "duration": 229,
    "start_time": "2023-04-19T23:29:28.943Z"
   },
   {
    "duration": 4,
    "start_time": "2023-04-19T23:29:29.174Z"
   },
   {
    "duration": 15,
    "start_time": "2023-04-19T23:29:29.180Z"
   },
   {
    "duration": 93,
    "start_time": "2023-04-19T23:29:29.196Z"
   },
   {
    "duration": 14,
    "start_time": "2023-04-19T23:29:29.291Z"
   },
   {
    "duration": 133,
    "start_time": "2023-04-19T23:29:29.306Z"
   },
   {
    "duration": 4,
    "start_time": "2023-04-19T23:29:29.441Z"
   },
   {
    "duration": 145,
    "start_time": "2023-04-19T23:29:29.446Z"
   },
   {
    "duration": 330,
    "start_time": "2023-04-19T23:29:29.593Z"
   },
   {
    "duration": 37,
    "start_time": "2023-04-19T23:29:29.925Z"
   },
   {
    "duration": 4,
    "start_time": "2023-04-19T23:29:29.964Z"
   },
   {
    "duration": 1169,
    "start_time": "2023-04-19T23:29:29.969Z"
   },
   {
    "duration": 555,
    "start_time": "2023-04-19T23:29:31.140Z"
   },
   {
    "duration": 523,
    "start_time": "2023-04-19T23:29:31.697Z"
   },
   {
    "duration": 4,
    "start_time": "2023-04-19T23:29:32.221Z"
   },
   {
    "duration": 27,
    "start_time": "2023-04-19T23:29:32.226Z"
   },
   {
    "duration": 1025,
    "start_time": "2023-04-19T23:29:32.255Z"
   },
   {
    "duration": 761,
    "start_time": "2023-04-19T23:29:33.282Z"
   },
   {
    "duration": 4,
    "start_time": "2023-04-19T23:29:34.045Z"
   },
   {
    "duration": 735,
    "start_time": "2023-04-19T23:29:34.050Z"
   },
   {
    "duration": 3,
    "start_time": "2023-04-19T23:29:34.786Z"
   },
   {
    "duration": 14,
    "start_time": "2023-04-19T23:29:34.791Z"
   },
   {
    "duration": 14,
    "start_time": "2023-04-19T23:29:34.807Z"
   },
   {
    "duration": 798950,
    "start_time": "2023-04-19T23:29:34.823Z"
   },
   {
    "duration": 1989,
    "start_time": "2023-04-19T23:42:53.776Z"
   },
   {
    "duration": 939,
    "start_time": "2023-04-19T23:45:31.886Z"
   },
   {
    "duration": 532,
    "start_time": "2023-04-19T23:45:53.116Z"
   },
   {
    "duration": 493,
    "start_time": "2023-04-19T23:46:00.661Z"
   },
   {
    "duration": 401,
    "start_time": "2023-04-19T23:46:20.425Z"
   },
   {
    "duration": 486,
    "start_time": "2023-04-19T23:46:34.396Z"
   },
   {
    "duration": 107,
    "start_time": "2023-04-19T23:57:58.672Z"
   },
   {
    "duration": 4,
    "start_time": "2023-04-19T23:58:07.102Z"
   },
   {
    "duration": 12,
    "start_time": "2023-04-19T23:58:14.612Z"
   },
   {
    "duration": 13,
    "start_time": "2023-04-20T00:00:22.109Z"
   },
   {
    "duration": 1320,
    "start_time": "2023-04-20T01:16:08.853Z"
   },
   {
    "duration": 995,
    "start_time": "2023-04-20T01:16:40.119Z"
   },
   {
    "duration": 1152,
    "start_time": "2023-04-20T01:17:04.252Z"
   },
   {
    "duration": 718,
    "start_time": "2023-04-20T01:17:17.418Z"
   },
   {
    "duration": 890,
    "start_time": "2023-04-20T01:17:36.393Z"
   },
   {
    "duration": 234,
    "start_time": "2023-04-20T01:20:20.723Z"
   },
   {
    "duration": 177,
    "start_time": "2023-04-20T01:20:26.444Z"
   },
   {
    "duration": 154,
    "start_time": "2023-04-20T01:21:47.316Z"
   },
   {
    "duration": 229,
    "start_time": "2023-04-20T01:22:03.692Z"
   },
   {
    "duration": 283,
    "start_time": "2023-04-20T01:22:28.409Z"
   },
   {
    "duration": 467,
    "start_time": "2023-04-20T01:24:22.335Z"
   },
   {
    "duration": 336,
    "start_time": "2023-04-20T01:25:23.799Z"
   },
   {
    "duration": 320,
    "start_time": "2023-04-20T01:26:19.695Z"
   },
   {
    "duration": 549,
    "start_time": "2023-04-20T03:10:45.263Z"
   },
   {
    "duration": 1353,
    "start_time": "2023-04-20T03:12:21.756Z"
   },
   {
    "duration": 1440,
    "start_time": "2023-04-20T03:12:46.500Z"
   },
   {
    "duration": 992,
    "start_time": "2023-04-20T03:13:06.151Z"
   },
   {
    "duration": 441,
    "start_time": "2023-04-20T03:13:14.012Z"
   },
   {
    "duration": 1035,
    "start_time": "2023-04-20T03:13:26.045Z"
   },
   {
    "duration": 1570,
    "start_time": "2023-04-20T03:13:42.511Z"
   },
   {
    "duration": 1739,
    "start_time": "2023-04-20T03:14:17.257Z"
   },
   {
    "duration": 1528,
    "start_time": "2023-04-20T03:14:24.620Z"
   },
   {
    "duration": 1805,
    "start_time": "2023-04-20T03:15:03.978Z"
   },
   {
    "duration": 1134,
    "start_time": "2023-04-20T03:15:44.718Z"
   },
   {
    "duration": 852,
    "start_time": "2023-04-20T03:16:00.048Z"
   },
   {
    "duration": 1123,
    "start_time": "2023-04-20T03:17:15.105Z"
   },
   {
    "duration": 789,
    "start_time": "2023-04-20T03:18:00.160Z"
   },
   {
    "duration": 848,
    "start_time": "2023-04-20T03:18:33.210Z"
   },
   {
    "duration": 3,
    "start_time": "2023-04-20T03:19:04.758Z"
   },
   {
    "duration": 954,
    "start_time": "2023-04-20T03:19:50.937Z"
   },
   {
    "duration": 882,
    "start_time": "2023-04-20T03:20:01.256Z"
   },
   {
    "duration": 990,
    "start_time": "2023-04-20T03:20:19.524Z"
   },
   {
    "duration": 845,
    "start_time": "2023-04-20T03:20:36.032Z"
   },
   {
    "duration": 1049,
    "start_time": "2023-04-20T03:21:15.104Z"
   },
   {
    "duration": 567,
    "start_time": "2023-04-20T03:22:10.331Z"
   },
   {
    "duration": 664,
    "start_time": "2023-04-20T03:23:40.062Z"
   },
   {
    "duration": 930,
    "start_time": "2023-04-20T03:23:48.793Z"
   },
   {
    "duration": 999,
    "start_time": "2023-04-20T03:24:30.761Z"
   },
   {
    "duration": 4,
    "start_time": "2023-04-20T03:51:43.428Z"
   },
   {
    "duration": 4,
    "start_time": "2023-04-20T03:52:23.736Z"
   },
   {
    "duration": 492,
    "start_time": "2023-04-20T03:55:02.325Z"
   },
   {
    "duration": 677,
    "start_time": "2023-04-20T03:55:49.473Z"
   },
   {
    "duration": 582,
    "start_time": "2023-04-20T03:56:08.099Z"
   },
   {
    "duration": 512,
    "start_time": "2023-04-20T03:56:22.852Z"
   },
   {
    "duration": 713,
    "start_time": "2023-04-20T03:56:44.524Z"
   },
   {
    "duration": 1023,
    "start_time": "2023-04-20T03:58:01.223Z"
   },
   {
    "duration": 1078,
    "start_time": "2023-04-20T03:58:20.592Z"
   },
   {
    "duration": 4,
    "start_time": "2023-04-20T03:59:11.069Z"
   },
   {
    "duration": 15,
    "start_time": "2023-04-20T04:03:54.647Z"
   },
   {
    "duration": 12,
    "start_time": "2023-04-20T04:04:27.137Z"
   },
   {
    "duration": 12,
    "start_time": "2023-04-20T04:04:47.050Z"
   },
   {
    "duration": 4,
    "start_time": "2023-04-20T04:07:49.483Z"
   },
   {
    "duration": 81,
    "start_time": "2023-04-20T04:10:40.120Z"
   },
   {
    "duration": 739,
    "start_time": "2023-04-20T04:10:47.430Z"
   },
   {
    "duration": 682,
    "start_time": "2023-04-20T04:13:56.879Z"
   },
   {
    "duration": 259,
    "start_time": "2023-04-20T04:15:10.755Z"
   },
   {
    "duration": 9,
    "start_time": "2023-04-20T04:16:17.843Z"
   },
   {
    "duration": 221,
    "start_time": "2023-04-20T04:16:27.589Z"
   },
   {
    "duration": 4,
    "start_time": "2023-04-20T04:36:29.467Z"
   },
   {
    "duration": 88,
    "start_time": "2023-04-20T04:45:22.298Z"
   },
   {
    "duration": 76,
    "start_time": "2023-04-20T04:45:43.171Z"
   },
   {
    "duration": 48057,
    "start_time": "2023-04-20T04:45:52.860Z"
   },
   {
    "duration": 86142,
    "start_time": "2023-04-20T04:47:29.239Z"
   },
   {
    "duration": 125931,
    "start_time": "2023-04-20T04:49:17.651Z"
   },
   {
    "duration": 2213,
    "start_time": "2023-04-20T04:57:18.923Z"
   },
   {
    "duration": 251113,
    "start_time": "2023-04-20T04:58:16.121Z"
   },
   {
    "duration": 93,
    "start_time": "2023-04-20T05:09:50.495Z"
   },
   {
    "duration": 470,
    "start_time": "2023-04-20T05:10:45.273Z"
   },
   {
    "duration": 733,
    "start_time": "2023-04-20T05:11:36.991Z"
   },
   {
    "duration": 31,
    "start_time": "2023-04-20T05:17:09.829Z"
   },
   {
    "duration": 41,
    "start_time": "2023-04-20T05:21:44.171Z"
   },
   {
    "duration": 39,
    "start_time": "2023-04-20T05:21:59.921Z"
   },
   {
    "duration": 24,
    "start_time": "2023-04-20T05:26:05.537Z"
   },
   {
    "duration": 36,
    "start_time": "2023-04-20T05:28:26.052Z"
   },
   {
    "duration": 49,
    "start_time": "2023-04-20T05:28:51.949Z"
   },
   {
    "duration": 36,
    "start_time": "2023-04-20T05:29:20.485Z"
   },
   {
    "duration": 42,
    "start_time": "2023-04-20T05:29:59.596Z"
   },
   {
    "duration": 51,
    "start_time": "2023-04-20T05:31:03.807Z"
   },
   {
    "duration": 57,
    "start_time": "2023-04-20T05:31:18.310Z"
   },
   {
    "duration": 16,
    "start_time": "2023-04-20T05:31:47.195Z"
   },
   {
    "duration": 74,
    "start_time": "2023-04-20T05:33:35.591Z"
   },
   {
    "duration": 1581,
    "start_time": "2023-04-20T05:35:20.618Z"
   },
   {
    "duration": 880,
    "start_time": "2023-04-20T05:35:22.202Z"
   },
   {
    "duration": 4,
    "start_time": "2023-04-20T05:35:23.084Z"
   },
   {
    "duration": 286,
    "start_time": "2023-04-20T05:35:23.089Z"
   },
   {
    "duration": 5,
    "start_time": "2023-04-20T05:35:23.378Z"
   },
   {
    "duration": 24,
    "start_time": "2023-04-20T05:35:23.385Z"
   },
   {
    "duration": 142,
    "start_time": "2023-04-20T05:35:23.411Z"
   },
   {
    "duration": 15,
    "start_time": "2023-04-20T05:35:23.555Z"
   },
   {
    "duration": 169,
    "start_time": "2023-04-20T05:35:23.572Z"
   },
   {
    "duration": 6,
    "start_time": "2023-04-20T05:35:23.743Z"
   },
   {
    "duration": 161,
    "start_time": "2023-04-20T05:35:23.750Z"
   },
   {
    "duration": 324,
    "start_time": "2023-04-20T05:35:23.913Z"
   },
   {
    "duration": 33,
    "start_time": "2023-04-20T05:35:24.239Z"
   },
   {
    "duration": 4,
    "start_time": "2023-04-20T05:35:24.275Z"
   },
   {
    "duration": 1271,
    "start_time": "2023-04-20T05:35:24.280Z"
   },
   {
    "duration": 542,
    "start_time": "2023-04-20T05:35:25.553Z"
   },
   {
    "duration": 501,
    "start_time": "2023-04-20T05:35:26.097Z"
   },
   {
    "duration": 3,
    "start_time": "2023-04-20T05:35:26.600Z"
   },
   {
    "duration": 10,
    "start_time": "2023-04-20T05:35:26.605Z"
   },
   {
    "duration": 1177,
    "start_time": "2023-04-20T05:35:26.617Z"
   },
   {
    "duration": 748,
    "start_time": "2023-04-20T05:35:27.796Z"
   },
   {
    "duration": 4,
    "start_time": "2023-04-20T05:35:28.546Z"
   },
   {
    "duration": 718,
    "start_time": "2023-04-20T05:35:28.552Z"
   },
   {
    "duration": 685,
    "start_time": "2023-04-20T05:35:29.272Z"
   },
   {
    "duration": 16,
    "start_time": "2023-04-20T05:35:29.959Z"
   },
   {
    "duration": 3,
    "start_time": "2023-04-20T05:35:29.977Z"
   },
   {
    "duration": 9,
    "start_time": "2023-04-20T05:35:29.981Z"
   },
   {
    "duration": 11,
    "start_time": "2023-04-20T05:35:29.991Z"
   },
   {
    "duration": 19436197,
    "start_time": "2023-04-20T05:35:30.004Z"
   },
   {
    "duration": 14,
    "start_time": "2023-04-20T10:59:26.202Z"
   },
   {
    "duration": 61581,
    "start_time": "2023-04-20T10:59:26.218Z"
   }
  ],
  "kernelspec": {
   "display_name": "Python 3 (ipykernel)",
   "language": "python",
   "name": "python3"
  },
  "language_info": {
   "codemirror_mode": {
    "name": "ipython",
    "version": 3
   },
   "file_extension": ".py",
   "mimetype": "text/x-python",
   "name": "python",
   "nbconvert_exporter": "python",
   "pygments_lexer": "ipython3",
   "version": "3.10.9"
  },
  "toc": {
   "base_numbering": 1,
   "nav_menu": {},
   "number_sections": true,
   "sideBar": true,
   "skip_h1_title": true,
   "title_cell": "Содержание",
   "title_sidebar": "Contents",
   "toc_cell": true,
   "toc_position": {
    "height": "calc(100% - 180px)",
    "left": "10px",
    "top": "150px",
    "width": "215.72px"
   },
   "toc_section_display": true,
   "toc_window_display": true
  }
 },
 "nbformat": 4,
 "nbformat_minor": 2
}
